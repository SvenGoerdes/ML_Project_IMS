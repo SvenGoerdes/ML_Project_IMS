{
 "cells": [
  {
   "cell_type": "code",
   "execution_count": null,
   "metadata": {},
   "outputs": [],
   "source": [
    "import pandas as pd\n",
    "import numpy as np\n",
    "\n",
    "from category_encoders import TargetEncoder\n",
    "\n",
    "# visualization\n",
    "import matplotlib.pyplot as plt\n",
    "import seaborn as sns\n",
    "import missingno as msno # for missing values\n",
    "import sys\n",
    "from sklearn.compose import ColumnTransformer\n",
    "from sklearn.impute import SimpleImputer\n",
    "from sklearn.pipeline import Pipeline\n",
    "# data partition\n",
    "from sklearn.model_selection import train_test_split\n",
    "\n",
    "\n",
    "sys.path.append('../helper_functions')\n",
    "# Import functions that are stored in the helper_functions directory. We do this to keep the notebook clean and easy to read\n",
    "from helper_functions import *\n",
    "\n",
    "\n",
    "\n",
    "sys.path.append('../pipeline_scripts')\n",
    "# Import custom_transformer for Incoherences\n",
    "from incoherences_custom_transformers import (\n",
    "    IncoCarrierType, \n",
    "    IncoWCIOBodyCode, \n",
    "    IncoZeroAWW, \n",
    "    IncoZeroBirthYEAR, \n",
    "    IncoZeroAgeAtInjury, \n",
    "    IncoFilterAgeAtInjury, \n",
    "    IncoDependents, \n",
    "    IncoCorrectAge, \n",
    "    IncoSwapAccidentDate, \n",
    "    IncoCovidIndicator\n",
    ")\n",
    "\n",
    "\n",
    "\n",
    "# import custom_transformers for missing values\n",
    "from missing_values_transformers import (FillNaNValues,\n",
    "                                         ImputeBirthYearFromAccident, \n",
    "                                         ImputeBirthYearWithMedian, \n",
    "                                         ImputeProportionalTransformer,\n",
    "                                         FillMissingDescriptionsWithCode,\n",
    "                                         ImputeAccidentDate,\n",
    "                                         ImputeAgeAtInjury)"
   ]
  },
  {
   "cell_type": "code",
   "execution_count": null,
   "metadata": {},
   "outputs": [],
   "source": []
  },
  {
   "cell_type": "code",
   "execution_count": null,
   "metadata": {},
   "outputs": [],
   "source": [
    "# Create the pipeline with the preprocessor and custom transformers\n",
    "missing_pipeline = Pipeline([\n",
    "    ('fill_ime4', FillNaNValues(column='IME-4 Count', fill_value=0)),  # Custom transformer for 'IME-4 Count'\n",
    "    ('fill_zip_code', FillNaNValues(column='Zip Code', fill_value='UNKNOWN')),\n",
    "    ('impute_birth_year_from_accident', ImputeBirthYearFromAccident()),\n",
    "    ('impute_birth_year_with_median_age_and_birth', ImputeBirthYearWithMedian()),\n",
    "    ('impute_medical_fee_region', ImputeProportionalTransformer(column='Medical Fee Region')),\n",
    "    ('impute_industry_code', ImputeProportionalTransformer(column='Industry Code')),\n",
    "    ('fill_missing_descriptions', FillMissingDescriptionsWithCode(\n",
    "        code_column='Industry Code', description_column='Industry Code Description')),\n",
    "    ('impute_accident_date_with_assembly', ImputeAccidentDate()),\n",
    "    ('impute_age_at_injury',ImputeAgeAtInjury()),\n",
    "    ('impute_alternative_dispute_resolution', ImputeProportionalTransformer(column='Alternative Dispute Resolution'))\n",
    "])\n",
    "\n",
    "X_train = missing_pipeline.fit_transform(X_train)\n",
    "X_val = missing_pipeline.transform(X_val)\n",
    "X_test = missing_pipeline.transform(X_test)"
   ]
  }
 ],
 "metadata": {
  "kernelspec": {
   "display_name": "ml-project-7bptfTa5-py3.12",
   "language": "python",
   "name": "python3"
  },
  "language_info": {
   "codemirror_mode": {
    "name": "ipython",
    "version": 3
   },
   "file_extension": ".py",
   "mimetype": "text/x-python",
   "name": "python",
   "nbconvert_exporter": "python",
   "pygments_lexer": "ipython3",
   "version": "3.12.7"
  }
 },
 "nbformat": 4,
 "nbformat_minor": 2
}

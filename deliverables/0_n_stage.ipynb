{
 "cells": [
  {
   "cell_type": "markdown",
   "metadata": {},
   "source": [
    "## 1. Imports"
   ]
  },
  {
   "cell_type": "code",
   "execution_count": 2,
   "metadata": {},
   "outputs": [],
   "source": [
    "import pandas as pd\n",
    "import numpy as np\n",
    "import matplotlib.pyplot as plt\n",
    "import seaborn as sns\n",
    "\n",
    "#Scaling\n",
    "from sklearn.preprocessing import MinMaxScaler\n",
    "\n",
    " #Correlation Heatmap\n",
    "from matplotlib.colors import LinearSegmentedColormap\n",
    "\n",
    "#Statistical Test\n",
    "from scipy import stats\n",
    "from sklearn.impute import SimpleImputer\n",
    "\n",
    "#Models\n",
    "from sklearn.linear_model import LogisticRegression\n",
    "from sklearn.feature_selection import RFE\n",
    "from sklearn.model_selection import train_test_split\n",
    "\n",
    "from sklearn.model_selection import KFold, RepeatedKFold, cross_val_score\n",
    "from sklearn.neural_network import MLPClassifier\n",
    "from sklearn.ensemble import RandomForestClassifier\n",
    "from sklearn.linear_model import LogisticRegression, RidgeClassifier\n",
    "from sklearn.neighbors import KNeighborsClassifier\n",
    "from sklearn.tree import DecisionTreeClassifier\n",
    "from sklearn.naive_bayes import GaussianNB\n",
    "from sklearn.pipeline import make_pipeline\n",
    "from sklearn.preprocessing import StandardScaler\n",
    "from sklearn.metrics import accuracy_score, precision_score, recall_score, f1_score, classification_report\n",
    "from sklearn.model_selection import train_test_split, cross_val_score\n",
    "\n",
    "from sklearn.linear_model import Ridge\n",
    "\n",
    "pd.set_option('display.max_columns', None)"
   ]
  },
  {
   "cell_type": "code",
   "execution_count": 3,
   "metadata": {},
   "outputs": [],
   "source": [
    "# Read the dataset\n",
    "X_train_encoded = pd.read_csv('../project_data/X_train_encoded.csv', delimiter=',', index_col=0)\n",
    "X_val_encoded = pd.read_csv('../project_data/X_val_encoded.csv', delimiter=',', index_col=0)\n",
    "\n",
    "y_train = pd.read_csv('../project_data/y_train.csv',delimiter=',', index_col=0)\n",
    "y_val= pd.read_csv('../project_data/y_val.csv', delimiter=',', index_col=0)\n",
    "\n",
    "X_test_encoded = pd.read_csv('../project_data/X_test_encoded.csv',index_col=0)"
   ]
  },
  {
   "cell_type": "code",
   "execution_count": 4,
   "metadata": {},
   "outputs": [],
   "source": [
    "# Binary classification dataset\n",
    "X_train_encoded_bin = pd.read_csv('../project_data/X_train_encoded_binary.csv', delimiter=',', index_col=0)\n",
    "X_val_encoded_bin = pd.read_csv('../project_data/X_val_encoded_binary.csv', delimiter=',', index_col=0)\n",
    "\n",
    "y_train_bin = pd.read_csv('../project_data/y_train_binary.csv',delimiter=',', index_col=0)\n",
    "y_val_bin= pd.read_csv('../project_data/y_val_binary.csv', delimiter=',', index_col=0)\n",
    "\n",
    "X_test_encoded_bin = pd.read_csv('../project_data/X_test_encoded_binary.csv',index_col=0)"
   ]
  },
  {
   "cell_type": "markdown",
   "metadata": {},
   "source": [
    "## 2. Preparing the data"
   ]
  },
  {
   "cell_type": "markdown",
   "metadata": {},
   "source": [
    "### 2.1 Encoding multiclass target"
   ]
  },
  {
   "cell_type": "code",
   "execution_count": 5,
   "metadata": {},
   "outputs": [],
   "source": [
    "claim_injury_type_mapping = {\n",
    "    '4. TEMPORARY': 4,\n",
    "    '2. NON-COMP':2,\n",
    "    '5. PPD SCH LOSS': 5,\n",
    "    '3. MED ONLY': 3,\n",
    "    '6. PPD NSL': 6,\n",
    "    '1. CANCELLED': 1,\n",
    "    '8. DEATH':8,\n",
    "    '7. PTD': 7\n",
    "}\n",
    "\n",
    "y_train_encoded = y_train['Claim Injury Type'].map(claim_injury_type_mapping)\n",
    "y_val_encoded = y_val['Claim Injury Type'].map(claim_injury_type_mapping)"
   ]
  },
  {
   "cell_type": "code",
   "execution_count": 6,
   "metadata": {},
   "outputs": [],
   "source": [
    "y_train_squeezed = y_train.squeeze()  # Converts a DataFrame with one column to a Series"
   ]
  },
  {
   "cell_type": "code",
   "execution_count": 7,
   "metadata": {},
   "outputs": [
    {
     "name": "stdout",
     "output_type": "stream",
     "text": [
      "Shape of X_train_minority: (193852, 59)\n",
      "Shape of y_train_minority: (193852,)\n",
      "Classes in y_train_minority: Claim Identifier\n",
      "5506797    5\n",
      "5520188    5\n",
      "5748412    3\n",
      "5653867    4\n",
      "6013635    4\n",
      "          ..\n",
      "5506601    5\n",
      "5575626    4\n",
      "5495278    3\n",
      "5956257    5\n",
      "5844843    1\n",
      "Name: Claim Injury Type, Length: 193852, dtype: int64\n"
     ]
    }
   ],
   "source": [
    "# Assuming y_train is your target and X_train_encoded is the corresponding features\n",
    "# The value 1 represents the \"non comp\" class in y_train\n",
    "\n",
    "# Create a mask for rows not equal to 1\n",
    "mask = y_train_encoded != 2\n",
    "\n",
    "# Filter X_train_encoded and y_train based on the mask\n",
    "X_train_minority = X_train_encoded[mask]\n",
    "y_train_minority = y_train_encoded[mask]\n",
    "\n",
    "# Verify the shapes of the new filtered datasets\n",
    "print(\"Shape of X_train_minority:\", X_train_minority.shape)\n",
    "print(\"Shape of y_train_minority:\", y_train_minority.shape)\n",
    "\n",
    "# Check unique classes in the target to confirm \"non comp\" is removed\n",
    "print(\"Classes in y_train_minority:\", y_train_minority)"
   ]
  },
  {
   "cell_type": "markdown",
   "metadata": {},
   "source": [
    "### 2.2 Separate Numerical and Categorical"
   ]
  },
  {
   "cell_type": "markdown",
   "metadata": {},
   "source": [
    "#### 2.2.1  Binary separation"
   ]
  },
  {
   "cell_type": "code",
   "execution_count": 21,
   "metadata": {},
   "outputs": [],
   "source": [
    "num_columns_bin = ['Age at Injury', \n",
    "                   'IME-4 Count', \n",
    "                   'Number of Dependents',\n",
    "\n",
    "                   'Industry Code_encoded_0',\n",
    "                   'Industry Code_encoded_1', \n",
    "\n",
    "                   'WCIO Cause of Injury Code_encoded_0',\n",
    "                   'WCIO Cause of Injury Code_encoded_1',\n",
    "\n",
    "                   'WCIO Nature of Injury Code_encoded_0',\n",
    "                   'WCIO Nature of Injury Code_encoded_1',\n",
    "\n",
    "                   'WCIO Part Of Body Code_encoded_0', \n",
    "                   'WCIO Part Of Body Code_encoded_1',\n",
    "\n",
    "                   'Industry Code_freq', \n",
    "                   'WCIO Cause of Injury Code_freq',\n",
    "                   'WCIO Nature of Injury Code_freq',\n",
    "                   'WCIO Part Of Body Code_freq',\n",
    "                   'Carrier Type Imputed_freq', \n",
    "                   'Carrier Name_freq',\n",
    "\n",
    "                   'Accident Datemonth',\n",
    "                   'Accident Date_Season_Spring', \n",
    "                   'Accident Date_Season_Summer',\n",
    "                   'Accident Date_Season_Winter',\n",
    "\n",
    "                   'Days_between_Assembly Date_Accident Date_log',\n",
    "                   'Days_between_C-2 Date Imputed_Accident Date_log',\n",
    "                   'Average Weekly Wage Imputed_log']\n",
    "\n",
    "cat_columns_bin = ['Carrier Type_Self-insured Private Entity',\n",
    "                   'Carrier Type_Self-insured Public Entity', \n",
    "                   'Carrier Type_Special Funds',\n",
    "                   'Carrier Type_State Insurance Fund', \n",
    "                   'Carrier Type_nan',   \n",
    "                   'C-3 Date_nabinary', \n",
    "                   'Average Weekly Wage_nabinary',\n",
    "                   'First Hearing Date_nabinary',\n",
    "                   'Alternative Dispute Resolution_binary',\n",
    "                   'COVID-19 Indicator_binary',\n",
    "                   'Attorney/Representative_binary']\n",
    "\n",
    "# Create subsets\n",
    "X_train_num_bin = X_train_encoded_bin[num_columns_bin]\n",
    "X_train_cat_bin = X_train_encoded_bin[cat_columns_bin]\n",
    "\n",
    "X_val_num_bin = X_val_encoded_bin[num_columns_bin]\n",
    "X_val_cat_bin = X_val_encoded_bin[cat_columns_bin]\n",
    "\n",
    "X_test_num_bin=X_test_encoded_bin[num_columns_bin]\n",
    "X_test_cat_bin=X_test_encoded_bin[cat_columns_bin]"
   ]
  },
  {
   "cell_type": "markdown",
   "metadata": {},
   "source": [
    "#### 2.2.2 Multiclass separation"
   ]
  },
  {
   "cell_type": "markdown",
   "metadata": {},
   "source": [
    "> Drop the ones associated the the target class 2. NON-COMP"
   ]
  },
  {
   "cell_type": "code",
   "execution_count": 17,
   "metadata": {},
   "outputs": [
    {
     "name": "stdout",
     "output_type": "stream",
     "text": [
      "Remaining columns after dropping 'non comp' features:\n",
      "55\n"
     ]
    }
   ],
   "source": [
    "# Drop features associated with \"non comp\" in their name\n",
    "columns_to_drop = [col for col in X_train_encoded.columns if \"non-comp\" in col.lower()]\n",
    "\n",
    "# Drop the columns from the dataset\n",
    "X_train_encoded_dropped = X_train_encoded.drop(columns=columns_to_drop)\n",
    "X_val_encoded_dropped = X_val_encoded.drop(columns=columns_to_drop)  # If you have validation data\n",
    "X_test_encoded_dropped = X_test_encoded.drop(columns=columns_to_drop)  # If you have test data\n",
    "\n",
    "# Verify the remaining columns\n",
    "print(\"Remaining columns after dropping 'non comp' features:\")\n",
    "print(len(X_train_encoded_dropped.columns))"
   ]
  },
  {
   "cell_type": "code",
   "execution_count": 19,
   "metadata": {},
   "outputs": [],
   "source": [
    "num_columns = ['Age at Injury', \n",
    "               'IME-4 Count', \n",
    "               'Number of Dependents',\n",
    "               \n",
    "               'Industry Code_encoded_5. PPD SCH LOSS',\n",
    "               'Industry Code_encoded_3. MED ONLY',\n",
    "               'Industry Code_encoded_4. TEMPORARY',\n",
    "               'Industry Code_encoded_1. CANCELLED', \n",
    "               'Industry Code_encoded_8. DEATH',\n",
    "               'Industry Code_encoded_6. PPD NSL', \n",
    "               'Industry Code_encoded_7. PTD',\n",
    "               \n",
    "               'WCIO Cause of Injury Code_encoded_5. PPD SCH LOSS',\n",
    "               'WCIO Cause of Injury Code_encoded_3. MED ONLY',\n",
    "               'WCIO Cause of Injury Code_encoded_4. TEMPORARY',\n",
    "               'WCIO Cause of Injury Code_encoded_1. CANCELLED',\n",
    "               'WCIO Cause of Injury Code_encoded_8. DEATH',\n",
    "               'WCIO Cause of Injury Code_encoded_6. PPD NSL',\n",
    "               'WCIO Cause of Injury Code_encoded_7. PTD',\n",
    "               \n",
    "               'WCIO Nature of Injury Code_encoded_5. PPD SCH LOSS',\n",
    "               'WCIO Nature of Injury Code_encoded_3. MED ONLY',\n",
    "               'WCIO Nature of Injury Code_encoded_4. TEMPORARY',\n",
    "               'WCIO Nature of Injury Code_encoded_1. CANCELLED',\n",
    "               'WCIO Nature of Injury Code_encoded_8. DEATH',\n",
    "               'WCIO Nature of Injury Code_encoded_6. PPD NSL',\n",
    "               'WCIO Nature of Injury Code_encoded_7. PTD',\n",
    "               \n",
    "               'WCIO Part Of Body Code_encoded_5. PPD SCH LOSS',\n",
    "               'WCIO Part Of Body Code_encoded_3. MED ONLY',\n",
    "               'WCIO Part Of Body Code_encoded_4. TEMPORARY',\n",
    "               'WCIO Part Of Body Code_encoded_1. CANCELLED',\n",
    "               'WCIO Part Of Body Code_encoded_8. DEATH',\n",
    "               'WCIO Part Of Body Code_encoded_6. PPD NSL',\n",
    "               'WCIO Part Of Body Code_encoded_7. PTD',\n",
    "               \n",
    "               'Industry Code_freq',\n",
    "               'WCIO Cause of Injury Code_freq', \n",
    "               'WCIO Nature of Injury Code_freq',\n",
    "               'WCIO Part Of Body Code_freq', \n",
    "               'Carrier Type Imputed_freq',\n",
    "               'Carrier Name_freq',\n",
    "               \n",
    "               'Accident Datemonth',\n",
    "               'Accident Date_Season_Spring', \n",
    "               'Accident Date_Season_Summer',\n",
    "               'Accident Date_Season_Winter',\n",
    "\n",
    "               'Days_between_Assembly Date_Accident Date_log',\n",
    "               'Days_between_C-2 Date Imputed_Accident Date_log',\n",
    "               'Average Weekly Wage Imputed_log']\n",
    "\n",
    "cat_columns =['Carrier Type_Self-insured Private Entity',\n",
    "               'Carrier Type_Self-insured Public Entity', \n",
    "               'Carrier Type_Special Funds',\n",
    "               'Carrier Type_State Insurance Fund', \n",
    "               'Carrier Type_nan',\n",
    "               'C-3 Date_nabinary', \n",
    "               'Average Weekly Wage_nabinary',\n",
    "               'First Hearing Date_nabinary',\n",
    "               'Alternative Dispute Resolution_binary',\n",
    "               'COVID-19 Indicator_binary',\n",
    "               'Attorney/Representative_binary']\n",
    "\n",
    "\n",
    "# Create subsets\n",
    "X_train_num = X_train_encoded[num_columns]\n",
    "X_train_cat = X_train_encoded[cat_columns]\n",
    "\n",
    "X_val_num = X_val_encoded[num_columns]\n",
    "X_val_cat = X_val_encoded[cat_columns]\n",
    "\n",
    "X_test_num=X_test_encoded[num_columns]\n",
    "X_test_cat=X_test_encoded[cat_columns]"
   ]
  },
  {
   "cell_type": "markdown",
   "metadata": {},
   "source": [
    "## 3. Scaling"
   ]
  },
  {
   "cell_type": "markdown",
   "metadata": {},
   "source": [
    "### 3.1 Scale non-binary"
   ]
  },
  {
   "cell_type": "code",
   "execution_count": 23,
   "metadata": {},
   "outputs": [],
   "source": [
    "scaler = MinMaxScaler().fit(X_train_num)\n",
    "X_train_num_scaled = scaler.transform(X_train_num)\n",
    "# print(\"Parameters fitted:\")\n",
    "# for feature, min_val, max_val in zip(X_train_num.columns, scaler.data_min_, scaler.data_max_):\n",
    "    # print(f\"Variable: {feature} | Min: {min_val} | Max: {max_val}\")\n",
    "\n",
    "# Convert the array to a pandas dataframe\n",
    "X_train_num_scaled = pd.DataFrame(X_train_num_scaled, columns = X_train_num.columns).set_index(X_train_encoded.index)\n",
    "# X_train_num_scaled.describe().round(2)"
   ]
  },
  {
   "cell_type": "code",
   "execution_count": 24,
   "metadata": {},
   "outputs": [],
   "source": [
    "X_val_num_scaled = scaler.transform(X_val_num)\n",
    "X_val_num_scaled = pd.DataFrame(X_val_num_scaled, columns = X_val_num.columns).set_index(X_val_encoded.index)\n",
    "# X_val_num_scaled.describe().round(2)"
   ]
  },
  {
   "cell_type": "code",
   "execution_count": 25,
   "metadata": {},
   "outputs": [],
   "source": [
    "X_test_num_scaled = scaler.transform(X_test_num)\n",
    "X_test_num_scaled = pd.DataFrame(X_test_num_scaled, columns = X_test_num.columns).set_index(X_test_encoded.index)\n",
    "# X_test_num_scaled.describe().round(2)"
   ]
  },
  {
   "cell_type": "markdown",
   "metadata": {},
   "source": [
    "### 3.2 Scale binary"
   ]
  },
  {
   "cell_type": "code",
   "execution_count": 26,
   "metadata": {},
   "outputs": [],
   "source": [
    "scaler = MinMaxScaler().fit(X_train_num_bin)\n",
    "X_train_num_scaled_bin = scaler.transform(X_train_num_bin)\n",
    "# print(\"Parameters fitted:\")\n",
    "# for feature, min_val, max_val in zip(X_train_num.columns, scaler.data_min_, scaler.data_max_):\n",
    "    # print(f\"Variable: {feature} | Min: {min_val} | Max: {max_val}\")\n",
    "\n",
    "# Convert the array to a pandas dataframe\n",
    "X_train_num_scaled_bin = pd.DataFrame(X_train_num_scaled_bin, columns = X_train_num_bin.columns).set_index(X_train_encoded_bin.index)\n",
    "# X_train_num_scaled.describe().round(2)"
   ]
  },
  {
   "cell_type": "code",
   "execution_count": 27,
   "metadata": {},
   "outputs": [],
   "source": [
    "X_val_num_scaled_bin = scaler.transform(X_val_num_bin)\n",
    "X_val_num_scaled_bin = pd.DataFrame(X_val_num_scaled_bin, columns = X_val_num_bin.columns).set_index(X_val_encoded_bin.index)\n",
    "# X_val_num_scaled.describe().round(2)"
   ]
  },
  {
   "cell_type": "code",
   "execution_count": 28,
   "metadata": {},
   "outputs": [],
   "source": [
    "X_test_num_scaled_bin = scaler.transform(X_test_num_bin)\n",
    "X_test_num_scaled_bin = pd.DataFrame(X_test_num_scaled_bin, columns = X_test_num_bin.columns).set_index(X_test_encoded_bin.index)\n",
    "# X_test_num_scaled.describe().round(2)"
   ]
  },
  {
   "cell_type": "markdown",
   "metadata": {},
   "source": [
    "## 4. Binary: Feature selection"
   ]
  },
  {
   "cell_type": "markdown",
   "metadata": {},
   "source": [
    "><strong style=\"color:#6fa8dc\">Add this to a separate python file</strong>\n"
   ]
  },
  {
   "cell_type": "markdown",
   "metadata": {},
   "source": [
    "### 4.1 Filter Categorical Features"
   ]
  },
  {
   "cell_type": "code",
   "execution_count": 54,
   "metadata": {},
   "outputs": [],
   "source": [
    "# squeeze the y_train_bin\n",
    "y_train_bin = y_train_bin.squeeze()"
   ]
  },
  {
   "cell_type": "markdown",
   "metadata": {},
   "source": [
    "#### 4.1.1 Chi-square"
   ]
  },
  {
   "cell_type": "code",
   "execution_count": 32,
   "metadata": {},
   "outputs": [],
   "source": [
    "import pandas as pd  # For creating and handling DataFrames\n",
    "import numpy as np  # For numerical operations\n",
    "from sklearn.feature_selection import chi2  # For Chi-square test\n",
    "from scipy.stats import chi2_contingency  # For Cramér's V calculation"
   ]
  },
  {
   "cell_type": "code",
   "execution_count": 33,
   "metadata": {},
   "outputs": [],
   "source": [
    "def cramers_v(X, y):\n",
    "    \"\"\"\n",
    "    Calculate Cramér's V for a categorical feature and a target.\n",
    "    :param X: Categorical feature (Pandas Series or array-like)\n",
    "    :param y: Target variable (Pandas Series or array-like)\n",
    "    :return: Cramér's V value\n",
    "    \"\"\"\n",
    "    # Create the contingency table\n",
    "    df_contingency = pd.crosstab(X, y)\n",
    "\n",
    "    # Perform chi-square test\n",
    "    chi2, p, dof, expected = chi2_contingency(df_contingency.values)\n",
    "\n",
    "    # Calculate Cramér's V\n",
    "    n = df_contingency.sum().sum()  # Total number of observations\n",
    "    min_dim = min(df_contingency.shape) - 1  # Min between number of rows and columns - 1\n",
    "    cramers_v = np.sqrt(chi2 / (n * min_dim))  # Cramér's V formula\n",
    "\n",
    "    return cramers_v\n"
   ]
  },
  {
   "cell_type": "code",
   "execution_count": null,
   "metadata": {},
   "outputs": [
    {
     "name": "stdout",
     "output_type": "stream",
     "text": [
      "                               Column         Chi2  p-value  Cramér's V\n",
      "3   Carrier Type_State Insurance Fund   4215.72148      0.0    0.114906\n",
      "5                   C-3 Date_nabinary  23953.69374      0.0    0.429801\n",
      "6        Average Weekly Wage_nabinary  86212.24203      0.0    0.770968\n",
      "7         First Hearing Date_nabinary  25813.45742      0.0    0.498054\n",
      "10     Attorney/Representative_binary  78009.76607      0.0    0.535952\n"
     ]
    }
   ],
   "source": [
    "# Perform Chi-square test\n",
    "chi2_values, p_values = chi2(X_train_cat_bin, y_train_bin)\n",
    "\n",
    "# Create DataFrame for Chi-square results\n",
    "chi2_results = pd.DataFrame({\n",
    "    'Column': X_train_cat_bin.columns,\n",
    "    'Chi2': chi2_values.round(5),\n",
    "    'p-value': p_values.round(5)\n",
    "})\n",
    "\n",
    "# Calculate Cramér's V for binary target\n",
    "cramers_v_values = []\n",
    "for var in X_train_cat_bin.columns:\n",
    "    v = cramers_v(X_train_cat_bin[var], y_train_bin)\n",
    "    cramers_v_values.append(v)\n",
    "\n",
    "# Add Cramér's V to DataFrame\n",
    "chi2_results['Cramér\\'s V'] = cramers_v_values\n",
    "\n",
    "# Filter important features\n",
    "chi2_important_features = chi2_results[(chi2_results['p-value'] < 0.05) & (chi2_results['Cramér\\'s V'] >= 0.1)]\n",
    "\n",
    "list_features_chi2_cramer = chi2_important_features['Column'].values\n",
    "\n",
    "print(chi2_important_features)"
   ]
  },
  {
   "cell_type": "markdown",
   "metadata": {},
   "source": [
    "#### 4.1.2 Mutual Information"
   ]
  },
  {
   "cell_type": "code",
   "execution_count": 67,
   "metadata": {},
   "outputs": [
    {
     "data": {
      "text/html": [
       "<div>\n",
       "<style scoped>\n",
       "    .dataframe tbody tr th:only-of-type {\n",
       "        vertical-align: middle;\n",
       "    }\n",
       "\n",
       "    .dataframe tbody tr th {\n",
       "        vertical-align: top;\n",
       "    }\n",
       "\n",
       "    .dataframe thead th {\n",
       "        text-align: right;\n",
       "    }\n",
       "</style>\n",
       "<table border=\"1\" class=\"dataframe\">\n",
       "  <thead>\n",
       "    <tr style=\"text-align: right;\">\n",
       "      <th></th>\n",
       "      <th>Feature</th>\n",
       "      <th>Mutual Information</th>\n",
       "    </tr>\n",
       "  </thead>\n",
       "  <tbody>\n",
       "    <tr>\n",
       "      <th>6</th>\n",
       "      <td>Average Weekly Wage_nabinary</td>\n",
       "      <td>0.370264</td>\n",
       "    </tr>\n",
       "    <tr>\n",
       "      <th>10</th>\n",
       "      <td>Attorney/Representative_binary</td>\n",
       "      <td>0.157423</td>\n",
       "    </tr>\n",
       "    <tr>\n",
       "      <th>7</th>\n",
       "      <td>First Hearing Date_nabinary</td>\n",
       "      <td>0.138322</td>\n",
       "    </tr>\n",
       "    <tr>\n",
       "      <th>5</th>\n",
       "      <td>C-3 Date_nabinary</td>\n",
       "      <td>0.096962</td>\n",
       "    </tr>\n",
       "    <tr>\n",
       "      <th>3</th>\n",
       "      <td>Carrier Type_State Insurance Fund</td>\n",
       "      <td>0.006636</td>\n",
       "    </tr>\n",
       "    <tr>\n",
       "      <th>8</th>\n",
       "      <td>Alternative Dispute Resolution_binary</td>\n",
       "      <td>0.002901</td>\n",
       "    </tr>\n",
       "    <tr>\n",
       "      <th>9</th>\n",
       "      <td>COVID-19 Indicator_binary</td>\n",
       "      <td>0.002820</td>\n",
       "    </tr>\n",
       "    <tr>\n",
       "      <th>0</th>\n",
       "      <td>Carrier Type_Self-insured Private Entity</td>\n",
       "      <td>0.000811</td>\n",
       "    </tr>\n",
       "    <tr>\n",
       "      <th>4</th>\n",
       "      <td>Carrier Type_nan</td>\n",
       "      <td>0.000742</td>\n",
       "    </tr>\n",
       "    <tr>\n",
       "      <th>1</th>\n",
       "      <td>Carrier Type_Self-insured Public Entity</td>\n",
       "      <td>0.000223</td>\n",
       "    </tr>\n",
       "    <tr>\n",
       "      <th>2</th>\n",
       "      <td>Carrier Type_Special Funds</td>\n",
       "      <td>0.000025</td>\n",
       "    </tr>\n",
       "  </tbody>\n",
       "</table>\n",
       "</div>"
      ],
      "text/plain": [
       "                                     Feature  Mutual Information\n",
       "6               Average Weekly Wage_nabinary            0.370264\n",
       "10            Attorney/Representative_binary            0.157423\n",
       "7                First Hearing Date_nabinary            0.138322\n",
       "5                          C-3 Date_nabinary            0.096962\n",
       "3          Carrier Type_State Insurance Fund            0.006636\n",
       "8      Alternative Dispute Resolution_binary            0.002901\n",
       "9                  COVID-19 Indicator_binary            0.002820\n",
       "0   Carrier Type_Self-insured Private Entity            0.000811\n",
       "4                           Carrier Type_nan            0.000742\n",
       "1    Carrier Type_Self-insured Public Entity            0.000223\n",
       "2                 Carrier Type_Special Funds            0.000025"
      ]
     },
     "execution_count": 67,
     "metadata": {},
     "output_type": "execute_result"
    }
   ],
   "source": [
    "from sklearn.feature_selection import mutual_info_classif\n",
    "\n",
    "# Calculate mutual information for categorical features\n",
    "mi_scores = mutual_info_classif(X_train_cat_bin, y_train_bin, discrete_features=True)\n",
    "\n",
    "# Create DataFrame of results\n",
    "mi_results = pd.DataFrame({\n",
    "    'Feature': X_train_cat_bin.columns,\n",
    "    'Mutual Information': mi_scores\n",
    "}).sort_values(by='Mutual Information', ascending=False)\n",
    "\n",
    "mi_results\n"
   ]
  },
  {
   "cell_type": "code",
   "execution_count": null,
   "metadata": {},
   "outputs": [],
   "source": [
    "\n",
    "mi_important_features = mi_results[mi_results['Mutual Information'] > 0.05]\n",
    "\n",
    "list_features_mi = mi_results[mi_results['Mutual Information'] > 0.05]['Feature'].values\n",
    "\n",
    "print(mi_important_features)"
   ]
  },
  {
   "cell_type": "markdown",
   "metadata": {},
   "source": [
    "#### 4.1.3 Filtered features"
   ]
  },
  {
   "cell_type": "code",
   "execution_count": 44,
   "metadata": {},
   "outputs": [
    {
     "data": {
      "text/plain": [
       "['Attorney/Representative_binary',\n",
       " 'Carrier Type_State Insurance Fund',\n",
       " 'First Hearing Date_nabinary',\n",
       " 'C-3 Date_nabinary',\n",
       " 'Average Weekly Wage_nabinary']"
      ]
     },
     "execution_count": 44,
     "metadata": {},
     "output_type": "execute_result"
    }
   ],
   "source": [
    "# Select features that appear in at least one of the important feature sets\n",
    "selected_features = list(set(list_features_chi2_cramer) | set(list_features_mi)) \n",
    "selected_features"
   ]
  },
  {
   "cell_type": "code",
   "execution_count": 45,
   "metadata": {},
   "outputs": [],
   "source": [
    "# Keep only selected important features in the datasets\n",
    "X_train_cat_filtered_bin = X_train_cat_bin[selected_features]\n",
    "X_val_cat_filtered_bin = X_val_cat_bin[selected_features]\n",
    "X_test_cat_filtered_bin = X_test_cat_bin[selected_features]"
   ]
  },
  {
   "cell_type": "markdown",
   "metadata": {},
   "source": [
    "### 4.2 Filter Numerical Features"
   ]
  },
  {
   "cell_type": "markdown",
   "metadata": {},
   "source": [
    "#### 4.2.1 Univariate variance"
   ]
  },
  {
   "cell_type": "code",
   "execution_count": 46,
   "metadata": {},
   "outputs": [
    {
     "data": {
      "text/plain": [
       "Accident Date_Season_Summer                        0.190598\n",
       "Accident Date_Season_Winter                        0.190024\n",
       "Accident Date_Season_Spring                        0.181228\n",
       "Average Weekly Wage Imputed_log                    0.158004\n",
       "Carrier Name_freq                                  0.142667\n",
       "WCIO Nature of Injury Code_freq                    0.136735\n",
       "Industry Code_freq                                 0.123001\n",
       "Number of Dependents                               0.111300\n",
       "Carrier Type Imputed_freq                          0.103530\n",
       "Accident Datemonth                                 0.099293\n",
       "WCIO Part Of Body Code_freq                        0.098325\n",
       "Industry Code_encoded_1                            0.096085\n",
       "Industry Code_encoded_0                            0.096085\n",
       "WCIO Cause of Injury Code_freq                     0.080853\n",
       "WCIO Part Of Body Code_encoded_1                   0.057635\n",
       "WCIO Part Of Body Code_encoded_0                   0.057635\n",
       "Age at Injury                                      0.039004\n",
       "WCIO Nature of Injury Code_encoded_1               0.037585\n",
       "WCIO Nature of Injury Code_encoded_0               0.037585\n",
       "WCIO Cause of Injury Code_encoded_0                0.032058\n",
       "WCIO Cause of Injury Code_encoded_1                0.032058\n",
       "Days_between_C-2 Date Imputed_Accident Date_log    0.030064\n",
       "Days_between_Assembly Date_Accident Date_log       0.026866\n",
       "IME-4 Count                                        0.008761\n",
       "dtype: float64"
      ]
     },
     "execution_count": 46,
     "metadata": {},
     "output_type": "execute_result"
    }
   ],
   "source": [
    "X_train_num_scaled_bin.var().sort_values(ascending=False)"
   ]
  },
  {
   "cell_type": "markdown",
   "metadata": {},
   "source": [
    "> None with variance zero"
   ]
  },
  {
   "cell_type": "markdown",
   "metadata": {},
   "source": [
    "#### 4.2.2 Spearman Correlation"
   ]
  },
  {
   "cell_type": "code",
   "execution_count": 48,
   "metadata": {},
   "outputs": [
    {
     "data": {
      "text/html": [
       "<div>\n",
       "<style scoped>\n",
       "    .dataframe tbody tr th:only-of-type {\n",
       "        vertical-align: middle;\n",
       "    }\n",
       "\n",
       "    .dataframe tbody tr th {\n",
       "        vertical-align: top;\n",
       "    }\n",
       "\n",
       "    .dataframe thead th {\n",
       "        text-align: right;\n",
       "    }\n",
       "</style>\n",
       "<table border=\"1\" class=\"dataframe\">\n",
       "  <thead>\n",
       "    <tr style=\"text-align: right;\">\n",
       "      <th></th>\n",
       "      <th>Feature_1</th>\n",
       "      <th>Feature_2</th>\n",
       "      <th>Correlation</th>\n",
       "    </tr>\n",
       "  </thead>\n",
       "  <tbody>\n",
       "    <tr>\n",
       "      <th>526</th>\n",
       "      <td>Days_between_Assembly Date_Accident Date_log</td>\n",
       "      <td>Days_between_C-2 Date Imputed_Accident Date_log</td>\n",
       "      <td>0.954048</td>\n",
       "    </tr>\n",
       "    <tr>\n",
       "      <th>76</th>\n",
       "      <td>Industry Code_encoded_0</td>\n",
       "      <td>Industry Code_encoded_1</td>\n",
       "      <td>-1.000000</td>\n",
       "    </tr>\n",
       "    <tr>\n",
       "      <th>126</th>\n",
       "      <td>WCIO Cause of Injury Code_encoded_0</td>\n",
       "      <td>WCIO Cause of Injury Code_encoded_1</td>\n",
       "      <td>-1.000000</td>\n",
       "    </tr>\n",
       "    <tr>\n",
       "      <th>176</th>\n",
       "      <td>WCIO Nature of Injury Code_encoded_0</td>\n",
       "      <td>WCIO Nature of Injury Code_encoded_1</td>\n",
       "      <td>-1.000000</td>\n",
       "    </tr>\n",
       "    <tr>\n",
       "      <th>226</th>\n",
       "      <td>WCIO Part Of Body Code_encoded_0</td>\n",
       "      <td>WCIO Part Of Body Code_encoded_1</td>\n",
       "      <td>-1.000000</td>\n",
       "    </tr>\n",
       "  </tbody>\n",
       "</table>\n",
       "</div>"
      ],
      "text/plain": [
       "                                        Feature_1  \\\n",
       "526  Days_between_Assembly Date_Accident Date_log   \n",
       "76                        Industry Code_encoded_0   \n",
       "126           WCIO Cause of Injury Code_encoded_0   \n",
       "176          WCIO Nature of Injury Code_encoded_0   \n",
       "226              WCIO Part Of Body Code_encoded_0   \n",
       "\n",
       "                                           Feature_2  Correlation  \n",
       "526  Days_between_C-2 Date Imputed_Accident Date_log     0.954048  \n",
       "76                           Industry Code_encoded_1    -1.000000  \n",
       "126              WCIO Cause of Injury Code_encoded_1    -1.000000  \n",
       "176             WCIO Nature of Injury Code_encoded_1    -1.000000  \n",
       "226                 WCIO Part Of Body Code_encoded_1    -1.000000  "
      ]
     },
     "execution_count": 48,
     "metadata": {},
     "output_type": "execute_result"
    }
   ],
   "source": [
    "# Step 1: Calculate the Spearman correlation matrix for numerical features\n",
    "cor_spearman = X_train_num_scaled_bin.corr(method='spearman')\n",
    "\n",
    "# Step 2: Flatten the correlation matrix and reset the index\n",
    "correlation_pairs = cor_spearman.unstack().reset_index()\n",
    "\n",
    "# Step 3: Rename columns for clarity\n",
    "correlation_pairs.columns = ['Feature_1', 'Feature_2', 'Correlation']\n",
    "\n",
    "# Step 4: Filter the table for correlations > 0.8 or < -0.8 and exclude self-correlations (diagonal)\n",
    "strong_correlations = correlation_pairs[\n",
    "    ((correlation_pairs['Correlation'] > 0.8) | (correlation_pairs['Correlation'] < -0.8)) & \n",
    "    (correlation_pairs['Feature_1'] != correlation_pairs['Feature_2'])\n",
    "]\n",
    "\n",
    "# Step 5: Remove duplicate pairs by keeping only one order\n",
    "strong_correlations = strong_correlations[\n",
    "    strong_correlations['Feature_1'] < strong_correlations['Feature_2']\n",
    "]\n",
    "\n",
    "# Step 6: Sort by correlation value\n",
    "strong_correlations = strong_correlations.sort_values(by='Correlation', ascending=False)\n",
    "\n",
    "# Step 7: Display the table\n",
    "strong_correlations\n"
   ]
  },
  {
   "cell_type": "markdown",
   "metadata": {},
   "source": [
    "> To be expected since it's binary."
   ]
  },
  {
   "cell_type": "code",
   "execution_count": null,
   "metadata": {},
   "outputs": [],
   "source": [
    "from sklearn.feature_selection import mutual_info_classif\n",
    "\n",
    "# Compute mutual information between categorical features and target\n",
    "mutual_info = mutual_info_classif(X_train_num_scaled_bin, y_train_encoded)\n",
    "\n",
    "# Display features sorted by mutual information\n",
    "mi_results = pd.DataFrame({\n",
    "    'Feature': X_train_num_scaled_bin.columns,\n",
    "    'Mutual Information': mutual_info\n",
    "}).sort_values(by='Mutual Information', ascending=False)\n",
    "\n",
    "mi_results"
   ]
  },
  {
   "cell_type": "code",
   "execution_count": 72,
   "metadata": {},
   "outputs": [
    {
     "name": "stdout",
     "output_type": "stream",
     "text": [
      "                        Feature  Mutual Information\n",
      "18  Accident Date_Season_Spring            0.007497\n",
      "20  Accident Date_Season_Winter            0.005568\n",
      "19  Accident Date_Season_Summer            0.005405\n",
      "2          Number of Dependents            0.003554\n",
      "17           Accident Datemonth            0.003212\n"
     ]
    }
   ],
   "source": [
    "# Assuming `mutual_info` is the result from `mutual_info_classif` function\n",
    "mi_results = pd.DataFrame({\n",
    "    'Feature': X_train_num_scaled_bin.columns,\n",
    "    'Mutual Information': mutual_info\n",
    "}).sort_values(by='Mutual Information', ascending=False)\n",
    "\n",
    "# Filter features with Mutual Information > 0.05\n",
    "mi_important_features = mi_results[mi_results['Mutual Information'] < 0.01]\n",
    "\n",
    "# Display the important features\n",
    "print(mi_important_features)\n"
   ]
  },
  {
   "cell_type": "markdown",
   "metadata": {},
   "source": [
    "#### 4.2.3 Filtered features"
   ]
  },
  {
   "cell_type": "code",
   "execution_count": 76,
   "metadata": {},
   "outputs": [
    {
     "name": "stdout",
     "output_type": "stream",
     "text": [
      "Remaining features in X_train_num_scaled: Index(['Age at Injury', 'IME-4 Count', 'Industry Code_encoded_1',\n",
      "       'WCIO Cause of Injury Code_encoded_1',\n",
      "       'WCIO Nature of Injury Code_encoded_1',\n",
      "       'WCIO Part Of Body Code_encoded_1', 'Industry Code_freq',\n",
      "       'WCIO Cause of Injury Code_freq', 'WCIO Nature of Injury Code_freq',\n",
      "       'WCIO Part Of Body Code_freq', 'Carrier Type Imputed_freq',\n",
      "       'Carrier Name_freq', 'Days_between_Assembly Date_Accident Date_log',\n",
      "       'Average Weekly Wage Imputed_log'],\n",
      "      dtype='object')\n"
     ]
    }
   ],
   "source": [
    "# List of features to drop from X_train_num_scaled\n",
    "num_features_to_drop = [\n",
    "    'Days_between_C-2 Date Imputed_Accident Date_log',\n",
    "    'Industry Code_encoded_0',\n",
    "    'WCIO Cause of Injury Code_encoded_0',\n",
    "    'WCIO Nature of Injury Code_encoded_0',\n",
    "    'WCIO Part Of Body Code_encoded_0',\n",
    "    'Accident Date_Season_Spring',\n",
    "    'Accident Date_Season_Winter',\n",
    "    'Accident Date_Season_Summer',\n",
    "    'Number of Dependents',\n",
    "    'Accident Datemonth'\n",
    "    ]\n",
    "\n",
    "# Drop features\n",
    "X_train_num_scaled_filtered_bin = X_train_num_scaled_bin.drop(columns=num_features_to_drop)\n",
    "X_val_num_scaled_filtered_bin = X_val_num_scaled_bin.drop(columns=num_features_to_drop)\n",
    "X_test_num_scaled_filtered_bin = X_test_num_scaled_bin.drop(columns=num_features_to_drop)\n",
    "\n",
    "# Verify the remaining columns\n",
    "print(\"Remaining features in X_train_num_scaled:\", X_train_num_scaled_filtered_bin.columns)\n"
   ]
  },
  {
   "cell_type": "markdown",
   "metadata": {},
   "source": [
    "### 4.3 Combine the filtered datasets"
   ]
  },
  {
   "cell_type": "code",
   "execution_count": 77,
   "metadata": {},
   "outputs": [
    {
     "name": "stdout",
     "output_type": "stream",
     "text": [
      "Shape of combined X_train: (396097, 19)\n"
     ]
    }
   ],
   "source": [
    "# Combine the filtered datasets\n",
    "X_train_bin = pd.concat([X_train_cat_filtered_bin, X_train_num_scaled_filtered_bin], axis=1)\n",
    "X_val_bin =  pd.concat([X_val_cat_filtered_bin, X_val_num_scaled_filtered_bin], axis=1)\n",
    "X_test_bin =  pd.concat([X_test_cat_filtered_bin, X_test_num_scaled_filtered_bin], axis=1)\n",
    "\n",
    "\n",
    "# Verify the shape of the combined dataset\n",
    "print(\"Shape of combined X_train:\", X_train_bin.shape)\n"
   ]
  },
  {
   "cell_type": "markdown",
   "metadata": {},
   "source": [
    "> Use this for the binary, as we will be dropping later for multiclass in minority"
   ]
  },
  {
   "cell_type": "markdown",
   "metadata": {},
   "source": [
    "### 4.4 Feature selection"
   ]
  },
  {
   "cell_type": "markdown",
   "metadata": {},
   "source": [
    "#### 4.4.1 "
   ]
  },
  {
   "cell_type": "code",
   "execution_count": 55,
   "metadata": {},
   "outputs": [
    {
     "name": "stdout",
     "output_type": "stream",
     "text": [
      "Optimal number of features: 11\n"
     ]
    }
   ],
   "source": [
    "from sklearn.linear_model import LogisticRegression\n",
    "from sklearn.model_selection import cross_val_score\n",
    "from sklearn.feature_selection import RFE\n",
    "import numpy as np\n",
    "\n",
    "# Initialize the Logistic Regression model\n",
    "log_reg_model = LogisticRegression(max_iter=1000, random_state=42)\n",
    "\n",
    "# Sample 1% of the data\n",
    "sample_size = int(0.5 * len(X_train_bin))  # 50% of the dataset\n",
    "X_train_sample = X_train_bin.sample(n=sample_size, random_state=42)\n",
    "y_train_sample = y_train_bin.sample(n=sample_size, random_state=42)\n",
    "\n",
    "# Loop over different numbers of features\n",
    "feature_counts = range(1, X_train_sample.shape[1] + 1)\n",
    "scores = []\n",
    "\n",
    "# Loop through each feature count and evaluate the model's performance\n",
    "for n in feature_counts:\n",
    "    rfe = RFE(log_reg_model, n_features_to_select=n)\n",
    "    rfe.fit(X_train_sample, y_train_sample)\n",
    "    \n",
    "    # Get selected features\n",
    "    selected_features = X_train_sample.columns[rfe.support_]\n",
    "    \n",
    "    # Evaluate performance using cross-validation with F1 score as the metric\n",
    "    score = cross_val_score(log_reg_model, X_train_sample[selected_features], y_train_sample, cv=5, scoring='f1_macro').mean()\n",
    "    scores.append(score)\n",
    "\n",
    "# Find the number of features that gives the highest F1 score\n",
    "best_n_features = feature_counts[np.argmax(scores)]\n",
    "print(f\"Optimal number of features: {best_n_features}\")\n"
   ]
  },
  {
   "cell_type": "code",
   "execution_count": 78,
   "metadata": {},
   "outputs": [
    {
     "data": {
      "image/png": "[encoded data removed]",
      "text/plain": [
       "<Figure size 1000x600 with 1 Axes>"
      ]
     },
     "metadata": {},
     "output_type": "display_data"
    }
   ],
   "source": [
    "import matplotlib.pyplot as plt\n",
    "import seaborn as sns\n",
    "\n",
    "# Apply seaborn style for a cleaner look\n",
    "sns.set(style='whitegrid')\n",
    "\n",
    "# Define custom colors\n",
    "line_color = sns.color_palette(\"coolwarm\", as_cmap=True)(0.2)  # Cool blue\n",
    "optimal_color = sns.color_palette(\"coolwarm\", as_cmap=True)(0.8)  # Warm red\n",
    "\n",
    "# Plot the number of features against the F1 scores\n",
    "plt.figure(figsize=(10, 6))\n",
    "plt.plot(feature_counts, scores, marker='o', linestyle='-', color=line_color, label='F1 Score Curve', linewidth=2)\n",
    "\n",
    "# Highlight the optimal point\n",
    "plt.axvline(x=best_n_features, color=optimal_color, linestyle='--', label=f'Optimal: {best_n_features} features', linewidth=1.5)\n",
    "plt.scatter([best_n_features], [max(scores)], color=optimal_color, zorder=5, s=100, edgecolor='black')\n",
    "\n",
    "# Add labels, title, and legend\n",
    "plt.title('Number of Features vs F1 Score', fontsize=16, color=\"#333333\")\n",
    "plt.xlabel('Number of Features', fontsize=12, color=\"#333333\")\n",
    "plt.ylabel('F1 Score (macro)', fontsize=12, color=\"#333333\")\n",
    "plt.legend(frameon=True, shadow=True, fontsize=12)\n",
    "plt.grid(alpha=0.3, linestyle='--')\n",
    "\n",
    "# Show the plot\n",
    "plt.tight_layout()\n",
    "plt.show()\n"
   ]
  },
  {
   "cell_type": "code",
   "execution_count": 79,
   "metadata": {},
   "outputs": [
    {
     "name": "stdout",
     "output_type": "stream",
     "text": [
      "Selected Features after RFE with Logistic Regression:\n",
      "Index(['Attorney/Representative_binary', 'Carrier Type_State Insurance Fund',\n",
      "       'First Hearing Date_nabinary', 'Average Weekly Wage_nabinary',\n",
      "       'IME-4 Count', 'WCIO Cause of Injury Code_encoded_1',\n",
      "       'WCIO Nature of Injury Code_encoded_1',\n",
      "       'WCIO Part Of Body Code_encoded_1', 'WCIO Nature of Injury Code_freq',\n",
      "       'Carrier Name_freq', 'Average Weekly Wage Imputed_log'],\n",
      "      dtype='object')\n"
     ]
    }
   ],
   "source": [
    "from sklearn.feature_selection import RFE\n",
    "from sklearn.linear_model import LogisticRegression\n",
    "import pandas as pd\n",
    "\n",
    "# Assuming X_train_bin and y_train_bin are your features and target\n",
    "\n",
    "# Step 1: Take a smaller sample (e.g., 10% of the data)\n",
    "sample_size = int(0.5 * len(X_train_bin))  # 10% of the dataset\n",
    "X_train_sample = X_train_bin.sample(n=sample_size, random_state=42)\n",
    "y_train_sample = y_train_bin.sample(n=sample_size, random_state=42)\n",
    "\n",
    "# Step 2: Initialize Logistic Regression\n",
    "logistic_model = LogisticRegression(max_iter=1000, random_state=42)\n",
    "\n",
    "# Step 3: Apply RFE to the sample data\n",
    "rfe = RFE(logistic_model, n_features_to_select=11)  # Select top 8 features (adjust as needed)\n",
    "rfe.fit(X_train_sample, y_train_sample)\n",
    "\n",
    "# Step 4: Get the selected features\n",
    "selected_features_rfe = X_train_sample.columns[rfe.support_]\n",
    "\n",
    "# Print selected features\n",
    "print(\"Selected Features after RFE with Logistic Regression:\")\n",
    "print(selected_features_rfe)\n",
    "\n",
    "# Optionally, you can use the selected features to transform the dataset\n",
    "X_train_selected_rfe = X_train_sample[selected_features_rfe]\n"
   ]
  },
  {
   "cell_type": "code",
   "execution_count": 80,
   "metadata": {},
   "outputs": [
    {
     "name": "stdout",
     "output_type": "stream",
     "text": [
      "Selected features by Lasso: Index(['Attorney/Representative_binary', 'Carrier Type_State Insurance Fund',\n",
      "       'First Hearing Date_nabinary', 'C-3 Date_nabinary',\n",
      "       'Average Weekly Wage_nabinary', 'Age at Injury', 'IME-4 Count',\n",
      "       'Industry Code_encoded_1', 'WCIO Cause of Injury Code_encoded_1',\n",
      "       'WCIO Nature of Injury Code_encoded_1',\n",
      "       'WCIO Part Of Body Code_encoded_1', 'Industry Code_freq',\n",
      "       'WCIO Cause of Injury Code_freq', 'WCIO Nature of Injury Code_freq',\n",
      "       'WCIO Part Of Body Code_freq', 'Carrier Type Imputed_freq',\n",
      "       'Carrier Name_freq', 'Days_between_Assembly Date_Accident Date_log',\n",
      "       'Average Weekly Wage Imputed_log'],\n",
      "      dtype='object')\n"
     ]
    }
   ],
   "source": [
    "from sklearn.linear_model import LassoCV\n",
    "lasso = LassoCV(cv=5)  # Cross-validation to select optimal alpha\n",
    "lasso.fit(X_train_bin, y_train_bin)\n",
    "lasso_features = X_train_bin.columns[lasso.coef_ != 0]\n",
    "print(\"Selected features by Lasso:\", lasso_features)"
   ]
  },
  {
   "cell_type": "code",
   "execution_count": 81,
   "metadata": {},
   "outputs": [
    {
     "name": "stdout",
     "output_type": "stream",
     "text": [
      "Selected features using Ridge regression: Index(['Attorney/Representative_binary', 'Carrier Type_State Insurance Fund',\n",
      "       'First Hearing Date_nabinary', 'C-3 Date_nabinary',\n",
      "       'Average Weekly Wage_nabinary', 'Age at Injury', 'IME-4 Count',\n",
      "       'Industry Code_encoded_1', 'WCIO Cause of Injury Code_encoded_1',\n",
      "       'WCIO Nature of Injury Code_encoded_1',\n",
      "       'WCIO Part Of Body Code_encoded_1', 'Industry Code_freq',\n",
      "       'WCIO Cause of Injury Code_freq', 'WCIO Nature of Injury Code_freq',\n",
      "       'WCIO Part Of Body Code_freq', 'Carrier Type Imputed_freq',\n",
      "       'Carrier Name_freq', 'Days_between_Assembly Date_Accident Date_log',\n",
      "       'Average Weekly Wage Imputed_log'],\n",
      "      dtype='object')\n"
     ]
    }
   ],
   "source": [
    "from sklearn.linear_model import RidgeCV\n",
    "import numpy as np\n",
    "\n",
    "# Initialize Ridge regression model with cross-validation\n",
    "ridge_model = RidgeCV(cv=5)\n",
    "\n",
    "# Fit the model on the training data\n",
    "ridge_model.fit(X_train_bin, y_train_bin)\n",
    "\n",
    "# Get the feature coefficients\n",
    "coefficients = ridge_model.coef_\n",
    "\n",
    "# Set a threshold to select features (e.g., absolute coefficient > 0.01)\n",
    "threshold = 0.001\n",
    "ridge_features = X_train_bin.columns[np.abs(coefficients) > threshold]\n",
    "\n",
    "print(f\"Selected features using Ridge regression: {ridge_features}\")\n"
   ]
  },
  {
   "cell_type": "code",
   "execution_count": 84,
   "metadata": {},
   "outputs": [
    {
     "name": "stdout",
     "output_type": "stream",
     "text": [
      "Feature importances: [0.05881585 0.00220738 0.04942971 0.02412719 0.23847265 0.05811821\n",
      " 0.08010243 0.01907469 0.02881951 0.01990763 0.02730619 0.01810478\n",
      " 0.02355741 0.01296906 0.02333782 0.00760047 0.04093534 0.05613349\n",
      " 0.21098017]\n",
      "Sorted feature indices: [ 4 18  6  0  5 17  2 16  8 10  3 12 14  9  7 11 13 15  1]\n"
     ]
    }
   ],
   "source": [
    "from sklearn.ensemble import RandomForestClassifier\n",
    "\n",
    "# Initialize the Random Forest Classifier\n",
    "rf_model = RandomForestClassifier(n_estimators=100, random_state=47)\n",
    "\n",
    "# Fit the model on X_train and y_train_encoded\n",
    "rf_model.fit(X_train_bin, y_train_bin)\n",
    "\n",
    "# Get feature importances\n",
    "importances = rf_model.feature_importances_\n",
    "\n",
    "# Sort feature importances in descending order\n",
    "important_indices = importances.argsort()[::-1]\n",
    "\n",
    "# Print the feature importances\n",
    "print(\"Feature importances:\", importances)\n",
    "print(\"Sorted feature indices:\", important_indices)\n"
   ]
  },
  {
   "cell_type": "code",
   "execution_count": 86,
   "metadata": {},
   "outputs": [
    {
     "name": "stdout",
     "output_type": "stream",
     "text": [
      "Number of features explaining 90% of cumulative importance: 13\n",
      "Selected features that explain 90% of cumulative importance: Index(['Average Weekly Wage_nabinary', 'Average Weekly Wage Imputed_log',\n",
      "       'IME-4 Count', 'Attorney/Representative_binary', 'Age at Injury',\n",
      "       'Days_between_Assembly Date_Accident Date_log',\n",
      "       'First Hearing Date_nabinary', 'Carrier Name_freq',\n",
      "       'WCIO Cause of Injury Code_encoded_1',\n",
      "       'WCIO Part Of Body Code_encoded_1', 'C-3 Date_nabinary',\n",
      "       'WCIO Cause of Injury Code_freq', 'WCIO Part Of Body Code_freq'],\n",
      "      dtype='object')\n"
     ]
    }
   ],
   "source": [
    "import numpy as np\n",
    "\n",
    "# Calculate cumulative sum of feature importances\n",
    "cumulative_importance = np.cumsum(importances[important_indices])\n",
    "\n",
    "# Find the index where cumulative importance exceeds 90%\n",
    "threshold = 0.90\n",
    "index_90 = np.argmax(cumulative_importance >= threshold)\n",
    "\n",
    "# The number of features that explain 90% of the importance\n",
    "num_features_90 = index_90 + 1  # Adding 1 since index starts at 0\n",
    "\n",
    "print(f\"Number of features explaining 90% of cumulative importance: {num_features_90}\")\n",
    "\n",
    "# Select the top features based on this number\n",
    "random_forest_features = X_train_bin.columns[important_indices[:num_features_90]]\n",
    "print(f\"Selected features that explain 90% of cumulative importance: {random_forest_features}\")\n"
   ]
  },
  {
   "cell_type": "code",
   "execution_count": 93,
   "metadata": {},
   "outputs": [
    {
     "name": "stdout",
     "output_type": "stream",
     "text": [
      "16\n",
      "Features selected by at least three methods:\n"
     ]
    },
    {
     "data": {
      "text/plain": [
       "['WCIO Part Of Body Code_freq',\n",
       " 'First Hearing Date_nabinary',\n",
       " 'WCIO Nature of Injury Code_freq',\n",
       " 'WCIO Nature of Injury Code_encoded_1',\n",
       " 'WCIO Part Of Body Code_encoded_1',\n",
       " 'C-3 Date_nabinary',\n",
       " 'WCIO Cause of Injury Code_freq',\n",
       " 'Days_between_Assembly Date_Accident Date_log',\n",
       " 'Average Weekly Wage_nabinary',\n",
       " 'Attorney/Representative_binary',\n",
       " 'IME-4 Count',\n",
       " 'Carrier Name_freq',\n",
       " 'Average Weekly Wage Imputed_log',\n",
       " 'Carrier Type_State Insurance Fund',\n",
       " 'Age at Injury',\n",
       " 'WCIO Cause of Injury Code_encoded_1']"
      ]
     },
     "execution_count": 93,
     "metadata": {},
     "output_type": "execute_result"
    }
   ],
   "source": [
    "# Convert all feature sets to sets\n",
    "rfe_set = set(selected_features_rfe)\n",
    "lasso_set = set(lasso_features)\n",
    "ridge_set = set(ridge_features)\n",
    "rf_set = set(random_forest_features)\n",
    "\n",
    "# Find features selected by at least three methods\n",
    "final_features_set = (\n",
    "    (lasso_set & rfe_set & ridge_set) |\n",
    "    (lasso_set & ridge_set & rf_set) |\n",
    "    (ridge_set & rfe_set & rf_set)\n",
    ")\n",
    "\n",
    "# Convert the final features set to a list (optional, for easier use later)\n",
    "final_features = list(final_features_set)\n",
    "\n",
    "# Print the selected features\n",
    "print(len(final_features))\n",
    "print(\"Features selected by at least three methods:\")\n",
    "final_features\n"
   ]
  },
  {
   "cell_type": "code",
   "execution_count": 94,
   "metadata": {},
   "outputs": [],
   "source": [
    "X_train_bin_filter = X_train_bin[final_features]\n",
    "X_val_bin_filter = X_val_bin[final_features]\n",
    "X_test_bin_filter = X_test_bin[final_features]"
   ]
  },
  {
   "cell_type": "markdown",
   "metadata": {},
   "source": [
    "## 5. Binary: Model"
   ]
  },
  {
   "cell_type": "code",
   "execution_count": 95,
   "metadata": {},
   "outputs": [],
   "source": [
    "def custom_loss(y_pred, dtrain):\n",
    "    \"\"\"\n",
    "    Custom loss function penalizing false negatives for class 0.\n",
    "    Parameters:\n",
    "    - y_pred: Predicted values (log-odds).\n",
    "    - dtrain: DMatrix containing true labels.\n",
    "\n",
    "    Returns:\n",
    "    - grad: Gradient of the loss.\n",
    "    - hess: Hessian of the loss.\n",
    "    \"\"\"\n",
    "    y_true = dtrain.get_label()  # Extract true labels from DMatrix\n",
    "    y_pred = 1 / (1 + np.exp(-y_pred))  # Convert log-odds to probabilities\n",
    "\n",
    "    # Adjust weights for class 0\n",
    "    weight = np.where(y_true == 0, 2.0, 1.0)  # Double penalty for class 0 FN\n",
    "\n",
    "    grad = (y_pred - y_true) * weight  # Gradient\n",
    "    hess = y_pred * (1 - y_pred) * weight  # Hessian\n",
    "    return grad, hess\n"
   ]
  },
  {
   "cell_type": "code",
   "execution_count": 96,
   "metadata": {},
   "outputs": [
    {
     "name": "stdout",
     "output_type": "stream",
     "text": [
      "[0]\tvalidation-logloss:0.63551\n",
      "[1]\tvalidation-logloss:0.58788\n",
      "[2]\tvalidation-logloss:0.54813\n",
      "[3]\tvalidation-logloss:0.51453\n",
      "[4]\tvalidation-logloss:0.48581\n",
      "[5]\tvalidation-logloss:0.46127\n",
      "[6]\tvalidation-logloss:0.43999\n",
      "[7]\tvalidation-logloss:0.42155\n",
      "[8]\tvalidation-logloss:0.40544\n",
      "[9]\tvalidation-logloss:0.39135\n",
      "[10]\tvalidation-logloss:0.37896\n",
      "[11]\tvalidation-logloss:0.36808\n",
      "[12]\tvalidation-logloss:0.35838\n",
      "[13]\tvalidation-logloss:0.34987\n",
      "[14]\tvalidation-logloss:0.34231\n",
      "[15]\tvalidation-logloss:0.33555\n",
      "[16]\tvalidation-logloss:0.32956\n",
      "[17]\tvalidation-logloss:0.32415\n",
      "[18]\tvalidation-logloss:0.31940\n",
      "[19]\tvalidation-logloss:0.31505\n",
      "[20]\tvalidation-logloss:0.31119\n",
      "[21]\tvalidation-logloss:0.30755\n",
      "[22]\tvalidation-logloss:0.30446\n",
      "[23]\tvalidation-logloss:0.30171\n",
      "[24]\tvalidation-logloss:0.29928\n",
      "[25]\tvalidation-logloss:0.29701\n",
      "[26]\tvalidation-logloss:0.29484\n",
      "[27]\tvalidation-logloss:0.29309\n",
      "[28]\tvalidation-logloss:0.29150\n",
      "[29]\tvalidation-logloss:0.28995\n",
      "[30]\tvalidation-logloss:0.28854\n",
      "[31]\tvalidation-logloss:0.28739\n",
      "[32]\tvalidation-logloss:0.28620\n",
      "[33]\tvalidation-logloss:0.28526\n",
      "[34]\tvalidation-logloss:0.28424\n",
      "[35]\tvalidation-logloss:0.28348\n",
      "[36]\tvalidation-logloss:0.28280\n",
      "[37]\tvalidation-logloss:0.28220\n",
      "[38]\tvalidation-logloss:0.28154\n",
      "[39]\tvalidation-logloss:0.28108\n",
      "[40]\tvalidation-logloss:0.28056\n",
      "[41]\tvalidation-logloss:0.28005\n",
      "[42]\tvalidation-logloss:0.27965\n",
      "[43]\tvalidation-logloss:0.27930\n",
      "[44]\tvalidation-logloss:0.27893\n",
      "[45]\tvalidation-logloss:0.27859\n",
      "[46]\tvalidation-logloss:0.27820\n",
      "[47]\tvalidation-logloss:0.27795\n",
      "[48]\tvalidation-logloss:0.27763\n",
      "[49]\tvalidation-logloss:0.27735\n",
      "[50]\tvalidation-logloss:0.27709\n",
      "[51]\tvalidation-logloss:0.27684\n",
      "[52]\tvalidation-logloss:0.27659\n",
      "[53]\tvalidation-logloss:0.27635\n",
      "[54]\tvalidation-logloss:0.27611\n",
      "[55]\tvalidation-logloss:0.27582\n",
      "[56]\tvalidation-logloss:0.27570\n",
      "[57]\tvalidation-logloss:0.27542\n",
      "[58]\tvalidation-logloss:0.27526\n",
      "[59]\tvalidation-logloss:0.27509\n",
      "[60]\tvalidation-logloss:0.27499\n",
      "[61]\tvalidation-logloss:0.27485\n",
      "[62]\tvalidation-logloss:0.27473\n",
      "[63]\tvalidation-logloss:0.27451\n",
      "[64]\tvalidation-logloss:0.27431\n",
      "[65]\tvalidation-logloss:0.27427\n",
      "[66]\tvalidation-logloss:0.27422\n",
      "[67]\tvalidation-logloss:0.27398\n",
      "[68]\tvalidation-logloss:0.27385\n",
      "[69]\tvalidation-logloss:0.27381\n",
      "[70]\tvalidation-logloss:0.27370\n",
      "[71]\tvalidation-logloss:0.27364\n",
      "[72]\tvalidation-logloss:0.27348\n",
      "[73]\tvalidation-logloss:0.27341\n",
      "[74]\tvalidation-logloss:0.27331\n",
      "[75]\tvalidation-logloss:0.27325\n",
      "[76]\tvalidation-logloss:0.27323\n",
      "[77]\tvalidation-logloss:0.27298\n",
      "[78]\tvalidation-logloss:0.27272\n",
      "[79]\tvalidation-logloss:0.27259\n",
      "[80]\tvalidation-logloss:0.27250\n",
      "[81]\tvalidation-logloss:0.27240\n",
      "[82]\tvalidation-logloss:0.27224\n",
      "[83]\tvalidation-logloss:0.27214\n",
      "[84]\tvalidation-logloss:0.27203\n",
      "[85]\tvalidation-logloss:0.27198\n",
      "[86]\tvalidation-logloss:0.27192\n",
      "[87]\tvalidation-logloss:0.27181\n",
      "[88]\tvalidation-logloss:0.27168\n",
      "[89]\tvalidation-logloss:0.27163\n",
      "[90]\tvalidation-logloss:0.27153\n",
      "[91]\tvalidation-logloss:0.27145\n",
      "[92]\tvalidation-logloss:0.27140\n",
      "[93]\tvalidation-logloss:0.27136\n",
      "[94]\tvalidation-logloss:0.27134\n",
      "[95]\tvalidation-logloss:0.27132\n",
      "[96]\tvalidation-logloss:0.27127\n",
      "[97]\tvalidation-logloss:0.27125\n",
      "[98]\tvalidation-logloss:0.27109\n",
      "[99]\tvalidation-logloss:0.27107\n"
     ]
    }
   ],
   "source": [
    "import xgboost as xgb\n",
    "\n",
    "# Convert data to DMatrix format\n",
    "dtrain = xgb.DMatrix(X_train_bin_filter, label=y_train_bin)\n",
    "dval = xgb.DMatrix(X_val_bin_filter, label=y_val_bin)\n",
    "\n",
    "# Parameters for XGBoost\n",
    "params = {\n",
    "    \"objective\": \"binary:logistic\",  # Use binary classification\n",
    "    \"eval_metric\": \"logloss\",  # Standard evaluation metric\n",
    "    \"eta\": 0.1,  # Learning rate\n",
    "    \"max_depth\": 6,  # Maximum depth of trees\n",
    "}\n",
    "\n",
    "# Train the model with custom loss function\n",
    "model = xgb.train(\n",
    "    params,\n",
    "    dtrain,\n",
    "    num_boost_round=100,\n",
    "    obj=custom_loss,  # Custom loss function\n",
    "    evals=[(dval, \"validation\")],\n",
    "    early_stopping_rounds=10,  # Stop if no improvement\n",
    ")\n"
   ]
  },
  {
   "cell_type": "code",
   "execution_count": null,
   "metadata": {},
   "outputs": [
    {
     "name": "stdout",
     "output_type": "stream",
     "text": [
      "Accuracy: 0.8944250871080139\n",
      "F1 Score: 0.8942472260381943\n",
      "              precision    recall  f1-score   support\n",
      "\n",
      "           0       0.92      0.87      0.89     84881\n",
      "           1       0.88      0.92      0.90     87319\n",
      "\n",
      "    accuracy                           0.89    172200\n",
      "   macro avg       0.90      0.89      0.89    172200\n",
      "weighted avg       0.90      0.89      0.89    172200\n",
      "\n"
     ]
    }
   ],
   "source": [
    "# Predict probabilities\n",
    "y_proba = model.predict(xgb.DMatrix(X_val_bin_filter))\n",
    "\n",
    "# Convert probabilities to binary predictions using a threshold (default is 0.5)\n",
    "threshold = 0.5\n",
    "y_pred = (y_proba > threshold).astype(int)\n",
    "\n",
    "# Evaluate\n",
    "from sklearn.metrics import classification_report, accuracy_score, f1_score\n",
    "\n",
    "print(\"Accuracy:\", accuracy_score(y_val_bin, y_pred))\n",
    "print(\"F1 Score:\", f1_score(y_val_bin, y_pred, average=\"macro\"))\n",
    "print(classification_report(y_val_bin, y_pred))\n"
   ]
  },
  {
   "cell_type": "code",
   "execution_count": 100,
   "metadata": {},
   "outputs": [
    {
     "name": "stdout",
     "output_type": "stream",
     "text": [
      "XGBClassifier Accuracy: 0.9016\n",
      "XGBClassifier Macro F1 Score: 0.9009\n",
      "              precision    recall  f1-score   support\n",
      "\n",
      "           0       0.96      0.83      0.89     84881\n",
      "           1       0.86      0.97      0.91     87319\n",
      "\n",
      "    accuracy                           0.90    172200\n",
      "   macro avg       0.91      0.90      0.90    172200\n",
      "weighted avg       0.91      0.90      0.90    172200\n",
      "\n",
      "--------------------------------------------------\n"
     ]
    }
   ],
   "source": [
    "import xgboost as xgb\n",
    "\n",
    "model = xgb.XGBClassifier(eval_metric=\"mlogloss\")\n",
    "model.fit(X_train_bin_filter, y_train_bin)\n",
    "\n",
    "# 3. Make predictions\n",
    "y_pred = model.predict(X_val_bin_filter)  # Assuming X_test is available\n",
    "\n",
    "\n",
    "# Evaluate the model\n",
    "accuracy = accuracy_score(y_val_bin, y_pred)\n",
    "f1_macro = f1_score(y_val_bin, y_pred, average='macro')  # Macro-averaged F1 score\n",
    "\n",
    "# Print individual model results\n",
    "print(f\"XGBClassifier Accuracy: {accuracy:.4f}\")\n",
    "print(f\"XGBClassifier Macro F1 Score: {f1_macro:.4f}\")\n",
    "print(classification_report(y_val_bin, y_pred))  # Detailed report including precision, recall, and F1 score per class\n",
    "print(\"-\" * 50)"
   ]
  },
  {
   "cell_type": "code",
   "execution_count": null,
   "metadata": {},
   "outputs": [],
   "source": [
    "import xgboost as xgb\n",
    "\n",
    "model = xgb.XGBClassifier(eval_metric=\"mlogloss\")\n",
    "model.fit(X_train_bin_filter, y_train_bin)\n",
    "\n",
    "# 3. Make predictions\n",
    "y_pred = model.predict(X_val_bin_filter)  # Assuming X_test is available\n",
    "\n",
    "\n",
    "# Evaluate the model\n",
    "accuracy = accuracy_score(y_val_bin, y_pred)\n",
    "f1_macro = f1_score(y_val_bin, y_pred, average='macro')  # Macro-averaged F1 score\n",
    "\n",
    "# Print individual model results\n",
    "print(f\"XGBClassifier Accuracy: {accuracy:.4f}\")\n",
    "print(f\"XGBClassifier Macro F1 Score: {f1_macro:.4f}\")\n",
    "print(classification_report(y_val_bin, y_pred))  # Detailed report including precision, recall, and F1 score per class\n",
    "print(\"-\" * 50)"
   ]
  },
  {
   "cell_type": "markdown",
   "metadata": {},
   "source": [
    "## 6. Multiclass: Feature Selection"
   ]
  },
  {
   "cell_type": "markdown",
   "metadata": {},
   "source": [
    "### 6.1 Filter Categorical Features"
   ]
  },
  {
   "cell_type": "markdown",
   "metadata": {},
   "source": [
    "#### 6.1.1 Chi-square & Cramer's V"
   ]
  },
  {
   "cell_type": "code",
   "execution_count": 106,
   "metadata": {},
   "outputs": [
    {
     "name": "stdout",
     "output_type": "stream",
     "text": [
      "                                     Column          Chi2  p-value  Cramér's V\n",
      "1   Carrier Type_Self-insured Public Entity    5883.41625      0.0    0.137481\n",
      "3         Carrier Type_State Insurance Fund    4741.97596      0.0    0.121874\n",
      "5                         C-3 Date_nabinary   29753.82707      0.0    0.479025\n",
      "6              Average Weekly Wage_nabinary  110326.13914      0.0    0.872155\n",
      "7               First Hearing Date_nabinary   30991.88712      0.0    0.545735\n",
      "10           Attorney/Representative_binary  102697.45907      0.0    0.614944\n"
     ]
    }
   ],
   "source": [
    "# Perform Chi-square test\n",
    "chi2_values, p_values = chi2(X_train_cat, y_train_squeezed)\n",
    "\n",
    "# Create DataFrame for Chi-square results\n",
    "chi2_results = pd.DataFrame({\n",
    "    'Column': X_train_cat.columns,\n",
    "    'Chi2': chi2_values.round(5),\n",
    "    'p-value': p_values.round(5)\n",
    "})\n",
    "\n",
    "# Calculate Cramér's V for binary target\n",
    "cramers_v_values = []\n",
    "for var in X_train_cat.columns:\n",
    "    v = cramers_v(X_train_cat[var], y_train_squeezed)\n",
    "    cramers_v_values.append(v)\n",
    "\n",
    "# Add Cramér's V to DataFrame\n",
    "chi2_results['Cramér\\'s V'] = cramers_v_values\n",
    "\n",
    "# Filter important features\n",
    "chi2_important_features = chi2_results[(chi2_results['p-value'] < 0.05) & (chi2_results['Cramér\\'s V'] >= 0.1)]\n",
    "\n",
    "list_features_chi2_cramer = chi2_important_features['Column'].values\n",
    "\n",
    "print(chi2_important_features)"
   ]
  },
  {
   "cell_type": "markdown",
   "metadata": {},
   "source": [
    "#### 6.1.2 Mutual Information"
   ]
  },
  {
   "cell_type": "code",
   "execution_count": 108,
   "metadata": {},
   "outputs": [
    {
     "name": "stdout",
     "output_type": "stream",
     "text": [
      "                           Feature  Mutual Information\n",
      "6     Average Weekly Wage_nabinary            0.469901\n",
      "10  Attorney/Representative_binary            0.202553\n",
      "7      First Hearing Date_nabinary            0.159525\n",
      "5                C-3 Date_nabinary            0.117598\n"
     ]
    }
   ],
   "source": [
    "from sklearn.feature_selection import mutual_info_classif\n",
    "\n",
    "# Calculate mutual information for categorical features\n",
    "mi_scores = mutual_info_classif(X_train_cat, y_train_squeezed, discrete_features=True)\n",
    "\n",
    "# Create DataFrame of results\n",
    "mi_results = pd.DataFrame({\n",
    "    'Feature': X_train_cat.columns,\n",
    "    'Mutual Information': mi_scores\n",
    "}).sort_values(by='Mutual Information', ascending=False)\n",
    "\n",
    "mi_results\n",
    "\n",
    "mi_important_features = mi_results[mi_results['Mutual Information'] > 0.05]\n",
    "\n",
    "list_features_mi = mi_results[mi_results['Mutual Information'] > 0.05]['Feature'].values\n",
    "\n",
    "print(mi_important_features)"
   ]
  },
  {
   "cell_type": "code",
   "execution_count": 112,
   "metadata": {},
   "outputs": [
    {
     "name": "stdout",
     "output_type": "stream",
     "text": [
      "['Attorney/Representative_binary', 'Carrier Type_Self-insured Public Entity', 'First Hearing Date_nabinary', 'Carrier Type_State Insurance Fund', 'C-3 Date_nabinary', 'Average Weekly Wage_nabinary']\n"
     ]
    }
   ],
   "source": [
    "# Select features that appear in at least one of the important feature sets\n",
    "selected_features = list(set(list_features_chi2_cramer) | set(list_features_mi)) \n",
    "print(selected_features)\n",
    "\n",
    "# Keep only selected important features in the datasets\n",
    "X_train_cat_filtered = X_train_cat[selected_features]\n",
    "X_val_cat_filtered = X_val_cat[selected_features]\n",
    "X_test_cat_filtered = X_test_cat[selected_features]"
   ]
  },
  {
   "cell_type": "markdown",
   "metadata": {},
   "source": [
    "### 6.2 Filter Numerical"
   ]
  },
  {
   "cell_type": "markdown",
   "metadata": {},
   "source": [
    "#### 6.2.1 Univariate variance"
   ]
  },
  {
   "cell_type": "code",
   "execution_count": 113,
   "metadata": {},
   "outputs": [
    {
     "data": {
      "text/plain": [
       "Accident Date_Season_Summer                           0.190598\n",
       "Accident Date_Season_Winter                           0.190024\n",
       "Accident Date_Season_Spring                           0.181228\n",
       "Average Weekly Wage Imputed_log                       0.158004\n",
       "Carrier Name_freq                                     0.142667\n",
       "WCIO Nature of Injury Code_freq                       0.136735\n",
       "Industry Code_freq                                    0.123001\n",
       "Industry Code_encoded_5. PPD SCH LOSS                 0.114505\n",
       "Number of Dependents                                  0.111300\n",
       "Carrier Type Imputed_freq                             0.103530\n",
       "Accident Datemonth                                    0.099293\n",
       "WCIO Part Of Body Code_freq                           0.098325\n",
       "WCIO Cause of Injury Code_freq                        0.080853\n",
       "Industry Code_encoded_4. TEMPORARY                    0.063998\n",
       "WCIO Nature of Injury Code_encoded_4. TEMPORARY       0.039304\n",
       "Age at Injury                                         0.039004\n",
       "Industry Code_encoded_3. MED ONLY                     0.037602\n",
       "WCIO Part Of Body Code_encoded_5. PPD SCH LOSS        0.037588\n",
       "WCIO Part Of Body Code_encoded_4. TEMPORARY           0.037144\n",
       "Industry Code_encoded_6. PPD NSL                      0.034977\n",
       "WCIO Nature of Injury Code_encoded_6. PPD NSL         0.031758\n",
       "Industry Code_encoded_7. PTD                          0.030557\n",
       "Days_between_C-2 Date Imputed_Accident Date_log       0.030064\n",
       "Days_between_Assembly Date_Accident Date_log          0.026866\n",
       "WCIO Part Of Body Code_encoded_6. PPD NSL             0.024137\n",
       "WCIO Part Of Body Code_encoded_3. MED ONLY            0.023758\n",
       "WCIO Cause of Injury Code_encoded_1. CANCELLED        0.023056\n",
       "WCIO Nature of Injury Code_encoded_1. CANCELLED       0.023005\n",
       "WCIO Part Of Body Code_encoded_1. CANCELLED           0.022845\n",
       "WCIO Nature of Injury Code_encoded_3. MED ONLY        0.021641\n",
       "Industry Code_encoded_8. DEATH                        0.018167\n",
       "WCIO Cause of Injury Code_encoded_4. TEMPORARY        0.017753\n",
       "WCIO Cause of Injury Code_encoded_5. PPD SCH LOSS     0.017535\n",
       "WCIO Cause of Injury Code_encoded_3. MED ONLY         0.016519\n",
       "WCIO Nature of Injury Code_encoded_5. PPD SCH LOSS    0.013035\n",
       "WCIO Cause of Injury Code_encoded_6. PPD NSL          0.011987\n",
       "IME-4 Count                                           0.008761\n",
       "WCIO Part Of Body Code_encoded_8. DEATH               0.004938\n",
       "Industry Code_encoded_1. CANCELLED                    0.004895\n",
       "WCIO Part Of Body Code_encoded_7. PTD                 0.003059\n",
       "WCIO Nature of Injury Code_encoded_8. DEATH           0.000646\n",
       "WCIO Cause of Injury Code_encoded_8. DEATH            0.000318\n",
       "WCIO Cause of Injury Code_encoded_7. PTD              0.000270\n",
       "WCIO Nature of Injury Code_encoded_7. PTD             0.000262\n",
       "dtype: float64"
      ]
     },
     "execution_count": 113,
     "metadata": {},
     "output_type": "execute_result"
    }
   ],
   "source": [
    "X_train_num_scaled.var().sort_values(ascending=False)"
   ]
  },
  {
   "cell_type": "markdown",
   "metadata": {},
   "source": [
    "> No features with variance zero. Don't drop any here."
   ]
  },
  {
   "cell_type": "markdown",
   "metadata": {},
   "source": [
    "#### 6.2.2 Spearman Correlation"
   ]
  },
  {
   "cell_type": "code",
   "execution_count": 115,
   "metadata": {},
   "outputs": [
    {
     "data": {
      "text/html": [
       "<div>\n",
       "<style scoped>\n",
       "    .dataframe tbody tr th:only-of-type {\n",
       "        vertical-align: middle;\n",
       "    }\n",
       "\n",
       "    .dataframe tbody tr th {\n",
       "        vertical-align: top;\n",
       "    }\n",
       "\n",
       "    .dataframe thead th {\n",
       "        text-align: right;\n",
       "    }\n",
       "</style>\n",
       "<table border=\"1\" class=\"dataframe\">\n",
       "  <thead>\n",
       "    <tr style=\"text-align: right;\">\n",
       "      <th></th>\n",
       "      <th>Feature_1</th>\n",
       "      <th>Feature_2</th>\n",
       "      <th>Correlation</th>\n",
       "    </tr>\n",
       "  </thead>\n",
       "  <tbody>\n",
       "    <tr>\n",
       "      <th>1846</th>\n",
       "      <td>Days_between_Assembly Date_Accident Date_log</td>\n",
       "      <td>Days_between_C-2 Date Imputed_Accident Date_log</td>\n",
       "      <td>0.954048</td>\n",
       "    </tr>\n",
       "  </tbody>\n",
       "</table>\n",
       "</div>"
      ],
      "text/plain": [
       "                                         Feature_1  \\\n",
       "1846  Days_between_Assembly Date_Accident Date_log   \n",
       "\n",
       "                                            Feature_2  Correlation  \n",
       "1846  Days_between_C-2 Date Imputed_Accident Date_log     0.954048  "
      ]
     },
     "execution_count": 115,
     "metadata": {},
     "output_type": "execute_result"
    }
   ],
   "source": [
    "# Step 1: Calculate the Spearman correlation matrix for numerical features\n",
    "cor_spearman = X_train_num_scaled.corr(method='spearman')\n",
    "\n",
    "# Step 2: Flatten the correlation matrix and reset the index\n",
    "correlation_pairs = cor_spearman.unstack().reset_index()\n",
    "\n",
    "# Step 3: Rename columns for clarity\n",
    "correlation_pairs.columns = ['Feature_1', 'Feature_2', 'Correlation']\n",
    "\n",
    "# Step 4: Filter the table for correlations > 0.8 or < -0.8 and exclude self-correlations (diagonal)\n",
    "strong_correlations = correlation_pairs[\n",
    "    ((correlation_pairs['Correlation'] > 0.9) | (correlation_pairs['Correlation'] < -0.9)) & \n",
    "    (correlation_pairs['Feature_1'] != correlation_pairs['Feature_2'])\n",
    "]\n",
    "\n",
    "# Step 5: Remove duplicate pairs by keeping only one order\n",
    "strong_correlations = strong_correlations[\n",
    "    strong_correlations['Feature_1'] < strong_correlations['Feature_2']\n",
    "]\n",
    "\n",
    "# Step 6: Sort by correlation value\n",
    "strong_correlations = strong_correlations.sort_values(by='Correlation', ascending=False)\n",
    "\n",
    "# Step 7: Display the table\n",
    "strong_correlations\n"
   ]
  },
  {
   "cell_type": "code",
   "execution_count": null,
   "metadata": {},
   "outputs": [],
   "source": []
  }
 ],
 "metadata": {
  "kernelspec": {
   "display_name": "Python 3",
   "language": "python",
   "name": "python3"
  },
  "language_info": {
   "codemirror_mode": {
    "name": "ipython",
    "version": 3
   },
   "file_extension": ".py",
   "mimetype": "text/x-python",
   "name": "python",
   "nbconvert_exporter": "python",
   "pygments_lexer": "ipython3",
   "version": "3.12.2"
  }
 },
 "nbformat": 4,
 "nbformat_minor": 2
}

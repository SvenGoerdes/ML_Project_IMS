{
 "cells": [
  {
   "cell_type": "code",
   "execution_count": 2,
   "metadata": {},
   "outputs": [],
   "source": [
    "import pandas as pd\n",
    "from sklearn.base import BaseEstimator, TransformerMixin\n",
    "from sklearn.pipeline import Pipeline"
   ]
  },
  {
   "cell_type": "code",
   "execution_count": null,
   "metadata": {},
   "outputs": [],
   "source": [
    "# Custom transformer for capping dates\n",
    "class DateCapLower(BaseEstimator, TransformerMixin):\n",
    "    def __init__(self, lower_percentile=0.01, upper_percentile=0.99):\n",
    "        self.lower_percentile = lower_percentile\n",
    "\n",
    "    def fit(self, X, y=None):\n",
    "        # Calculate lower and upper bounds based on percentiles\n",
    "        self.lower_bound_ = X.quantile(self.lower_percentile)\n",
    "        return self\n",
    "\n",
    "    def transform(self, X):\n",
    "        # Cap the dates based on the calculated bounds\n",
    "        X_capped = X.copy()\n",
    "        X_capped = X_capped.clip(lower=self.lower_bound_)\n",
    "        return X_capped"
   ]
  },
  {
   "cell_type": "code",
   "execution_count": null,
   "metadata": {},
   "outputs": [],
   "source": [
    "from sklearn.base import BaseEstimator, TransformerMixin\n",
    "import numpy as np\n",
    "\n",
    "class OutlierAgeAtInjuryAndBirthYear(BaseEstimator, TransformerMixin):\n",
    "    def __init__(self, age_column='Age at Injury', birth_year_column='Birth Year', lower_bound=14, z_score_threshold=3):\n",
    "        \"\"\"\n",
    "        Transformer to impute 'Age at Injury' and 'Birth Year' based on z-score for the upper bound and a fixed lower bound.\n",
    "\n",
    "        Parameters:\n",
    "        - age_column (str): Column name for Age at Injury.\n",
    "        - birth_year_column (str): Column name for Birth Year.\n",
    "        - lower_bound (int): Minimum valid value for Age at Injury.\n",
    "        - z_score_threshold (float): Z-score threshold for identifying upper bound outliers.\n",
    "        \"\"\"\n",
    "        self.age_column = age_column\n",
    "        self.birth_year_column = birth_year_column\n",
    "        self.lower_bound = lower_bound\n",
    "        self.z_score_threshold = z_score_threshold\n",
    "\n",
    "    def fit(self, X, y=None):\n",
    "        \"\"\"\n",
    "        Calculate mean and std for z-score calculation.\n",
    "\n",
    "        Parameters:\n",
    "        - X (DataFrame): Input data.\n",
    "\n",
    "        Returns:\n",
    "        - self\n",
    "        \"\"\"\n",
    "        age_data = X[self.age_column].dropna()\n",
    "        self.mean = age_data.mean()\n",
    "        self.std = age_data.std()\n",
    "        return self\n",
    "\n",
    "    def transform(self, X):\n",
    "        \"\"\"\n",
    "        Apply the imputation based on z-score for the upper bound and fixed lower bound.\n",
    "\n",
    "        Parameters:\n",
    "        - X (DataFrame): Input data.\n",
    "\n",
    "        Returns:\n",
    "        - X_copy (DataFrame): Transformed data.\n",
    "        \"\"\"\n",
    "        X_copy = X.copy()\n",
    "\n",
    "        # Calculate z-scores for 'Age at Injury'\n",
    "        z_scores = (X_copy[self.age_column] - self.mean) / self.std\n",
    "\n",
    "        # Identify rows to set as NaN\n",
    "        outlier_condition = (z_scores > self.z_score_threshold) | (X_copy[self.age_column] < self.lower_bound)\n",
    "        \n",
    "        # Set 'Age at Injury' to NaN for outliers\n",
    "        X_copy.loc[outlier_condition, self.age_column] = np.nan\n",
    "        \n",
    "        # Set 'Birth Year' to NaN where 'Age at Injury' is NaN\n",
    "        X_copy.loc[X_copy[self.age_column].isna(), self.birth_year_column] = np.nan\n",
    "        \n",
    "        return X_copy\n"
   ]
  }
 ],
 "metadata": {
  "kernelspec": {
   "display_name": "Python 3",
   "language": "python",
   "name": "python3"
  },
  "language_info": {
   "codemirror_mode": {
    "name": "ipython",
    "version": 3
   },
   "file_extension": ".py",
   "mimetype": "text/x-python",
   "name": "python",
   "nbconvert_exporter": "python",
   "pygments_lexer": "ipython3",
   "version": "3.12.2"
  }
 },
 "nbformat": 4,
 "nbformat_minor": 2
}

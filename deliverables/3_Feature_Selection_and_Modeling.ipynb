{
 "cells": [
  {
   "cell_type": "markdown",
   "id": "5bb622ca",
   "metadata": {},
   "source": [
    "<div style=\"background-color: #bfd630; font-family: Calibir, sans-serif; padding: 20px;\">\n",
    "\n",
    "\n",
    "\n",
    "   <div style=\"text-align: center;\">\n",
    "      <img src=\"https://encrypted-tbn0.gstatic.com/images?q=tbn:ANd9GcTaJWG7PzF3toxaRMB1-JicpqMgJuEXATd0fg&\" style=\"width: 120px; margin-top: 20px; margin-bottom: 60px;\">\n",
    "   </div>\n",
    "\n",
    "   <div style=\"text-align: center; font-size: 24px; font-weight: bold; font-family: Calibir; color: #000000; margin-bottom: 10px;\">\n",
    "      Machine Learning Project | To Grant or Not to Grant\n",
    "   </div>\n",
    "   \n",
    "   <div style=\"text-align: center; font-family: Calibir; font-size: 22px; color: #000000; font-weight: bold; margin-bottom: 20px;\">\n",
    "      Feature Selection and Modeling\n",
    "   </div>\n",
    "\n",
    "   <div style=\"text-align: center; font-size: 18px; font-family: Calibir; font-weight: bold; color: #333333; margin-bottom: 5px;\">\n",
    "      Nova Information Management School\n",
    "   </div>\n",
    "\n",
    "   <div style=\"text-align: center; font-size: 18px; font-family: Calibir; font-weight: bold; color: #333333; margin-bottom: 20px;\">\n",
    "      Universidade Nova de Lisboa\n",
    "   </div>\n",
    "        <div style=\"text-align: center; font-size: 16px; font-family: Calibir; font-weight: bold; color: #333333; margin-bottom: 10px;\">\n",
    "      Master in Data Science and Advanced Analytics\n",
    "   </div>\n",
    " \n",
    "   <div style=\"text-align: center;\">\n",
    "      <img src=\"https://cdn.prod.website-files.com/617accb8b04ef2b3feffa61b/6581e90d485a9976c3576a46_how-does-workers-comp-work.jpg\" style=\"width: 350px; margin-top: 20px; margin-bottom: 60px;\">\n",
    "   </div>\n",
    "\n",
    "\n",
    "\n",
    "\n",
    "   <div style=\"text-align: center; font-family: Calibir; font-size: 16px; color: #333333; font-weight: bold; margin-bottom: 20px;\">\n",
    "      Project Group: 32\n",
    "   </div>\n",
    "\n",
    "   <div style=\"text-align: center; font-family: Calibir; font-size: 16px; color: #333333; margin-bottom: 40px\">\n",
    "      Filipa Pereira -  20240509 <br>\n",
    "      Klimentina Gilevska -  20240747 <br>\n",
    "      Maria Assunção -  20211605 <br>\n",
    "      Rita Matos -  20211642 <br>\n",
    "      Rita Wang -  20240551 <br>\n",
    "      Sven Goerdes -  20240503\n",
    "   </div>\n",
    "\n",
    "   <div style=\"text-align: center; font-family: Calibir; font-size: 16px; color: #333333; margin-bottom: 10px\">\n",
    "      Fall/Spring Semester 2024-2025\n",
    "   </div>\n",
    "\n",
    "  <div style=\"text-align: center; font-family: Calibir; font-size: 16px; color: #333333; margin-bottom: 20px;\">\n",
    "      11th November 2024\n",
    "   </div>\n",
    "\n",
    "   \n",
    "</div>\n",
    "|"
   ]
  },
  {
   "cell_type": "markdown",
   "id": "17a883a2",
   "metadata": {},
   "source": [
    "## Table of Contents\n",
    "* [5.5. Data Scaling](#data-scaling)\n",
    "    * [5.5.1. Normalization](#normalization)\n",
    "* [6. Feature Selection](#feature-selection)\n",
    "    * [6.1. Univariate Variables](#univariate-variables)\n",
    "    * [6.2. Spearman Correlation](#spearman-correlation)\n",
    "    * [6.3. Chi-Square for Categorical Data](#chi-square)\n",
    "    * [6.4. RFE (with Logistic Regression)](#rfe)\n",
    "    * [6.5. Ridge Regression](#ridge-regression)\n",
    "    * [6.6. Final Feature Selection](#final-feature-selection)\n",
    "* [7. Model Building](#model-building)\n",
    "    * [7.1. Problem Type Identification and Relevant Algorithms](#problem-type-identification)\n",
    "    * [7.2. Model Training](#model-training)\n",
    "    * [7.3. Cross-Validation](#cross-validation)\n",
    "    * [7.6. Model Evaluation](#model-evaluation)\n",
    "* [8. Prediction on Test Set](#prediction-on-test-set)\n"
   ]
  },
  {
   "cell_type": "code",
   "execution_count": 1,
   "id": "19a3ad40",
   "metadata": {},
   "outputs": [
    {
     "name": "stderr",
     "output_type": "stream",
     "text": [
      "C:\\Users\\LENOVO\\anaconda3\\lib\\site-packages\\pandas\\core\\computation\\expressions.py:21: UserWarning: Pandas requires version '2.8.4' or newer of 'numexpr' (version '2.8.1' currently installed).\n",
      "  from pandas.core.computation.check import NUMEXPR_INSTALLED\n",
      "C:\\Users\\LENOVO\\anaconda3\\lib\\site-packages\\pandas\\core\\arrays\\masked.py:60: UserWarning: Pandas requires version '1.3.6' or newer of 'bottleneck' (version '1.3.4' currently installed).\n",
      "  from pandas.core import (\n"
     ]
    }
   ],
   "source": [
    "import pandas as pd\n",
    "import numpy as np\n",
    "import matplotlib.pyplot as plt\n",
    "import seaborn as sns\n",
    "\n",
    "#Scaling\n",
    "from sklearn.preprocessing import MinMaxScaler\n",
    "\n",
    " #Correlation Heatmap\n",
    "from matplotlib.colors import LinearSegmentedColormap\n",
    "\n",
    "#Statistical Test\n",
    "from scipy import stats\n",
    "from sklearn.impute import SimpleImputer\n",
    "\n",
    "#Models\n",
    "from sklearn.linear_model import LogisticRegression\n",
    "from sklearn.feature_selection import RFE\n",
    "from sklearn.model_selection import train_test_split\n",
    "from sklearn.model_selection import cross_validate\n",
    "from sklearn.metrics import make_scorer, f1_score, recall_score, precision_score, accuracy_score\n",
    "\n",
    "from sklearn.model_selection import KFold, RepeatedKFold, cross_val_score\n",
    "from sklearn.neural_network import MLPClassifier\n",
    "from sklearn.ensemble import RandomForestClassifier\n",
    "from sklearn.linear_model import LogisticRegression, RidgeClassifier\n",
    "from sklearn.neighbors import KNeighborsClassifier\n",
    "from sklearn.tree import DecisionTreeClassifier\n",
    "from sklearn.naive_bayes import GaussianNB\n",
    "from sklearn.pipeline import make_pipeline\n",
    "from sklearn.preprocessing import StandardScaler\n",
    "from sklearn.metrics import accuracy_score, precision_score, recall_score, f1_score, classification_report\n",
    "from sklearn.model_selection import train_test_split, cross_val_score\n",
    "\n",
    "from sklearn.linear_model import Ridge"
   ]
  },
  {
   "cell_type": "markdown",
   "id": "f8730749",
   "metadata": {},
   "source": [
    "<<<<<<< REMOTE CELL DELETED >>>>>>>\n",
    "> __Read in Data__\n",
    "> * You can download the encoded data in the source that is linked above the table of contents to avoid running Notebook 2"
   ]
  },
  {
   "cell_type": "code",
   "execution_count": 2,
   "id": "27f7feaa",
   "metadata": {},
   "outputs": [],
   "source": [
    "<<<<<<< local\n",
    "# Read in the data\n",
    "X_val_encoded = pd.read_csv('../project_data/X_val_encoded.csv', delimiter=',', index_col=0)\n",
    "X_train_encoded = pd.read_csv('../project_data/X_train_encoded.csv', delimiter=',', index_col=0)\n",
    "\n",
    "y_train = pd.read_csv('../project_data/y_train.csv',delimiter=',', index_col=0)\n",
    "y_val= pd.read_csv('../project_data/y_val.csv', delimiter=',', index_col=0)\n",
    "\n",
    "X_test_encoded = pd.read_csv('../project_data/X_test_encoded.csv',index_col=0)\n",
    "=======\n",
    "X_train_encoded[columns_to_keep].to_csv('../project_data/X_train_encoded.csv')\n",
    "X_val_encoded[columns_to_keep].to_csv('../project_data/X_val_encoded.csv')\n",
    "X_test_encoded[columns_to_keep].to_csv('../project_data/X_test_encoded.csv')\n",
    "\n",
    "y_train.to_csv('../project_data/y_train.csv')\n",
    "y_val.to_csv('../project_data/y_val.csv')\n",
    ">>>>>>> remote"
   ]
  },
  {
   "cell_type": "code",
   "execution_count": 3,
   "id": "0383370c",
   "metadata": {},
   "outputs": [
    {
     "data": {
      "text/html": [
       "<div>\n",
       "<style scoped>\n",
       "    .dataframe tbody tr th:only-of-type {\n",
       "        vertical-align: middle;\n",
       "    }\n",
       "\n",
       "    .dataframe tbody tr th {\n",
       "        vertical-align: top;\n",
       "    }\n",
       "\n",
       "    .dataframe thead th {\n",
       "        text-align: right;\n",
       "    }\n",
       "</style>\n",
       "<table border=\"1\" class=\"dataframe\">\n",
       "  <thead>\n",
       "    <tr style=\"text-align: right;\">\n",
       "      <th></th>\n",
       "      <th>Claim Identifier</th>\n",
       "      <th>Age at Injury</th>\n",
       "      <th>Alternative Dispute Resolution</th>\n",
       "      <th>Attorney/Representative</th>\n",
       "      <th>Average Weekly Wage</th>\n",
       "      <th>Birth Year</th>\n",
       "      <th>C-2 Date</th>\n",
       "      <th>C-3 Date</th>\n",
       "      <th>COVID-19 Indicator</th>\n",
       "      <th>District Name</th>\n",
       "      <th>...</th>\n",
       "      <th>Body_Part_Upper_Extremities</th>\n",
       "      <th>Part_Body_Category_encoded_5. PPD SCH LOSS</th>\n",
       "      <th>Part_Body_Category_encoded_2. NON-COMP</th>\n",
       "      <th>Part_Body_Category_encoded_3. MED ONLY</th>\n",
       "      <th>Part_Body_Category_encoded_4. TEMPORARY</th>\n",
       "      <th>Part_Body_Category_encoded_1. CANCELLED</th>\n",
       "      <th>Part_Body_Category_encoded_8. DEATH</th>\n",
       "      <th>Part_Body_Category_encoded_6. PPD NSL</th>\n",
       "      <th>Part_Body_Category_encoded_7. PTD</th>\n",
       "      <th>Days_between_Acc_Assembyl</th>\n",
       "    </tr>\n",
       "  </thead>\n",
       "  <tbody>\n",
       "    <tr>\n",
       "      <th>0</th>\n",
       "      <td>6165911</td>\n",
       "      <td>19</td>\n",
       "      <td>0.0</td>\n",
       "      <td>0</td>\n",
       "      <td>1237.915100</td>\n",
       "      <td>2003.0</td>\n",
       "      <td>1</td>\n",
       "      <td>0</td>\n",
       "      <td>0</td>\n",
       "      <td>NYC</td>\n",
       "      <td>...</td>\n",
       "      <td>0</td>\n",
       "      <td>0.117242</td>\n",
       "      <td>0.468593</td>\n",
       "      <td>0.126028</td>\n",
       "      <td>0.276811</td>\n",
       "      <td>0.007271</td>\n",
       "      <td>0.000025</td>\n",
       "      <td>0.003955</td>\n",
       "      <td>0.000075</td>\n",
       "      <td>9</td>\n",
       "    </tr>\n",
       "    <tr>\n",
       "      <th>1</th>\n",
       "      <td>6166141</td>\n",
       "      <td>19</td>\n",
       "      <td>0.0</td>\n",
       "      <td>0</td>\n",
       "      <td>807.051222</td>\n",
       "      <td>2003.0</td>\n",
       "      <td>1</td>\n",
       "      <td>0</td>\n",
       "      <td>0</td>\n",
       "      <td>NYC</td>\n",
       "      <td>...</td>\n",
       "      <td>0</td>\n",
       "      <td>0.030190</td>\n",
       "      <td>0.625997</td>\n",
       "      <td>0.130400</td>\n",
       "      <td>0.194593</td>\n",
       "      <td>0.008172</td>\n",
       "      <td>0.000833</td>\n",
       "      <td>0.009508</td>\n",
       "      <td>0.000307</td>\n",
       "      <td>43</td>\n",
       "    </tr>\n",
       "    <tr>\n",
       "      <th>2</th>\n",
       "      <td>6165907</td>\n",
       "      <td>59</td>\n",
       "      <td>0.0</td>\n",
       "      <td>0</td>\n",
       "      <td>936.584344</td>\n",
       "      <td>1963.0</td>\n",
       "      <td>1</td>\n",
       "      <td>0</td>\n",
       "      <td>0</td>\n",
       "      <td>NYC</td>\n",
       "      <td>...</td>\n",
       "      <td>0</td>\n",
       "      <td>0.010673</td>\n",
       "      <td>0.504185</td>\n",
       "      <td>0.127603</td>\n",
       "      <td>0.330692</td>\n",
       "      <td>0.010108</td>\n",
       "      <td>0.001591</td>\n",
       "      <td>0.014836</td>\n",
       "      <td>0.000312</td>\n",
       "      <td>7</td>\n",
       "    </tr>\n",
       "    <tr>\n",
       "      <th>3</th>\n",
       "      <td>6166047</td>\n",
       "      <td>55</td>\n",
       "      <td>0.0</td>\n",
       "      <td>0</td>\n",
       "      <td>1237.915100</td>\n",
       "      <td>1967.0</td>\n",
       "      <td>1</td>\n",
       "      <td>0</td>\n",
       "      <td>0</td>\n",
       "      <td>NYC</td>\n",
       "      <td>...</td>\n",
       "      <td>0</td>\n",
       "      <td>0.117242</td>\n",
       "      <td>0.468593</td>\n",
       "      <td>0.126028</td>\n",
       "      <td>0.276811</td>\n",
       "      <td>0.007271</td>\n",
       "      <td>0.000025</td>\n",
       "      <td>0.003955</td>\n",
       "      <td>0.000075</td>\n",
       "      <td>5</td>\n",
       "    </tr>\n",
       "    <tr>\n",
       "      <th>4</th>\n",
       "      <td>6166102</td>\n",
       "      <td>25</td>\n",
       "      <td>0.0</td>\n",
       "      <td>0</td>\n",
       "      <td>1331.061594</td>\n",
       "      <td>1997.0</td>\n",
       "      <td>1</td>\n",
       "      <td>0</td>\n",
       "      <td>0</td>\n",
       "      <td>NYC</td>\n",
       "      <td>...</td>\n",
       "      <td>1</td>\n",
       "      <td>0.117644</td>\n",
       "      <td>0.540747</td>\n",
       "      <td>0.112146</td>\n",
       "      <td>0.217665</td>\n",
       "      <td>0.007902</td>\n",
       "      <td>0.000034</td>\n",
       "      <td>0.003813</td>\n",
       "      <td>0.000050</td>\n",
       "      <td>13</td>\n",
       "    </tr>\n",
       "  </tbody>\n",
       "</table>\n",
       "<p>5 rows × 68 columns</p>\n",
       "</div>"
      ],
      "text/plain": [
       "   Claim Identifier  Age at Injury  Alternative Dispute Resolution  \\\n",
       "0           6165911             19                             0.0   \n",
       "1           6166141             19                             0.0   \n",
       "2           6165907             59                             0.0   \n",
       "3           6166047             55                             0.0   \n",
       "4           6166102             25                             0.0   \n",
       "\n",
       "   Attorney/Representative  Average Weekly Wage  Birth Year  C-2 Date  \\\n",
       "0                        0          1237.915100      2003.0         1   \n",
       "1                        0           807.051222      2003.0         1   \n",
       "2                        0           936.584344      1963.0         1   \n",
       "3                        0          1237.915100      1967.0         1   \n",
       "4                        0          1331.061594      1997.0         1   \n",
       "\n",
       "   C-3 Date  COVID-19 Indicator District Name  ...  \\\n",
       "0         0                   0           NYC  ...   \n",
       "1         0                   0           NYC  ...   \n",
       "2         0                   0           NYC  ...   \n",
       "3         0                   0           NYC  ...   \n",
       "4         0                   0           NYC  ...   \n",
       "\n",
       "   Body_Part_Upper_Extremities  Part_Body_Category_encoded_5. PPD SCH LOSS  \\\n",
       "0                            0                                    0.117242   \n",
       "1                            0                                    0.030190   \n",
       "2                            0                                    0.010673   \n",
       "3                            0                                    0.117242   \n",
       "4                            1                                    0.117644   \n",
       "\n",
       "   Part_Body_Category_encoded_2. NON-COMP  \\\n",
       "0                                0.468593   \n",
       "1                                0.625997   \n",
       "2                                0.504185   \n",
       "3                                0.468593   \n",
       "4                                0.540747   \n",
       "\n",
       "   Part_Body_Category_encoded_3. MED ONLY  \\\n",
       "0                                0.126028   \n",
       "1                                0.130400   \n",
       "2                                0.127603   \n",
       "3                                0.126028   \n",
       "4                                0.112146   \n",
       "\n",
       "   Part_Body_Category_encoded_4. TEMPORARY  \\\n",
       "0                                 0.276811   \n",
       "1                                 0.194593   \n",
       "2                                 0.330692   \n",
       "3                                 0.276811   \n",
       "4                                 0.217665   \n",
       "\n",
       "   Part_Body_Category_encoded_1. CANCELLED  \\\n",
       "0                                 0.007271   \n",
       "1                                 0.008172   \n",
       "2                                 0.010108   \n",
       "3                                 0.007271   \n",
       "4                                 0.007902   \n",
       "\n",
       "   Part_Body_Category_encoded_8. DEATH  Part_Body_Category_encoded_6. PPD NSL  \\\n",
       "0                             0.000025                               0.003955   \n",
       "1                             0.000833                               0.009508   \n",
       "2                             0.001591                               0.014836   \n",
       "3                             0.000025                               0.003955   \n",
       "4                             0.000034                               0.003813   \n",
       "\n",
       "   Part_Body_Category_encoded_7. PTD  Days_between_Acc_Assembyl  \n",
       "0                           0.000075                          9  \n",
       "1                           0.000307                         43  \n",
       "2                           0.000312                          7  \n",
       "3                           0.000075                          5  \n",
       "4                           0.000050                         13  \n",
       "\n",
       "[5 rows x 68 columns]"
      ]
     },
     "execution_count": 3,
     "metadata": {},
     "output_type": "execute_result"
    }
   ],
   "source": [
    "X_test_encoded.head()"
   ]
  },
  {
   "cell_type": "markdown",
   "id": "823b01aa",
   "metadata": {},
   "source": [
    "### 5.5 Encode Target"
   ]
  },
  {
   "cell_type": "markdown",
   "id": "5486d97c",
   "metadata": {},
   "source": [
    "First, we still need to encode the target variable, for which we decided not to use LabelEncoder in order to preserve the original values associated with each category. Here is the mapping we used:"
   ]
  },
  {
   "cell_type": "code",
   "execution_count": 4,
   "id": "b33f4ba6",
   "metadata": {},
   "outputs": [],
   "source": [
    "claim_injury_type_mapping = {\n",
    "    '4. TEMPORARY': 4,\n",
    "    '2. NON-COMP': 2,\n",
    "    '5. PPD SCH LOSS': 5,\n",
    "    '3. MED ONLY': 3,\n",
    "    '6. PPD NSL': 6,\n",
    "    '1. CANCELLED': 1,\n",
    "    '8. DEATH': 8,\n",
    "    '7. PTD': 7\n",
    "}\n",
    "\n",
    "y_train_encoded = y_train['Claim Injury Type'].map(claim_injury_type_mapping)\n",
    "y_val_encoded = y_val['Claim Injury Type'].map(claim_injury_type_mapping)"
   ]
  },
  {
   "cell_type": "code",
   "execution_count": 5,
   "id": "e7aeec62",
   "metadata": {},
   "outputs": [
    {
     "data": {
      "text/plain": [
       "Claim Identifier\n",
       "5506797    5\n",
       "5481216    2\n",
       "5520188    5\n",
       "5748412    3\n",
       "5653867    4\n",
       "Name: Claim Injury Type, dtype: int64"
      ]
     },
     "execution_count": 5,
     "metadata": {},
     "output_type": "execute_result"
    }
   ],
   "source": [
    "y_train_encoded.head()"
   ]
  },
  {
   "cell_type": "markdown",
   "id": "05399411",
   "metadata": {},
   "source": [
    "Now we will separate the variables into categorical and numerical types for scaling and then apply feature selection."
   ]
  },
  {
   "cell_type": "code",
   "execution_count": 6,
   "id": "b8a1fb5a",
   "metadata": {},
   "outputs": [],
   "source": [
    "num_columns = ['Age at Injury', 'Average Weekly Wage', 'Birth Year', 'IME-4 Count', 'Number of Dependents', 'Days_between_Acc_Assembyl']\n",
    "\n",
    "cat_columns = ['Alternative Dispute Resolution', 'Attorney/Representative', 'C-2 Date', 'C-3 Date', 'COVID-19 Indicator', 'Gender','First Hearing Date',\n",
    "               'CarrierGroup_Self-insured Private Entity', 'CarrierGroup_Self-insured Public Entity', 'CarrierGroup_Special Funds',\n",
    "               'CarrierGroup_State Insurance Fund', 'Industry Code_encoded_5. PPD SCH LOSS', 'Industry Code_encoded_2. NON-COMP', \n",
    "               'Industry Code_encoded_3. MED ONLY', 'Industry Code_encoded_4. TEMPORARY', 'Industry Code_encoded_1. CANCELLED', \n",
    "               'Industry Code_encoded_8. DEATH', 'Industry Code_encoded_6. PPD NSL', 'Industry Code_encoded_7. PTD',\n",
    "               'Injury_Cause_Category_encoded_5. PPD SCH LOSS', 'Injury_Cause_Category_encoded_2. NON-COMP', \n",
    "               'Injury_Cause_Category_encoded_3. MED ONLY', 'Injury_Cause_Category_encoded_4. TEMPORARY', \n",
    "               'Injury_Cause_Category_encoded_1. CANCELLED', 'Injury_Cause_Category_encoded_8. DEATH','Injury_Cause_Category_encoded_6. PPD NSL',\n",
    "                'Injury_Cause_Category_encoded_7. PTD', 'Nature_Injury_Occupational', 'Nature_Injury_Specific', 'Nature_Injury_Unknown',\n",
    "                'Part_Body_Category_encoded_5. PPD SCH LOSS', 'Part_Body_Category_encoded_2. NON-COMP', 'Part_Body_Category_encoded_3. MED ONLY',\n",
    "                'Part_Body_Category_encoded_4. TEMPORARY', 'Part_Body_Category_encoded_1. CANCELLED', 'Part_Body_Category_encoded_8. DEATH',\n",
    "                'Part_Body_Category_encoded_6. PPD NSL', 'Part_Body_Category_encoded_7. PTD']\n",
    "\n",
    "\n",
    "# Create subsets\n",
    "X_train_num = X_train_encoded[num_columns].set_index(X_train_encoded.index)\n",
    "X_train_cat = X_train_encoded[cat_columns].set_index(X_train_encoded.index)\n",
    "X_val_num = X_val_encoded[num_columns].set_index(X_val_encoded.index)\n",
    "X_val_cat = X_val_encoded[cat_columns].set_index(X_val_encoded.index)\n",
    "X_test_num=X_test_encoded[num_columns].set_index(X_test_encoded.index)\n",
    "X_test_cat=X_test_encoded[cat_columns].set_index(X_test_encoded.index)"
   ]
  },
  {
   "cell_type": "markdown",
   "id": "d82e110e",
   "metadata": {},
   "source": [
    "<a id='data-scaling'></a>\n",
    "### 5.5. Data Scaling <a class=\"anchor\" id=\"data-scaling\"></a>\n",
    "[Back to ToC](#toc)<br>"
   ]
  },
  {
   "cell_type": "markdown",
   "id": "b4d80497",
   "metadata": {},
   "source": [
    "#### 5.5.1. Normalization<a class=\"anchor\" id=\"normalization\"></a>\n",
    "[Back to ToC](#toc)<br>"
   ]
  },
  {
   "cell_type": "markdown",
   "id": "534e423b",
   "metadata": {},
   "source": [
    "We decided to use normalization because it does not assume any specific distribution of the data. Instead, it scales all features to fit within a specified range—in our case, [0, 1]. This approach can be particularly effective for data that does not follow a Gaussian distribution or has outliers."
   ]
  },
  {
   "cell_type": "code",
   "execution_count": 7,
   "id": "273b63a1",
   "metadata": {},
   "outputs": [
    {
     "name": "stdout",
     "output_type": "stream",
     "text": [
      "Parameters fitted:\n",
      "Variable: Age at Injury | Min: 12.0 | Max: 88.0\n",
      "Variable: Average Weekly Wage | Min: 17.41 | Max: 2285.09\n",
      "Variable: Birth Year | Min: 1931.0 | Max: 2010.0\n",
      "Variable: IME-4 Count | Min: 0.0 | Max: 39.0\n",
      "Variable: Number of Dependents | Min: 0.0 | Max: 6.0\n",
      "Variable: Days_between_Acc_Assembyl | Min: 0.0 | Max: 336.0\n"
     ]
    },
    {
     "data": {
      "text/html": [
       "<div>\n",
       "<style scoped>\n",
       "    .dataframe tbody tr th:only-of-type {\n",
       "        vertical-align: middle;\n",
       "    }\n",
       "\n",
       "    .dataframe tbody tr th {\n",
       "        vertical-align: top;\n",
       "    }\n",
       "\n",
       "    .dataframe thead th {\n",
       "        text-align: right;\n",
       "    }\n",
       "</style>\n",
       "<table border=\"1\" class=\"dataframe\">\n",
       "  <thead>\n",
       "    <tr style=\"text-align: right;\">\n",
       "      <th></th>\n",
       "      <th>Age at Injury</th>\n",
       "      <th>Average Weekly Wage</th>\n",
       "      <th>Birth Year</th>\n",
       "      <th>IME-4 Count</th>\n",
       "      <th>Number of Dependents</th>\n",
       "      <th>Days_between_Acc_Assembyl</th>\n",
       "    </tr>\n",
       "  </thead>\n",
       "  <tbody>\n",
       "    <tr>\n",
       "      <th>count</th>\n",
       "      <td>378851.00</td>\n",
       "      <td>378851.00</td>\n",
       "      <td>378851.00</td>\n",
       "      <td>378851.00</td>\n",
       "      <td>378851.00</td>\n",
       "      <td>378851.00</td>\n",
       "    </tr>\n",
       "    <tr>\n",
       "      <th>mean</th>\n",
       "      <td>0.40</td>\n",
       "      <td>0.50</td>\n",
       "      <td>0.60</td>\n",
       "      <td>0.02</td>\n",
       "      <td>0.50</td>\n",
       "      <td>0.07</td>\n",
       "    </tr>\n",
       "    <tr>\n",
       "      <th>std</th>\n",
       "      <td>0.18</td>\n",
       "      <td>0.17</td>\n",
       "      <td>0.17</td>\n",
       "      <td>0.05</td>\n",
       "      <td>0.33</td>\n",
       "      <td>0.13</td>\n",
       "    </tr>\n",
       "    <tr>\n",
       "      <th>min</th>\n",
       "      <td>0.00</td>\n",
       "      <td>0.00</td>\n",
       "      <td>0.00</td>\n",
       "      <td>0.00</td>\n",
       "      <td>0.00</td>\n",
       "      <td>0.00</td>\n",
       "    </tr>\n",
       "    <tr>\n",
       "      <th>25%</th>\n",
       "      <td>0.25</td>\n",
       "      <td>0.36</td>\n",
       "      <td>0.46</td>\n",
       "      <td>0.00</td>\n",
       "      <td>0.17</td>\n",
       "      <td>0.01</td>\n",
       "    </tr>\n",
       "    <tr>\n",
       "      <th>50%</th>\n",
       "      <td>0.39</td>\n",
       "      <td>0.51</td>\n",
       "      <td>0.61</td>\n",
       "      <td>0.00</td>\n",
       "      <td>0.50</td>\n",
       "      <td>0.03</td>\n",
       "    </tr>\n",
       "    <tr>\n",
       "      <th>75%</th>\n",
       "      <td>0.55</td>\n",
       "      <td>0.56</td>\n",
       "      <td>0.75</td>\n",
       "      <td>0.00</td>\n",
       "      <td>0.83</td>\n",
       "      <td>0.07</td>\n",
       "    </tr>\n",
       "    <tr>\n",
       "      <th>max</th>\n",
       "      <td>1.00</td>\n",
       "      <td>1.00</td>\n",
       "      <td>1.00</td>\n",
       "      <td>1.00</td>\n",
       "      <td>1.00</td>\n",
       "      <td>1.00</td>\n",
       "    </tr>\n",
       "  </tbody>\n",
       "</table>\n",
       "</div>"
      ],
      "text/plain": [
       "       Age at Injury  Average Weekly Wage  Birth Year  IME-4 Count  \\\n",
       "count      378851.00            378851.00   378851.00    378851.00   \n",
       "mean            0.40                 0.50        0.60         0.02   \n",
       "std             0.18                 0.17        0.17         0.05   \n",
       "min             0.00                 0.00        0.00         0.00   \n",
       "25%             0.25                 0.36        0.46         0.00   \n",
       "50%             0.39                 0.51        0.61         0.00   \n",
       "75%             0.55                 0.56        0.75         0.00   \n",
       "max             1.00                 1.00        1.00         1.00   \n",
       "\n",
       "       Number of Dependents  Days_between_Acc_Assembyl  \n",
       "count             378851.00                  378851.00  \n",
       "mean                   0.50                       0.07  \n",
       "std                    0.33                       0.13  \n",
       "min                    0.00                       0.00  \n",
       "25%                    0.17                       0.01  \n",
       "50%                    0.50                       0.03  \n",
       "75%                    0.83                       0.07  \n",
       "max                    1.00                       1.00  "
      ]
     },
     "execution_count": 7,
     "metadata": {},
     "output_type": "execute_result"
    }
   ],
   "source": [
    "scaler = MinMaxScaler().fit(X_train_num)\n",
    "X_train_num_scaled = scaler.transform(X_train_num)\n",
    "print(\"Parameters fitted:\")\n",
    "for feature, min_val, max_val in zip(X_train_num.columns, scaler.data_min_, scaler.data_max_):\n",
    "    print(f\"Variable: {feature} | Min: {min_val} | Max: {max_val}\")\n",
    "\n",
    "# Convert the array to a pandas dataframe\n",
    "X_train_num_scaled = pd.DataFrame(X_train_num_scaled, columns = X_train_num.columns).set_index(X_train_encoded.index)\n",
    "X_train_num_scaled.describe().round(2)"
   ]
  },
  {
   "cell_type": "code",
   "execution_count": 8,
   "id": "64ae3b6c",
   "metadata": {},
   "outputs": [
    {
     "data": {
      "text/html": [
       "<div>\n",
       "<style scoped>\n",
       "    .dataframe tbody tr th:only-of-type {\n",
       "        vertical-align: middle;\n",
       "    }\n",
       "\n",
       "    .dataframe tbody tr th {\n",
       "        vertical-align: top;\n",
       "    }\n",
       "\n",
       "    .dataframe thead th {\n",
       "        text-align: right;\n",
       "    }\n",
       "</style>\n",
       "<table border=\"1\" class=\"dataframe\">\n",
       "  <thead>\n",
       "    <tr style=\"text-align: right;\">\n",
       "      <th></th>\n",
       "      <th>Age at Injury</th>\n",
       "      <th>Average Weekly Wage</th>\n",
       "      <th>Birth Year</th>\n",
       "      <th>IME-4 Count</th>\n",
       "      <th>Number of Dependents</th>\n",
       "      <th>Days_between_Acc_Assembyl</th>\n",
       "    </tr>\n",
       "  </thead>\n",
       "  <tbody>\n",
       "    <tr>\n",
       "      <th>count</th>\n",
       "      <td>163767.00</td>\n",
       "      <td>163767.00</td>\n",
       "      <td>163767.00</td>\n",
       "      <td>163767.00</td>\n",
       "      <td>163767.00</td>\n",
       "      <td>163767.00</td>\n",
       "    </tr>\n",
       "    <tr>\n",
       "      <th>mean</th>\n",
       "      <td>0.40</td>\n",
       "      <td>0.50</td>\n",
       "      <td>0.60</td>\n",
       "      <td>0.02</td>\n",
       "      <td>0.50</td>\n",
       "      <td>0.08</td>\n",
       "    </tr>\n",
       "    <tr>\n",
       "      <th>std</th>\n",
       "      <td>0.18</td>\n",
       "      <td>0.17</td>\n",
       "      <td>0.17</td>\n",
       "      <td>0.05</td>\n",
       "      <td>0.33</td>\n",
       "      <td>0.16</td>\n",
       "    </tr>\n",
       "    <tr>\n",
       "      <th>min</th>\n",
       "      <td>0.00</td>\n",
       "      <td>-0.00</td>\n",
       "      <td>0.00</td>\n",
       "      <td>0.00</td>\n",
       "      <td>0.00</td>\n",
       "      <td>0.00</td>\n",
       "    </tr>\n",
       "    <tr>\n",
       "      <th>25%</th>\n",
       "      <td>0.25</td>\n",
       "      <td>0.36</td>\n",
       "      <td>0.46</td>\n",
       "      <td>0.00</td>\n",
       "      <td>0.17</td>\n",
       "      <td>0.01</td>\n",
       "    </tr>\n",
       "    <tr>\n",
       "      <th>50%</th>\n",
       "      <td>0.39</td>\n",
       "      <td>0.51</td>\n",
       "      <td>0.61</td>\n",
       "      <td>0.00</td>\n",
       "      <td>0.50</td>\n",
       "      <td>0.03</td>\n",
       "    </tr>\n",
       "    <tr>\n",
       "      <th>75%</th>\n",
       "      <td>0.55</td>\n",
       "      <td>0.56</td>\n",
       "      <td>0.75</td>\n",
       "      <td>0.00</td>\n",
       "      <td>0.83</td>\n",
       "      <td>0.07</td>\n",
       "    </tr>\n",
       "    <tr>\n",
       "      <th>max</th>\n",
       "      <td>1.00</td>\n",
       "      <td>1.00</td>\n",
       "      <td>1.00</td>\n",
       "      <td>0.87</td>\n",
       "      <td>1.00</td>\n",
       "      <td>1.45</td>\n",
       "    </tr>\n",
       "  </tbody>\n",
       "</table>\n",
       "</div>"
      ],
      "text/plain": [
       "       Age at Injury  Average Weekly Wage  Birth Year  IME-4 Count  \\\n",
       "count      163767.00            163767.00   163767.00    163767.00   \n",
       "mean            0.40                 0.50        0.60         0.02   \n",
       "std             0.18                 0.17        0.17         0.05   \n",
       "min             0.00                -0.00        0.00         0.00   \n",
       "25%             0.25                 0.36        0.46         0.00   \n",
       "50%             0.39                 0.51        0.61         0.00   \n",
       "75%             0.55                 0.56        0.75         0.00   \n",
       "max             1.00                 1.00        1.00         0.87   \n",
       "\n",
       "       Number of Dependents  Days_between_Acc_Assembyl  \n",
       "count             163767.00                  163767.00  \n",
       "mean                   0.50                       0.08  \n",
       "std                    0.33                       0.16  \n",
       "min                    0.00                       0.00  \n",
       "25%                    0.17                       0.01  \n",
       "50%                    0.50                       0.03  \n",
       "75%                    0.83                       0.07  \n",
       "max                    1.00                       1.45  "
      ]
     },
     "execution_count": 8,
     "metadata": {},
     "output_type": "execute_result"
    }
   ],
   "source": [
    "X_val_num_scaled = scaler.transform(X_val_num)\n",
    "X_val_num_scaled = pd.DataFrame(X_val_num_scaled, columns = X_val_num.columns).set_index(X_val_encoded.index)\n",
    "X_val_num_scaled.describe().round(2)"
   ]
  },
  {
   "cell_type": "code",
   "execution_count": 9,
   "id": "15bb4781",
   "metadata": {},
   "outputs": [
    {
     "data": {
      "text/html": [
       "<div>\n",
       "<style scoped>\n",
       "    .dataframe tbody tr th:only-of-type {\n",
       "        vertical-align: middle;\n",
       "    }\n",
       "\n",
       "    .dataframe tbody tr th {\n",
       "        vertical-align: top;\n",
       "    }\n",
       "\n",
       "    .dataframe thead th {\n",
       "        text-align: right;\n",
       "    }\n",
       "</style>\n",
       "<table border=\"1\" class=\"dataframe\">\n",
       "  <thead>\n",
       "    <tr style=\"text-align: right;\">\n",
       "      <th></th>\n",
       "      <th>Age at Injury</th>\n",
       "      <th>Average Weekly Wage</th>\n",
       "      <th>Birth Year</th>\n",
       "      <th>IME-4 Count</th>\n",
       "      <th>Number of Dependents</th>\n",
       "      <th>Days_between_Acc_Assembyl</th>\n",
       "    </tr>\n",
       "  </thead>\n",
       "  <tbody>\n",
       "    <tr>\n",
       "      <th>count</th>\n",
       "      <td>387975.00</td>\n",
       "      <td>387975.00</td>\n",
       "      <td>387975.00</td>\n",
       "      <td>387975.00</td>\n",
       "      <td>387975.00</td>\n",
       "      <td>387975.00</td>\n",
       "    </tr>\n",
       "    <tr>\n",
       "      <th>mean</th>\n",
       "      <td>0.39</td>\n",
       "      <td>0.52</td>\n",
       "      <td>0.63</td>\n",
       "      <td>0.00</td>\n",
       "      <td>0.50</td>\n",
       "      <td>0.20</td>\n",
       "    </tr>\n",
       "    <tr>\n",
       "      <th>std</th>\n",
       "      <td>0.19</td>\n",
       "      <td>0.13</td>\n",
       "      <td>0.18</td>\n",
       "      <td>0.02</td>\n",
       "      <td>0.33</td>\n",
       "      <td>1.66</td>\n",
       "    </tr>\n",
       "    <tr>\n",
       "      <th>min</th>\n",
       "      <td>-0.16</td>\n",
       "      <td>0.33</td>\n",
       "      <td>-0.41</td>\n",
       "      <td>0.00</td>\n",
       "      <td>0.00</td>\n",
       "      <td>-0.95</td>\n",
       "    </tr>\n",
       "    <tr>\n",
       "      <th>25%</th>\n",
       "      <td>0.24</td>\n",
       "      <td>0.44</td>\n",
       "      <td>0.48</td>\n",
       "      <td>0.00</td>\n",
       "      <td>0.17</td>\n",
       "      <td>0.01</td>\n",
       "    </tr>\n",
       "    <tr>\n",
       "      <th>50%</th>\n",
       "      <td>0.37</td>\n",
       "      <td>0.53</td>\n",
       "      <td>0.65</td>\n",
       "      <td>0.00</td>\n",
       "      <td>0.50</td>\n",
       "      <td>0.03</td>\n",
       "    </tr>\n",
       "    <tr>\n",
       "      <th>75%</th>\n",
       "      <td>0.54</td>\n",
       "      <td>0.54</td>\n",
       "      <td>0.78</td>\n",
       "      <td>0.00</td>\n",
       "      <td>0.83</td>\n",
       "      <td>0.06</td>\n",
       "    </tr>\n",
       "    <tr>\n",
       "      <th>max</th>\n",
       "      <td>1.34</td>\n",
       "      <td>1.00</td>\n",
       "      <td>1.18</td>\n",
       "      <td>0.46</td>\n",
       "      <td>1.00</td>\n",
       "      <td>61.97</td>\n",
       "    </tr>\n",
       "  </tbody>\n",
       "</table>\n",
       "</div>"
      ],
      "text/plain": [
       "       Age at Injury  Average Weekly Wage  Birth Year  IME-4 Count  \\\n",
       "count      387975.00            387975.00   387975.00    387975.00   \n",
       "mean            0.39                 0.52        0.63         0.00   \n",
       "std             0.19                 0.13        0.18         0.02   \n",
       "min            -0.16                 0.33       -0.41         0.00   \n",
       "25%             0.24                 0.44        0.48         0.00   \n",
       "50%             0.37                 0.53        0.65         0.00   \n",
       "75%             0.54                 0.54        0.78         0.00   \n",
       "max             1.34                 1.00        1.18         0.46   \n",
       "\n",
       "       Number of Dependents  Days_between_Acc_Assembyl  \n",
       "count             387975.00                  387975.00  \n",
       "mean                   0.50                       0.20  \n",
       "std                    0.33                       1.66  \n",
       "min                    0.00                      -0.95  \n",
       "25%                    0.17                       0.01  \n",
       "50%                    0.50                       0.03  \n",
       "75%                    0.83                       0.06  \n",
       "max                    1.00                      61.97  "
      ]
     },
     "execution_count": 9,
     "metadata": {},
     "output_type": "execute_result"
    }
   ],
   "source": [
    "X_test_num_scaled = scaler.transform(X_test_num)\n",
    "X_test_num_scaled = pd.DataFrame(X_test_num_scaled, columns = X_test_num.columns).set_index(X_test_encoded.index)\n",
    "X_test_num_scaled.describe().round(2)"
   ]
  },
  {
   "cell_type": "markdown",
   "id": "d255cb94",
   "metadata": {},
   "source": [
    "#### 5.5.2 Standardization\n"
   ]
  },
  {
   "cell_type": "markdown",
   "id": "24e5c8b3",
   "metadata": {},
   "source": [
    "This type of scaling has not been used so far but may be used in the second submission."
   ]
  },
  {
   "cell_type": "code",
   "execution_count": 10,
   "id": "35743d3a",
   "metadata": {},
   "outputs": [],
   "source": [
    "# from sklearn.preprocessing import StandardScaler\n",
    "\n",
    "# std_scaler = StandardScaler().fit(X_train_num)\n",
    "# X_train_scaled_std= scaler.transform(X_train_num)\n",
    "# X_train_scaled_std = pd.DataFrame(X_train_scaled_std, columns = X_train_num.columns).set_index(X_train_encoded.index)\n",
    "\n",
    "# X_val_scaled_std = scaler.transform(X_val_num)\n",
    "# X_val_scaled_std = pd.DataFrame(X_val_scaled_std, columns = X_val_num.columns).set_index(X_val_encoded.index)\n"
   ]
  },
  {
   "cell_type": "markdown",
   "id": "ae1f0136",
   "metadata": {},
   "source": [
    "## 6. Feature Selection<a class=\"anchor\" id=\"feature-selection\"></a>\n",
    "[Back to ToC](#toc)<br>"
   ]
  },
  {
   "cell_type": "markdown",
   "id": "fb762498",
   "metadata": {},
   "source": [
    "### 6.1. Univariate Variables<a class=\"anchor\" id=\"univariate-variables\"></a>\n",
    "[Back to ToC](#toc)<br>\n",
    "\n",
    "We began the feature selection process simply by applying the univariate method, checking the variance of numerical variables to ensure that none exhibited zero variance (constant values)."
   ]
  },
  {
   "cell_type": "code",
   "execution_count": 11,
   "id": "1ad2a6c8",
   "metadata": {},
   "outputs": [
    {
     "data": {
      "text/plain": [
       "Age at Injury                0.032667\n",
       "Average Weekly Wage          0.028509\n",
       "Birth Year                   0.030400\n",
       "IME-4 Count                  0.002386\n",
       "Number of Dependents         0.111318\n",
       "Days_between_Acc_Assembyl    0.016096\n",
       "dtype: float64"
      ]
     },
     "execution_count": 11,
     "metadata": {},
     "output_type": "execute_result"
    }
   ],
   "source": [
    "X_train_num_scaled.var()"
   ]
  },
  {
   "cell_type": "markdown",
   "id": "b6c0df12",
   "metadata": {},
   "source": [
    "> As we expected, there are no univariate variables."
   ]
  },
  {
   "cell_type": "markdown",
   "id": "72643424",
   "metadata": {},
   "source": [
    "### 6.2. Spearman Correlation<a class=\"anchor\" id=\"spearman-correlation\"></a>\n",
    "[Back to ToC](#toc)<br>"
   ]
  },
  {
   "cell_type": "markdown",
   "id": "184eebf4",
   "metadata": {},
   "source": [
    "We decided to go with Spearman's correlation because it works well when the relationship between variables is monotonic but not necessarily linear. It is also robust to outliers and does not require a normal distribution. Additionally, Spearman is suitable for ordinal data and is less sensitive to extreme values or differences in scale between variables compared to other correlation measures."
   ]
  },
  {
   "cell_type": "code",
   "execution_count": 12,
   "id": "6eb82ce2",
   "metadata": {},
   "outputs": [],
   "source": [
    "def cor_heatmap(cor):\n",
    "    # Create a mask to hide the upper triangle of the matrix\n",
    "    mask = np.triu(np.ones_like(cor, dtype=bool))\n",
    "\n",
    "    annot = cor.copy()\n",
    "    annot = annot.applymap(lambda x: f\"{x:.2f}\")  # Formatting the correlation values\n",
    "\n",
    "    # Plot the heatmap\n",
    "    plt.figure(figsize=(10, 8))\n",
    "    heatmap = sns.heatmap(cor, \n",
    "                          mask=mask,              \n",
    "                          annot=annot,           \n",
    "                          fmt=\"\",               \n",
    "                          cmap=\"coolwarm\",  \n",
    "                          cbar_kws={'shrink': 0.8},\n",
    "                          vmin=-1, vmax=1, center=0, linewidths=0.5, square=True)\n",
    "\n",
    "    # Titles\n",
    "    plt.title('Correlation Heatmap', fontsize=14, fontweight='bold')\n",
    "    plt.xticks(rotation=45, ha='right')\n",
    "    plt.yticks(rotation=0)\n",
    "    plt.tight_layout()\n",
    "    plt.show()"
   ]
  },
  {
   "cell_type": "code",
   "execution_count": 13,
   "id": "762b88d6",
   "metadata": {},
   "outputs": [
    {
     "data": {
      "text/html": [
       "<div>\n",
       "<style scoped>\n",
       "    .dataframe tbody tr th:only-of-type {\n",
       "        vertical-align: middle;\n",
       "    }\n",
       "\n",
       "    .dataframe tbody tr th {\n",
       "        vertical-align: top;\n",
       "    }\n",
       "\n",
       "    .dataframe thead th {\n",
       "        text-align: right;\n",
       "    }\n",
       "</style>\n",
       "<table border=\"1\" class=\"dataframe\">\n",
       "  <thead>\n",
       "    <tr style=\"text-align: right;\">\n",
       "      <th></th>\n",
       "      <th>Age at Injury</th>\n",
       "      <th>Average Weekly Wage</th>\n",
       "      <th>Birth Year</th>\n",
       "      <th>IME-4 Count</th>\n",
       "      <th>Number of Dependents</th>\n",
       "      <th>Days_between_Acc_Assembyl</th>\n",
       "    </tr>\n",
       "  </thead>\n",
       "  <tbody>\n",
       "    <tr>\n",
       "      <th>Age at Injury</th>\n",
       "      <td>1.000000</td>\n",
       "      <td>0.074444</td>\n",
       "      <td>-0.997615</td>\n",
       "      <td>0.120329</td>\n",
       "      <td>0.000165</td>\n",
       "      <td>0.053233</td>\n",
       "    </tr>\n",
       "    <tr>\n",
       "      <th>Average Weekly Wage</th>\n",
       "      <td>0.074444</td>\n",
       "      <td>1.000000</td>\n",
       "      <td>-0.074436</td>\n",
       "      <td>-0.029864</td>\n",
       "      <td>-0.002239</td>\n",
       "      <td>0.034858</td>\n",
       "    </tr>\n",
       "    <tr>\n",
       "      <th>Birth Year</th>\n",
       "      <td>-0.997615</td>\n",
       "      <td>-0.074436</td>\n",
       "      <td>1.000000</td>\n",
       "      <td>-0.122388</td>\n",
       "      <td>-0.000207</td>\n",
       "      <td>-0.058413</td>\n",
       "    </tr>\n",
       "    <tr>\n",
       "      <th>IME-4 Count</th>\n",
       "      <td>0.120329</td>\n",
       "      <td>-0.029864</td>\n",
       "      <td>-0.122388</td>\n",
       "      <td>1.000000</td>\n",
       "      <td>0.001652</td>\n",
       "      <td>0.059041</td>\n",
       "    </tr>\n",
       "    <tr>\n",
       "      <th>Number of Dependents</th>\n",
       "      <td>0.000165</td>\n",
       "      <td>-0.002239</td>\n",
       "      <td>-0.000207</td>\n",
       "      <td>0.001652</td>\n",
       "      <td>1.000000</td>\n",
       "      <td>0.003315</td>\n",
       "    </tr>\n",
       "    <tr>\n",
       "      <th>Days_between_Acc_Assembyl</th>\n",
       "      <td>0.053233</td>\n",
       "      <td>0.034858</td>\n",
       "      <td>-0.058413</td>\n",
       "      <td>0.059041</td>\n",
       "      <td>0.003315</td>\n",
       "      <td>1.000000</td>\n",
       "    </tr>\n",
       "  </tbody>\n",
       "</table>\n",
       "</div>"
      ],
      "text/plain": [
       "                           Age at Injury  Average Weekly Wage  Birth Year  \\\n",
       "Age at Injury                   1.000000             0.074444   -0.997615   \n",
       "Average Weekly Wage             0.074444             1.000000   -0.074436   \n",
       "Birth Year                     -0.997615            -0.074436    1.000000   \n",
       "IME-4 Count                     0.120329            -0.029864   -0.122388   \n",
       "Number of Dependents            0.000165            -0.002239   -0.000207   \n",
       "Days_between_Acc_Assembyl       0.053233             0.034858   -0.058413   \n",
       "\n",
       "                           IME-4 Count  Number of Dependents  \\\n",
       "Age at Injury                 0.120329              0.000165   \n",
       "Average Weekly Wage          -0.029864             -0.002239   \n",
       "Birth Year                   -0.122388             -0.000207   \n",
       "IME-4 Count                   1.000000              0.001652   \n",
       "Number of Dependents          0.001652              1.000000   \n",
       "Days_between_Acc_Assembyl     0.059041              0.003315   \n",
       "\n",
       "                           Days_between_Acc_Assembyl  \n",
       "Age at Injury                               0.053233  \n",
       "Average Weekly Wage                         0.034858  \n",
       "Birth Year                                 -0.058413  \n",
       "IME-4 Count                                 0.059041  \n",
       "Number of Dependents                        0.003315  \n",
       "Days_between_Acc_Assembyl                   1.000000  "
      ]
     },
     "execution_count": 13,
     "metadata": {},
     "output_type": "execute_result"
    }
   ],
   "source": [
    "cor_spearman= X_train_num_scaled.corr(method ='spearman')\n",
    "cor_spearman"
   ]
  },
  {
   "cell_type": "code",
   "execution_count": 14,
   "id": "22327f7c",
   "metadata": {},
   "outputs": [
    {
     "name": "stderr",
     "output_type": "stream",
     "text": [
      "C:\\Users\\LENOVO\\AppData\\Local\\Temp\\ipykernel_1556\\2411821414.py:6: FutureWarning: DataFrame.applymap has been deprecated. Use DataFrame.map instead.\n",
      "  annot = annot.applymap(lambda x: f\"{x:.2f}\")  # Formatting the correlation values\n"
     ]
    },
    {
     "data": {
      "image/png": "[encoded data removed]",
      "text/plain": [
       "<Figure size 720x576 with 2 Axes>"
      ]
     },
     "metadata": {
      "needs_background": "light"
     },
     "output_type": "display_data"
    }
   ],
   "source": [
    "cor_heatmap(cor_spearman)"
   ]
  },
  {
   "cell_type": "markdown",
   "id": "73dbf7d6",
   "metadata": {},
   "source": [
    "> Using Pearson correlation, we can conclude that <code>Age at Injury</code> and <code>Birth Year</code> are perfectly negatively correlated. This makes sense, as a higher age at the time of injury corresponds to an earlier birth year, especially since most of the accidents occurred in recent years.    \n",
    "We need to explore other feature selection techniques to gain further insights and determine which variables should be retained."
   ]
  },
  {
   "cell_type": "markdown",
   "id": "7c8c213a",
   "metadata": {},
   "source": [
    "### 6.3. Chi-Square for Categorical Data<a class=\"anchor\" id=\"chi-square\"></a>\n",
    "[Back to ToC](#toc)<br>"
   ]
  },
  {
   "cell_type": "markdown",
   "id": "01d31df1",
   "metadata": {},
   "source": [
    "Concerning categorical variables, we applied the Chi-square test to assess the independence between each feature and the target class, aiming to identify statistically significant relationships. For that we considered significance levels of 5% and features with p-values above this threshold were removed. In these cases, the inability to reject the null hypothesis indicates a lack of statistical evidence supporting the feature's predictive value for the target class."
   ]
  },
  {
   "cell_type": "code",
   "execution_count": 15,
   "id": "a866ec01",
   "metadata": {},
   "outputs": [],
   "source": [
    "def TestIndependence(X, y, alpha=0.05):\n",
    "    chi_scores = []  # List to store p-values\n",
    "    results = []  # List to store the importance results\n",
    "    \n",
    "    for var in X.columns:\n",
    "        # Create the observed frequency table\n",
    "        dfObserved = pd.crosstab(y, X[var])\n",
    "        \n",
    "        # Perform the Chi-square test\n",
    "        chi2, p, dof, expected = stats.chi2_contingency(dfObserved.values)\n",
    "        \n",
    "        # Create the expected frequency table\n",
    "        dfExpected = pd.DataFrame(expected, columns=dfObserved.columns, index=dfObserved.index)\n",
    "        \n",
    "        # Check if the variable is important based on the p-value\n",
    "        if p < alpha:\n",
    "            result = f\"{var} is IMPORTANT for Prediction\"\n",
    "        else:\n",
    "            result = f\"{var} is NOT an important predictor. (Discard {var} from model)\"\n",
    "        \n",
    "        # Store the result\n",
    "        results.append(result)\n",
    "        \n",
    "        # Store the p-value\n",
    "        chi_scores.append(p)\n",
    "    \n",
    "    # Series with the p-values\n",
    "    p_values = pd.Series(chi_scores, index=X.columns)\n",
    "    for result in results:\n",
    "        print(result)\n",
    "    \n",
    "    return p_values"
   ]
  },
  {
   "cell_type": "code",
   "execution_count": 16,
   "id": "eb609ab7",
   "metadata": {},
   "outputs": [
    {
     "name": "stdout",
     "output_type": "stream",
     "text": [
      "Alternative Dispute Resolution is IMPORTANT for Prediction\n",
      "Attorney/Representative is IMPORTANT for Prediction\n",
      "C-2 Date is IMPORTANT for Prediction\n",
      "C-3 Date is IMPORTANT for Prediction\n",
      "COVID-19 Indicator is IMPORTANT for Prediction\n",
      "Gender is IMPORTANT for Prediction\n",
      "First Hearing Date is IMPORTANT for Prediction\n",
      "CarrierGroup_Self-insured Private Entity is IMPORTANT for Prediction\n",
      "CarrierGroup_Self-insured Public Entity is IMPORTANT for Prediction\n",
      "CarrierGroup_Special Funds is IMPORTANT for Prediction\n",
      "CarrierGroup_State Insurance Fund is IMPORTANT for Prediction\n",
      "Industry Code_encoded_5. PPD SCH LOSS is IMPORTANT for Prediction\n",
      "Industry Code_encoded_2. NON-COMP is IMPORTANT for Prediction\n",
      "Industry Code_encoded_3. MED ONLY is IMPORTANT for Prediction\n",
      "Industry Code_encoded_4. TEMPORARY is IMPORTANT for Prediction\n",
      "Industry Code_encoded_1. CANCELLED is IMPORTANT for Prediction\n",
      "Industry Code_encoded_8. DEATH is IMPORTANT for Prediction\n",
      "Industry Code_encoded_6. PPD NSL is IMPORTANT for Prediction\n",
      "Industry Code_encoded_7. PTD is IMPORTANT for Prediction\n",
      "Injury_Cause_Category_encoded_5. PPD SCH LOSS is IMPORTANT for Prediction\n",
      "Injury_Cause_Category_encoded_2. NON-COMP is IMPORTANT for Prediction\n",
      "Injury_Cause_Category_encoded_3. MED ONLY is IMPORTANT for Prediction\n",
      "Injury_Cause_Category_encoded_4. TEMPORARY is IMPORTANT for Prediction\n",
      "Injury_Cause_Category_encoded_1. CANCELLED is IMPORTANT for Prediction\n",
      "Injury_Cause_Category_encoded_8. DEATH is IMPORTANT for Prediction\n",
      "Injury_Cause_Category_encoded_6. PPD NSL is IMPORTANT for Prediction\n",
      "Injury_Cause_Category_encoded_7. PTD is IMPORTANT for Prediction\n",
      "Nature_Injury_Occupational is IMPORTANT for Prediction\n",
      "Nature_Injury_Specific is IMPORTANT for Prediction\n",
      "Nature_Injury_Unknown is IMPORTANT for Prediction\n",
      "Part_Body_Category_encoded_5. PPD SCH LOSS is IMPORTANT for Prediction\n",
      "Part_Body_Category_encoded_2. NON-COMP is IMPORTANT for Prediction\n",
      "Part_Body_Category_encoded_3. MED ONLY is IMPORTANT for Prediction\n",
      "Part_Body_Category_encoded_4. TEMPORARY is IMPORTANT for Prediction\n",
      "Part_Body_Category_encoded_1. CANCELLED is IMPORTANT for Prediction\n",
      "Part_Body_Category_encoded_8. DEATH is IMPORTANT for Prediction\n",
      "Part_Body_Category_encoded_6. PPD NSL is IMPORTANT for Prediction\n",
      "Part_Body_Category_encoded_7. PTD is IMPORTANT for Prediction\n"
     ]
    },
    {
     "data": {
      "image/png": "[encoded data removed]",
      "text/plain": [
       "<Figure size 720x432 with 1 Axes>"
      ]
     },
     "metadata": {
      "needs_background": "light"
     },
     "output_type": "display_data"
    }
   ],
   "source": [
    "p_values = TestIndependence(X_train_cat, y_train_encoded)\n",
    "\n",
    "p_values.sort_values(ascending=False, inplace=True) # Sort the p-values in descending order\n",
    "\n",
    "# Bar chart plot for the p-values\n",
    "plt.figure(figsize=(10, 6))\n",
    "p_values.plot.bar()\n",
    "plt.title('P-values for Chi-squared Test')\n",
    "plt.xlabel('Features')\n",
    "plt.ylabel('P-value')\n",
    "plt.show()"
   ]
  },
  {
   "cell_type": "markdown",
   "id": "e3782b9c",
   "metadata": {},
   "source": [
    "> According to chi-square, we should keep all the categorical variables."
   ]
  },
  {
   "cell_type": "markdown",
   "id": "7b12ffcb",
   "metadata": {},
   "source": [
    "### 6.4. RFE (with Logistic Regression)<a class=\"anchor\" id=\"rfe\"></a>\n",
    "[Back to ToC](#toc)<br>"
   ]
  },
  {
   "cell_type": "code",
   "execution_count": 17,
   "id": "d86b8f51",
   "metadata": {},
   "outputs": [
    {
     "name": "stdout",
     "output_type": "stream",
     "text": [
      "Optimum number of features: 1\n",
      "Score with 1 features: 0.637650\n"
     ]
    }
   ],
   "source": [
    "# Number of features to test\n",
    "nof_list=np.arange(1,7)            \n",
    "high_score=0\n",
    "#Variable to store the optimum features\n",
    "nof=0\n",
    "train_score_list =[] # List to store training scores\n",
    "val_score_list = [] # List to store validation scores\n",
    "\n",
    "for n in range(len(nof_list)):\n",
    "    # DELETE Define your logistic regression model with a different solver\n",
    "    #model_1 = LogisticRegression(solver='newton-cg', max_iter=1000) \n",
    "    model_1 = LogisticRegression(solver='liblinear', max_iter=1000) \n",
    "    \n",
    "    rfe = RFE(estimator = model_1,n_features_to_select = nof_list[n])\n",
    "    X_train_rfe = rfe.fit_transform(X_train_num_scaled,y_train_encoded)\n",
    "    X_val_rfe = rfe.transform(X_val_num_scaled)\n",
    "    model_1.fit(X_train_rfe,y_train_encoded) # Fit the model on the selected features\n",
    "    \n",
    "    #storing results on training data\n",
    "    train_score = model_1.score(X_train_rfe,y_train_encoded)\n",
    "    train_score_list.append(train_score)\n",
    "    \n",
    "    ####storing results on training data\n",
    "    val_score = model_1.score(X_val_rfe,y_val_encoded)\n",
    "    val_score_list.append(val_score)\n",
    "    \n",
    "    #check best score\n",
    "    if(val_score >= high_score):\n",
    "        high_score = val_score\n",
    "        nof = nof_list[n]\n",
    "print(\"Optimum number of features: %d\" %nof)\n",
    "print(\"Score with %d features: %f\" % (nof, high_score))\n"
   ]
  },
  {
   "cell_type": "code",
   "execution_count": 18,
   "id": "92b0e743",
   "metadata": {},
   "outputs": [
    {
     "data": {
      "image/png": "[encoded data removed]",
      "text/plain": [
       "<Figure size 720x432 with 1 Axes>"
      ]
     },
     "metadata": {
      "needs_background": "light"
     },
     "output_type": "display_data"
    }
   ],
   "source": [
    "# Plot the training and validation scores for different feature counts\n",
    "plt.figure(figsize=(10, 6))\n",
    "plt.plot(nof_list, train_score_list, label=\"Score on Training Set\", color='yellowgreen', marker='o')\n",
    "plt.plot(nof_list, val_score_list, label=\"Score on Validation Set\", color='dimgray', marker='x')\n",
    "plt.xlabel(\"Number of Features Selected\")\n",
    "plt.ylabel(\"Score\")\n",
    "plt.title(\"Model Performance vs Number of Features Selected\")\n",
    "plt.legend()\n",
    "plt.grid(True)\n",
    "plt.show()"
   ]
  },
  {
   "cell_type": "code",
   "execution_count": 19,
   "id": "6f546bb3",
   "metadata": {},
   "outputs": [
    {
     "name": "stdout",
     "output_type": "stream",
     "text": [
      "Selected Features: \n",
      " Age at Injury                False\n",
      "Average Weekly Wage          False\n",
      "Birth Year                   False\n",
      "IME-4 Count                   True\n",
      "Number of Dependents         False\n",
      "Days_between_Acc_Assembyl    False\n",
      "dtype: bool\n",
      "Feature Ranking: \n",
      " [3 5 2 1 6 4]\n"
     ]
    }
   ],
   "source": [
    "# Apply the model with the optimal number of features\n",
    "rfe_optimal = RFE(estimator=model_1, n_features_to_select=nof)\n",
    "X_train_optimal = rfe_optimal.fit_transform(X_train_num_scaled, y_train_encoded)\n",
    "X_val_optimal = rfe_optimal.transform(X_val_num_scaled)\n",
    "model_1.fit(X_train_optimal, y_train_encoded)\n",
    "\n",
    "# Get the selected features and their ranking\n",
    "selected_features = pd.Series(rfe_optimal.support_, index=X_train_num_scaled.columns)\n",
    "print(\"Selected Features: \\n\", selected_features)\n",
    "\n",
    "# Ranking of features\n",
    "print(\"Feature Ranking: \\n\", rfe_optimal.ranking_)"
   ]
  },
  {
   "cell_type": "markdown",
   "id": "88d93d49",
   "metadata": {},
   "source": [
    "According to this method, the only numerical variable to include should be <code>IME-4 Count</code>."
   ]
  },
  {
   "cell_type": "markdown",
   "id": "1b341663",
   "metadata": {},
   "source": [
    "### 6.5. Ridge Regression<a class=\"anchor\" id=\"ridge-regression\"></a>\n",
    "[Back to ToC](#toc)<br>"
   ]
  },
  {
   "cell_type": "markdown",
   "id": "a59d5adb",
   "metadata": {},
   "source": [
    "We then applied Ridge Regression (an embedded method) to further assist in the selection of numerical variables. Unlike LASSO, Ridge Regression does not set coefficients to zero, so we have to manually choose which coefficients are most relevant. "
   ]
  },
  {
   "cell_type": "code",
   "execution_count": 20,
   "id": "d83b8901",
   "metadata": {},
   "outputs": [],
   "source": [
    "def plot_importance(coef,name):\n",
    "    imp_coef = coef.sort_values() \n",
    "    plt.figure(figsize=(6,8))\n",
    "    imp_coef.plot(kind = \"barh\")\n",
    "    plt.title(\"Feature importance using \" + name + \" Model\")\n",
    "    plt.show()"
   ]
  },
  {
   "cell_type": "code",
   "execution_count": 21,
   "id": "f37c09ee",
   "metadata": {},
   "outputs": [
    {
     "data": {
      "image/png": "[encoded data removed]",
      "text/plain": [
       "<Figure size 432x576 with 1 Axes>"
      ]
     },
     "metadata": {
      "needs_background": "light"
     },
     "output_type": "display_data"
    }
   ],
   "source": [
    "reg = Ridge()\n",
    "reg.fit(X_train_num, y_train_encoded)\n",
    "\n",
    "# Extract the coefficients for each class\n",
    "coef = pd.Series(reg.coef_, index=X_train_num.columns) \n",
    "coef.sort_values(inplace=True)  # Sort coefficients for better visualization\n",
    "\n",
    "# Plot importance of features\n",
    "plot_importance(coef, 'Ridge')"
   ]
  },
  {
   "cell_type": "markdown",
   "id": "e06441c2",
   "metadata": {},
   "source": [
    "Based on this approach, the variable with the most significant coefficient is <code>IME-4 Count</code>."
   ]
  },
  {
   "cell_type": "markdown",
   "id": "e520b67e",
   "metadata": {},
   "source": [
    "### 6.6. Final Feature Selection<a class=\"anchor\" id=\"final-feature-selection\"></a>\n",
    "[Back to ToC](#toc)<br>"
   ]
  },
  {
   "cell_type": "markdown",
   "id": "91e9548d",
   "metadata": {},
   "source": [
    "For the final selection of features, we considered everything we have done so far, and based on that, we created the following tables.\n",
    "- Regarding the numerical variables, we decided to keep only the variable IME-4 Count.\n",
    "- For the categorical variables, we applied the Chi-squared test, which identified the relevant ones, so we decided to retain all of them."
   ]
  },
  {
   "cell_type": "markdown",
   "id": "5b5e637b",
   "metadata": {},
   "source": [
    "### Numerical Data\n",
    "\n",
    "| Predictor | Spearman | RFE LR | Ridge Regression | What to do? | \n",
    "| --- | --- | --- | --- |--- |\n",
    "| Age at Injury | Keep? | Discard | Discard | Discard |\n",
    "| Average Weekly Wage | Keep | Discard | Discard | Discard |\n",
    "| Birth Year | Keep?| Discard | Discard |  Discard |\n",
    "| IME-4 Count | Keep | Keep | Keep |   Include in the model |\n",
    "| Number of Dependents | Keep | Discard | Discard | Discard |  \n",
    "| Days_between_Acc_Assembyl | Keep | Discard | Discard | Discard |  \n",
    "\n",
    "<br>\n",
    "\n",
    "<hr>\n",
    "\n",
    "### Categorical Data\n",
    "\n",
    "| Predictor | Chi-Square |Predictor | Chi-Square |\n",
    "| --- | --- | ---| --- | \n",
    "|Alternative Dispute Resolution | Keep | Injury_Cause_Category_encoded_1. CANCELLED| Keep |\n",
    "|Attorney/Representative | Keep |Injury_Cause_Category_encoded_8. DEATH| Keep |\n",
    "|C-2 Date | Keep |Injury_Cause_Category_encoded_6. PPD NSL| Keep |\n",
    "|C-3 Date | Keep |Injury_Cause_Category_encoded_7. PTD| Keep |\n",
    "|COVID-19 Indicator | Keep | CarrierGroup_Self-insured Private Entity | Keep |\n",
    "|First Hearing Date| Keep | CarrierGroup_State Insurance Fund | Keep |\n",
    "|Gender | Keep | CarrierGroup_Self-insured Public Entity | Keep |\n",
    "|Industry Code_encoded_4. TEMPORARY | Keep |CarrierGroup_Special Funds  | Keep |\n",
    "|Industry Code_encoded_2. NON-COMP | Keep | Nature_Injury_Occupational | Keep |\n",
    "|Industry Code_encoded_5. PPD SCH LOSS | Keep | Nature_Injury_Specific | Keep |  \n",
    "|Industry Code_encoded_3. MED ONLY | Keep | Nature_Injury_Unknown | Keep |\n",
    "|Industry Code_encoded_6. PPD NSL | Keep | Part_Body_Category_encoded_5. PPD SCH LOSS | Keep |\n",
    "|Industry Code_encoded_1. CANCELLED | Keep |Part_Body_Category_encoded_2. NON-COMP | Keep |\n",
    "|Industry Code_encoded_8. DEATH | Keep |Part_Body_Category_encoded_3. MED ONLY | Keep |\n",
    "|Industry Code_encoded_7. PTD | Keep |Part_Body_Category_encoded_4. TEMPORARY | Keep |\n",
    "|Injury_Cause_Category_encoded_5. PPD SCH LOSS| Keep |Part_Body_Category_encoded_1. CANCELLED| Keep |\n",
    "|Injury_Cause_Category_encoded_2. NON-COMP | Keep |Part_Body_Category_encoded_8. DEATH | Keep |\n",
    "|Injury_Cause_Category_encoded_3. MED ONLY| Keep |Part_Body_Category_encoded_6. PPD NSL| Keep |\n",
    "|Injury_Cause_Category_encoded_4. TEMPORARY| Keep |Part_Body_Category_encoded_7. PTD| Keep |\n",
    "\n",
    "\n",
    "<hr>"
   ]
  },
  {
   "cell_type": "code",
   "execution_count": 22,
   "id": "38de1581",
   "metadata": {},
   "outputs": [],
   "source": [
    "X_train = pd.concat([X_train_num[['IME-4 Count']], X_train_cat], axis=1)\n",
    "X_val = pd.concat([X_val_num[['IME-4 Count']], X_val_cat], axis=1)\n",
    "X_test =pd.concat([X_test_num[['IME-4 Count']], X_test_cat], axis=1)"
   ]
  },
  {
   "cell_type": "markdown",
   "id": "3da6f414",
   "metadata": {},
   "source": []
  },
  {
   "cell_type": "markdown",
   "id": "6b2d6394",
   "metadata": {},
   "source": [
    "## 7. Model Building<a class=\"anchor\" id=\"model-building\"></a>\n",
    "[Back to ToC](#toc)<br>"
   ]
  },
  {
   "cell_type": "markdown",
   "id": "3c9596db",
   "metadata": {},
   "source": [
    "This is a classification problem, since the goal is to predict the categorical variable \"Claim Injury Type,\" which has discrete classes.\n",
    "\n",
    "In order to assess our model's performance we calculated various metrics:\n",
    "\n",
    "- **Accuracy**: Based on the percentage of correct predictions, calculates an overall measure of the model's performance. In cases of class imbalance, accuracy alone can be misleading.  \n",
    "\n",
    "- **Precision**: Measures the proportion of true positive predictions out of all positive predictions, allowing for a focused evaluation of the model's ability to avoid false positives. This metric is particularly relevant when false positives have a higher cost. \n",
    "\n",
    "- **Recall**: A percentage of actual positives identified correctly was used to assess the model's sensitivity. This metric ensures that true instances are not overlooked, making it useful in scenarios where false negatives are costly. \n",
    "\n",
    "- **F1 Score**: As the most relevant metric, it provides both precision and recall as a single score. In the context of potential class imbalances, this approach addresses false positives and false negatives, offering a more reliable insight into model performance."
   ]
  },
  {
   "cell_type": "markdown",
   "id": "8feb406c",
   "metadata": {},
   "source": [
    "### 7.1. Model Training<a class=\"anchor\" id=\"model-training\"></a>\n",
    "[Back to ToC](#toc)<br>"
   ]
  },
  {
   "cell_type": "code",
   "execution_count": 45,
   "id": "ac501716",
   "metadata": {},
   "outputs": [
    {
     "data": {
      "text/plain": [
       "'The next 3 cells are commented out for performance reasons, as they take too long to run\\n   Results available in Handout PDF delivery'"
      ]
     },
     "execution_count": 45,
     "metadata": {},
     "output_type": "execute_result"
    }
   ],
   "source": [
    "'''The next 3 cells are commented out for performance reasons, as they take too long to run\n",
    "   Results available in Handout PDF delivery'''"
   ]
  },
  {
   "cell_type": "code",
   "execution_count": 42,
   "id": "e4bf67d8",
   "metadata": {},
   "outputs": [
    {
     "data": {
      "text/plain": [
       "'\\n# Define K-Fold cross-validation\\nkfold = KFold(n_splits=5, shuffle=True, random_state=1)\\n\\n# Define Repeated K-Fold cross-validation\\nrepeated_kfold = RepeatedKFold(n_splits=5, n_repeats=2, random_state=1)\\n'"
      ]
     },
     "execution_count": 42,
     "metadata": {},
     "output_type": "execute_result"
    }
   ],
   "source": [
    "'''\n",
    "# Define K-Fold cross-validation\n",
    "kfold = KFold(n_splits=5, shuffle=True, random_state=1)\n",
    "\n",
    "# Define Repeated K-Fold cross-validation\n",
    "repeated_kfold = RepeatedKFold(n_splits=5, n_repeats=2, random_state=1)\n",
    "'''"
   ]
  },
  {
   "cell_type": "code",
   "execution_count": 43,
   "id": "c1b9a96b",
   "metadata": {},
   "outputs": [
    {
     "data": {
      "text/plain": [
       "'\\n# Define models with adjusted parameters for quicker convergence\\nmodels = {\\n    \"MLPClassifier\": MLPClassifier(max_iter=200),\\n    \"RandomForest\": RandomForestClassifier(),\\n    \"LogisticRegression\": LogisticRegression(max_iter=200),\\n    \"KNeighborsClassifier\": KNeighborsClassifier(),\\n    \"DecisionTree\": DecisionTreeClassifier(),\\n    \"GaussianNB\": GaussianNB(),\\n    \"RidgeClassifier\": RidgeClassifier()\\n}\\n\\n# Scoring setup for all metrics\\nscoring = {\\n    \\'accuracy\\': make_scorer(accuracy_score),\\n    \\'f1_weighted\\': make_scorer(f1_score, average=\\'weighted\\'),\\n    \\'recall_weighted\\': make_scorer(recall_score, average=\\'weighted\\'),\\n    \\'precision_weighted\\': make_scorer(precision_score, average=\\'weighted\\')\\n}\\n'"
      ]
     },
     "execution_count": 43,
     "metadata": {},
     "output_type": "execute_result"
    }
   ],
   "source": [
    "'''\n",
    "# Define models with adjusted parameters for quicker convergence\n",
    "models = {\n",
    "    \"MLPClassifier\": MLPClassifier(max_iter=200),\n",
    "    \"RandomForest\": RandomForestClassifier(),\n",
    "    \"LogisticRegression\": LogisticRegression(max_iter=200),\n",
    "    \"KNeighborsClassifier\": KNeighborsClassifier(),\n",
    "    \"DecisionTree\": DecisionTreeClassifier(),\n",
    "    \"GaussianNB\": GaussianNB(),\n",
    "    \"RidgeClassifier\": RidgeClassifier()\n",
    "}\n",
    "\n",
    "# Scoring setup for all metrics\n",
    "scoring = {\n",
    "    'accuracy': make_scorer(accuracy_score),\n",
    "    'f1_weighted': make_scorer(f1_score, average='weighted'),\n",
    "    'recall_weighted': make_scorer(recall_score, average='weighted'),\n",
    "    'precision_weighted': make_scorer(precision_score, average='weighted')\n",
    "}\n",
    "'''"
   ]
  },
  {
   "cell_type": "code",
   "execution_count": 44,
   "id": "cd323515",
   "metadata": {},
   "outputs": [
    {
     "data": {
      "text/plain": [
       "'\\ndef evaluate_model(model, X_train, y_train, kfold, repeated_kfold):\\n    # Ensure y_train is a 1D array\\n        \\n    print(f\"\\nModel: {model.__class__.__name__}\")\\n    \\n    # K-Fold cross-validation with multiple scoring metrics\\n    kfold_results = cross_validate(model, X_train, y_train, cv=kfold, scoring=scoring, n_jobs=-1)\\n    print(f\"K-Fold Mean Accuracy: {kfold_results[\\'test_accuracy\\'].mean():.4f} (+/- {kfold_results[\\'test_accuracy\\'].std():.4f})\")\\n    print(f\"K-Fold Mean F1 Score (weighted): {kfold_results[\\'test_f1_weighted\\'].mean():.4f} (+/- {kfold_results[\\'test_f1_weighted\\'].std():.4f})\")\\n    print(f\"K-Fold Mean Recall (weighted): {kfold_results[\\'test_recall_weighted\\'].mean():.4f} (+/- {kfold_results[\\'test_recall_weighted\\'].std():.4f})\")\\n    print(f\"K-Fold Mean Precision (weighted): {kfold_results[\\'test_precision_weighted\\'].mean():.4f} (+/- {kfold_results[\\'test_precision_weighted\\'].std():.4f})\")\\n    \\n    # Repeated K-Fold cross-validation with multiple scoring metrics\\n    repeated_kfold_results = cross_validate(model, X_train, y_train, cv=repeated_kfold, scoring=scoring, n_jobs=-1)\\n    print(f\"Repeated K-Fold Mean Accuracy: {repeated_kfold_results[\\'test_accuracy\\'].mean():.4f} (+/- {repeated_kfold_results[\\'test_accuracy\\'].std():.4f})\")\\n    print(f\"Repeated K-Fold Mean F1 Score (weighted): {repeated_kfold_results[\\'test_f1_weighted\\'].mean():.4f} (+/- {repeated_kfold_results[\\'test_f1_weighted\\'].std():.4f})\")\\n    print(f\"Repeated K-Fold Mean Recall (weighted): {repeated_kfold_results[\\'test_recall_weighted\\'].mean():.4f} (+/- {repeated_kfold_results[\\'test_recall_weighted\\'].std():.4f})\")\\n    print(f\"Repeated K-Fold Mean Precision (weighted): {repeated_kfold_results[\\'test_precision_weighted\\'].mean():.4f} (+/- {repeated_kfold_results[\\'test_precision_weighted\\'].std():.4f})\")\\n    print(\"\")\\n\\n# Loop over each model and evaluate\\nfor model_name, model in models.items():\\n    evaluate_model(model, X_train, y_train, kfold, repeated_kfold)\\n'"
      ]
     },
     "execution_count": 44,
     "metadata": {},
     "output_type": "execute_result"
    }
   ],
   "source": [
    "'''\n",
    "def evaluate_model(model, X_train, y_train, kfold, repeated_kfold):\n",
    "    # Ensure y_train is a 1D array\n",
    "        \n",
    "    print(f\"\\nModel: {model.__class__.__name__}\")\n",
    "    \n",
    "    # K-Fold cross-validation with multiple scoring metrics\n",
    "    kfold_results = cross_validate(model, X_train, y_train, cv=kfold, scoring=scoring, n_jobs=-1)\n",
    "    print(f\"K-Fold Mean Accuracy: {kfold_results['test_accuracy'].mean():.4f} (+/- {kfold_results['test_accuracy'].std():.4f})\")\n",
    "    print(f\"K-Fold Mean F1 Score (weighted): {kfold_results['test_f1_weighted'].mean():.4f} (+/- {kfold_results['test_f1_weighted'].std():.4f})\")\n",
    "    print(f\"K-Fold Mean Recall (weighted): {kfold_results['test_recall_weighted'].mean():.4f} (+/- {kfold_results['test_recall_weighted'].std():.4f})\")\n",
    "    print(f\"K-Fold Mean Precision (weighted): {kfold_results['test_precision_weighted'].mean():.4f} (+/- {kfold_results['test_precision_weighted'].std():.4f})\")\n",
    "    \n",
    "    # Repeated K-Fold cross-validation with multiple scoring metrics\n",
    "    repeated_kfold_results = cross_validate(model, X_train, y_train, cv=repeated_kfold, scoring=scoring, n_jobs=-1)\n",
    "    print(f\"Repeated K-Fold Mean Accuracy: {repeated_kfold_results['test_accuracy'].mean():.4f} (+/- {repeated_kfold_results['test_accuracy'].std():.4f})\")\n",
    "    print(f\"Repeated K-Fold Mean F1 Score (weighted): {repeated_kfold_results['test_f1_weighted'].mean():.4f} (+/- {repeated_kfold_results['test_f1_weighted'].std():.4f})\")\n",
    "    print(f\"Repeated K-Fold Mean Recall (weighted): {repeated_kfold_results['test_recall_weighted'].mean():.4f} (+/- {repeated_kfold_results['test_recall_weighted'].std():.4f})\")\n",
    "    print(f\"Repeated K-Fold Mean Precision (weighted): {repeated_kfold_results['test_precision_weighted'].mean():.4f} (+/- {repeated_kfold_results['test_precision_weighted'].std():.4f})\")\n",
    "    print(\"\")\n",
    "\n",
    "# Loop over each model and evaluate\n",
    "for model_name, model in models.items():\n",
    "    evaluate_model(model, X_train, y_train, kfold, repeated_kfold)\n",
    "'''"
   ]
  },
  {
   "cell_type": "code",
   "execution_count": 28,
   "id": "bb21c26b",
   "metadata": {},
   "outputs": [
    {
     "name": "stderr",
     "output_type": "stream",
     "text": [
      "C:\\Users\\LENOVO\\anaconda3\\lib\\site-packages\\sklearn\\neural_network\\_multilayer_perceptron.py:1105: DataConversionWarning: A column-vector y was passed when a 1d array was expected. Please change the shape of y to (n_samples, ), for example using ravel().\n",
      "  y = column_or_1d(y, warn=True)\n"
     ]
    },
    {
     "name": "stdout",
     "output_type": "stream",
     "text": [
      "Training Metrics:\n",
      "Accuracy: 0.681370776373825\n"
     ]
    },
    {
     "name": "stderr",
     "output_type": "stream",
     "text": [
      "C:\\Users\\LENOVO\\anaconda3\\lib\\site-packages\\sklearn\\metrics\\_classification.py:1531: UndefinedMetricWarning: Precision is ill-defined and being set to 0.0 in labels with no predicted samples. Use `zero_division` parameter to control this behavior.\n",
      "  _warn_prf(average, modifier, f\"{metric.capitalize()} is\", len(result))\n"
     ]
    },
    {
     "name": "stdout",
     "output_type": "stream",
     "text": [
      "Precision: 0.6364936711271524\n",
      "Recall: 0.681370776373825\n",
      "F1 Score: 0.6346760072378097\n"
     ]
    },
    {
     "name": "stderr",
     "output_type": "stream",
     "text": [
      "C:\\Users\\LENOVO\\anaconda3\\lib\\site-packages\\sklearn\\metrics\\_classification.py:1531: UndefinedMetricWarning: Precision is ill-defined and being set to 0.0 in labels with no predicted samples. Use `zero_division` parameter to control this behavior.\n",
      "  _warn_prf(average, modifier, f\"{metric.capitalize()} is\", len(result))\n",
      "C:\\Users\\LENOVO\\anaconda3\\lib\\site-packages\\sklearn\\metrics\\_classification.py:1531: UndefinedMetricWarning: Precision is ill-defined and being set to 0.0 in labels with no predicted samples. Use `zero_division` parameter to control this behavior.\n",
      "  _warn_prf(average, modifier, f\"{metric.capitalize()} is\", len(result))\n"
     ]
    },
    {
     "name": "stdout",
     "output_type": "stream",
     "text": [
      "Classification Report:\n",
      "                  precision    recall  f1-score   support\n",
      "\n",
      "   1. CANCELLED       0.74      0.42      0.53      7356\n",
      "    2. NON-COMP       0.73      0.94      0.82    197758\n",
      "    3. MED ONLY       0.39      0.05      0.09     45781\n",
      "   4. TEMPORARY       0.60      0.54      0.57     95505\n",
      "5. PPD SCH LOSS       0.56      0.51      0.53     29417\n",
      "     6. PPD NSL       0.00      0.00      0.00      2716\n",
      "         7. PTD       1.00      0.02      0.04        55\n",
      "       8. DEATH       0.54      0.08      0.13       263\n",
      "\n",
      "       accuracy                           0.68    378851\n",
      "      macro avg       0.57      0.32      0.34    378851\n",
      "   weighted avg       0.64      0.68      0.63    378851\n",
      "\n"
     ]
    },
    {
     "name": "stderr",
     "output_type": "stream",
     "text": [
      "C:\\Users\\LENOVO\\anaconda3\\lib\\site-packages\\sklearn\\metrics\\_classification.py:1531: UndefinedMetricWarning: Precision is ill-defined and being set to 0.0 in labels with no predicted samples. Use `zero_division` parameter to control this behavior.\n",
      "  _warn_prf(average, modifier, f\"{metric.capitalize()} is\", len(result))\n"
     ]
    }
   ],
   "source": [
    "# Initialize the MLPClassifier\n",
    "mlp_model = MLPClassifier(random_state=42, max_iter=300)\n",
    "\n",
    "# Train the model on the training data\n",
    "mlp_model.fit(X_train, y_train)\n",
    "\n",
    "# Evaluate the model on the training data\n",
    "y_train_pred = mlp_model.predict(X_train)\n",
    "\n",
    "print(\"Training Metrics:\")\n",
    "print(\"Accuracy:\", accuracy_score(y_train, y_train_pred))\n",
    "print(\"Precision:\", precision_score(y_train, y_train_pred, average='weighted'))\n",
    "print(\"Recall:\", recall_score(y_train, y_train_pred, average='weighted'))\n",
    "print(\"F1 Score:\", f1_score(y_train, y_train_pred, average='weighted'))\n",
    "print(\"Classification Report:\\n\", classification_report(y_train, y_train_pred))\n"
   ]
  },
  {
   "cell_type": "markdown",
   "id": "6ebd6e3e",
   "metadata": {},
   "source": [
    "### 7.2. Model Cross-Validation<a class=\"anchor\" id=\"model-validation\"></a>\n",
    "[Back to ToC](#toc)<br>"
   ]
  },
  {
   "cell_type": "code",
   "execution_count": 29,
   "id": "65449c09",
   "metadata": {},
   "outputs": [],
   "source": [
    "# Validate the model on the validation data\n",
    "y_val_pred = mlp_model.predict(X_val)"
   ]
  },
  {
   "cell_type": "markdown",
   "id": "c416ff9d",
   "metadata": {},
   "source": [
    "### 7.3. Model Evaluation<a class=\"anchor\" id=\"model-evaluation\"></a>\n",
    "[Back to ToC](#toc)<br>"
   ]
  },
  {
   "cell_type": "code",
   "execution_count": 30,
   "id": "5cce5894",
   "metadata": {},
   "outputs": [
    {
     "name": "stdout",
     "output_type": "stream",
     "text": [
      "Validation Metrics:\n",
      "Accuracy: 0.680943047134038\n"
     ]
    },
    {
     "name": "stderr",
     "output_type": "stream",
     "text": [
      "C:\\Users\\LENOVO\\anaconda3\\lib\\site-packages\\sklearn\\metrics\\_classification.py:1531: UndefinedMetricWarning: Precision is ill-defined and being set to 0.0 in labels with no predicted samples. Use `zero_division` parameter to control this behavior.\n",
      "  _warn_prf(average, modifier, f\"{metric.capitalize()} is\", len(result))\n"
     ]
    },
    {
     "name": "stdout",
     "output_type": "stream",
     "text": [
      "Precision: 0.6361872918626851\n",
      "Recall: 0.680943047134038\n",
      "F1 Score: 0.6344069289885944\n"
     ]
    },
    {
     "name": "stderr",
     "output_type": "stream",
     "text": [
      "C:\\Users\\LENOVO\\anaconda3\\lib\\site-packages\\sklearn\\metrics\\_classification.py:1531: UndefinedMetricWarning: Precision is ill-defined and being set to 0.0 in labels with no predicted samples. Use `zero_division` parameter to control this behavior.\n",
      "  _warn_prf(average, modifier, f\"{metric.capitalize()} is\", len(result))\n",
      "C:\\Users\\LENOVO\\anaconda3\\lib\\site-packages\\sklearn\\metrics\\_classification.py:1531: UndefinedMetricWarning: Precision is ill-defined and being set to 0.0 in labels with no predicted samples. Use `zero_division` parameter to control this behavior.\n",
      "  _warn_prf(average, modifier, f\"{metric.capitalize()} is\", len(result))\n"
     ]
    },
    {
     "name": "stdout",
     "output_type": "stream",
     "text": [
      "Classification Report:\n",
      "                  precision    recall  f1-score   support\n",
      "\n",
      "   1. CANCELLED       0.73      0.42      0.53      3295\n",
      "    2. NON-COMP       0.73      0.94      0.82     85596\n",
      "    3. MED ONLY       0.39      0.05      0.09     19796\n",
      "   4. TEMPORARY       0.60      0.54      0.57     41081\n",
      "5. PPD SCH LOSS       0.55      0.50      0.53     12682\n",
      "     6. PPD NSL       0.00      0.00      0.00      1167\n",
      "         7. PTD       0.00      0.00      0.00        24\n",
      "       8. DEATH       0.46      0.05      0.09       126\n",
      "\n",
      "       accuracy                           0.68    163767\n",
      "      macro avg       0.43      0.31      0.33    163767\n",
      "   weighted avg       0.64      0.68      0.63    163767\n",
      "\n"
     ]
    },
    {
     "name": "stderr",
     "output_type": "stream",
     "text": [
      "C:\\Users\\LENOVO\\anaconda3\\lib\\site-packages\\sklearn\\metrics\\_classification.py:1531: UndefinedMetricWarning: Precision is ill-defined and being set to 0.0 in labels with no predicted samples. Use `zero_division` parameter to control this behavior.\n",
      "  _warn_prf(average, modifier, f\"{metric.capitalize()} is\", len(result))\n"
     ]
    }
   ],
   "source": [
    "# Evaluate the model using various metrics on validation data\n",
    "print(\"Validation Metrics:\")\n",
    "print(\"Accuracy:\", accuracy_score(y_val, y_val_pred))\n",
    "print(\"Precision:\", precision_score(y_val, y_val_pred, average='weighted'))\n",
    "print(\"Recall:\", recall_score(y_val, y_val_pred, average='weighted'))\n",
    "print(\"F1 Score:\", f1_score(y_val, y_val_pred, average='weighted'))\n",
    "print(\"Classification Report:\\n\", classification_report(y_val, y_val_pred))"
   ]
  },
  {
   "cell_type": "markdown",
   "id": "fb6875cb",
   "metadata": {},
   "source": [
    "## 8. Prediction on Test Set<a class=\"anchor\" id=\"prediction-on-test-set\"></a>\n",
    "[Back to ToC](#toc)<br>"
   ]
  },
  {
   "cell_type": "code",
   "execution_count": 31,
   "id": "a9add012",
   "metadata": {},
   "outputs": [
    {
     "name": "stderr",
     "output_type": "stream",
     "text": [
      "C:\\Users\\LENOVO\\anaconda3\\lib\\site-packages\\sklearn\\base.py:493: UserWarning: X does not have valid feature names, but MLPClassifier was fitted with feature names\n",
      "  warnings.warn(\n"
     ]
    }
   ],
   "source": [
    "imputer = SimpleImputer(strategy='mean')\n",
    "X_test_imputed = imputer.fit_transform(X_test)  # Assume X_test is the data for which you want predictions\n",
    "\n",
    "# Generate predictions\n",
    "y_test_pred = mlp_model.predict(X_test_imputed)\n"
   ]
  },
  {
   "cell_type": "code",
   "execution_count": 32,
   "id": "08f83b89",
   "metadata": {},
   "outputs": [
    {
     "name": "stdout",
     "output_type": "stream",
     "text": [
      "Predicted Class Distribution:\n",
      "Predicted Label\n",
      "2. NON-COMP        0.801851\n",
      "4. TEMPORARY       0.141522\n",
      "5. PPD SCH LOSS    0.033953\n",
      "1. CANCELLED       0.012230\n",
      "3. MED ONLY        0.010323\n",
      "8. DEATH           0.000121\n",
      "Name: proportion, dtype: float64\n"
     ]
    }
   ],
   "source": [
    "# Analyze the distribution of predicted classes\n",
    "predictions_df = pd.DataFrame(y_test_pred, columns=[\"Predicted Label\"])\n",
    "print(\"Predicted Class Distribution:\")\n",
    "print(predictions_df[\"Predicted Label\"].value_counts(normalize=True))\n"
   ]
  },
  {
   "cell_type": "markdown",
   "id": "1c428f26",
   "metadata": {},
   "source": [
    "### 8.1. Export Test Results<a class=\"anchor\" id=\"esxport-test-results\"></a>\n",
    "[Back to ToC](#toc)<br>"
   ]
  },
  {
   "cell_type": "code",
   "execution_count": 36,
   "id": "b91750f7",
   "metadata": {},
   "outputs": [],
   "source": [
    "X_test_v2 = pd.read_csv('../project_data/X_test_encoded.csv')"
   ]
  },
  {
   "cell_type": "code",
   "execution_count": 37,
   "id": "98372824",
   "metadata": {},
   "outputs": [],
   "source": [
    "predictions_df = X_test_v2[['Claim Identifier']].copy()\n",
    "predictions_df['Claim Injury'] = y_test_pred"
   ]
  },
  {
   "cell_type": "code",
   "execution_count": 38,
   "id": "48f63c4d",
   "metadata": {},
   "outputs": [
    {
     "data": {
      "text/html": [
       "<div>\n",
       "<style scoped>\n",
       "    .dataframe tbody tr th:only-of-type {\n",
       "        vertical-align: middle;\n",
       "    }\n",
       "\n",
       "    .dataframe tbody tr th {\n",
       "        vertical-align: top;\n",
       "    }\n",
       "\n",
       "    .dataframe thead th {\n",
       "        text-align: right;\n",
       "    }\n",
       "</style>\n",
       "<table border=\"1\" class=\"dataframe\">\n",
       "  <thead>\n",
       "    <tr style=\"text-align: right;\">\n",
       "      <th></th>\n",
       "      <th>Claim Identifier</th>\n",
       "      <th>Claim Injury</th>\n",
       "    </tr>\n",
       "  </thead>\n",
       "  <tbody>\n",
       "    <tr>\n",
       "      <th>0</th>\n",
       "      <td>6165911</td>\n",
       "      <td>2. NON-COMP</td>\n",
       "    </tr>\n",
       "    <tr>\n",
       "      <th>1</th>\n",
       "      <td>6166141</td>\n",
       "      <td>2. NON-COMP</td>\n",
       "    </tr>\n",
       "    <tr>\n",
       "      <th>2</th>\n",
       "      <td>6165907</td>\n",
       "      <td>2. NON-COMP</td>\n",
       "    </tr>\n",
       "    <tr>\n",
       "      <th>3</th>\n",
       "      <td>6166047</td>\n",
       "      <td>2. NON-COMP</td>\n",
       "    </tr>\n",
       "    <tr>\n",
       "      <th>4</th>\n",
       "      <td>6166102</td>\n",
       "      <td>2. NON-COMP</td>\n",
       "    </tr>\n",
       "    <tr>\n",
       "      <th>...</th>\n",
       "      <td>...</td>\n",
       "      <td>...</td>\n",
       "    </tr>\n",
       "    <tr>\n",
       "      <th>387970</th>\n",
       "      <td>6553137</td>\n",
       "      <td>1. CANCELLED</td>\n",
       "    </tr>\n",
       "    <tr>\n",
       "      <th>387971</th>\n",
       "      <td>6553119</td>\n",
       "      <td>2. NON-COMP</td>\n",
       "    </tr>\n",
       "    <tr>\n",
       "      <th>387972</th>\n",
       "      <td>6553542</td>\n",
       "      <td>1. CANCELLED</td>\n",
       "    </tr>\n",
       "    <tr>\n",
       "      <th>387973</th>\n",
       "      <td>6553455</td>\n",
       "      <td>1. CANCELLED</td>\n",
       "    </tr>\n",
       "    <tr>\n",
       "      <th>387974</th>\n",
       "      <td>6553594</td>\n",
       "      <td>2. NON-COMP</td>\n",
       "    </tr>\n",
       "  </tbody>\n",
       "</table>\n",
       "<p>387975 rows × 2 columns</p>\n",
       "</div>"
      ],
      "text/plain": [
       "        Claim Identifier  Claim Injury\n",
       "0                6165911   2. NON-COMP\n",
       "1                6166141   2. NON-COMP\n",
       "2                6165907   2. NON-COMP\n",
       "3                6166047   2. NON-COMP\n",
       "4                6166102   2. NON-COMP\n",
       "...                  ...           ...\n",
       "387970           6553137  1. CANCELLED\n",
       "387971           6553119   2. NON-COMP\n",
       "387972           6553542  1. CANCELLED\n",
       "387973           6553455  1. CANCELLED\n",
       "387974           6553594   2. NON-COMP\n",
       "\n",
       "[387975 rows x 2 columns]"
      ]
     },
     "execution_count": 38,
     "metadata": {},
     "output_type": "execute_result"
    }
   ],
   "source": [
    "predictions_df"
   ]
  },
  {
   "cell_type": "code",
   "execution_count": 39,
   "id": "ad793881",
   "metadata": {},
   "outputs": [],
   "source": [
    "predictions_df.to_csv(\"predictions.csv\", index=False)"
   ]
  },
  {
   "cell_type": "code",
   "execution_count": null,
   "id": "2254fc6e",
   "metadata": {},
   "outputs": [],
   "source": []
  }
 ],
 "metadata": {
  "kernelspec": {
   "display_name": "Python 3 (ipykernel)",
   "language": "python",
   "name": "python3"
  },
  "language_info": {
   "codemirror_mode": {
    "name": "ipython",
    "version": 3
   },
   "file_extension": ".py",
   "mimetype": "text/x-python",
   "name": "python",
   "nbconvert_exporter": "python",
   "pygments_lexer": "ipython3",
   "version": "3.9.12"
  }
 },
 "nbformat": 4,
 "nbformat_minor": 5
}

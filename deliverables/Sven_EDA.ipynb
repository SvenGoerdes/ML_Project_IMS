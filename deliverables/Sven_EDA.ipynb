{
 "cells": [
  {
   "cell_type": "markdown",
   "metadata": {},
   "source": [
    "# **<h3 align=\"center\">Machine Learning Project</h3>**\n",
    "\n",
    "#### **<h3 align=\"center\">Exploratory Data Analysis for subset of variables</h3>**"
   ]
  },
  {
   "cell_type": "code",
   "execution_count": 1,
   "metadata": {},
   "outputs": [],
   "source": [
    "# import neccessary libraries\n",
    "import pandas as pd"
   ]
  },
  {
   "cell_type": "markdown",
   "metadata": {},
   "source": [
    "variables to analyze:\n",
    "* WCIO Cause of Inj Code, WCIO Cause of Inj Desc..., WCIO Nature of Inj Code, WCIO...Desc...,WCB decis"
   ]
  },
  {
   "cell_type": "code",
   "execution_count": 2,
   "metadata": {},
   "outputs": [
    {
     "name": "stderr",
     "output_type": "stream",
     "text": [
      "/var/folders/nj/p20z0h9x3ssf6ll0_cdhh2yc0000gn/T/ipykernel_62710/104833552.py:2: DtypeWarning: Columns (29) have mixed types. Specify dtype option on import or set low_memory=False.\n",
      "  train = pd.read_csv('../project_data/train_data.csv')\n"
     ]
    }
   ],
   "source": [
    "# read in the data\n",
    "train = pd.read_csv('../project_data/train_data.csv')"
   ]
  },
  {
   "cell_type": "code",
   "execution_count": 3,
   "metadata": {},
   "outputs": [
    {
     "name": "stdout",
     "output_type": "stream",
     "text": [
      "train.shape = (593471, 33)\n"
     ]
    }
   ],
   "source": [
    "print(f'{train.shape = }')"
   ]
  },
  {
   "cell_type": "code",
   "execution_count": 4,
   "metadata": {},
   "outputs": [
    {
     "data": {
      "text/html": [
       "<div>\n",
       "<style scoped>\n",
       "    .dataframe tbody tr th:only-of-type {\n",
       "        vertical-align: middle;\n",
       "    }\n",
       "\n",
       "    .dataframe tbody tr th {\n",
       "        vertical-align: top;\n",
       "    }\n",
       "\n",
       "    .dataframe thead th {\n",
       "        text-align: right;\n",
       "    }\n",
       "</style>\n",
       "<table border=\"1\" class=\"dataframe\">\n",
       "  <thead>\n",
       "    <tr style=\"text-align: right;\">\n",
       "      <th></th>\n",
       "      <th>0</th>\n",
       "      <th>1</th>\n",
       "    </tr>\n",
       "  </thead>\n",
       "  <tbody>\n",
       "    <tr>\n",
       "      <th>Accident Date</th>\n",
       "      <td>2019-12-30</td>\n",
       "      <td>2019-08-30</td>\n",
       "    </tr>\n",
       "    <tr>\n",
       "      <th>Age at Injury</th>\n",
       "      <td>31.0</td>\n",
       "      <td>46.0</td>\n",
       "    </tr>\n",
       "    <tr>\n",
       "      <th>Alternative Dispute Resolution</th>\n",
       "      <td>N</td>\n",
       "      <td>N</td>\n",
       "    </tr>\n",
       "    <tr>\n",
       "      <th>Assembly Date</th>\n",
       "      <td>2020-01-01</td>\n",
       "      <td>2020-01-01</td>\n",
       "    </tr>\n",
       "    <tr>\n",
       "      <th>Attorney/Representative</th>\n",
       "      <td>N</td>\n",
       "      <td>Y</td>\n",
       "    </tr>\n",
       "    <tr>\n",
       "      <th>Average Weekly Wage</th>\n",
       "      <td>0.0</td>\n",
       "      <td>1745.93</td>\n",
       "    </tr>\n",
       "    <tr>\n",
       "      <th>Birth Year</th>\n",
       "      <td>1988.0</td>\n",
       "      <td>1973.0</td>\n",
       "    </tr>\n",
       "    <tr>\n",
       "      <th>C-2 Date</th>\n",
       "      <td>2019-12-31</td>\n",
       "      <td>2020-01-01</td>\n",
       "    </tr>\n",
       "    <tr>\n",
       "      <th>C-3 Date</th>\n",
       "      <td>NaN</td>\n",
       "      <td>2020-01-14</td>\n",
       "    </tr>\n",
       "    <tr>\n",
       "      <th>Carrier Name</th>\n",
       "      <td>NEW HAMPSHIRE INSURANCE CO</td>\n",
       "      <td>ZURICH AMERICAN INSURANCE CO</td>\n",
       "    </tr>\n",
       "    <tr>\n",
       "      <th>Carrier Type</th>\n",
       "      <td>1A. PRIVATE</td>\n",
       "      <td>1A. PRIVATE</td>\n",
       "    </tr>\n",
       "    <tr>\n",
       "      <th>Claim Identifier</th>\n",
       "      <td>5393875</td>\n",
       "      <td>5393091</td>\n",
       "    </tr>\n",
       "    <tr>\n",
       "      <th>Claim Injury Type</th>\n",
       "      <td>2. NON-COMP</td>\n",
       "      <td>4. TEMPORARY</td>\n",
       "    </tr>\n",
       "    <tr>\n",
       "      <th>County of Injury</th>\n",
       "      <td>ST. LAWRENCE</td>\n",
       "      <td>WYOMING</td>\n",
       "    </tr>\n",
       "    <tr>\n",
       "      <th>COVID-19 Indicator</th>\n",
       "      <td>N</td>\n",
       "      <td>N</td>\n",
       "    </tr>\n",
       "    <tr>\n",
       "      <th>District Name</th>\n",
       "      <td>SYRACUSE</td>\n",
       "      <td>ROCHESTER</td>\n",
       "    </tr>\n",
       "    <tr>\n",
       "      <th>First Hearing Date</th>\n",
       "      <td>NaN</td>\n",
       "      <td>2020-02-21</td>\n",
       "    </tr>\n",
       "    <tr>\n",
       "      <th>Gender</th>\n",
       "      <td>M</td>\n",
       "      <td>F</td>\n",
       "    </tr>\n",
       "    <tr>\n",
       "      <th>IME-4 Count</th>\n",
       "      <td>NaN</td>\n",
       "      <td>4.0</td>\n",
       "    </tr>\n",
       "    <tr>\n",
       "      <th>Industry Code</th>\n",
       "      <td>44.0</td>\n",
       "      <td>23.0</td>\n",
       "    </tr>\n",
       "    <tr>\n",
       "      <th>Industry Code Description</th>\n",
       "      <td>RETAIL TRADE</td>\n",
       "      <td>CONSTRUCTION</td>\n",
       "    </tr>\n",
       "    <tr>\n",
       "      <th>Medical Fee Region</th>\n",
       "      <td>I</td>\n",
       "      <td>I</td>\n",
       "    </tr>\n",
       "    <tr>\n",
       "      <th>OIICS Nature of Injury Description</th>\n",
       "      <td>NaN</td>\n",
       "      <td>NaN</td>\n",
       "    </tr>\n",
       "    <tr>\n",
       "      <th>WCIO Cause of Injury Code</th>\n",
       "      <td>27.0</td>\n",
       "      <td>97.0</td>\n",
       "    </tr>\n",
       "    <tr>\n",
       "      <th>WCIO Cause of Injury Description</th>\n",
       "      <td>FROM LIQUID OR GREASE SPILLS</td>\n",
       "      <td>REPETITIVE MOTION</td>\n",
       "    </tr>\n",
       "    <tr>\n",
       "      <th>WCIO Nature of Injury Code</th>\n",
       "      <td>10.0</td>\n",
       "      <td>49.0</td>\n",
       "    </tr>\n",
       "    <tr>\n",
       "      <th>WCIO Nature of Injury Description</th>\n",
       "      <td>CONTUSION</td>\n",
       "      <td>SPRAIN OR TEAR</td>\n",
       "    </tr>\n",
       "    <tr>\n",
       "      <th>WCIO Part Of Body Code</th>\n",
       "      <td>62.0</td>\n",
       "      <td>38.0</td>\n",
       "    </tr>\n",
       "    <tr>\n",
       "      <th>WCIO Part Of Body Description</th>\n",
       "      <td>BUTTOCKS</td>\n",
       "      <td>SHOULDER(S)</td>\n",
       "    </tr>\n",
       "    <tr>\n",
       "      <th>Zip Code</th>\n",
       "      <td>13662</td>\n",
       "      <td>14569</td>\n",
       "    </tr>\n",
       "    <tr>\n",
       "      <th>Agreement Reached</th>\n",
       "      <td>0.0</td>\n",
       "      <td>1.0</td>\n",
       "    </tr>\n",
       "    <tr>\n",
       "      <th>WCB Decision</th>\n",
       "      <td>Not Work Related</td>\n",
       "      <td>Not Work Related</td>\n",
       "    </tr>\n",
       "    <tr>\n",
       "      <th>Number of Dependents</th>\n",
       "      <td>1.0</td>\n",
       "      <td>4.0</td>\n",
       "    </tr>\n",
       "  </tbody>\n",
       "</table>\n",
       "</div>"
      ],
      "text/plain": [
       "                                                               0  \\\n",
       "Accident Date                                         2019-12-30   \n",
       "Age at Injury                                               31.0   \n",
       "Alternative Dispute Resolution                                 N   \n",
       "Assembly Date                                         2020-01-01   \n",
       "Attorney/Representative                                        N   \n",
       "Average Weekly Wage                                          0.0   \n",
       "Birth Year                                                1988.0   \n",
       "C-2 Date                                              2019-12-31   \n",
       "C-3 Date                                                     NaN   \n",
       "Carrier Name                          NEW HAMPSHIRE INSURANCE CO   \n",
       "Carrier Type                                         1A. PRIVATE   \n",
       "Claim Identifier                                         5393875   \n",
       "Claim Injury Type                                    2. NON-COMP   \n",
       "County of Injury                                    ST. LAWRENCE   \n",
       "COVID-19 Indicator                                             N   \n",
       "District Name                                           SYRACUSE   \n",
       "First Hearing Date                                           NaN   \n",
       "Gender                                                         M   \n",
       "IME-4 Count                                                  NaN   \n",
       "Industry Code                                               44.0   \n",
       "Industry Code Description                           RETAIL TRADE   \n",
       "Medical Fee Region                                             I   \n",
       "OIICS Nature of Injury Description                           NaN   \n",
       "WCIO Cause of Injury Code                                   27.0   \n",
       "WCIO Cause of Injury Description    FROM LIQUID OR GREASE SPILLS   \n",
       "WCIO Nature of Injury Code                                  10.0   \n",
       "WCIO Nature of Injury Description                      CONTUSION   \n",
       "WCIO Part Of Body Code                                      62.0   \n",
       "WCIO Part Of Body Description                           BUTTOCKS   \n",
       "Zip Code                                                   13662   \n",
       "Agreement Reached                                            0.0   \n",
       "WCB Decision                                    Not Work Related   \n",
       "Number of Dependents                                         1.0   \n",
       "\n",
       "                                                               1  \n",
       "Accident Date                                         2019-08-30  \n",
       "Age at Injury                                               46.0  \n",
       "Alternative Dispute Resolution                                 N  \n",
       "Assembly Date                                         2020-01-01  \n",
       "Attorney/Representative                                        Y  \n",
       "Average Weekly Wage                                      1745.93  \n",
       "Birth Year                                                1973.0  \n",
       "C-2 Date                                              2020-01-01  \n",
       "C-3 Date                                              2020-01-14  \n",
       "Carrier Name                        ZURICH AMERICAN INSURANCE CO  \n",
       "Carrier Type                                         1A. PRIVATE  \n",
       "Claim Identifier                                         5393091  \n",
       "Claim Injury Type                                   4. TEMPORARY  \n",
       "County of Injury                                         WYOMING  \n",
       "COVID-19 Indicator                                             N  \n",
       "District Name                                          ROCHESTER  \n",
       "First Hearing Date                                    2020-02-21  \n",
       "Gender                                                         F  \n",
       "IME-4 Count                                                  4.0  \n",
       "Industry Code                                               23.0  \n",
       "Industry Code Description                           CONSTRUCTION  \n",
       "Medical Fee Region                                             I  \n",
       "OIICS Nature of Injury Description                           NaN  \n",
       "WCIO Cause of Injury Code                                   97.0  \n",
       "WCIO Cause of Injury Description               REPETITIVE MOTION  \n",
       "WCIO Nature of Injury Code                                  49.0  \n",
       "WCIO Nature of Injury Description                 SPRAIN OR TEAR  \n",
       "WCIO Part Of Body Code                                      38.0  \n",
       "WCIO Part Of Body Description                        SHOULDER(S)  \n",
       "Zip Code                                                   14569  \n",
       "Agreement Reached                                            1.0  \n",
       "WCB Decision                                    Not Work Related  \n",
       "Number of Dependents                                         4.0  "
      ]
     },
     "execution_count": 4,
     "metadata": {},
     "output_type": "execute_result"
    }
   ],
   "source": [
    "train.head(2).T"
   ]
  },
  {
   "cell_type": "code",
   "execution_count": 5,
   "metadata": {},
   "outputs": [
    {
     "name": "stderr",
     "output_type": "stream",
     "text": [
      "/var/folders/nj/p20z0h9x3ssf6ll0_cdhh2yc0000gn/T/ipykernel_62710/908895770.py:18: SettingWithCopyWarning: \n",
      "A value is trying to be set on a copy of a slice from a DataFrame\n",
      "\n",
      "See the caveats in the documentation: https://pandas.pydata.org/pandas-docs/stable/user_guide/indexing.html#returning-a-view-versus-a-copy\n",
      "  df_sel.rename(col_rename, axis = 1, inplace = True)\n"
     ]
    }
   ],
   "source": [
    "# Select the variables that I want to investigate\n",
    "df_sel = train[['WCIO Cause of Injury Code', 'WCIO Cause of Injury Description',\n",
    "       'WCIO Nature of Injury Code', 'WCIO Nature of Injury Description',\n",
    "       'WCIO Part Of Body Code', 'WCIO Part Of Body Description',\n",
    "       'WCB Decision']]\n",
    "\n",
    "# rename the variables\n",
    "col_rename = {\n",
    "             'WCIO Cause of Injury Code': 'CoInj_Code', \n",
    "             'WCIO Cause of Injury Description': 'CoInj_Desc',\n",
    "             'WCIO Nature of Injury Code': 'NoInj_Code',\n",
    "             'WCIO Nature of Injury Description':'NoInj_Desc',\n",
    "             'WCIO Part Of Body Code': 'Body_Part_Code',\n",
    "             'WCIO Part Of Body Description': \"Body_Part_Desc\",\n",
    "             'WCB Decision':'WCB_Dec'\n",
    "}\n",
    "\n",
    "df_sel.rename(col_rename, axis = 1, inplace = True)"
   ]
  },
  {
   "cell_type": "markdown",
   "metadata": {},
   "source": [
    "# <h2 align=\"center\"> Data inconsistencies </h2>"
   ]
  },
  {
   "cell_type": "code",
   "execution_count": 6,
   "metadata": {},
   "outputs": [],
   "source": [
    "# Check if each code has a unique description for hole dataset\n",
    "Cause_Inj_consistency = df_sel[[\"CoInj_Code\", \"CoInj_Desc\"]].drop_duplicates(subset=[\"CoInj_Code\", \"CoInj_Desc\"])\n",
    "Nature_Inj_consistency = df_sel[[\"NoInj_Code\", \"NoInj_Desc\"]].drop_duplicates(subset=[\"NoInj_Code\", \"NoInj_Desc\"])\n",
    "Part_Body_consistency = df_sel[[\"Body_Part_Code\", \"Body_Part_Desc\"]].drop_duplicates(subset=[\"Body_Part_Code\", \"Body_Part_Desc\"])"
   ]
  },
  {
   "cell_type": "code",
   "execution_count": 7,
   "metadata": {},
   "outputs": [
    {
     "name": "stdout",
     "output_type": "stream",
     "text": [
      "There are 0 duplicates in the Cause of Injury Code\n",
      "\n",
      "There are 0 duplicates in the Cause of Injury Code\n",
      "\n",
      "There are 0 duplicates in the Cause of Injury Code\n"
     ]
    }
   ],
   "source": [
    "# I want to figure out each combination of the cause of injury and their respective code to make sure every code only has one description\n",
    "Cause_Inj_consistency = Cause_Inj_consistency.sort_values(by = \"CoInj_Code\") \n",
    "print(\"There are\", Cause_Inj_consistency[\"CoInj_Code\"].duplicated().sum(), \"duplicates in the Cause of Injury Code\")\n",
    "print()\n",
    "\n",
    "Nature_Inj_consistency = Nature_Inj_consistency.sort_values(by = \"NoInj_Code\") \n",
    "print(\"There are\", Nature_Inj_consistency[\"NoInj_Code\"].duplicated().sum(), \"duplicates in the Cause of Injury Code\")\n",
    "print()\n",
    "\n",
    "Part_Body_consistency = Part_Body_consistency.sort_values(by = \"Body_Part_Code\")\n",
    "print(\"There are\", Part_Body_consistency[\"Body_Part_Code\"].duplicated().sum(), \"duplicates in the Cause of Injury Code\")"
   ]
  },
  {
   "cell_type": "markdown",
   "metadata": {},
   "source": [
    "## <h2 alingn = \"center\"> Check for missing values <>"
   ]
  },
  {
   "cell_type": "code",
   "execution_count": 25,
   "metadata": {},
   "outputs": [
    {
     "name": "stdout",
     "output_type": "stream",
     "text": [
      "<class 'pandas.core.frame.DataFrame'>\n",
      "RangeIndex: 593471 entries, 0 to 593470\n",
      "Data columns (total 7 columns):\n",
      " #   Column          Non-Null Count   Dtype  \n",
      "---  ------          --------------   -----  \n",
      " 0   CoInj_Code      558386 non-null  float64\n",
      " 1   CoInj_Desc      558386 non-null  object \n",
      " 2   NoInj_Code      558369 non-null  float64\n",
      " 3   NoInj_Desc      558369 non-null  object \n",
      " 4   Body_Part_Code  556944 non-null  float64\n",
      " 5   Body_Part_Desc  556944 non-null  object \n",
      " 6   WCB_Dec         574026 non-null  object \n",
      "dtypes: float64(3), object(4)\n",
      "memory usage: 31.7+ MB\n"
     ]
    }
   ],
   "source": [
    "df_sel.info()"
   ]
  },
  {
   "cell_type": "code",
   "execution_count": 55,
   "metadata": {},
   "outputs": [
    {
     "data": {
      "text/plain": [
       "0.030778"
      ]
     },
     "execution_count": 55,
     "metadata": {},
     "output_type": "execute_result"
    }
   ],
   "source": [
    "0.98 * 0.0008 + 0.03 * 0.9998"
   ]
  },
  {
   "cell_type": "code",
   "execution_count": 10,
   "metadata": {},
   "outputs": [
    {
     "name": "stdout",
     "output_type": "stream",
     "text": [
      "col = 'CoInj_Code'\n",
      "df_sel[col].nunique() = 77\n",
      "\n",
      "col = 'CoInj_Desc'\n",
      "df_sel[col].nunique() = 74\n",
      "\n",
      "col = 'NoInj_Code'\n",
      "df_sel[col].nunique() = 56\n",
      "\n",
      "col = 'NoInj_Desc'\n",
      "df_sel[col].nunique() = 56\n",
      "\n",
      "col = 'Body_Part_Code'\n",
      "df_sel[col].nunique() = 57\n",
      "\n",
      "col = 'Body_Part_Desc'\n",
      "df_sel[col].nunique() = 54\n",
      "\n",
      "col = 'WCB_Dec'\n",
      "df_sel[col].nunique() = 1\n",
      "\n"
     ]
    }
   ],
   "source": [
    "# unique values for each column\n",
    "for col in df_sel.columns:\n",
    "    print(f'{col = }')\n",
    "    print(f'{df_sel[col].nunique() = }')\n",
    "    # print(f'{df_sel[col].unique() = }')\n",
    "    print()\n",
    "\n",
    "# check the columns where the codes dont have descriptions or are not unique\n"
   ]
  },
  {
   "cell_type": "code",
   "execution_count": 24,
   "metadata": {},
   "outputs": [
    {
     "data": {
      "text/html": [
       "<div>\n",
       "<style scoped>\n",
       "    .dataframe tbody tr th:only-of-type {\n",
       "        vertical-align: middle;\n",
       "    }\n",
       "\n",
       "    .dataframe tbody tr th {\n",
       "        vertical-align: top;\n",
       "    }\n",
       "\n",
       "    .dataframe thead th {\n",
       "        text-align: right;\n",
       "    }\n",
       "</style>\n",
       "<table border=\"1\" class=\"dataframe\">\n",
       "  <thead>\n",
       "    <tr style=\"text-align: right;\">\n",
       "      <th></th>\n",
       "      <th>WCIO Cause of Injury Code</th>\n",
       "      <th>WCIO Cause of Injury Description</th>\n",
       "      <th>WCIO Nature of Injury Code</th>\n",
       "      <th>WCIO Nature of Injury Description</th>\n",
       "      <th>WCIO Part Of Body Code</th>\n",
       "      <th>WCIO Part Of Body Description</th>\n",
       "      <th>WCB Decision</th>\n",
       "    </tr>\n",
       "  </thead>\n",
       "  <tbody>\n",
       "    <tr>\n",
       "      <th>0</th>\n",
       "      <td>27.0</td>\n",
       "      <td>FROM LIQUID OR GREASE SPILLS</td>\n",
       "      <td>10.0</td>\n",
       "      <td>CONTUSION</td>\n",
       "      <td>62.0</td>\n",
       "      <td>BUTTOCKS</td>\n",
       "      <td>Not Work Related</td>\n",
       "    </tr>\n",
       "    <tr>\n",
       "      <th>1</th>\n",
       "      <td>97.0</td>\n",
       "      <td>REPETITIVE MOTION</td>\n",
       "      <td>49.0</td>\n",
       "      <td>SPRAIN OR TEAR</td>\n",
       "      <td>38.0</td>\n",
       "      <td>SHOULDER(S)</td>\n",
       "      <td>Not Work Related</td>\n",
       "    </tr>\n",
       "    <tr>\n",
       "      <th>2</th>\n",
       "      <td>79.0</td>\n",
       "      <td>OBJECT BEING LIFTED OR HANDLED</td>\n",
       "      <td>7.0</td>\n",
       "      <td>CONCUSSION</td>\n",
       "      <td>10.0</td>\n",
       "      <td>MULTIPLE HEAD INJURY</td>\n",
       "      <td>Not Work Related</td>\n",
       "    </tr>\n",
       "    <tr>\n",
       "      <th>3</th>\n",
       "      <td>NaN</td>\n",
       "      <td>NaN</td>\n",
       "      <td>NaN</td>\n",
       "      <td>NaN</td>\n",
       "      <td>NaN</td>\n",
       "      <td>NaN</td>\n",
       "      <td>NaN</td>\n",
       "    </tr>\n",
       "    <tr>\n",
       "      <th>4</th>\n",
       "      <td>16.0</td>\n",
       "      <td>HAND TOOL, UTENSIL; NOT POWERED</td>\n",
       "      <td>43.0</td>\n",
       "      <td>PUNCTURE</td>\n",
       "      <td>36.0</td>\n",
       "      <td>FINGER(S)</td>\n",
       "      <td>Not Work Related</td>\n",
       "    </tr>\n",
       "  </tbody>\n",
       "</table>\n",
       "</div>"
      ],
      "text/plain": [
       "   WCIO Cause of Injury Code WCIO Cause of Injury Description  \\\n",
       "0                       27.0     FROM LIQUID OR GREASE SPILLS   \n",
       "1                       97.0                REPETITIVE MOTION   \n",
       "2                       79.0   OBJECT BEING LIFTED OR HANDLED   \n",
       "3                        NaN                              NaN   \n",
       "4                       16.0  HAND TOOL, UTENSIL; NOT POWERED   \n",
       "\n",
       "   WCIO Nature of Injury Code WCIO Nature of Injury Description  \\\n",
       "0                        10.0                         CONTUSION   \n",
       "1                        49.0                    SPRAIN OR TEAR   \n",
       "2                         7.0                        CONCUSSION   \n",
       "3                         NaN                               NaN   \n",
       "4                        43.0                          PUNCTURE   \n",
       "\n",
       "  WCIO Part Of Body Code WCIO Part Of Body Description      WCB Decision  \n",
       "0                   62.0                      BUTTOCKS  Not Work Related  \n",
       "1                   38.0                   SHOULDER(S)  Not Work Related  \n",
       "2                   10.0          MULTIPLE HEAD INJURY  Not Work Related  \n",
       "3                    NaN                           NaN               NaN  \n",
       "4                   36.0                     FINGER(S)  Not Work Related  "
      ]
     },
     "execution_count": 24,
     "metadata": {},
     "output_type": "execute_result"
    }
   ],
   "source": [
    "df_sel.head()"
   ]
  },
  {
   "cell_type": "code",
   "execution_count": 20,
   "metadata": {},
   "outputs": [
    {
     "name": "stdout",
     "output_type": "stream",
     "text": [
      "Missing values in the dataset in percentage (%):\n"
     ]
    },
    {
     "data": {
      "text/plain": [
       "CoInj_Code        5.911831\n",
       "CoInj_Desc        5.911831\n",
       "NoInj_Code        5.914695\n",
       "NoInj_Desc        5.914695\n",
       "Body_Part_Code    6.154808\n",
       "Body_Part_Desc    6.154808\n",
       "WCB_Dec           3.276487\n",
       "dtype: float64"
      ]
     },
     "execution_count": 20,
     "metadata": {},
     "output_type": "execute_result"
    }
   ],
   "source": [
    "# Check for missing values and basic data statistics\n",
    "print(f'Missing values in the dataset in percentage (%):')\n",
    "missing_values = df_sel.isnull().sum()\n",
    "# Give the percentage of missing values\n",
    "missing_values_percentage = missing_values / len(df_sel) * 100\n",
    "missing_values_percentage\n"
   ]
  },
  {
   "cell_type": "code",
   "execution_count": 24,
   "metadata": {},
   "outputs": [
    {
     "data": {
      "text/plain": [
       "array(['Not Work Related', nan], dtype=object)"
      ]
     },
     "execution_count": 24,
     "metadata": {},
     "output_type": "execute_result"
    }
   ],
   "source": [
    "df_sel['WCB_Dec'].unique()"
   ]
  },
  {
   "cell_type": "code",
   "execution_count": null,
   "metadata": {},
   "outputs": [],
   "source": []
  }
 ],
 "metadata": {
  "kernelspec": {
   "display_name": "ml-project-30p4sv41-py3.12",
   "language": "python",
   "name": "python3"
  },
  "language_info": {
   "codemirror_mode": {
    "name": "ipython",
    "version": 3
   },
   "file_extension": ".py",
   "mimetype": "text/x-python",
   "name": "python",
   "nbconvert_exporter": "python",
   "pygments_lexer": "ipython3",
   "version": "3.12.6"
  }
 },
 "nbformat": 4,
 "nbformat_minor": 2
}

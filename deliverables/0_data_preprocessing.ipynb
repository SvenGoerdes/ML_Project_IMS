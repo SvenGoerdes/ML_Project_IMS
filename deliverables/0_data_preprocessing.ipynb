{
 "cells": [
  {
   "cell_type": "markdown",
   "metadata": {},
   "source": [
    "## 0. Imports and dataset"
   ]
  },
  {
   "cell_type": "code",
   "execution_count": 43,
   "metadata": {},
   "outputs": [],
   "source": [
    "import pandas as pd\n",
    "import numpy as np\n",
    "\n",
    "from category_encoders import TargetEncoder\n",
    "\n",
    "# visualization\n",
    "import matplotlib.pyplot as plt\n",
    "import seaborn as sns\n",
    "import missingno as msno # for missing values\n",
    "import sys\n",
    "sys.path.append('../helper_functions')\n",
    "\n",
    "# data partition\n",
    "from sklearn.model_selection import train_test_split\n",
    "\n",
    "# Import functions that are stored in the helper_functions directory. We do this to keep the notebook clean and easy to read\n",
    "from helper_functions import *\n",
    "\n",
    "from sklearn.pipeline import Pipeline\n",
    "\n",
    "# Import custom_transformer for Incoherences\n",
    "from incoherences_custom_transformers import (\n",
    "    IncoCarrierType, \n",
    "    IncoWCIOBodyCode, \n",
    "    IncoZeroBirthYEAR, \n",
    "    IncoZeroAgeAtInjury,  \n",
    "    IncoDependents, \n",
    "    IncoCorrectAge, \n",
    "    IncoSwapAccidentDate, \n",
    "    IncoCovidIndicator,\n",
    "    IncoGenderNaN\n",
    ")"
   ]
  },
  {
   "cell_type": "code",
   "execution_count": 44,
   "metadata": {},
   "outputs": [
    {
     "data": {
      "text/html": [
       "<div>\n",
       "<style scoped>\n",
       "    .dataframe tbody tr th:only-of-type {\n",
       "        vertical-align: middle;\n",
       "    }\n",
       "\n",
       "    .dataframe tbody tr th {\n",
       "        vertical-align: top;\n",
       "    }\n",
       "\n",
       "    .dataframe thead th {\n",
       "        text-align: right;\n",
       "    }\n",
       "</style>\n",
       "<table border=\"1\" class=\"dataframe\">\n",
       "  <thead>\n",
       "    <tr style=\"text-align: right;\">\n",
       "      <th></th>\n",
       "      <th>Accident Date</th>\n",
       "      <th>Age at Injury</th>\n",
       "      <th>Alternative Dispute Resolution</th>\n",
       "      <th>Assembly Date</th>\n",
       "      <th>Attorney/Representative</th>\n",
       "      <th>Average Weekly Wage</th>\n",
       "      <th>Birth Year</th>\n",
       "      <th>C-2 Date</th>\n",
       "      <th>C-3 Date</th>\n",
       "      <th>Carrier Name</th>\n",
       "      <th>Carrier Type</th>\n",
       "      <th>Claim Identifier</th>\n",
       "      <th>Claim Injury Type</th>\n",
       "      <th>County of Injury</th>\n",
       "      <th>COVID-19 Indicator</th>\n",
       "      <th>District Name</th>\n",
       "      <th>First Hearing Date</th>\n",
       "      <th>Gender</th>\n",
       "      <th>IME-4 Count</th>\n",
       "      <th>Industry Code</th>\n",
       "      <th>Industry Code Description</th>\n",
       "      <th>Medical Fee Region</th>\n",
       "      <th>OIICS Nature of Injury Description</th>\n",
       "      <th>WCIO Cause of Injury Code</th>\n",
       "      <th>WCIO Cause of Injury Description</th>\n",
       "      <th>WCIO Nature of Injury Code</th>\n",
       "      <th>WCIO Nature of Injury Description</th>\n",
       "      <th>WCIO Part Of Body Code</th>\n",
       "      <th>WCIO Part Of Body Description</th>\n",
       "      <th>Zip Code</th>\n",
       "      <th>Agreement Reached</th>\n",
       "      <th>WCB Decision</th>\n",
       "      <th>Number of Dependents</th>\n",
       "    </tr>\n",
       "  </thead>\n",
       "  <tbody>\n",
       "    <tr>\n",
       "      <th>0</th>\n",
       "      <td>2019-12-30</td>\n",
       "      <td>31.0</td>\n",
       "      <td>N</td>\n",
       "      <td>2020-01-01</td>\n",
       "      <td>N</td>\n",
       "      <td>0.00</td>\n",
       "      <td>1988.0</td>\n",
       "      <td>2019-12-31</td>\n",
       "      <td>NaN</td>\n",
       "      <td>NEW HAMPSHIRE INSURANCE CO</td>\n",
       "      <td>1A. PRIVATE</td>\n",
       "      <td>5393875</td>\n",
       "      <td>2. NON-COMP</td>\n",
       "      <td>ST. LAWRENCE</td>\n",
       "      <td>N</td>\n",
       "      <td>SYRACUSE</td>\n",
       "      <td>NaN</td>\n",
       "      <td>M</td>\n",
       "      <td>NaN</td>\n",
       "      <td>44.0</td>\n",
       "      <td>RETAIL TRADE</td>\n",
       "      <td>I</td>\n",
       "      <td>NaN</td>\n",
       "      <td>27.0</td>\n",
       "      <td>FROM LIQUID OR GREASE SPILLS</td>\n",
       "      <td>10.0</td>\n",
       "      <td>CONTUSION</td>\n",
       "      <td>62.0</td>\n",
       "      <td>BUTTOCKS</td>\n",
       "      <td>13662</td>\n",
       "      <td>0.0</td>\n",
       "      <td>Not Work Related</td>\n",
       "      <td>1.0</td>\n",
       "    </tr>\n",
       "    <tr>\n",
       "      <th>1</th>\n",
       "      <td>2019-08-30</td>\n",
       "      <td>46.0</td>\n",
       "      <td>N</td>\n",
       "      <td>2020-01-01</td>\n",
       "      <td>Y</td>\n",
       "      <td>1745.93</td>\n",
       "      <td>1973.0</td>\n",
       "      <td>2020-01-01</td>\n",
       "      <td>2020-01-14</td>\n",
       "      <td>ZURICH AMERICAN INSURANCE CO</td>\n",
       "      <td>1A. PRIVATE</td>\n",
       "      <td>5393091</td>\n",
       "      <td>4. TEMPORARY</td>\n",
       "      <td>WYOMING</td>\n",
       "      <td>N</td>\n",
       "      <td>ROCHESTER</td>\n",
       "      <td>2020-02-21</td>\n",
       "      <td>F</td>\n",
       "      <td>4.0</td>\n",
       "      <td>23.0</td>\n",
       "      <td>CONSTRUCTION</td>\n",
       "      <td>I</td>\n",
       "      <td>NaN</td>\n",
       "      <td>97.0</td>\n",
       "      <td>REPETITIVE MOTION</td>\n",
       "      <td>49.0</td>\n",
       "      <td>SPRAIN OR TEAR</td>\n",
       "      <td>38.0</td>\n",
       "      <td>SHOULDER(S)</td>\n",
       "      <td>14569</td>\n",
       "      <td>1.0</td>\n",
       "      <td>Not Work Related</td>\n",
       "      <td>4.0</td>\n",
       "    </tr>\n",
       "    <tr>\n",
       "      <th>2</th>\n",
       "      <td>2019-12-06</td>\n",
       "      <td>40.0</td>\n",
       "      <td>N</td>\n",
       "      <td>2020-01-01</td>\n",
       "      <td>N</td>\n",
       "      <td>1434.80</td>\n",
       "      <td>1979.0</td>\n",
       "      <td>2020-01-01</td>\n",
       "      <td>NaN</td>\n",
       "      <td>INDEMNITY INSURANCE CO OF</td>\n",
       "      <td>1A. PRIVATE</td>\n",
       "      <td>5393889</td>\n",
       "      <td>4. TEMPORARY</td>\n",
       "      <td>ORANGE</td>\n",
       "      <td>N</td>\n",
       "      <td>ALBANY</td>\n",
       "      <td>NaN</td>\n",
       "      <td>M</td>\n",
       "      <td>NaN</td>\n",
       "      <td>56.0</td>\n",
       "      <td>ADMINISTRATIVE AND SUPPORT AND WASTE MANAGEMEN...</td>\n",
       "      <td>II</td>\n",
       "      <td>NaN</td>\n",
       "      <td>79.0</td>\n",
       "      <td>OBJECT BEING LIFTED OR HANDLED</td>\n",
       "      <td>7.0</td>\n",
       "      <td>CONCUSSION</td>\n",
       "      <td>10.0</td>\n",
       "      <td>MULTIPLE HEAD INJURY</td>\n",
       "      <td>12589</td>\n",
       "      <td>0.0</td>\n",
       "      <td>Not Work Related</td>\n",
       "      <td>6.0</td>\n",
       "    </tr>\n",
       "    <tr>\n",
       "      <th>3</th>\n",
       "      <td>NaN</td>\n",
       "      <td>NaN</td>\n",
       "      <td>NaN</td>\n",
       "      <td>2020-01-01</td>\n",
       "      <td>NaN</td>\n",
       "      <td>NaN</td>\n",
       "      <td>NaN</td>\n",
       "      <td>NaN</td>\n",
       "      <td>NaN</td>\n",
       "      <td>NaN</td>\n",
       "      <td>NaN</td>\n",
       "      <td>957648180</td>\n",
       "      <td>NaN</td>\n",
       "      <td>NaN</td>\n",
       "      <td>NaN</td>\n",
       "      <td>NaN</td>\n",
       "      <td>NaN</td>\n",
       "      <td>NaN</td>\n",
       "      <td>NaN</td>\n",
       "      <td>NaN</td>\n",
       "      <td>NaN</td>\n",
       "      <td>NaN</td>\n",
       "      <td>NaN</td>\n",
       "      <td>NaN</td>\n",
       "      <td>NaN</td>\n",
       "      <td>NaN</td>\n",
       "      <td>NaN</td>\n",
       "      <td>NaN</td>\n",
       "      <td>NaN</td>\n",
       "      <td>NaN</td>\n",
       "      <td>NaN</td>\n",
       "      <td>NaN</td>\n",
       "      <td>NaN</td>\n",
       "    </tr>\n",
       "    <tr>\n",
       "      <th>4</th>\n",
       "      <td>2019-12-30</td>\n",
       "      <td>61.0</td>\n",
       "      <td>N</td>\n",
       "      <td>2020-01-01</td>\n",
       "      <td>N</td>\n",
       "      <td>NaN</td>\n",
       "      <td>1958.0</td>\n",
       "      <td>2019-12-31</td>\n",
       "      <td>NaN</td>\n",
       "      <td>STATE INSURANCE FUND</td>\n",
       "      <td>2A. SIF</td>\n",
       "      <td>5393887</td>\n",
       "      <td>2. NON-COMP</td>\n",
       "      <td>DUTCHESS</td>\n",
       "      <td>N</td>\n",
       "      <td>ALBANY</td>\n",
       "      <td>NaN</td>\n",
       "      <td>M</td>\n",
       "      <td>NaN</td>\n",
       "      <td>62.0</td>\n",
       "      <td>HEALTH CARE AND SOCIAL ASSISTANCE</td>\n",
       "      <td>II</td>\n",
       "      <td>NaN</td>\n",
       "      <td>16.0</td>\n",
       "      <td>HAND TOOL, UTENSIL; NOT POWERED</td>\n",
       "      <td>43.0</td>\n",
       "      <td>PUNCTURE</td>\n",
       "      <td>36.0</td>\n",
       "      <td>FINGER(S)</td>\n",
       "      <td>12603</td>\n",
       "      <td>0.0</td>\n",
       "      <td>Not Work Related</td>\n",
       "      <td>1.0</td>\n",
       "    </tr>\n",
       "  </tbody>\n",
       "</table>\n",
       "</div>"
      ],
      "text/plain": [
       "  Accident Date  Age at Injury Alternative Dispute Resolution Assembly Date  \\\n",
       "0    2019-12-30           31.0                              N    2020-01-01   \n",
       "1    2019-08-30           46.0                              N    2020-01-01   \n",
       "2    2019-12-06           40.0                              N    2020-01-01   \n",
       "3           NaN            NaN                            NaN    2020-01-01   \n",
       "4    2019-12-30           61.0                              N    2020-01-01   \n",
       "\n",
       "  Attorney/Representative  Average Weekly Wage  Birth Year    C-2 Date  \\\n",
       "0                       N                 0.00      1988.0  2019-12-31   \n",
       "1                       Y              1745.93      1973.0  2020-01-01   \n",
       "2                       N              1434.80      1979.0  2020-01-01   \n",
       "3                     NaN                  NaN         NaN         NaN   \n",
       "4                       N                  NaN      1958.0  2019-12-31   \n",
       "\n",
       "     C-3 Date                  Carrier Name Carrier Type  Claim Identifier  \\\n",
       "0         NaN    NEW HAMPSHIRE INSURANCE CO  1A. PRIVATE           5393875   \n",
       "1  2020-01-14  ZURICH AMERICAN INSURANCE CO  1A. PRIVATE           5393091   \n",
       "2         NaN     INDEMNITY INSURANCE CO OF  1A. PRIVATE           5393889   \n",
       "3         NaN                           NaN          NaN         957648180   \n",
       "4         NaN          STATE INSURANCE FUND      2A. SIF           5393887   \n",
       "\n",
       "  Claim Injury Type County of Injury COVID-19 Indicator District Name  \\\n",
       "0       2. NON-COMP     ST. LAWRENCE                  N      SYRACUSE   \n",
       "1      4. TEMPORARY          WYOMING                  N     ROCHESTER   \n",
       "2      4. TEMPORARY           ORANGE                  N        ALBANY   \n",
       "3               NaN              NaN                NaN           NaN   \n",
       "4       2. NON-COMP         DUTCHESS                  N        ALBANY   \n",
       "\n",
       "  First Hearing Date Gender  IME-4 Count  Industry Code  \\\n",
       "0                NaN      M          NaN           44.0   \n",
       "1         2020-02-21      F          4.0           23.0   \n",
       "2                NaN      M          NaN           56.0   \n",
       "3                NaN    NaN          NaN            NaN   \n",
       "4                NaN      M          NaN           62.0   \n",
       "\n",
       "                           Industry Code Description Medical Fee Region  \\\n",
       "0                                       RETAIL TRADE                  I   \n",
       "1                                       CONSTRUCTION                  I   \n",
       "2  ADMINISTRATIVE AND SUPPORT AND WASTE MANAGEMEN...                 II   \n",
       "3                                                NaN                NaN   \n",
       "4                  HEALTH CARE AND SOCIAL ASSISTANCE                 II   \n",
       "\n",
       "   OIICS Nature of Injury Description  WCIO Cause of Injury Code  \\\n",
       "0                                 NaN                       27.0   \n",
       "1                                 NaN                       97.0   \n",
       "2                                 NaN                       79.0   \n",
       "3                                 NaN                        NaN   \n",
       "4                                 NaN                       16.0   \n",
       "\n",
       "  WCIO Cause of Injury Description  WCIO Nature of Injury Code  \\\n",
       "0     FROM LIQUID OR GREASE SPILLS                        10.0   \n",
       "1                REPETITIVE MOTION                        49.0   \n",
       "2   OBJECT BEING LIFTED OR HANDLED                         7.0   \n",
       "3                              NaN                         NaN   \n",
       "4  HAND TOOL, UTENSIL; NOT POWERED                        43.0   \n",
       "\n",
       "  WCIO Nature of Injury Description  WCIO Part Of Body Code  \\\n",
       "0                         CONTUSION                    62.0   \n",
       "1                    SPRAIN OR TEAR                    38.0   \n",
       "2                        CONCUSSION                    10.0   \n",
       "3                               NaN                     NaN   \n",
       "4                          PUNCTURE                    36.0   \n",
       "\n",
       "  WCIO Part Of Body Description Zip Code  Agreement Reached      WCB Decision  \\\n",
       "0                      BUTTOCKS    13662                0.0  Not Work Related   \n",
       "1                   SHOULDER(S)    14569                1.0  Not Work Related   \n",
       "2          MULTIPLE HEAD INJURY    12589                0.0  Not Work Related   \n",
       "3                           NaN      NaN                NaN               NaN   \n",
       "4                     FINGER(S)    12603                0.0  Not Work Related   \n",
       "\n",
       "   Number of Dependents  \n",
       "0                   1.0  \n",
       "1                   4.0  \n",
       "2                   6.0  \n",
       "3                   NaN  \n",
       "4                   1.0  "
      ]
     },
     "execution_count": 44,
     "metadata": {},
     "output_type": "execute_result"
    }
   ],
   "source": [
    "WCB_original = pd.read_csv('../project_data/train_data.csv', delimiter=',',dtype={'Zip Code': str})\n",
    "X_test = pd.read_csv('../project_data/test_data.csv', delimiter=',',dtype={'Zip Code': str})\n",
    "\n",
    "# show all columns\n",
    "pd.set_option('display.max_columns', None)\n",
    "\n",
    "WCB_original.head()"
   ]
  },
  {
   "cell_type": "markdown",
   "metadata": {},
   "source": [
    "## 1. Initial preprocessing"
   ]
  },
  {
   "cell_type": "markdown",
   "metadata": {},
   "source": [
    "\n",
    "> **1.** Made a copy from the original WCB </br>\n",
    "> **2.** Drop duplicated Claim Identifier from WCB, no duplicate in X_Test.</br>\n",
    "> **3.** Set Claim Identifier as Index.</br>\n",
    "> **4.** Drop all the rows that have null value in Claim Injury Type.</br>\n",
    "> **5.** Drop OIICS Nature of Injury Description from WCB and X_test.</br>\n",
    "> **6.** Convert WCB and X_test to datetime.</br>\n",
    "> **7.** Drop rows in WCB that have duplicates in all columns (<em> Do not remove from X_test</em>).</br>\n",
    "> **8.** Check for duplicates, excluding 1 column at a time.</br>\n",
    "> **9.** Drop WCB Decision as it only has unique value (<em>Doesn't exist in X_test</em>).</br>\n",
    "> **10.** Set unknown values 'U','UNKNOWN','UK' to missing in both WCB and X_test."
   ]
  },
  {
   "cell_type": "code",
   "execution_count": 45,
   "metadata": {},
   "outputs": [],
   "source": [
    "# (1) Creating WCB from the original --------------------------------------------\n",
    "WCB = WCB_original.copy()\n",
    "\n",
    "# (2) Drop duplicate of Claim Id -------------------------------------------------\n",
    "WCB = WCB[~WCB['Claim Identifier'].duplicated(keep=False)] #ALTERACAO: mais geral\n",
    "\n",
    "# (3) Set Claim Indentifier as Index --------------------------------------------\n",
    "WCB.set_index('Claim Identifier', inplace=True)\n",
    "X_test.set_index('Claim Identifier', inplace=True)\n",
    "\n",
    "# (4) Drop null values from Claim Injury Type -----------------------------------\n",
    "WCB = WCB.dropna(subset=['Claim Injury Type']) #this drops 19445 rows\n",
    "\n",
    "# (5) Drop column OIICS Nature of Injury Description ----------------------------\n",
    "WCB = WCB.drop(columns=['OIICS Nature of Injury Description'])\n",
    "X_test =  X_test.drop(columns=['OIICS Nature of Injury Description'])\n",
    "\n",
    "# (6) Convert to datetime -------------------------------------------------------\n",
    "date_columns = ['Accident Date', 'Assembly Date','C-2 Date', 'C-3 Date', 'First Hearing Date']\n",
    "# Convert columns to datetime\n",
    "for column in date_columns:\n",
    "    WCB[column] = pd.to_datetime(WCB[column], format='%Y-%m-%d', errors='coerce')\n",
    "    X_test[column] = pd.to_datetime(X_test[column], format='%Y-%m-%d', errors='coerce')\n",
    "\n",
    "# (7) Drop duplicate on all columns ----------------------------------------------\n",
    "WCB = WCB.drop_duplicates(keep='first')\n",
    "\n",
    "# (8) Iterate throguh columns, and look for duplicates, excluding 1 column at a time\n",
    "for col in WCB.columns:\n",
    "    # Define the subset of columns to check in this iteration (excluding 'col')\n",
    "    cols_to_check_now = [c for c in  WCB.columns if c != col]\n",
    "\n",
    "    # Identify duplicates based on these columns\n",
    "    duplicates = WCB[WCB.duplicated(subset=cols_to_check_now, keep=False)]\n",
    "\n",
    "    #Drop duplicates, keeping the first occurrence in each subset where one column can differ\n",
    "    WCB = WCB.drop_duplicates(subset=cols_to_check_now, keep='first')\n",
    "\n",
    "# (9) Drop WCB Decision as it only has 1 value\n",
    "WCB = WCB.drop(columns=['WCB Decision'])\n",
    "\n",
    "# (10) Setting unknown values to nan -------------------------------------------------\n",
    "unknown_values = {'Alternative Dispute Resolution': 'U',   'Carrier Type': 'UNKNOWN', 'County of Injury': 'UNKNOWN',\n",
    "    'Gender': 'U','Medical Fee Region': 'UK'}\n",
    "\n",
    "WCB.replace(unknown_values, np.nan, inplace=True)\n",
    "X_test.replace(unknown_values, np.nan, inplace=True)"
   ]
  },
  {
   "cell_type": "markdown",
   "metadata": {},
   "source": [
    "## 2. Incoherences"
   ]
  },
  {
   "cell_type": "markdown",
   "metadata": {},
   "source": [
    "> **1.** For rows with Carrier Name 'SPECIAL FUNDS SEC 25-A', change Carrier Type to '5A. SPECIAL FUND - CONS. COMM. (SECT. 25-A)'.</br>\n",
    "> **2.** Change WCIO Part Of Body Code -9 to 90, and associate the description of code 90 to Multiple parts of body (WCB and X_test).</br>\n",
    "> **3.** Replace Birth Year==0 with NaN</br>\n",
    "> **4.** Replace Age at Injury==0 with NaN</br>\n",
    "> **5.** Change the number of dependents of people with age under 16 to zero, as it doesn't make sense to have dependents if they're under 16.</br>\n",
    "> **6.** For rows that have the columns Age at Injury, Birth Year and Accident Date: Calculate the difference between the year of Accident Date and Birth Year, and compare it to the Age at Injury. For the cases where the Age at Injury is one year above than the calculated age, then we subtract one year.</br>\n",
    "> **7.** Check for invalid entries, meaning if there are Accident Dates that occur before Assembly Date, C-2 Date or C-3 Date. We should swap it.</br>\n",
    "> **8.** Turn Covid-19 indicator do 'N' if before 2020-03-01. </br>\n",
    "> **9.** Replace Gender == 'X' to NaN."
   ]
  },
  {
   "cell_type": "code",
   "execution_count": 46,
   "metadata": {},
   "outputs": [],
   "source": [
    "\n",
    "incoherences_pipeline = Pipeline([\n",
    "    ('update_carrier_type', IncoCarrierType()),\n",
    "    ('update_wcio_body_code', IncoWCIOBodyCode()),\n",
    "    ('replace_birth_year_zero_nan', IncoZeroBirthYEAR()),\n",
    "    ('replace_age_zero_nan', IncoZeroAgeAtInjury()),\n",
    "    ('update_dependents', IncoDependents()),\n",
    "    ('compare_age_with_accident_and_birth', IncoCorrectAge()),\n",
    "    ('swap_accident_date', IncoSwapAccidentDate()), \n",
    "    ('update_covid_indicator', IncoCovidIndicator()),\n",
    "    ('replace_gender_x_to_nan',IncoGenderNaN())\n",
    "])\n",
    "\n",
    "# Apply the pipeline to the training and test data\n",
    "WCB = incoherences_pipeline.fit_transform(WCB)\n",
    "X_test = incoherences_pipeline.transform(X_test)\n"
   ]
  },
  {
   "cell_type": "markdown",
   "metadata": {},
   "source": [
    "## 3. Splitting"
   ]
  },
  {
   "cell_type": "code",
   "execution_count": 47,
   "metadata": {},
   "outputs": [],
   "source": [
    "X = WCB.drop(columns=['Claim Injury Type'])\n",
    "y = WCB[['Claim Injury Type']]\n",
    "X_train, X_val, y_train, y_val = train_test_split(X, y,\n",
    "                                                 test_size = 0.3,\n",
    "                                                 shuffle = True,\n",
    "                                                 random_state = 0,\n",
    "                                                 stratify = y)"
   ]
  },
  {
   "cell_type": "markdown",
   "metadata": {
    "slideshow": {
     "slide_type": "notes"
    }
   },
   "source": [
    "## 4. Outliers"
   ]
  },
  {
   "cell_type": "markdown",
   "metadata": {},
   "source": [
    "> Drop outliers in train dataset.\n",
    "\n",
    "> Cap out or set to nan in val and test."
   ]
  },
  {
   "cell_type": "code",
   "execution_count": 48,
   "metadata": {},
   "outputs": [],
   "source": [
    "X_train_copy = X_train.copy() \n",
    "X_val_copy = X_val.copy()\n",
    "X_test_copy = X_test.copy()"
   ]
  },
  {
   "cell_type": "markdown",
   "metadata": {},
   "source": [
    "### 4.1 Date Outliers"
   ]
  },
  {
   "cell_type": "markdown",
   "metadata": {},
   "source": [
    "> For C-2, C-3 and First Hearing Date, we don't consider the outliers since we will be turning them into binary variables later on.\n",
    "\n",
    "> But accident date and assembly we should look into clearing dates that are too old. As we can seer outliers in Accident Date going back to 1960. We will cap the lower bound with percentile 0.01."
   ]
  },
  {
   "cell_type": "code",
   "execution_count": 49,
   "metadata": {},
   "outputs": [
    {
     "data": {
      "text/html": [
       "<div>\n",
       "<style scoped>\n",
       "    .dataframe tbody tr th:only-of-type {\n",
       "        vertical-align: middle;\n",
       "    }\n",
       "\n",
       "    .dataframe tbody tr th {\n",
       "        vertical-align: top;\n",
       "    }\n",
       "\n",
       "    .dataframe thead th {\n",
       "        text-align: right;\n",
       "    }\n",
       "</style>\n",
       "<table border=\"1\" class=\"dataframe\">\n",
       "  <thead>\n",
       "    <tr style=\"text-align: right;\">\n",
       "      <th></th>\n",
       "      <th>Accident Date</th>\n",
       "      <th>Assembly Date</th>\n",
       "    </tr>\n",
       "  </thead>\n",
       "  <tbody>\n",
       "    <tr>\n",
       "      <th>count</th>\n",
       "      <td>401797</td>\n",
       "      <td>401797</td>\n",
       "    </tr>\n",
       "    <tr>\n",
       "      <th>mean</th>\n",
       "      <td>2021-04-28 20:36:42.843724800</td>\n",
       "      <td>2021-07-19 18:49:45.155190784</td>\n",
       "    </tr>\n",
       "    <tr>\n",
       "      <th>min</th>\n",
       "      <td>1961-09-06 00:00:00</td>\n",
       "      <td>2020-01-01 00:00:00</td>\n",
       "    </tr>\n",
       "    <tr>\n",
       "      <th>25%</th>\n",
       "      <td>2020-09-14 00:00:00</td>\n",
       "      <td>2020-10-27 00:00:00</td>\n",
       "    </tr>\n",
       "    <tr>\n",
       "      <th>50%</th>\n",
       "      <td>2021-06-26 00:00:00</td>\n",
       "      <td>2021-07-30 00:00:00</td>\n",
       "    </tr>\n",
       "    <tr>\n",
       "      <th>75%</th>\n",
       "      <td>2022-03-21 00:00:00</td>\n",
       "      <td>2022-04-19 00:00:00</td>\n",
       "    </tr>\n",
       "    <tr>\n",
       "      <th>max</th>\n",
       "      <td>2022-12-30 00:00:00</td>\n",
       "      <td>2022-12-31 00:00:00</td>\n",
       "    </tr>\n",
       "  </tbody>\n",
       "</table>\n",
       "</div>"
      ],
      "text/plain": [
       "                       Accident Date                  Assembly Date\n",
       "count                         401797                         401797\n",
       "mean   2021-04-28 20:36:42.843724800  2021-07-19 18:49:45.155190784\n",
       "min              1961-09-06 00:00:00            2020-01-01 00:00:00\n",
       "25%              2020-09-14 00:00:00            2020-10-27 00:00:00\n",
       "50%              2021-06-26 00:00:00            2021-07-30 00:00:00\n",
       "75%              2022-03-21 00:00:00            2022-04-19 00:00:00\n",
       "max              2022-12-30 00:00:00            2022-12-31 00:00:00"
      ]
     },
     "execution_count": 49,
     "metadata": {},
     "output_type": "execute_result"
    }
   ],
   "source": [
    "dates = ['Accident Date', 'Assembly Date']\n",
    "\n",
    "X_train[dates].describe()"
   ]
  },
  {
   "cell_type": "code",
   "execution_count": 50,
   "metadata": {},
   "outputs": [
    {
     "name": "stdout",
     "output_type": "stream",
     "text": [
      "Dropped 4017 rows from training data based on lower bound.\n",
      "Capped accident dates in val data to the lower bound: 2018-06-15 00:00:00.\n",
      "Capped accident dates in test data to the lower bound: 2018-06-15 00:00:00.\n"
     ]
    }
   ],
   "source": [
    "# Process training data and compute lower bound\n",
    "X_train_copy, train_lower_bound = handle_outliers_accident_date(\n",
    "    X_train_copy, 'train', column_name='Accident Date')\n",
    "\n",
    "# Apply the same lower bound to validation and test data\n",
    "X_val_copy = handle_outliers_accident_date(\n",
    "    X_val_copy, 'val', lower_bound=train_lower_bound, column_name='Accident Date')\n",
    "\n",
    "X_test_copy = handle_outliers_accident_date(\n",
    "    X_test_copy, 'test', lower_bound=train_lower_bound, column_name='Accident Date')"
   ]
  },
  {
   "cell_type": "code",
   "execution_count": 51,
   "metadata": {},
   "outputs": [
    {
     "data": {
      "text/html": [
       "<div>\n",
       "<style scoped>\n",
       "    .dataframe tbody tr th:only-of-type {\n",
       "        vertical-align: middle;\n",
       "    }\n",
       "\n",
       "    .dataframe tbody tr th {\n",
       "        vertical-align: top;\n",
       "    }\n",
       "\n",
       "    .dataframe thead th {\n",
       "        text-align: right;\n",
       "    }\n",
       "</style>\n",
       "<table border=\"1\" class=\"dataframe\">\n",
       "  <thead>\n",
       "    <tr style=\"text-align: right;\">\n",
       "      <th></th>\n",
       "      <th>Accident Date</th>\n",
       "      <th>Assembly Date</th>\n",
       "    </tr>\n",
       "  </thead>\n",
       "  <tbody>\n",
       "    <tr>\n",
       "      <th>count</th>\n",
       "      <td>397780</td>\n",
       "      <td>397780</td>\n",
       "    </tr>\n",
       "    <tr>\n",
       "      <th>mean</th>\n",
       "      <td>2021-06-18 10:49:22.103675136</td>\n",
       "      <td>2021-07-20 14:09:47.251244288</td>\n",
       "    </tr>\n",
       "    <tr>\n",
       "      <th>min</th>\n",
       "      <td>2018-06-15 00:00:00</td>\n",
       "      <td>2020-01-01 00:00:00</td>\n",
       "    </tr>\n",
       "    <tr>\n",
       "      <th>25%</th>\n",
       "      <td>2020-09-22 00:00:00</td>\n",
       "      <td>2020-10-27 00:00:00</td>\n",
       "    </tr>\n",
       "    <tr>\n",
       "      <th>50%</th>\n",
       "      <td>2021-07-01 00:00:00</td>\n",
       "      <td>2021-08-02 00:00:00</td>\n",
       "    </tr>\n",
       "    <tr>\n",
       "      <th>75%</th>\n",
       "      <td>2022-03-23 00:00:00</td>\n",
       "      <td>2022-04-20 00:00:00</td>\n",
       "    </tr>\n",
       "    <tr>\n",
       "      <th>max</th>\n",
       "      <td>2022-12-30 00:00:00</td>\n",
       "      <td>2022-12-31 00:00:00</td>\n",
       "    </tr>\n",
       "  </tbody>\n",
       "</table>\n",
       "</div>"
      ],
      "text/plain": [
       "                       Accident Date                  Assembly Date\n",
       "count                         397780                         397780\n",
       "mean   2021-06-18 10:49:22.103675136  2021-07-20 14:09:47.251244288\n",
       "min              2018-06-15 00:00:00            2020-01-01 00:00:00\n",
       "25%              2020-09-22 00:00:00            2020-10-27 00:00:00\n",
       "50%              2021-07-01 00:00:00            2021-08-02 00:00:00\n",
       "75%              2022-03-23 00:00:00            2022-04-20 00:00:00\n",
       "max              2022-12-30 00:00:00            2022-12-31 00:00:00"
      ]
     },
     "execution_count": 51,
     "metadata": {},
     "output_type": "execute_result"
    }
   ],
   "source": [
    "X_train_copy[dates].describe()"
   ]
  },
  {
   "cell_type": "code",
   "execution_count": 52,
   "metadata": {},
   "outputs": [
    {
     "data": {
      "image/png": "[encoded data removed]",
      "text/plain": [
       "<Figure size 1500x600 with 2 Axes>"
      ]
     },
     "metadata": {},
     "output_type": "display_data"
    }
   ],
   "source": [
    "def plot_accident_date_distributions_separate(datasets, labels, column_name='Accident Date'):\n",
    "    \"\"\"\n",
    "    Plot the distributions of Accident Date for multiple datasets in separate subplots.\n",
    "\n",
    "    Parameters:\n",
    "    - datasets: List of DataFrames.\n",
    "    - labels: List of labels for the datasets.\n",
    "    - column_name: Name of the accident date column to plot.\n",
    "    \"\"\"\n",
    "    fig, axes = plt.subplots(1, 2, figsize=(15, 6), sharey=True)\n",
    "    \n",
    "    for ax, data, label in zip(axes, datasets, labels):\n",
    "        sns.kdeplot(data[column_name], ax=ax, fill=True, alpha=0.5)\n",
    "        ax.set_title(f'{label} Distribution')\n",
    "        ax.set_xlabel('Accident Date')\n",
    "        ax.set_ylabel('Density')\n",
    "        ax.tick_params(axis='x', rotation=45)\n",
    "\n",
    "    plt.suptitle('Accident Date Distributions Before and After Processing')\n",
    "    plt.tight_layout()\n",
    "    plt.show()\n",
    "\n",
    "# Apply the function to plot the transformed datasets\n",
    "plot_accident_date_distributions_separate(\n",
    "    [X_train, X_train_copy],\n",
    "    ['X_train Before', 'X_train After'],\n",
    "    column_name='Accident Date'\n",
    ")"
   ]
  },
  {
   "cell_type": "markdown",
   "metadata": {},
   "source": [
    "### 4.2 Numerical Outliers"
   ]
  },
  {
   "cell_type": "code",
   "execution_count": 53,
   "metadata": {},
   "outputs": [],
   "source": [
    "numerical_cols = ['Age at Injury','Average Weekly Wage','Birth Year','IME-4 Count','Number of Dependents']"
   ]
  },
  {
   "cell_type": "code",
   "execution_count": 54,
   "metadata": {},
   "outputs": [
    {
     "data": {
      "text/html": [
       "<div>\n",
       "<style scoped>\n",
       "    .dataframe tbody tr th:only-of-type {\n",
       "        vertical-align: middle;\n",
       "    }\n",
       "\n",
       "    .dataframe tbody tr th {\n",
       "        vertical-align: top;\n",
       "    }\n",
       "\n",
       "    .dataframe thead th {\n",
       "        text-align: right;\n",
       "    }\n",
       "</style>\n",
       "<table border=\"1\" class=\"dataframe\">\n",
       "  <thead>\n",
       "    <tr style=\"text-align: right;\">\n",
       "      <th></th>\n",
       "      <th>Age at Injury</th>\n",
       "      <th>Average Weekly Wage</th>\n",
       "      <th>Birth Year</th>\n",
       "      <th>IME-4 Count</th>\n",
       "      <th>Number of Dependents</th>\n",
       "    </tr>\n",
       "  </thead>\n",
       "  <tbody>\n",
       "    <tr>\n",
       "      <th>count</th>\n",
       "      <td>398022.00</td>\n",
       "      <td>381769.00</td>\n",
       "      <td>363851.00</td>\n",
       "      <td>92941.00</td>\n",
       "      <td>401797.00</td>\n",
       "    </tr>\n",
       "    <tr>\n",
       "      <th>mean</th>\n",
       "      <td>42.50</td>\n",
       "      <td>485.92</td>\n",
       "      <td>1977.81</td>\n",
       "      <td>3.21</td>\n",
       "      <td>3.01</td>\n",
       "    </tr>\n",
       "    <tr>\n",
       "      <th>std</th>\n",
       "      <td>13.71</td>\n",
       "      <td>5157.47</td>\n",
       "      <td>13.83</td>\n",
       "      <td>2.82</td>\n",
       "      <td>2.00</td>\n",
       "    </tr>\n",
       "    <tr>\n",
       "      <th>min</th>\n",
       "      <td>1.00</td>\n",
       "      <td>0.00</td>\n",
       "      <td>1900.00</td>\n",
       "      <td>1.00</td>\n",
       "      <td>0.00</td>\n",
       "    </tr>\n",
       "    <tr>\n",
       "      <th>25%</th>\n",
       "      <td>31.00</td>\n",
       "      <td>0.00</td>\n",
       "      <td>1967.00</td>\n",
       "      <td>1.00</td>\n",
       "      <td>1.00</td>\n",
       "    </tr>\n",
       "    <tr>\n",
       "      <th>50%</th>\n",
       "      <td>42.00</td>\n",
       "      <td>0.00</td>\n",
       "      <td>1978.00</td>\n",
       "      <td>2.00</td>\n",
       "      <td>3.00</td>\n",
       "    </tr>\n",
       "    <tr>\n",
       "      <th>75%</th>\n",
       "      <td>54.00</td>\n",
       "      <td>841.25</td>\n",
       "      <td>1989.00</td>\n",
       "      <td>4.00</td>\n",
       "      <td>5.00</td>\n",
       "    </tr>\n",
       "    <tr>\n",
       "      <th>max</th>\n",
       "      <td>117.00</td>\n",
       "      <td>2659398.00</td>\n",
       "      <td>2018.00</td>\n",
       "      <td>73.00</td>\n",
       "      <td>6.00</td>\n",
       "    </tr>\n",
       "  </tbody>\n",
       "</table>\n",
       "</div>"
      ],
      "text/plain": [
       "       Age at Injury  Average Weekly Wage  Birth Year  IME-4 Count  \\\n",
       "count      398022.00            381769.00   363851.00     92941.00   \n",
       "mean           42.50               485.92     1977.81         3.21   \n",
       "std            13.71              5157.47       13.83         2.82   \n",
       "min             1.00                 0.00     1900.00         1.00   \n",
       "25%            31.00                 0.00     1967.00         1.00   \n",
       "50%            42.00                 0.00     1978.00         2.00   \n",
       "75%            54.00               841.25     1989.00         4.00   \n",
       "max           117.00           2659398.00     2018.00        73.00   \n",
       "\n",
       "       Number of Dependents  \n",
       "count             401797.00  \n",
       "mean                   3.01  \n",
       "std                    2.00  \n",
       "min                    0.00  \n",
       "25%                    1.00  \n",
       "50%                    3.00  \n",
       "75%                    5.00  \n",
       "max                    6.00  "
      ]
     },
     "execution_count": 54,
     "metadata": {},
     "output_type": "execute_result"
    }
   ],
   "source": [
    "X_train[numerical_cols].describe().round(2)"
   ]
  },
  {
   "cell_type": "markdown",
   "metadata": {},
   "source": [
    "#### 4.2.1 Age at Injury"
   ]
  },
  {
   "cell_type": "markdown",
   "metadata": {},
   "source": [
    "> Age at Injury 1 and 117, given that this variable is close to beign normally distributed. We will identify the outliers using z-score to find the upper bound, which is 83 years old, while the lower bound will be set to 14 given the minimum working age in NY. \n",
    "\n",
    "> We will apply these lower bound annd upper bound to X_train, by dropping the outliers. While capping in X_val and X_test."
   ]
  },
  {
   "cell_type": "code",
   "execution_count": 55,
   "metadata": {},
   "outputs": [
    {
     "name": "stdout",
     "output_type": "stream",
     "text": [
      "Dataset: train\n",
      "Number of outliers detected: 309\n",
      "Lower bound: 14\n",
      "Upper bound: 83.70\n",
      "----------------------------------------\n",
      "Dataset: val\n",
      "Number of outliers detected: 141\n",
      "Lower bound: 14\n",
      "Upper bound: 83.70\n",
      "----------------------------------------\n",
      "Dataset: test\n",
      "Number of outliers detected: 633\n",
      "Lower bound: 14\n",
      "Upper bound: 83.70\n",
      "----------------------------------------\n"
     ]
    }
   ],
   "source": [
    "#AGE AT INJURY\n",
    "# Training: Compute train stats and drop outliers\n",
    "X_train_copy, train_stats = handle_outliers_age_birth(X_train_copy, dataset_type='train')\n",
    "\n",
    "# Validation: Use train stats and cap outliers\n",
    "X_val_copy = handle_outliers_age_birth(X_val_copy, dataset_type='val', train_stats=train_stats)\n",
    "\n",
    "# Test: Use train stats and cap outliers\n",
    "X_test_copy = handle_outliers_age_birth(X_test_copy, dataset_type='test', train_stats=train_stats)\n"
   ]
  },
  {
   "cell_type": "markdown",
   "metadata": {},
   "source": [
    "#### 4.2.2 Birth Year"
   ]
  },
  {
   "cell_type": "markdown",
   "metadata": {},
   "source": [
    "> For rows that have both Birth Year and Accident Date, but no Age at Injury. Calculate the difference and check if it is between the age range of [14,83]."
   ]
  },
  {
   "cell_type": "code",
   "execution_count": 56,
   "metadata": {},
   "outputs": [
    {
     "name": "stdout",
     "output_type": "stream",
     "text": [
      "Number of rows where Birth Year set to NaN: 89\n",
      "Number of rows where Birth Year set to NaN: 55\n",
      "Number of rows where Birth Year set to NaN: 189\n"
     ]
    }
   ],
   "source": [
    "# Apply to X_train\n",
    "X_train_copy = process_birth_year(X_train_copy)\n",
    "\n",
    "# Apply to X_val and X_test\n",
    "X_val_copy = process_birth_year(X_val_copy)\n",
    "X_test_copy = process_birth_year(X_test_copy)\n"
   ]
  },
  {
   "cell_type": "markdown",
   "metadata": {},
   "source": [
    "#### 4.2.3 IME-4 Count"
   ]
  },
  {
   "cell_type": "code",
   "execution_count": 57,
   "metadata": {},
   "outputs": [
    {
     "name": "stdout",
     "output_type": "stream",
     "text": [
      "Removed: 121 outliers\n"
     ]
    }
   ],
   "source": [
    "# Removing outliers from X_train (using threshold 20)\n",
    "X_train_copy = remove_ime4_outliers_train(X_train_copy, 'IME-4 Count', threshold=20)\n",
    "\n",
    "# Capping outliers for X_val and X_test (using threshold 20)\n",
    "X_val_copy = cap_ime4_outliers(X_val_copy, 'IME-4 Count', threshold=20)\n",
    "X_test_copy = cap_ime4_outliers(X_test_copy, 'IME-4 Count', threshold=20)"
   ]
  },
  {
   "cell_type": "markdown",
   "metadata": {},
   "source": [
    "#### 4.2.3 Average Weekly Wage"
   ]
  },
  {
   "cell_type": "code",
   "execution_count": 58,
   "metadata": {},
   "outputs": [
    {
     "data": {
      "text/plain": [
       "count     146603.00\n",
       "mean        1261.75\n",
       "std         8263.45\n",
       "min           17.41\n",
       "25%          700.00\n",
       "50%         1069.15\n",
       "75%         1579.59\n",
       "max      2659398.00\n",
       "Name: Average Weekly Wage, dtype: float64"
      ]
     },
     "execution_count": 58,
     "metadata": {},
     "output_type": "execute_result"
    }
   ],
   "source": [
    "X_train_copy[X_train_copy['Average Weekly Wage'] > 0]['Average Weekly Wage'].describe().round(2)"
   ]
  },
  {
   "cell_type": "code",
   "execution_count": 59,
   "metadata": {},
   "outputs": [
    {
     "name": "stdout",
     "output_type": "stream",
     "text": [
      "Lower Bound: 206.5030519152079\n",
      "Upper Bound: 5354.480186803616\n",
      "Removed 1562 outliers from the training set.\n"
     ]
    }
   ],
   "source": [
    "X_train_copy, X_val_copy, X_test_copy = handle_outliers_with_log_iqr(X_train_copy, X_val_copy, X_test_copy, column='Average Weekly Wage')"
   ]
  },
  {
   "cell_type": "code",
   "execution_count": 60,
   "metadata": {},
   "outputs": [
    {
     "data": {
      "text/plain": [
       "396097"
      ]
     },
     "execution_count": 60,
     "metadata": {},
     "output_type": "execute_result"
    }
   ],
   "source": [
    "X_train_copy.shape[0]"
   ]
  },
  {
   "cell_type": "code",
   "execution_count": 61,
   "metadata": {},
   "outputs": [
    {
     "data": {
      "text/plain": [
       "5700"
      ]
     },
     "execution_count": 61,
     "metadata": {},
     "output_type": "execute_result"
    }
   ],
   "source": [
    "X_train.shape[0]-X_train_copy.shape[0]"
   ]
  },
  {
   "cell_type": "code",
   "execution_count": 62,
   "metadata": {},
   "outputs": [
    {
     "data": {
      "text/plain": [
       "1.4186268190155724"
      ]
     },
     "execution_count": 62,
     "metadata": {},
     "output_type": "execute_result"
    }
   ],
   "source": [
    "(5700/X_train.shape[0])*100"
   ]
  },
  {
   "cell_type": "code",
   "execution_count": 63,
   "metadata": {},
   "outputs": [],
   "source": [
    "X_train = X_train_copy.copy()\n",
    "X_val = X_val_copy.copy()\n",
    "X_test = X_test_copy.copy()\n",
    "\n",
    "# after we have cleaned the data we need to exclude the index out of the y_train and y_val \n",
    "y_train = y_train.loc[X_train.index]"
   ]
  },
  {
   "cell_type": "markdown",
   "metadata": {},
   "source": [
    "## 5. Missing values"
   ]
  },
  {
   "cell_type": "code",
   "execution_count": 64,
   "metadata": {},
   "outputs": [
    {
     "data": {
      "text/html": [
       "<div>\n",
       "<style scoped>\n",
       "    .dataframe tbody tr th:only-of-type {\n",
       "        vertical-align: middle;\n",
       "    }\n",
       "\n",
       "    .dataframe tbody tr th {\n",
       "        vertical-align: top;\n",
       "    }\n",
       "\n",
       "    .dataframe thead th {\n",
       "        text-align: right;\n",
       "    }\n",
       "</style>\n",
       "<table border=\"1\" class=\"dataframe\">\n",
       "  <thead>\n",
       "    <tr style=\"text-align: right;\">\n",
       "      <th></th>\n",
       "      <th>Missing Count</th>\n",
       "      <th>Missing %</th>\n",
       "    </tr>\n",
       "  </thead>\n",
       "  <tbody>\n",
       "    <tr>\n",
       "      <th>IME-4 Count</th>\n",
       "      <td>304033</td>\n",
       "      <td>76.76</td>\n",
       "    </tr>\n",
       "    <tr>\n",
       "      <th>First Hearing Date</th>\n",
       "      <td>292037</td>\n",
       "      <td>73.73</td>\n",
       "    </tr>\n",
       "    <tr>\n",
       "      <th>C-3 Date</th>\n",
       "      <td>266431</td>\n",
       "      <td>67.26</td>\n",
       "    </tr>\n",
       "    <tr>\n",
       "      <th>Calculated Age at Injury</th>\n",
       "      <td>37372</td>\n",
       "      <td>9.44</td>\n",
       "    </tr>\n",
       "    <tr>\n",
       "      <th>Birth Year</th>\n",
       "      <td>37372</td>\n",
       "      <td>9.44</td>\n",
       "    </tr>\n",
       "    <tr>\n",
       "      <th>Medical Fee Region</th>\n",
       "      <td>22654</td>\n",
       "      <td>5.72</td>\n",
       "    </tr>\n",
       "    <tr>\n",
       "      <th>Average Weekly Wage</th>\n",
       "      <td>19817</td>\n",
       "      <td>5.00</td>\n",
       "    </tr>\n",
       "    <tr>\n",
       "      <th>Zip Code</th>\n",
       "      <td>19638</td>\n",
       "      <td>4.96</td>\n",
       "    </tr>\n",
       "    <tr>\n",
       "      <th>WCIO Part Of Body Description</th>\n",
       "      <td>11228</td>\n",
       "      <td>2.83</td>\n",
       "    </tr>\n",
       "    <tr>\n",
       "      <th>WCIO Part Of Body Code</th>\n",
       "      <td>11228</td>\n",
       "      <td>2.83</td>\n",
       "    </tr>\n",
       "    <tr>\n",
       "      <th>WCIO Nature of Injury Description</th>\n",
       "      <td>10113</td>\n",
       "      <td>2.55</td>\n",
       "    </tr>\n",
       "    <tr>\n",
       "      <th>WCIO Nature of Injury Code</th>\n",
       "      <td>10113</td>\n",
       "      <td>2.55</td>\n",
       "    </tr>\n",
       "    <tr>\n",
       "      <th>WCIO Cause of Injury Description</th>\n",
       "      <td>10098</td>\n",
       "      <td>2.55</td>\n",
       "    </tr>\n",
       "    <tr>\n",
       "      <th>WCIO Cause of Injury Code</th>\n",
       "      <td>10098</td>\n",
       "      <td>2.55</td>\n",
       "    </tr>\n",
       "    <tr>\n",
       "      <th>C-2 Date</th>\n",
       "      <td>9552</td>\n",
       "      <td>2.41</td>\n",
       "    </tr>\n",
       "    <tr>\n",
       "      <th>Industry Code</th>\n",
       "      <td>6434</td>\n",
       "      <td>1.62</td>\n",
       "    </tr>\n",
       "    <tr>\n",
       "      <th>Industry Code Description</th>\n",
       "      <td>6434</td>\n",
       "      <td>1.62</td>\n",
       "    </tr>\n",
       "    <tr>\n",
       "      <th>Age at Injury</th>\n",
       "      <td>3895</td>\n",
       "      <td>0.98</td>\n",
       "    </tr>\n",
       "    <tr>\n",
       "      <th>Gender</th>\n",
       "      <td>3189</td>\n",
       "      <td>0.81</td>\n",
       "    </tr>\n",
       "    <tr>\n",
       "      <th>Carrier Type</th>\n",
       "      <td>1123</td>\n",
       "      <td>0.28</td>\n",
       "    </tr>\n",
       "    <tr>\n",
       "      <th>County of Injury</th>\n",
       "      <td>779</td>\n",
       "      <td>0.20</td>\n",
       "    </tr>\n",
       "    <tr>\n",
       "      <th>Alternative Dispute Resolution</th>\n",
       "      <td>3</td>\n",
       "      <td>0.00</td>\n",
       "    </tr>\n",
       "  </tbody>\n",
       "</table>\n",
       "</div>"
      ],
      "text/plain": [
       "                                   Missing Count  Missing %\n",
       "IME-4 Count                               304033      76.76\n",
       "First Hearing Date                        292037      73.73\n",
       "C-3 Date                                  266431      67.26\n",
       "Calculated Age at Injury                   37372       9.44\n",
       "Birth Year                                 37372       9.44\n",
       "Medical Fee Region                         22654       5.72\n",
       "Average Weekly Wage                        19817       5.00\n",
       "Zip Code                                   19638       4.96\n",
       "WCIO Part Of Body Description              11228       2.83\n",
       "WCIO Part Of Body Code                     11228       2.83\n",
       "WCIO Nature of Injury Description          10113       2.55\n",
       "WCIO Nature of Injury Code                 10113       2.55\n",
       "WCIO Cause of Injury Description           10098       2.55\n",
       "WCIO Cause of Injury Code                  10098       2.55\n",
       "C-2 Date                                    9552       2.41\n",
       "Industry Code                               6434       1.62\n",
       "Industry Code Description                   6434       1.62\n",
       "Age at Injury                               3895       0.98\n",
       "Gender                                      3189       0.81\n",
       "Carrier Type                                1123       0.28\n",
       "County of Injury                             779       0.20\n",
       "Alternative Dispute Resolution                 3       0.00"
      ]
     },
     "execution_count": 64,
     "metadata": {},
     "output_type": "execute_result"
    }
   ],
   "source": [
    "missing_data(X_train)"
   ]
  },
  {
   "cell_type": "code",
   "execution_count": 65,
   "metadata": {},
   "outputs": [
    {
     "data": {
      "text/plain": [
       "<Axes: >"
      ]
     },
     "execution_count": 65,
     "metadata": {},
     "output_type": "execute_result"
    },
    {
     "data": {
      "image/png": "[encoded data removed]",
      "text/plain": [
       "<Figure size 2000x1200 with 2 Axes>"
      ]
     },
     "metadata": {},
     "output_type": "display_data"
    }
   ],
   "source": [
    "msno.heatmap(WCB)\n"
   ]
  },
  {
   "cell_type": "markdown",
   "metadata": {},
   "source": [
    "> **1.** IME-4 Count: fillna(0). </br>\n",
    "> **2.** Birth Year: a) Fill using Accident Date and Age at Injury, b) Calculate the median of Age At Injury in the places where these exists accident date to prevent negative ages, c) fill with median of birth year.</br>\n",
    "> **3.** Medical Fee Region: Proportionaly impute </br>\n",
    "> **4.** Zip Code: NaN fill with UNKNOWN </br>\n",
    "> **5.** Cases with all WCIO codes and descriptions missing: fill with code 100 and Unknown, considering it as being cases where the workers just didn't fill. </br>\n",
    "> **6.** \n",
    "\n",
    "\n",
    "> AWW given that we know that the AWW in NY is $1,757.19 , we will impute this value.Since our data goes from 2018 to 2022. While test goes up to 2024, this might be more realistic than imputing just the mean."
   ]
  },
  {
   "cell_type": "markdown",
   "metadata": {},
   "source": [
    "### Pipeline for missing"
   ]
  },
  {
   "cell_type": "code",
   "execution_count": 66,
   "metadata": {},
   "outputs": [],
   "source": [
    "from missing_values_transformers import (FillNaNValues,\n",
    "                                         ImputeBirthYearFromAccident, \n",
    "                                         ImputeBirthYearWithMedian, \n",
    "                                         ImputeProportionalTransformer,\n",
    "                                         FillMissingDescriptionsWithCode,\n",
    "                                         ImputeAccidentDate,\n",
    "                                         ImputeAgeAtInjury,\n",
    "                                         ImputeProportionalTransformer,\n",
    "                                         ImputeUsingModeAfterGrouping,\n",
    "                                         FillMissingDescriptionsWithMapping,\n",
    "                                         ImputeWithUnknownWCIO)\n",
    "\n",
    "#Get WCIO columns\n",
    "columns_code = ['WCIO Part Of Body Code', 'WCIO Cause of Injury Code', 'WCIO Nature of Injury Code']\n",
    "columns_desc = ['WCIO Part Of Body Description', 'WCIO Cause of Injury Description', 'WCIO Nature of Injury Description']\n",
    "\n",
    "\n",
    "# Create the pipeline with the preprocessor and custom transformers\n",
    "missing_pipeline = Pipeline([\n",
    "    ('fill_ime4', FillNaNValues(column='IME-4 Count', fill_value=0)),  # Custom transformer for 'IME-4 Count'\n",
    "    ('fill_zip_code', FillNaNValues(column='Zip Code', fill_value='UNKNOWN')),\n",
    "    ('impute_birth_year_from_accident', ImputeBirthYearFromAccident()),\n",
    "    ('impute_birth_year_with_median_age_and_birth', ImputeBirthYearWithMedian()),\n",
    "    ('impute_medical_fee_region', ImputeProportionalTransformer(column='Medical Fee Region')),\n",
    "    ('impute_industry_code', ImputeProportionalTransformer(column='Industry Code')),\n",
    "    ('fill_missing_descriptions', FillMissingDescriptionsWithCode(\n",
    "        code_column='Industry Code', description_column='Industry Code Description')),\n",
    "    ('impute_accident_date_with_assembly', ImputeAccidentDate()),\n",
    "    ('impute_age_at_injury',ImputeAgeAtInjury()),\n",
    "    ('impute_alternative_dispute_resolution', ImputeProportionalTransformer(column='Alternative Dispute Resolution')),\n",
    "    ('impute_all_wcio_missing_with_unknown', ImputeWithUnknownWCIO(columns_code=columns_code, columns_desc=columns_desc)),\n",
    "    ('impute_wcio_part_of_body_code', ImputeUsingModeAfterGrouping(\n",
    "        grouping_column='WCIO Cause of Injury Code', column_to_impute='WCIO Part Of Body Code')),\n",
    "    ('fill_missing_descriptions_part_of_body', FillMissingDescriptionsWithMapping(\n",
    "        code_column='WCIO Part Of Body Code', description_column='WCIO Part Of Body Description')),\n",
    "    ('impute_wcio_cause_of_injury_code', ImputeUsingModeAfterGrouping(\n",
    "        grouping_column='WCIO Part Of Body Code', column_to_impute='WCIO Cause of Injury Code')),\n",
    "    ('fill_missing_descriptions_cause_of_injury', FillMissingDescriptionsWithMapping(\n",
    "        code_column='WCIO Cause of Injury Code', description_column='WCIO Cause of Injury Description')),\n",
    "    ('impute_wcio_nature_of_injury_code', ImputeUsingModeAfterGrouping(\n",
    "        grouping_column='WCIO Part Of Body Code', column_to_impute='WCIO Nature of Injury Code')),\n",
    "    ('fill_missing_descriptions_nature_of_injury', FillMissingDescriptionsWithMapping(\n",
    "        code_column='WCIO Nature of Injury Code', description_column='WCIO Nature of Injury Description')),\n",
    "    ('impute_gender', ImputeProportionalTransformer(column='Gender')),\n",
    "    ('impute_carrier_type', ImputeProportionalTransformer(column='Carrier Type')),\n",
    "    ('impute_county_of_injury', ImputeProportionalTransformer(column='County of Injury')),\n",
    "    ('fill_aww_with_nys_aww',  FillNaNValues(column='Average Weekly Wage', fill_value=1757.19))\n",
    "])\n",
    "\n",
    "X_train = missing_pipeline.fit_transform(X_train)\n",
    "X_val = missing_pipeline.transform(X_val)\n",
    "X_test = missing_pipeline.transform(X_test)\n"
   ]
  },
  {
   "cell_type": "code",
   "execution_count": 73,
   "metadata": {},
   "outputs": [
    {
     "data": {
      "text/html": [
       "<div>\n",
       "<style scoped>\n",
       "    .dataframe tbody tr th:only-of-type {\n",
       "        vertical-align: middle;\n",
       "    }\n",
       "\n",
       "    .dataframe tbody tr th {\n",
       "        vertical-align: top;\n",
       "    }\n",
       "\n",
       "    .dataframe thead th {\n",
       "        text-align: right;\n",
       "    }\n",
       "</style>\n",
       "<table border=\"1\" class=\"dataframe\">\n",
       "  <thead>\n",
       "    <tr style=\"text-align: right;\">\n",
       "      <th></th>\n",
       "      <th>Missing Count</th>\n",
       "      <th>Missing %</th>\n",
       "    </tr>\n",
       "  </thead>\n",
       "  <tbody>\n",
       "    <tr>\n",
       "      <th>First Hearing Date</th>\n",
       "      <td>292037</td>\n",
       "      <td>73.73</td>\n",
       "    </tr>\n",
       "    <tr>\n",
       "      <th>C-3 Date</th>\n",
       "      <td>266431</td>\n",
       "      <td>67.26</td>\n",
       "    </tr>\n",
       "    <tr>\n",
       "      <th>C-2 Date</th>\n",
       "      <td>9552</td>\n",
       "      <td>2.41</td>\n",
       "    </tr>\n",
       "  </tbody>\n",
       "</table>\n",
       "</div>"
      ],
      "text/plain": [
       "                    Missing Count  Missing %\n",
       "First Hearing Date         292037      73.73\n",
       "C-3 Date                   266431      67.26\n",
       "C-2 Date                     9552       2.41"
      ]
     },
     "execution_count": 73,
     "metadata": {},
     "output_type": "execute_result"
    }
   ],
   "source": [
    "missing_data(X_train)"
   ]
  },
  {
   "cell_type": "markdown",
   "metadata": {},
   "source": [
    "> What if C-2 Date wasn't binary? As there are only 2% missing."
   ]
  },
  {
   "cell_type": "code",
   "execution_count": 94,
   "metadata": {},
   "outputs": [],
   "source": [
    "df = X_train.copy()"
   ]
  },
  {
   "cell_type": "code",
   "execution_count": 96,
   "metadata": {},
   "outputs": [],
   "source": [
    "df['C-2_Days_Difference'] = (df['C-2 Date'] - df['Accident Date']).dt.days\n",
    "mean_days_difference = df['C-2_Days_Difference'].mean()\n",
    "df.loc[df['C-2 Date'].isnull(), 'C-2 Date'] = df['Accident Date'] + pd.to_timedelta(mean_days_difference, unit='D')"
   ]
  },
  {
   "cell_type": "code",
   "execution_count": 100,
   "metadata": {},
   "outputs": [],
   "source": [
    "# X_train['C-2_Days_Difference'] = (X_train['C-2 Date'] - X_train['Accident Date']).dt.days\n",
    "# mean_days_difference = X_train['C-2_Days_Difference'].mean()\n",
    "\n",
    "# for dataset in [X_train, X_val, X_test]:\n",
    "#     # Impute missing 'C-2 Date' by adding the mean difference to 'Accident Date'\n",
    "#     dataset.loc[dataset['C-2 Date'].isnull(), 'C-2 Date'] = dataset['Accident Date'] + pd.to_timedelta(mean_days_difference, unit='D')\n",
    "# X_train.drop(columns=['C-2_Days_Difference'], inplace=True)\n"
   ]
  },
  {
   "cell_type": "markdown",
   "metadata": {},
   "source": [
    "## ENCODING"
   ]
  },
  {
   "cell_type": "markdown",
   "metadata": {},
   "source": [
    "### 5.3. Dealing with Categorical Variables<a class=\"anchor\" id=\"categorical-variables\"></a>\n",
    "[Back to ToC](#toc)<br> \n",
    ">\n",
    ">- Identify categorical features in the dataset.\n",
    ">- Discuss encoding techniques (one-hot encoding, label encoding, etc.).\n",
    ">- Apply the chosen encoding method to transform categorical variables.\n",
    "\n",
    "> It is important to highlight that the __location-related variables__ (County of Injury, District Name, Medical Fee Region, Zip Code) __will not be considered in this model for the first submission__, as we want to avoid redlining/discrimination in our model. A similiar argument can be used for gender."
   ]
  },
  {
   "cell_type": "markdown",
   "metadata": {},
   "source": [
    "> **Binary Variables:**\n",
    "> - Alternative Dispute Resolution\n",
    "> - COVID-19 Indicator\n",
    "> - Attorney/Representative\n",
    "> - Gender\n",
    "> - C-2 Date           | their missing values will be encoded as 0:  10210 rows are missing\n",
    "> - C-3 Date           | their missing values will be encoded as 0: 270526 rows are missing\n",
    "> - First Hearing Date | their missing values will be encoded as 0: 296236 rows are missing\n",
    "> \n",
    "> **Low Cardinality (less than 10 unique values):**\n",
    "> - Carrier Type (lets handle this feature with Carrier Name) --> Drop carrier name. This should not be relevant\n",
    "> \n",
    "> **Multiple values more than 10:**\n",
    "> - Industry code\n",
    "> - WCIO Cause of Inj Code\n",
    "> - WCIO Nature of Inj Code\n",
    "> - WCIO Part of Body Code"
   ]
  },
  {
   "cell_type": "code",
   "execution_count": 101,
   "metadata": {},
   "outputs": [],
   "source": [
    "# create some copies of the train dataframes\n",
    "X_train_encoded = X_train.copy()\n",
    "X_val_encoded = X_val.copy()\n",
    "X_test_encoded = X_test.copy()\n",
    "\n",
    "\n",
    "\n",
    "X_train_encoded_original_index = X_train.index\n",
    "X_val_encoded_original_index = X_val.index\n",
    "X_test_encoded_original_index = X_test.index"
   ]
  },
  {
   "cell_type": "markdown",
   "metadata": {},
   "source": [
    "#### 5.3.1. Encoding Binary variables<a class=\"anchor\" id=\"binary-variables\"></a>\n",
    " [Back to ToC](#toc)<br> \n",
    "\n"
   ]
  },
  {
   "cell_type": "code",
   "execution_count": 102,
   "metadata": {},
   "outputs": [
    {
     "name": "stdout",
     "output_type": "stream",
     "text": [
      "Unique values for Alternative Dispute Resolution:\n",
      "Alternative Dispute Resolution\n",
      "N    394302\n",
      "Y      1795\n",
      "Name: count, dtype: int64 \n",
      "\n",
      "Unique values for COVID-19 Indicator:\n",
      "COVID-19 Indicator\n",
      "N    377133\n",
      "Y     18964\n",
      "Name: count, dtype: int64 \n",
      "\n",
      "Unique values for Attorney/Representative:\n",
      "Attorney/Representative\n",
      "N    271574\n",
      "Y    124523\n",
      "Name: count, dtype: int64 \n",
      "\n",
      "Unique values for Gender:\n",
      "Gender\n",
      "M    232928\n",
      "F    163169\n",
      "Name: count, dtype: int64 \n",
      "\n"
     ]
    }
   ],
   "source": [
    "# show the unique values for binary columns and how often the appear\n",
    "\n",
    "cat_variables_binary = ['Alternative Dispute Resolution', 'COVID-19 Indicator', 'Attorney/Representative', 'Gender']\n",
    "\n",
    "for value in cat_variables_binary:\n",
    "    print(f'Unique values for {value}:')\n",
    "    print(X_train_encoded[value].value_counts(dropna= False), '\\n')"
   ]
  },
  {
   "cell_type": "code",
   "execution_count": 103,
   "metadata": {},
   "outputs": [
    {
     "name": "stdout",
     "output_type": "stream",
     "text": [
      "Column 'C-2 Date':\n",
      "  NA values: 0\n",
      "  Non-NA values: 396097\n",
      "\n",
      "Column 'C-3 Date':\n",
      "  NA values: 266431\n",
      "  Non-NA values: 129666\n",
      "\n",
      "Column 'First Hearing Date':\n",
      "  NA values: 292037\n",
      "  Non-NA values: 104060\n",
      "\n"
     ]
    }
   ],
   "source": [
    "# print how many na and non na values are in the following columns C-2 Date, C-3 Date, First Hearing Date\n",
    "date_binary = ['C-2 Date', 'C-3 Date', 'First Hearing Date']\n",
    "for col in date_binary:\n",
    "    na_count = X_train_encoded[col].isna().sum()\n",
    "    non_na_count = X_train_encoded[col].notna().sum()\n",
    "    print(f\"Column '{col}':\")\n",
    "    print(f\"  NA values: {na_count}\")\n",
    "    print(f\"  Non-NA values: {non_na_count}\\n\")\n",
    "\n",
    "\n",
    "# encode the variables and put 1 for non na and 0 for na for the training set\n",
    "X_train_encoded['C-2 Date'] = X_train_encoded['C-2 Date'].notna().astype(int)\n",
    "X_train_encoded['C-3 Date'] = X_train_encoded['C-3 Date'].notna().astype(int)\n",
    "X_train_encoded['First Hearing Date'] = X_train_encoded['First Hearing Date'].notna().astype(int)\n",
    "\n",
    "# encode the variables and put 1 for non na and 0 for na for the validation set\n",
    "X_val_encoded['C-2 Date'] = X_val_encoded['C-2 Date'].notna().astype(int)\n",
    "X_val_encoded['C-3 Date'] = X_val_encoded['C-3 Date'].notna().astype(int)\n",
    "X_val_encoded['First Hearing Date'] = X_val_encoded['First Hearing Date'].notna().astype(int)\n",
    "\n",
    "# encode the variables and put 1 for non na and 0 for na for the validation set\n",
    "X_test_encoded['C-2 Date'] = X_test_encoded['C-2 Date'].notna().astype(int)\n",
    "X_test_encoded['C-3 Date'] = X_test_encoded['C-3 Date'].notna().astype(int)\n",
    "X_test_encoded['First Hearing Date'] = X_test_encoded['First Hearing Date'].notna().astype(int)"
   ]
  },
  {
   "cell_type": "code",
   "execution_count": 104,
   "metadata": {},
   "outputs": [],
   "source": [
    "# Define the binary variables and mapping\n",
    "binary_vars = ['Alternative Dispute Resolution', 'Attorney/Representative', 'COVID-19 Indicator']\n",
    "binary_mapping = {'Y': 1, 'N': 0}\n",
    "\n",
    "# Apply mapping to binary variables\n",
    "\n",
    "for var in binary_vars:\n",
    "    X_train_encoded[var] = X_train_encoded[var].map(binary_mapping)\n",
    "\n",
    "# Apply for validation set\n",
    "for var in binary_vars:\n",
    "    X_val_encoded[var] = X_val_encoded[var].map(binary_mapping)\n",
    "\n",
    "# Apply for validation set\n",
    "for var in binary_vars:\n",
    "    X_test_encoded[var] = X_test_encoded[var].map(binary_mapping)\n",
    "\n",
    "# convert all columns into int values\n",
    "# X_train_encoded[binary_vars] = X_train_encoded[binary_vars].astype(int)\n",
    "\n",
    "# Gender to binary mapping\n",
    "gender_mapping = {'M': 1, 'F': 0}\n",
    "X_train_encoded['Gender'] = X_train_encoded['Gender'].map(gender_mapping)\n",
    "X_val_encoded['Gender'] = X_val_encoded['Gender'].map(gender_mapping)\n",
    "X_test_encoded['Gender'] = X_test_encoded['Gender'].map(gender_mapping )"
   ]
  },
  {
   "cell_type": "code",
   "execution_count": 105,
   "metadata": {},
   "outputs": [
    {
     "data": {
      "text/html": [
       "<div>\n",
       "<style scoped>\n",
       "    .dataframe tbody tr th:only-of-type {\n",
       "        vertical-align: middle;\n",
       "    }\n",
       "\n",
       "    .dataframe tbody tr th {\n",
       "        vertical-align: top;\n",
       "    }\n",
       "\n",
       "    .dataframe thead th {\n",
       "        text-align: right;\n",
       "    }\n",
       "</style>\n",
       "<table border=\"1\" class=\"dataframe\">\n",
       "  <thead>\n",
       "    <tr style=\"text-align: right;\">\n",
       "      <th></th>\n",
       "      <th>Alternative Dispute Resolution</th>\n",
       "      <th>Attorney/Representative</th>\n",
       "      <th>COVID-19 Indicator</th>\n",
       "    </tr>\n",
       "    <tr>\n",
       "      <th>Claim Identifier</th>\n",
       "      <th></th>\n",
       "      <th></th>\n",
       "      <th></th>\n",
       "    </tr>\n",
       "  </thead>\n",
       "  <tbody>\n",
       "    <tr>\n",
       "      <th>6165911</th>\n",
       "      <td>0</td>\n",
       "      <td>0</td>\n",
       "      <td>0</td>\n",
       "    </tr>\n",
       "    <tr>\n",
       "      <th>6166141</th>\n",
       "      <td>0</td>\n",
       "      <td>0</td>\n",
       "      <td>0</td>\n",
       "    </tr>\n",
       "    <tr>\n",
       "      <th>6165907</th>\n",
       "      <td>0</td>\n",
       "      <td>0</td>\n",
       "      <td>0</td>\n",
       "    </tr>\n",
       "    <tr>\n",
       "      <th>6166047</th>\n",
       "      <td>0</td>\n",
       "      <td>0</td>\n",
       "      <td>0</td>\n",
       "    </tr>\n",
       "    <tr>\n",
       "      <th>6166102</th>\n",
       "      <td>0</td>\n",
       "      <td>0</td>\n",
       "      <td>0</td>\n",
       "    </tr>\n",
       "  </tbody>\n",
       "</table>\n",
       "</div>"
      ],
      "text/plain": [
       "                  Alternative Dispute Resolution  Attorney/Representative  \\\n",
       "Claim Identifier                                                            \n",
       "6165911                                        0                        0   \n",
       "6166141                                        0                        0   \n",
       "6165907                                        0                        0   \n",
       "6166047                                        0                        0   \n",
       "6166102                                        0                        0   \n",
       "\n",
       "                  COVID-19 Indicator  \n",
       "Claim Identifier                      \n",
       "6165911                            0  \n",
       "6166141                            0  \n",
       "6165907                            0  \n",
       "6166047                            0  \n",
       "6166102                            0  "
      ]
     },
     "execution_count": 105,
     "metadata": {},
     "output_type": "execute_result"
    }
   ],
   "source": [
    "X_test_encoded[binary_vars].isna().sum()\n",
    "X_test_encoded[binary_vars].head()"
   ]
  },
  {
   "cell_type": "markdown",
   "metadata": {},
   "source": [
    "#### 5.3.2. Carrier Type Encoding<a class=\"anchor\" id=\"carrier-type\"></a>\n",
    " [Back to ToC](#toc)<br> \n",
    "> * We currently have several variable names for the carrier type\n",
    "> * We want to encode the carrier type into catgeories of similiar carriers."
   ]
  },
  {
   "cell_type": "code",
   "execution_count": 106,
   "metadata": {},
   "outputs": [
    {
     "data": {
      "text/plain": [
       "Carrier Type\n",
       "1A. PRIVATE                                   196770\n",
       "3A. SELF PUBLIC                                85072\n",
       "2A. SIF                                        77051\n",
       "4A. SELF PRIVATE                               36526\n",
       "5D. SPECIAL FUND - UNKNOWN                       676\n",
       "5C. SPECIAL FUND - POI CARRIER WCB MENANDS         2\n",
       "Name: count, dtype: int64"
      ]
     },
     "execution_count": 106,
     "metadata": {},
     "output_type": "execute_result"
    }
   ],
   "source": [
    "X_train_encoded['Carrier Type'].value_counts()"
   ]
  },
  {
   "cell_type": "markdown",
   "metadata": {},
   "source": [
    "> * Group Carrier Type into smaller buckets\n",
    "> * Create dummy variables for every group. Drop the first column to avoid multicolinarity"
   ]
  },
  {
   "cell_type": "code",
   "execution_count": 107,
   "metadata": {},
   "outputs": [],
   "source": [
    "# Define the mapping\n",
    "carrier_type_mapping = {\n",
    "    '1A. PRIVATE': 'Private Insurance Carrier',\n",
    "    '2A. SIF': 'State Insurance Fund',\n",
    "    '3A. SELF PUBLIC': 'Self-insured Public Entity',\n",
    "    '4A. SELF PRIVATE': 'Self-insured Private Entity',\n",
    "    '5A. SPECIAL FUND - CONS. COMM. (SECT. 25-A)': 'Special Funds',\n",
    "    '5C. SPECIAL FUND - POI CARRIER WCB MENANDS': 'Special Funds',\n",
    "    '5D. SPECIAL FUND - UNKNOWN': 'Special Funds',\n",
    "    'UNKNOWN': 'Unknown'\n",
    "}\n",
    "\n",
    "# apply for training set\n",
    "    # Step 2: Apply the mapping to create 'Carrier Group'\n",
    "if 'Carrier Type' in X_train.columns:\n",
    "\n",
    "    X_train_encoded['Carrier Group'] = X_train_encoded['Carrier Type'].map(carrier_type_mapping)\n",
    "    X_train_encoded['Carrier Group'] =X_train_encoded['Carrier Group'].fillna('Other')\n",
    "\n",
    "\n",
    "    # Step 3: Encode 'Carrier Group' using One-Hot Encoding\n",
    "X_train_encoded =   pd.concat([X_train_encoded, pd.get_dummies(X_train_encoded['Carrier Group'],\n",
    "                        columns=['Carrier Group'],\n",
    "                        prefix='CarrierGroup',\n",
    "                        dtype=int,\n",
    "                        drop_first=True)], # Drop the first column to avoid multicollinearity\n",
    "                        axis=1\n",
    "                    )\n",
    "\n",
    "\n",
    "# apply for valdiation set\n",
    "    # Step 4: Apply the mapping to create 'Carrier Group' for x_val_encoded\n",
    "if 'Carrier Type' in X_val.columns:\n",
    "\n",
    "    X_val_encoded['Carrier Group'] = X_val_encoded['Carrier Type'].map(carrier_type_mapping)\n",
    "    X_val_encoded['Carrier Group'] =X_val_encoded['Carrier Group'].fillna('Other')\n",
    "\n",
    "\n",
    "    # Step 5: Encode 'Carrier Group' using One-Hot Encoding for X_val_encoded\n",
    "X_val_encoded = pd.concat([X_val_encoded, pd.get_dummies(X_val_encoded['Carrier Group'],\n",
    "                        columns=['Carrier Group'],\n",
    "                        prefix='CarrierGroup',\n",
    "                        dtype=int,\n",
    "                        drop_first=True)], # Drop the first column to avoid multicollinearity\n",
    "                        axis=1\n",
    "                )\n",
    "\n",
    "# apply for test set\n",
    "# Step 4: Apply the mapping to create 'Carrier Group' for x_test_encoded\n",
    "if 'Carrier Type' in X_test.columns:\n",
    "\n",
    "    X_test_encoded['Carrier Group'] = X_test_encoded['Carrier Type'].map(carrier_type_mapping)\n",
    "    X_test_encoded['Carrier Group'] = X_test_encoded['Carrier Group'].fillna('Other')\n",
    "\n",
    "\n",
    "    # Step 5: Encode 'Carrier Group' using One-Hot Encoding for X_test_encoded\n",
    "X_test_encoded = pd.concat([X_test_encoded, pd.get_dummies(X_test_encoded['Carrier Group'],\n",
    "                        columns=['Carrier Group'],\n",
    "                        prefix='CarrierGroup',\n",
    "                        dtype=int,\n",
    "                        drop_first=True)], # Drop the first column to avoid multicollinearity\n",
    "                        axis=1\n",
    "                )"
   ]
  },
  {
   "cell_type": "markdown",
   "metadata": {},
   "source": [
    "#### 5.3.3. Industry Code<a class=\"anchor\" id=\"industry-code\"></a>\n",
    "[Back to ToC](#toc)<br> \n",
    "\n",
    "\n",
    "* We currently have several variable names for the carrier type\n",
    "* We want to encode the carrier type into catgeories of similiar carriers.\n",
    "* Check values which are rare in the dataframe"
   ]
  },
  {
   "cell_type": "code",
   "execution_count": 108,
   "metadata": {},
   "outputs": [],
   "source": [
    "# apply the target encoding to the industry code column | target encoding is defined in the helper functions    \n",
    "X_train_encoded, X_val_encoded = target_encode_multiclass(X_train_encoded, X_val_encoded,  y_train, 'Industry Code', 'Claim Injury Type')\n",
    "\n",
    "# set the index back to the original index\n",
    "X_train_encoded.set_index(X_train_encoded_original_index, inplace=True)\n",
    "X_val_encoded.set_index(X_val_encoded_original_index, inplace=True)\n",
    "\n",
    "# apply to  test set / This is not working yet because we probably need to clean the test set first\n",
    "X_test_encoded = target_encode_multiclass(X_train_encoded, X_test_encoded,  y_train, 'Industry Code', 'Claim Injury Type')[1]\n",
    "# set index back to the original index\n",
    "X_test_encoded.set_index(X_test_encoded_original_index, inplace=True)"
   ]
  },
  {
   "cell_type": "code",
   "execution_count": 109,
   "metadata": {},
   "outputs": [
    {
     "data": {
      "text/plain": [
       "(396097, 396097)"
      ]
     },
     "execution_count": 109,
     "metadata": {},
     "output_type": "execute_result"
    }
   ],
   "source": [
    "X_train_encoded[['Industry Code']].shape[0], y_train[['Claim Injury Type']].shape[0]"
   ]
  },
  {
   "cell_type": "markdown",
   "metadata": {},
   "source": [
    "#### 5.3.4. WCIO Codes encoding<a class=\"anchor\" id=\"WCIO_Codes_Encoding\"></a>\n",
    " [Back to ToC](#toc)<br> \n",
    "\n",
    "\n",
    "\n",
    "\n",
    "> * In the WCIO Codes encoding section we define dictionaries that map specific WCIO Codes values to broader, generalized injury categories. \n",
    "> * This mapping is applied to columns in the training, validation, and test datasets\n",
    "> * This is used to decode the injury/cause/part into more genral buckets which we can use for dummies and TargetEncoding and for an increase in interpretability\n",
    "> * This approach might be adjusted later on\n",
    "> * We use the following table for our encoding [Decoding WCIO Codes References](https://www.guarantysupport.com/wp-content/uploads/2024/02/WCIO-Legacy.pdf)"
   ]
  },
  {
   "cell_type": "markdown",
   "metadata": {},
   "source": [
    "##### __WCIO Cause of Injury Code__"
   ]
  },
  {
   "cell_type": "code",
   "execution_count": 110,
   "metadata": {},
   "outputs": [
    {
     "data": {
      "text/plain": [
       "array([ 89.,  83.,  74.,  58.,  56.,  98., 100.,  31.,  79.,   2.,  99.,\n",
       "        45.,  60.,  57.,  66.,  19.,  17.,  97.,  80.,  81.,  85.,  27.,\n",
       "        33.,  29.,  75.,  32.,   9.,  13.,  16.,  26.,  70.,  25.,  77.,\n",
       "        30.,  68.,  12.,  53.,  90.,  55.,  87.,  67.,  54.,  28.,  76.,\n",
       "        46.,   6.,  15.,   3.,  59.,  88.,  18.,  82.,  50.,  10.,   1.,\n",
       "        20.,  61.,  94.,  48.,  86.,   5.,  78.,  52.,  65.,  69.,   4.,\n",
       "        95.,  93.,   7.,  84.,  11.,  41.,  14.,  91.,  96.,  40.,   8.,\n",
       "        47.])"
      ]
     },
     "execution_count": 110,
     "metadata": {},
     "output_type": "execute_result"
    }
   ],
   "source": [
    "X_train_encoded['WCIO Cause of Injury Code'].unique()"
   ]
  },
  {
   "cell_type": "code",
   "execution_count": 111,
   "metadata": {},
   "outputs": [
    {
     "data": {
      "text/html": [
       "<div>\n",
       "<style scoped>\n",
       "    .dataframe tbody tr th:only-of-type {\n",
       "        vertical-align: middle;\n",
       "    }\n",
       "\n",
       "    .dataframe tbody tr th {\n",
       "        vertical-align: top;\n",
       "    }\n",
       "\n",
       "    .dataframe thead th {\n",
       "        text-align: right;\n",
       "    }\n",
       "</style>\n",
       "<table border=\"1\" class=\"dataframe\">\n",
       "  <thead>\n",
       "    <tr style=\"text-align: right;\">\n",
       "      <th>WCIO Cause of Injury Code</th>\n",
       "      <th>56.0</th>\n",
       "      <th>74.0</th>\n",
       "      <th>60.0</th>\n",
       "      <th>31.0</th>\n",
       "      <th>29.0</th>\n",
       "      <th>57.0</th>\n",
       "      <th>83.0</th>\n",
       "      <th>99.0</th>\n",
       "      <th>75.0</th>\n",
       "      <th>45.0</th>\n",
       "      <th>19.0</th>\n",
       "      <th>81.0</th>\n",
       "      <th>100.0</th>\n",
       "      <th>79.0</th>\n",
       "      <th>32.0</th>\n",
       "      <th>25.0</th>\n",
       "      <th>53.0</th>\n",
       "      <th>97.0</th>\n",
       "      <th>33.0</th>\n",
       "      <th>68.0</th>\n",
       "      <th>17.0</th>\n",
       "      <th>27.0</th>\n",
       "      <th>16.0</th>\n",
       "      <th>89.0</th>\n",
       "      <th>55.0</th>\n",
       "      <th>12.0</th>\n",
       "      <th>13.0</th>\n",
       "      <th>85.0</th>\n",
       "      <th>26.0</th>\n",
       "      <th>87.0</th>\n",
       "      <th>50.0</th>\n",
       "      <th>90.0</th>\n",
       "      <th>30.0</th>\n",
       "      <th>58.0</th>\n",
       "      <th>98.0</th>\n",
       "      <th>70.0</th>\n",
       "      <th>10.0</th>\n",
       "      <th>77.0</th>\n",
       "      <th>18.0</th>\n",
       "      <th>80.0</th>\n",
       "      <th>76.0</th>\n",
       "      <th>82.0</th>\n",
       "      <th>59.0</th>\n",
       "      <th>2.0</th>\n",
       "      <th>66.0</th>\n",
       "      <th>9.0</th>\n",
       "      <th>15.0</th>\n",
       "      <th>5.0</th>\n",
       "      <th>1.0</th>\n",
       "      <th>28.0</th>\n",
       "      <th>46.0</th>\n",
       "      <th>54.0</th>\n",
       "      <th>78.0</th>\n",
       "      <th>52.0</th>\n",
       "      <th>69.0</th>\n",
       "      <th>6.0</th>\n",
       "      <th>94.0</th>\n",
       "      <th>84.0</th>\n",
       "      <th>48.0</th>\n",
       "      <th>20.0</th>\n",
       "      <th>65.0</th>\n",
       "      <th>3.0</th>\n",
       "      <th>4.0</th>\n",
       "      <th>88.0</th>\n",
       "      <th>61.0</th>\n",
       "      <th>41.0</th>\n",
       "      <th>95.0</th>\n",
       "      <th>11.0</th>\n",
       "      <th>86.0</th>\n",
       "      <th>67.0</th>\n",
       "      <th>93.0</th>\n",
       "      <th>7.0</th>\n",
       "      <th>96.0</th>\n",
       "      <th>14.0</th>\n",
       "      <th>91.0</th>\n",
       "      <th>40.0</th>\n",
       "      <th>8.0</th>\n",
       "      <th>47.0</th>\n",
       "    </tr>\n",
       "  </thead>\n",
       "  <tbody>\n",
       "    <tr>\n",
       "      <th>count</th>\n",
       "      <td>32209</td>\n",
       "      <td>25939</td>\n",
       "      <td>22997</td>\n",
       "      <td>21999</td>\n",
       "      <td>20240</td>\n",
       "      <td>18377</td>\n",
       "      <td>17307</td>\n",
       "      <td>15419</td>\n",
       "      <td>12566</td>\n",
       "      <td>11893</td>\n",
       "      <td>10345</td>\n",
       "      <td>10043</td>\n",
       "      <td>9632</td>\n",
       "      <td>8550</td>\n",
       "      <td>8431</td>\n",
       "      <td>8288</td>\n",
       "      <td>8202</td>\n",
       "      <td>7971</td>\n",
       "      <td>7956</td>\n",
       "      <td>7453</td>\n",
       "      <td>7082</td>\n",
       "      <td>7015</td>\n",
       "      <td>6918</td>\n",
       "      <td>5507</td>\n",
       "      <td>5224</td>\n",
       "      <td>5219</td>\n",
       "      <td>5002</td>\n",
       "      <td>4540</td>\n",
       "      <td>4491</td>\n",
       "      <td>3457</td>\n",
       "      <td>3452</td>\n",
       "      <td>3212</td>\n",
       "      <td>3199</td>\n",
       "      <td>3073</td>\n",
       "      <td>3013</td>\n",
       "      <td>2762</td>\n",
       "      <td>2711</td>\n",
       "      <td>2576</td>\n",
       "      <td>2269</td>\n",
       "      <td>2266</td>\n",
       "      <td>2215</td>\n",
       "      <td>2189</td>\n",
       "      <td>2022</td>\n",
       "      <td>2017</td>\n",
       "      <td>1909</td>\n",
       "      <td>1731</td>\n",
       "      <td>1643</td>\n",
       "      <td>1378</td>\n",
       "      <td>1307</td>\n",
       "      <td>1277</td>\n",
       "      <td>1023</td>\n",
       "      <td>957</td>\n",
       "      <td>901</td>\n",
       "      <td>891</td>\n",
       "      <td>782</td>\n",
       "      <td>652</td>\n",
       "      <td>476</td>\n",
       "      <td>466</td>\n",
       "      <td>437</td>\n",
       "      <td>403</td>\n",
       "      <td>366</td>\n",
       "      <td>329</td>\n",
       "      <td>324</td>\n",
       "      <td>299</td>\n",
       "      <td>259</td>\n",
       "      <td>189</td>\n",
       "      <td>178</td>\n",
       "      <td>143</td>\n",
       "      <td>101</td>\n",
       "      <td>97</td>\n",
       "      <td>92</td>\n",
       "      <td>57</td>\n",
       "      <td>46</td>\n",
       "      <td>37</td>\n",
       "      <td>37</td>\n",
       "      <td>28</td>\n",
       "      <td>26</td>\n",
       "      <td>8</td>\n",
       "    </tr>\n",
       "  </tbody>\n",
       "</table>\n",
       "</div>"
      ],
      "text/plain": [
       "WCIO Cause of Injury Code  56.0   74.0   60.0   31.0   29.0   57.0   83.0   \\\n",
       "count                      32209  25939  22997  21999  20240  18377  17307   \n",
       "\n",
       "WCIO Cause of Injury Code  99.0   75.0   45.0   19.0   81.0   100.0  79.0   \\\n",
       "count                      15419  12566  11893  10345  10043   9632   8550   \n",
       "\n",
       "WCIO Cause of Injury Code  32.0   25.0   53.0   97.0   33.0   68.0   17.0   \\\n",
       "count                       8431   8288   8202   7971   7956   7453   7082   \n",
       "\n",
       "WCIO Cause of Injury Code  27.0   16.0   89.0   55.0   12.0   13.0   85.0   \\\n",
       "count                       7015   6918   5507   5224   5219   5002   4540   \n",
       "\n",
       "WCIO Cause of Injury Code  26.0   87.0   50.0   90.0   30.0   58.0   98.0   \\\n",
       "count                       4491   3457   3452   3212   3199   3073   3013   \n",
       "\n",
       "WCIO Cause of Injury Code  70.0   10.0   77.0   18.0   80.0   76.0   82.0   \\\n",
       "count                       2762   2711   2576   2269   2266   2215   2189   \n",
       "\n",
       "WCIO Cause of Injury Code  59.0   2.0    66.0   9.0    15.0   5.0    1.0    \\\n",
       "count                       2022   2017   1909   1731   1643   1378   1307   \n",
       "\n",
       "WCIO Cause of Injury Code  28.0   46.0   54.0   78.0   52.0   69.0   6.0    \\\n",
       "count                       1277   1023    957    901    891    782    652   \n",
       "\n",
       "WCIO Cause of Injury Code  94.0   84.0   48.0   20.0   65.0   3.0    4.0    \\\n",
       "count                        476    466    437    403    366    329    324   \n",
       "\n",
       "WCIO Cause of Injury Code  88.0   61.0   41.0   95.0   11.0   86.0   67.0   \\\n",
       "count                        299    259    189    178    143    101     97   \n",
       "\n",
       "WCIO Cause of Injury Code  93.0   7.0    96.0   14.0   91.0   40.0   8.0    \\\n",
       "count                         92     57     46     37     37     28     26   \n",
       "\n",
       "WCIO Cause of Injury Code  47.0   \n",
       "count                          8  "
      ]
     },
     "execution_count": 111,
     "metadata": {},
     "output_type": "execute_result"
    }
   ],
   "source": [
    "pd.DataFrame(X_train_encoded['WCIO Cause of Injury Code'].value_counts()).T"
   ]
  },
  {
   "cell_type": "code",
   "execution_count": 112,
   "metadata": {},
   "outputs": [],
   "source": [
    "# transform the column into int from float for training set\n",
    "X_train_encoded['WCIO Cause of Injury Code'] = X_train_encoded['WCIO Cause of Injury Code'].astype(int)\n",
    "\n",
    "# transform the column into int from float for validation set\n",
    "X_val_encoded['WCIO Cause of Injury Code'] = X_val_encoded['WCIO Cause of Injury Code'].astype(int)\n",
    "\n",
    "# transform the column into int from float for test set\n",
    "X_test_encoded['WCIO Cause of Injury Code'] = X_test_encoded['WCIO Cause of Injury Code'].astype(int)"
   ]
  },
  {
   "cell_type": "code",
   "execution_count": 113,
   "metadata": {},
   "outputs": [
    {
     "data": {
      "text/html": [
       "<div>\n",
       "<style scoped>\n",
       "    .dataframe tbody tr th:only-of-type {\n",
       "        vertical-align: middle;\n",
       "    }\n",
       "\n",
       "    .dataframe tbody tr th {\n",
       "        vertical-align: top;\n",
       "    }\n",
       "\n",
       "    .dataframe thead th {\n",
       "        text-align: right;\n",
       "    }\n",
       "</style>\n",
       "<table border=\"1\" class=\"dataframe\">\n",
       "  <thead>\n",
       "    <tr style=\"text-align: right;\">\n",
       "      <th>WCIO Cause of Injury Code</th>\n",
       "      <th>1</th>\n",
       "      <th>2</th>\n",
       "      <th>3</th>\n",
       "      <th>4</th>\n",
       "      <th>5</th>\n",
       "      <th>6</th>\n",
       "      <th>7</th>\n",
       "      <th>8</th>\n",
       "      <th>9</th>\n",
       "      <th>10</th>\n",
       "      <th>11</th>\n",
       "      <th>12</th>\n",
       "      <th>13</th>\n",
       "      <th>14</th>\n",
       "      <th>15</th>\n",
       "      <th>16</th>\n",
       "      <th>17</th>\n",
       "      <th>18</th>\n",
       "      <th>19</th>\n",
       "      <th>20</th>\n",
       "      <th>25</th>\n",
       "      <th>26</th>\n",
       "      <th>27</th>\n",
       "      <th>28</th>\n",
       "      <th>29</th>\n",
       "      <th>30</th>\n",
       "      <th>31</th>\n",
       "      <th>32</th>\n",
       "      <th>33</th>\n",
       "      <th>40</th>\n",
       "      <th>41</th>\n",
       "      <th>45</th>\n",
       "      <th>46</th>\n",
       "      <th>47</th>\n",
       "      <th>48</th>\n",
       "      <th>50</th>\n",
       "      <th>52</th>\n",
       "      <th>53</th>\n",
       "      <th>54</th>\n",
       "      <th>55</th>\n",
       "      <th>56</th>\n",
       "      <th>57</th>\n",
       "      <th>58</th>\n",
       "      <th>59</th>\n",
       "      <th>60</th>\n",
       "      <th>61</th>\n",
       "      <th>65</th>\n",
       "      <th>66</th>\n",
       "      <th>67</th>\n",
       "      <th>68</th>\n",
       "      <th>69</th>\n",
       "      <th>70</th>\n",
       "      <th>74</th>\n",
       "      <th>75</th>\n",
       "      <th>76</th>\n",
       "      <th>77</th>\n",
       "      <th>78</th>\n",
       "      <th>79</th>\n",
       "      <th>80</th>\n",
       "      <th>81</th>\n",
       "      <th>82</th>\n",
       "      <th>83</th>\n",
       "      <th>84</th>\n",
       "      <th>85</th>\n",
       "      <th>86</th>\n",
       "      <th>87</th>\n",
       "      <th>88</th>\n",
       "      <th>89</th>\n",
       "      <th>90</th>\n",
       "      <th>91</th>\n",
       "      <th>93</th>\n",
       "      <th>94</th>\n",
       "      <th>95</th>\n",
       "      <th>96</th>\n",
       "      <th>97</th>\n",
       "      <th>98</th>\n",
       "      <th>99</th>\n",
       "      <th>100</th>\n",
       "    </tr>\n",
       "  </thead>\n",
       "  <tbody>\n",
       "    <tr>\n",
       "      <th>proportion</th>\n",
       "      <td>0.0033</td>\n",
       "      <td>0.005092</td>\n",
       "      <td>0.000831</td>\n",
       "      <td>0.000818</td>\n",
       "      <td>0.003479</td>\n",
       "      <td>0.001646</td>\n",
       "      <td>0.000144</td>\n",
       "      <td>0.000066</td>\n",
       "      <td>0.00437</td>\n",
       "      <td>0.006844</td>\n",
       "      <td>0.000361</td>\n",
       "      <td>0.013176</td>\n",
       "      <td>0.012628</td>\n",
       "      <td>0.000093</td>\n",
       "      <td>0.004148</td>\n",
       "      <td>0.017465</td>\n",
       "      <td>0.017879</td>\n",
       "      <td>0.005728</td>\n",
       "      <td>0.026117</td>\n",
       "      <td>0.001017</td>\n",
       "      <td>0.020924</td>\n",
       "      <td>0.011338</td>\n",
       "      <td>0.01771</td>\n",
       "      <td>0.003224</td>\n",
       "      <td>0.051099</td>\n",
       "      <td>0.008076</td>\n",
       "      <td>0.055539</td>\n",
       "      <td>0.021285</td>\n",
       "      <td>0.020086</td>\n",
       "      <td>0.000071</td>\n",
       "      <td>0.000477</td>\n",
       "      <td>0.030025</td>\n",
       "      <td>0.002583</td>\n",
       "      <td>0.00002</td>\n",
       "      <td>0.001103</td>\n",
       "      <td>0.008715</td>\n",
       "      <td>0.002249</td>\n",
       "      <td>0.020707</td>\n",
       "      <td>0.002416</td>\n",
       "      <td>0.013189</td>\n",
       "      <td>0.081316</td>\n",
       "      <td>0.046395</td>\n",
       "      <td>0.007758</td>\n",
       "      <td>0.005105</td>\n",
       "      <td>0.058059</td>\n",
       "      <td>0.000654</td>\n",
       "      <td>0.000924</td>\n",
       "      <td>0.00482</td>\n",
       "      <td>0.000245</td>\n",
       "      <td>0.018816</td>\n",
       "      <td>0.001974</td>\n",
       "      <td>0.006973</td>\n",
       "      <td>0.065486</td>\n",
       "      <td>0.031725</td>\n",
       "      <td>0.005592</td>\n",
       "      <td>0.006503</td>\n",
       "      <td>0.002275</td>\n",
       "      <td>0.021586</td>\n",
       "      <td>0.005721</td>\n",
       "      <td>0.025355</td>\n",
       "      <td>0.005526</td>\n",
       "      <td>0.043694</td>\n",
       "      <td>0.001176</td>\n",
       "      <td>0.011462</td>\n",
       "      <td>0.000255</td>\n",
       "      <td>0.008728</td>\n",
       "      <td>0.000755</td>\n",
       "      <td>0.013903</td>\n",
       "      <td>0.008109</td>\n",
       "      <td>0.000093</td>\n",
       "      <td>0.000232</td>\n",
       "      <td>0.001202</td>\n",
       "      <td>0.000449</td>\n",
       "      <td>0.000116</td>\n",
       "      <td>0.020124</td>\n",
       "      <td>0.007607</td>\n",
       "      <td>0.038927</td>\n",
       "      <td>0.024317</td>\n",
       "    </tr>\n",
       "  </tbody>\n",
       "</table>\n",
       "</div>"
      ],
      "text/plain": [
       "WCIO Cause of Injury Code     1         2         3         4         5    \\\n",
       "proportion                 0.0033  0.005092  0.000831  0.000818  0.003479   \n",
       "\n",
       "WCIO Cause of Injury Code       6         7         8        9         10   \\\n",
       "proportion                 0.001646  0.000144  0.000066  0.00437  0.006844   \n",
       "\n",
       "WCIO Cause of Injury Code       11        12        13        14        15   \\\n",
       "proportion                 0.000361  0.013176  0.012628  0.000093  0.004148   \n",
       "\n",
       "WCIO Cause of Injury Code       16        17        18        19        20   \\\n",
       "proportion                 0.017465  0.017879  0.005728  0.026117  0.001017   \n",
       "\n",
       "WCIO Cause of Injury Code       25        26       27        28        29   \\\n",
       "proportion                 0.020924  0.011338  0.01771  0.003224  0.051099   \n",
       "\n",
       "WCIO Cause of Injury Code       30        31        32        33        40   \\\n",
       "proportion                 0.008076  0.055539  0.021285  0.020086  0.000071   \n",
       "\n",
       "WCIO Cause of Injury Code       41        45        46       47        48   \\\n",
       "proportion                 0.000477  0.030025  0.002583  0.00002  0.001103   \n",
       "\n",
       "WCIO Cause of Injury Code       50        52        53        54        55   \\\n",
       "proportion                 0.008715  0.002249  0.020707  0.002416  0.013189   \n",
       "\n",
       "WCIO Cause of Injury Code       56        57        58        59        60   \\\n",
       "proportion                 0.081316  0.046395  0.007758  0.005105  0.058059   \n",
       "\n",
       "WCIO Cause of Injury Code       61        65       66        67        68   \\\n",
       "proportion                 0.000654  0.000924  0.00482  0.000245  0.018816   \n",
       "\n",
       "WCIO Cause of Injury Code       69        70        74        75        76   \\\n",
       "proportion                 0.001974  0.006973  0.065486  0.031725  0.005592   \n",
       "\n",
       "WCIO Cause of Injury Code       77        78        79        80        81   \\\n",
       "proportion                 0.006503  0.002275  0.021586  0.005721  0.025355   \n",
       "\n",
       "WCIO Cause of Injury Code       82        83        84        85        86   \\\n",
       "proportion                 0.005526  0.043694  0.001176  0.011462  0.000255   \n",
       "\n",
       "WCIO Cause of Injury Code       87        88        89        90        91   \\\n",
       "proportion                 0.008728  0.000755  0.013903  0.008109  0.000093   \n",
       "\n",
       "WCIO Cause of Injury Code       93        94        95        96        97   \\\n",
       "proportion                 0.000232  0.001202  0.000449  0.000116  0.020124   \n",
       "\n",
       "WCIO Cause of Injury Code       98        99        100  \n",
       "proportion                 0.007607  0.038927  0.024317  "
      ]
     },
     "execution_count": 113,
     "metadata": {},
     "output_type": "execute_result"
    }
   ],
   "source": [
    "pd.DataFrame(X_train_encoded['WCIO Cause of Injury Code'].value_counts(normalize = True).sort_index()).T"
   ]
  },
  {
   "cell_type": "markdown",
   "metadata": {},
   "source": [
    "> Create a __dictionary__ based on the table from the WCIO references"
   ]
  },
  {
   "cell_type": "code",
   "execution_count": 114,
   "metadata": {},
   "outputs": [],
   "source": [
    "# Mapping WCIO Cause of Injury codes to more general categories for modeling\n",
    "\n",
    "# Define the mapping dictionary\n",
    "wcio_cause_of_injury_map = {\n",
    "\n",
    "    # Category: Burn or Scald\n",
    "    # Injury types related to exposure to heat, cold, chemicals, or radiation\n",
    "    1: \"Burn_or_Scald\", 2: \"Burn_or_Scald\", 3: \"Burn_or_Scald\",\n",
    "    4: \"Burn_or_Scald\", 5: \"Burn_or_Scald\", 6: \"Burn_or_Scald\",\n",
    "    7: \"Burn_or_Scald\", 8: \"Burn_or_Scald\", 9: \"Burn_or_Scald\",\n",
    "    11: \"Burn_or_Scald\", 14: \"Burn_or_Scald\", 84: \"Burn_or_Scald\",\n",
    "\n",
    "    # Category: Caught In\n",
    "    # Injuries caused by being caught in or under machinery or objects\n",
    "    10: \"Caught_In\", 12: \"Caught_In\", 13: \"Caught_In\",\n",
    "    20: \"Caught_In\",\n",
    "\n",
    "    # Category: Cut, Puncture, Scrape\n",
    "    # Injuries involving cuts, punctures, and abrasions\n",
    "    15: \"Cut_Puncture_Scrape\", 16: \"Cut_Puncture_Scrape\", 17: \"Cut_Puncture_Scrape\",\n",
    "    18: \"Cut_Puncture_Scrape\", 19: \"Cut_Puncture_Scrape\",\n",
    "\n",
    "    # Category: Fall, Slip or Trip\n",
    "    # Injuries due to falls, slips, or trips at various levels\n",
    "    25: \"Fall_Slip_or_Trip\", 26: \"Fall_Slip_or_Trip\", 27: \"Fall_Slip_or_Trip\",\n",
    "    28: \"Fall_Slip_or_Trip\", 29: \"Fall_Slip_or_Trip\", 30: \"Fall_Slip_or_Trip\",\n",
    "    31: \"Fall_Slip_or_Trip\", 32: \"Fall_Slip_or_Trip\", 33: \"Fall_Slip_or_Trip\",\n",
    "\n",
    "    # Category: Motor Vehicle\n",
    "    # Injuries related to motor vehicle incidents\n",
    "    40: \"Motor_Vehicle\", 41: \"Motor_Vehicle\", 45: \"Motor_Vehicle\",\n",
    "    46: \"Motor_Vehicle\", 47: \"Motor_Vehicle\", 48: \"Motor_Vehicle\",\n",
    "    50: \"Motor_Vehicle\",\n",
    "\n",
    "    # Category: Strain or Injury\n",
    "    # Injuries resulting from physical strain, overuse, or repetitive motions\n",
    "    52: \"Strain_or_Injury\", 53: \"Strain_or_Injury\", 54: \"Strain_or_Injury\",\n",
    "    55: \"Strain_or_Injury\", 56: \"Strain_or_Injury\", 57: \"Strain_or_Injury\",\n",
    "    58: \"Strain_or_Injury\", 59: \"Strain_or_Injury\", 60: \"Strain_or_Injury\",\n",
    "    61: \"Strain_or_Injury\", 97: \"Strain_or_Injury\",\n",
    "\n",
    "    # Category: Striking Against or Stepping On\n",
    "    # Injuries from striking against or stepping on objects\n",
    "    65: \"Striking_Against_or_Stepping_On\", 66: \"Striking_Against_or_Stepping_On\", 67: \"Striking_Against_or_Stepping_On\",\n",
    "    68: \"Striking_Against_or_Stepping_On\", 69: \"Striking_Against_or_Stepping_On\", 70: \"Striking_Against_or_Stepping_On\",\n",
    "\n",
    "    # Category: Struck or Injured By\n",
    "    # Injuries caused by being struck by objects or individuals\n",
    "    74: \"Struck_or_Injured_By\", 75: \"Struck_or_Injured_By\", 76: \"Struck_or_Injured_By\",\n",
    "    77: \"Struck_or_Injured_By\", 78: \"Struck_or_Injured_By\", 79: \"Struck_or_Injured_By\",\n",
    "    80: \"Struck_or_Injured_By\", 81: \"Struck_or_Injured_By\", 85: \"Struck_or_Injured_By\",\n",
    "    86: \"Struck_or_Injured_By\",\n",
    "\n",
    "    # Category: Rubbed or Abraded By\n",
    "    # Injuries caused by rubbing or abrasion, such as callouses or blisters\n",
    "    94: \"Rubbed_or_Abraded_By\", 95: \"Rubbed_or_Abraded_By\",\n",
    "\n",
    "    # Category: Miscellaneous Causes\n",
    "    # Other injury causes not otherwise classified\n",
    "    82: \"Miscellaneous_Causes\", 83: \"Miscellaneous_Causes\",  87: \"Miscellaneous_Causes\", 88: \"Miscellaneous_Causes\",\n",
    "    89: \"Miscellaneous_Causes\", 90: \"Miscellaneous_Causes\", 91: \"Miscellaneous_Causes\", 93: \"Miscellaneous_Causes\",\n",
    "    94: \"Miscellaneous_Causes\", 95: \"Miscellaneous_Causes\", 96: \"Miscellaneous_Causes\", 98: \"Miscellaneous_Causes\",\n",
    "    99: \"Miscellaneous_Causes\",\n",
    "\n",
    "    # Category: Unknown\n",
    "    100: \"Unknown\"\n",
    "    \n",
    "}"
   ]
  },
  {
   "cell_type": "markdown",
   "metadata": {},
   "source": [
    "> Map <code>Injury_cause_Category</code> based on the dictionary"
   ]
  },
  {
   "cell_type": "code",
   "execution_count": 115,
   "metadata": {},
   "outputs": [],
   "source": [
    "# create mapping\n",
    "X_train_encoded['Injury_Cause_Category'] = X_train_encoded['WCIO Cause of Injury Code'].map(wcio_cause_of_injury_map)\n",
    "X_val_encoded['Injury_Cause_Category'] = X_val_encoded['WCIO Cause of Injury Code'].map(wcio_cause_of_injury_map)\n",
    "X_test_encoded['Injury_Cause_Category'] = X_test_encoded['WCIO Cause of Injury Code'].map(wcio_cause_of_injury_map)"
   ]
  },
  {
   "cell_type": "markdown",
   "metadata": {},
   "source": [
    "> Create __dummy variables__ based on the  <code>Injury_cause_Category</code>"
   ]
  },
  {
   "cell_type": "code",
   "execution_count": 116,
   "metadata": {},
   "outputs": [],
   "source": [
    "# create dummy variables based on the Injury_cause_Category\n",
    "X_train_encoded = pd.concat([X_train_encoded, pd.get_dummies(X_train_encoded['Injury_Cause_Category'],\n",
    "                        columns=['Injury_Cause_Category'],\n",
    "                        prefix='Injury_Cause',\n",
    "                        dtype=int,\n",
    "                        drop_first=True)], # Drop the first column to avoid multicollinearity\n",
    "    axis=1)\n",
    "\n",
    "X_train_encoded.head().T\n",
    "\n",
    "X_val_encoded = pd.concat([X_val_encoded, pd.get_dummies(X_val_encoded['Injury_Cause_Category'],\n",
    "                        columns=['Injury_Cause_Category'],\n",
    "                        prefix='Injury_Cause',\n",
    "                        dtype=int,\n",
    "                        drop_first=True)], # Drop the first column to avoid multicollinearity\n",
    "    axis=1)\n",
    "\n",
    "X_test_encoded = pd.concat([X_test_encoded, pd.get_dummies(X_test_encoded['Injury_Cause_Category'],\n",
    "                        columns=['Injury_Cause_Category'],\n",
    "                        prefix='Injury_Cause',\n",
    "                        dtype=int,\n",
    "                        drop_first=True)], # Drop the first column to avoid multicollinearity\n",
    "    axis=1)"
   ]
  },
  {
   "cell_type": "markdown",
   "metadata": {},
   "source": [
    "> Create __target encoding variables__ based on the  <code>Injury_cause_Category</code>"
   ]
  },
  {
   "cell_type": "code",
   "execution_count": 117,
   "metadata": {},
   "outputs": [],
   "source": [
    "X_train_encoded, X_val_encoded = target_encode_multiclass(X_train_encoded, X_val_encoded, y_train, 'Injury_Cause_Category', 'Claim Injury Type')\n",
    "\n",
    "\n",
    "# set the index back to the original index\n",
    "X_train_encoded.set_index(X_train_encoded_original_index, inplace=True)\n",
    "X_val_encoded.set_index(X_val_encoded_original_index, inplace=True)\n",
    "\n",
    "\n",
    "X_test_encoded = target_encode_multiclass(X_train_encoded, X_test_encoded, y_train, 'Injury_Cause_Category', 'Claim Injury Type')[1]\n",
    "# set the index back to the original index\n",
    "X_test_encoded.set_index(X_test_encoded_original_index, inplace=True)"
   ]
  },
  {
   "cell_type": "markdown",
   "metadata": {},
   "source": [
    "##### __WCIO Nature of Injury Code__"
   ]
  },
  {
   "cell_type": "code",
   "execution_count": 118,
   "metadata": {},
   "outputs": [
    {
     "data": {
      "text/plain": [
       "array([ 10.,  83.,  52.,  53., 100.,   4.,  49.,  31.,  28.,  59.,  68.,\n",
       "        40.,  78.,  43.,  65.,  37.,  90.,   7.,  80.,  16.,  41.,  71.,\n",
       "        13.,  77.,   1.,  36.,  34.,  25.,  32.,  47.,  58.,  46.,   2.,\n",
       "        91.,   3.,  55.,  73.,  72.,  19.,  66.,  54.,  42.,  38.,  61.,\n",
       "        69.,  30.,  64.,  75.,  60.,  67.,  74.,  22.,  63.,  70.,  62.,\n",
       "        79.,  76.])"
      ]
     },
     "execution_count": 118,
     "metadata": {},
     "output_type": "execute_result"
    }
   ],
   "source": [
    "X_train_encoded['WCIO Nature of Injury Code'].unique()"
   ]
  },
  {
   "cell_type": "code",
   "execution_count": 119,
   "metadata": {},
   "outputs": [
    {
     "data": {
      "text/html": [
       "<div>\n",
       "<style scoped>\n",
       "    .dataframe tbody tr th:only-of-type {\n",
       "        vertical-align: middle;\n",
       "    }\n",
       "\n",
       "    .dataframe tbody tr th {\n",
       "        vertical-align: top;\n",
       "    }\n",
       "\n",
       "    .dataframe thead th {\n",
       "        text-align: right;\n",
       "    }\n",
       "</style>\n",
       "<table border=\"1\" class=\"dataframe\">\n",
       "  <thead>\n",
       "    <tr style=\"text-align: right;\">\n",
       "      <th>WCIO Nature of Injury Code</th>\n",
       "      <th>52.0</th>\n",
       "      <th>10.0</th>\n",
       "      <th>49.0</th>\n",
       "      <th>40.0</th>\n",
       "      <th>59.0</th>\n",
       "      <th>83.0</th>\n",
       "      <th>28.0</th>\n",
       "      <th>43.0</th>\n",
       "      <th>100.0</th>\n",
       "      <th>90.0</th>\n",
       "      <th>37.0</th>\n",
       "      <th>4.0</th>\n",
       "      <th>25.0</th>\n",
       "      <th>1.0</th>\n",
       "      <th>16.0</th>\n",
       "      <th>7.0</th>\n",
       "      <th>13.0</th>\n",
       "      <th>80.0</th>\n",
       "      <th>78.0</th>\n",
       "      <th>34.0</th>\n",
       "      <th>71.0</th>\n",
       "      <th>31.0</th>\n",
       "      <th>77.0</th>\n",
       "      <th>53.0</th>\n",
       "      <th>46.0</th>\n",
       "      <th>65.0</th>\n",
       "      <th>68.0</th>\n",
       "      <th>36.0</th>\n",
       "      <th>72.0</th>\n",
       "      <th>73.0</th>\n",
       "      <th>2.0</th>\n",
       "      <th>19.0</th>\n",
       "      <th>41.0</th>\n",
       "      <th>32.0</th>\n",
       "      <th>69.0</th>\n",
       "      <th>42.0</th>\n",
       "      <th>91.0</th>\n",
       "      <th>47.0</th>\n",
       "      <th>66.0</th>\n",
       "      <th>58.0</th>\n",
       "      <th>38.0</th>\n",
       "      <th>3.0</th>\n",
       "      <th>55.0</th>\n",
       "      <th>74.0</th>\n",
       "      <th>54.0</th>\n",
       "      <th>61.0</th>\n",
       "      <th>60.0</th>\n",
       "      <th>30.0</th>\n",
       "      <th>75.0</th>\n",
       "      <th>67.0</th>\n",
       "      <th>70.0</th>\n",
       "      <th>64.0</th>\n",
       "      <th>79.0</th>\n",
       "      <th>76.0</th>\n",
       "      <th>62.0</th>\n",
       "      <th>22.0</th>\n",
       "      <th>63.0</th>\n",
       "    </tr>\n",
       "  </thead>\n",
       "  <tbody>\n",
       "    <tr>\n",
       "      <th>count</th>\n",
       "      <td>105965</td>\n",
       "      <td>76889</td>\n",
       "      <td>38533</td>\n",
       "      <td>32954</td>\n",
       "      <td>24929</td>\n",
       "      <td>17799</td>\n",
       "      <td>15856</td>\n",
       "      <td>12120</td>\n",
       "      <td>9632</td>\n",
       "      <td>8798</td>\n",
       "      <td>8580</td>\n",
       "      <td>5173</td>\n",
       "      <td>5140</td>\n",
       "      <td>4121</td>\n",
       "      <td>4032</td>\n",
       "      <td>3780</td>\n",
       "      <td>3562</td>\n",
       "      <td>1916</td>\n",
       "      <td>1872</td>\n",
       "      <td>1852</td>\n",
       "      <td>1304</td>\n",
       "      <td>1295</td>\n",
       "      <td>1095</td>\n",
       "      <td>999</td>\n",
       "      <td>869</td>\n",
       "      <td>847</td>\n",
       "      <td>722</td>\n",
       "      <td>638</td>\n",
       "      <td>590</td>\n",
       "      <td>510</td>\n",
       "      <td>487</td>\n",
       "      <td>418</td>\n",
       "      <td>332</td>\n",
       "      <td>311</td>\n",
       "      <td>300</td>\n",
       "      <td>277</td>\n",
       "      <td>247</td>\n",
       "      <td>233</td>\n",
       "      <td>199</td>\n",
       "      <td>181</td>\n",
       "      <td>139</td>\n",
       "      <td>128</td>\n",
       "      <td>110</td>\n",
       "      <td>82</td>\n",
       "      <td>55</td>\n",
       "      <td>55</td>\n",
       "      <td>50</td>\n",
       "      <td>46</td>\n",
       "      <td>25</td>\n",
       "      <td>16</td>\n",
       "      <td>12</td>\n",
       "      <td>8</td>\n",
       "      <td>4</td>\n",
       "      <td>4</td>\n",
       "      <td>3</td>\n",
       "      <td>2</td>\n",
       "      <td>1</td>\n",
       "    </tr>\n",
       "  </tbody>\n",
       "</table>\n",
       "</div>"
      ],
      "text/plain": [
       "WCIO Nature of Injury Code   52.0   10.0   49.0   40.0   59.0   83.0   28.0   \\\n",
       "count                       105965  76889  38533  32954  24929  17799  15856   \n",
       "\n",
       "WCIO Nature of Injury Code  43.0   100.0  90.0   37.0   4.0    25.0   1.0    \\\n",
       "count                       12120   9632   8798   8580   5173   5140   4121   \n",
       "\n",
       "WCIO Nature of Injury Code  16.0   7.0    13.0   80.0   78.0   34.0   71.0   \\\n",
       "count                        4032   3780   3562   1916   1872   1852   1304   \n",
       "\n",
       "WCIO Nature of Injury Code  31.0   77.0   53.0   46.0   65.0   68.0   36.0   \\\n",
       "count                        1295   1095    999    869    847    722    638   \n",
       "\n",
       "WCIO Nature of Injury Code  72.0   73.0   2.0    19.0   41.0   32.0   69.0   \\\n",
       "count                         590    510    487    418    332    311    300   \n",
       "\n",
       "WCIO Nature of Injury Code  42.0   91.0   47.0   66.0   58.0   38.0   3.0    \\\n",
       "count                         277    247    233    199    181    139    128   \n",
       "\n",
       "WCIO Nature of Injury Code  55.0   74.0   54.0   61.0   60.0   30.0   75.0   \\\n",
       "count                         110     82     55     55     50     46     25   \n",
       "\n",
       "WCIO Nature of Injury Code  67.0   70.0   64.0   79.0   76.0   62.0   22.0   \\\n",
       "count                          16     12      8      4      4      3      2   \n",
       "\n",
       "WCIO Nature of Injury Code  63.0   \n",
       "count                           1  "
      ]
     },
     "execution_count": 119,
     "metadata": {},
     "output_type": "execute_result"
    }
   ],
   "source": [
    "pd.DataFrame(X_train_encoded['WCIO Nature of Injury Code'].value_counts()).T"
   ]
  },
  {
   "cell_type": "code",
   "execution_count": 120,
   "metadata": {},
   "outputs": [],
   "source": [
    "# transform the column into int from float for training set\n",
    "X_train_encoded['WCIO Nature of Injury Code'] = X_train_encoded['WCIO Nature of Injury Code'].astype(int)\n",
    "\n",
    "# transform the column into int from float for validation set\n",
    "X_val_encoded['WCIO Nature of Injury Code'] = X_val_encoded['WCIO Nature of Injury Code'].astype(int)\n",
    "\n",
    "# transform the column into int from float for test set\n",
    "X_test_encoded['WCIO Nature of Injury Code'] = X_test_encoded['WCIO Nature of Injury Code'].astype(int)"
   ]
  },
  {
   "cell_type": "markdown",
   "metadata": {},
   "source": [
    "> Create a __dictionary__ based on the table from the WCIO references"
   ]
  },
  {
   "cell_type": "code",
   "execution_count": 121,
   "metadata": {},
   "outputs": [],
   "source": [
    "# Mapping WCIO Nature of Injury codes to general categories\n",
    "wcionature_of_injury_mapping = {\n",
    "\n",
    "    # Category: Specific\n",
    "    # Injuries categorized as specific, meaning they are distinct and isolated injuries\n",
    "    1: \"Specific\", 2: \"Specific\", 3: \"Specific\",\n",
    "    4: \"Specific\", 7: \"Specific\", 10: \"Specific\",\n",
    "    13: \"Specific\", 16: \"Specific\", 19: \"Specific\",\n",
    "    22: \"Specific\", 25: \"Specific\", 28: \"Specific\",\n",
    "    30: \"Specific\", 31: \"Specific\", 32: \"Specific\",\n",
    "    34: \"Specific\", 36: \"Specific\", 37: \"Specific\",\n",
    "    38: \"Specific\", # 38 refers to ADVERSE REACTION TO A VACCINATION OR INOCULATION classify as Specific\n",
    "    40: \"Specific\", 41: \"Specific\", 42: \"Specific\",\n",
    "    43: \"Specific\", 46: \"Specific\", 47: \"Specific\",\n",
    "    49: \"Specific\", 52: \"Specific\", 53: \"Specific\",\n",
    "    54: \"Specific\", 55: \"Specific\", 58: \"Specific\",\n",
    "    59: \"Specific\",\n",
    "\n",
    "    # Category: Occupational\n",
    "    # Injuries related to occupational disease or cumulative trauma\n",
    "    60: \"Occupational\", 61: \"Occupational\", 62: \"Occupational\",\n",
    "    63: \"Occupational\", 64: \"Occupational\", 65: \"Occupational\",\n",
    "    66: \"Occupational\", 67: \"Occupational\", 68: \"Occupational\",\n",
    "    69: \"Occupational\", 70: \"Occupational\", 71: \"Occupational\",\n",
    "    72: \"Occupational\", 73: \"Occupational\", 74: \"Occupational\",\n",
    "    75: \"Occupational\", 76: \"Occupational\", 77: \"Occupational\",\n",
    "    78: \"Occupational\", 79: \"Occupational\", 80: \"Occupational\",\n",
    "    83: \"Occupational\", # 83 refers to covid. I classified it as occupational\n",
    "\n",
    "    # Category: Multiple\n",
    "    # Injuries that involve multiple types, either physical or both physical and psychological\n",
    "    90: \"Multiple\", 91: \"Multiple\",\n",
    "\n",
    "    # Category: Unknown\n",
    "    100: \"Unknown\"\n",
    "}"
   ]
  },
  {
   "cell_type": "markdown",
   "metadata": {},
   "source": [
    "> Map <code>WCIO Nature of Injury Code</code> based on the dictionary"
   ]
  },
  {
   "cell_type": "code",
   "execution_count": 122,
   "metadata": {},
   "outputs": [],
   "source": [
    "# map for validation set\n",
    "X_train_encoded['Injury_Nature_Category'] = X_train_encoded['WCIO Nature of Injury Code'].map(wcionature_of_injury_mapping)\n",
    "\n",
    "# map for validation set\n",
    "X_val_encoded['Injury_Nature_Category'] = X_val_encoded['WCIO Nature of Injury Code'].map(wcionature_of_injury_mapping)\n",
    "\n",
    "# map for test set\n",
    "X_test_encoded['Injury_Nature_Category'] = X_test_encoded['WCIO Nature of Injury Code'].map(wcionature_of_injury_mapping)"
   ]
  },
  {
   "cell_type": "code",
   "execution_count": 123,
   "metadata": {},
   "outputs": [
    {
     "data": {
      "text/plain": [
       "array([], dtype=int32)"
      ]
     },
     "metadata": {},
     "output_type": "display_data"
    },
    {
     "data": {
      "text/plain": [
       "array([], dtype=object)"
      ]
     },
     "metadata": {},
     "output_type": "display_data"
    }
   ],
   "source": [
    "display(X_test_encoded[X_test_encoded['Injury_Nature_Category'].isna()]['WCIO Nature of Injury Code'].unique())\n",
    "display(X_train_encoded[X_train_encoded['Injury_Nature_Category'].isna()]['WCIO Nature of Injury Description'].unique())"
   ]
  },
  {
   "cell_type": "markdown",
   "metadata": {},
   "source": [
    "> Create __dummy variables__ based on the  <code>Injury_Nature_Category</code>"
   ]
  },
  {
   "cell_type": "code",
   "execution_count": 124,
   "metadata": {},
   "outputs": [],
   "source": [
    "# create dummy variables out of Injury_Nature_Category column\n",
    "\n",
    "\n",
    "# create a dummy varialbes for the Injury Category for training set\n",
    "X_train_encoded = pd.concat([X_train_encoded, pd.get_dummies(X_train_encoded['Injury_Nature_Category'],\n",
    "                        columns=['Nature_Injury'],\n",
    "                        prefix='Nature_Injury',\n",
    "                        dtype=int,\n",
    "                        drop_first=True)], # Drop the first column to avoid multicollinearity\n",
    "    axis=1)\n",
    "\n",
    "\n",
    "\n",
    "# create a dummy varialbes for the Injury Category for validation set\n",
    "X_val_encoded = pd.concat([X_val_encoded, pd.get_dummies(X_val_encoded['Injury_Nature_Category'],\n",
    "                        columns=['Nature_Injury'],\n",
    "                        prefix='Nature_Injury',\n",
    "                        dtype=int,\n",
    "                        drop_first=True)], # Drop the first column to avoid multicollinearity\n",
    "    axis=1)\n",
    "\n",
    "\n",
    "# create a dummy varialbes for the Injury Category for validation set\n",
    "X_test_encoded = pd.concat([X_test_encoded, pd.get_dummies(X_test_encoded['Injury_Nature_Category'],\n",
    "                        columns=['Nature_Injury'],\n",
    "                        prefix='Nature_Injury',\n",
    "                        dtype=int,\n",
    "                        drop_first=True)], # Drop the first column to avoid multicollinearity\n",
    "                        axis=1)"
   ]
  },
  {
   "cell_type": "markdown",
   "metadata": {},
   "source": [
    "> Create __target encoding variables__ based on the  <code>Injury_Nature_Category</code>"
   ]
  },
  {
   "cell_type": "code",
   "execution_count": 125,
   "metadata": {},
   "outputs": [],
   "source": [
    "# apply encoding for Injury_Nature_Category\n",
    "X_train_encoded, X_val_encoded = target_encode_multiclass(X_train_encoded, X_val_encoded, y_train, 'Injury_Nature_Category', 'Claim Injury Type')\n",
    "\n",
    "# set the index back to the original index\n",
    "X_train_encoded.set_index(X_train_encoded_original_index, inplace=True)\n",
    "X_val_encoded.set_index(X_val_encoded_original_index, inplace=True)\n",
    "\n",
    "\n",
    "# apply encoding for Injury_Nature_Category to the test set\n",
    "X_test_encoded = target_encode_multiclass(X_train_encoded, X_test_encoded, y_train, 'Injury_Nature_Category', 'Claim Injury Type')[1]\n",
    "# set the index back to the original index\n",
    "X_test_encoded.set_index(X_test_encoded_original_index, inplace=True)\n"
   ]
  },
  {
   "cell_type": "markdown",
   "metadata": {},
   "source": [
    "##### __WCIO Part of Body Code__"
   ]
  },
  {
   "cell_type": "code",
   "execution_count": 126,
   "metadata": {},
   "outputs": [],
   "source": [
    "# transform the column into int from float for training set\n",
    "X_train_encoded['WCIO Part Of Body Code'] = X_train_encoded['WCIO Part Of Body Code'].astype(int)\n",
    "\n",
    "# transform the column into int from float for validation set\n",
    "X_val_encoded['WCIO Part Of Body Code'] = X_val_encoded['WCIO Part Of Body Code'].astype(int)\n",
    "\n",
    "# transform the column into int from float for validation set\n",
    "X_test_encoded['WCIO Part Of Body Code'] = X_test_encoded['WCIO Part Of Body Code'].astype(int)"
   ]
  },
  {
   "cell_type": "markdown",
   "metadata": {},
   "source": [
    "> Create a __dictionary__ based on the table from the WCIO references"
   ]
  },
  {
   "cell_type": "code",
   "execution_count": 127,
   "metadata": {},
   "outputs": [],
   "source": [
    "part_of_body_map = {\n",
    "    # Head and Neck\n",
    "    10: 'Head_and_Neck', 14: 'Head_and_Neck', 17: 'Head_and_Neck',\n",
    "    18: 'Head_and_Neck', 15: 'Head_and_Neck', 13: 'Head_and_Neck',\n",
    "    12: 'Head_and_Neck', 16: 'Head_and_Neck', 20: 'Head_and_Neck',\n",
    "    25: 'Head_and_Neck', 24: 'Head_and_Neck', 26: 'Head_and_Neck',\n",
    "    11: 'Head_and_Neck', 19: 'Head_and_Neck', 21:'Head_and_Neck',\n",
    "    22:'Head_and_Neck',23:'Head_and_Neck',\n",
    "\n",
    "    # Upper Extremities\n",
    "    30: 'Upper_Extremities', 31: 'Upper_Extremities', 32: 'Upper_Extremities',\n",
    "    33: 'Upper_Extremities', 34: 'Upper_Extremities', 35: 'Upper_Extremities',\n",
    "    36: 'Upper_Extremities', 37: 'Upper_Extremities', 38: 'Upper_Extremities',\n",
    "    39: 'Upper_Extremities',\n",
    "\n",
    "    # Trunk\n",
    "    40: 'Trunk', 41: 'Trunk', 42: 'Trunk', 43: 'Trunk', 44: 'Trunk',\n",
    "    45: 'Trunk', 46: 'Trunk', 47: 'Trunk', 48: 'Trunk', 49: 'Trunk',\n",
    "    60: 'Trunk', 61: 'Trunk', 62: 'Trunk', 63: 'Trunk',\n",
    "\n",
    "    # Lower Extremities\n",
    "    50: 'Lower_Extremities', 51: 'Lower_Extremities', 52: 'Lower_Extremities',\n",
    "    53: 'Lower_Extremities', 54: 'Lower_Extremities', 55: 'Lower_Extremities',\n",
    "    56: 'Lower_Extremities', 57: 'Lower_Extremities', 58: 'Lower_Extremities',\n",
    "\n",
    "    # Multiple Body Parts\n",
    "    64: 'Multiple_Body Parts', 65: 'Multiple_Body Parts', 66: 'Multiple_Body Parts',\n",
    "    90: 'Multiple_Body Parts', 91: 'Multiple_Body Parts', 99: 'Multiple_Body Parts',\n",
    "\n",
    "    # Unknown\n",
    "    100: 'Unknown'\n",
    "}"
   ]
  },
  {
   "cell_type": "code",
   "execution_count": 128,
   "metadata": {},
   "outputs": [],
   "source": [
    "# map for training set\n",
    "X_train_encoded['Part_Body_Category'] = X_train_encoded['WCIO Part Of Body Code'].map(part_of_body_map)\n",
    "\n",
    "# map for training set\n",
    "X_val_encoded['Part_Body_Category'] = X_val_encoded['WCIO Part Of Body Code'].map(part_of_body_map)\n",
    "\n",
    "# map for training set\n",
    "X_test_encoded['Part_Body_Category'] = X_test_encoded['WCIO Part Of Body Code'].map(part_of_body_map)"
   ]
  },
  {
   "cell_type": "markdown",
   "metadata": {},
   "source": [
    "> Create __dummy variables__ based on the  <code>Part_Body_Category</code>"
   ]
  },
  {
   "cell_type": "code",
   "execution_count": 129,
   "metadata": {},
   "outputs": [],
   "source": [
    "# create a dummy varialbes for the Part of Body Category for training set\n",
    "X_train_encoded = pd.concat([X_train_encoded, pd.get_dummies(X_train_encoded['Part_Body_Category'],\n",
    "                        columns=['Part_Body_Category'],\n",
    "                        prefix='Body_Part',\n",
    "                        dtype=int,\n",
    "                        drop_first=True)], # Drop the first column to avoid multicollinearity\n",
    "    axis=1)\n",
    "\n",
    "\n",
    "# create a dummy variable for the Part of Body Category for val set\n",
    "X_val_encoded = pd.concat([X_val_encoded, pd.get_dummies(X_val_encoded['Part_Body_Category'],\n",
    "                        columns=['Part_Body_Category'],\n",
    "                        prefix='Body_Part',\n",
    "                        dtype=int,\n",
    "                        drop_first=True)], # Drop the first column to avoid multicollinearity\n",
    "    axis=1)\n",
    "\n",
    "# create a dummy varialbes for the Part of Body Category for training set\n",
    "X_test_encoded = pd.concat([X_test_encoded, pd.get_dummies(X_test_encoded['Part_Body_Category'],\n",
    "                        columns=['Part_Body_Category'],\n",
    "                        prefix='Body_Part',\n",
    "                        dtype=int,\n",
    "                        drop_first=True)], # Drop the first column to avoid multicollinearity\n",
    "    axis=1)\n"
   ]
  },
  {
   "cell_type": "markdown",
   "metadata": {},
   "source": [
    "> Create __target encoding variables__ based on the  <code>Part_Body_Category</code>"
   ]
  },
  {
   "cell_type": "code",
   "execution_count": 130,
   "metadata": {},
   "outputs": [],
   "source": [
    "# apply encoding for Injury_Nature_Category\n",
    "X_train_encoded, X_val_encoded = target_encode_multiclass(X_train_encoded, X_val_encoded, y_train, 'Part_Body_Category', 'Claim Injury Type')\n",
    "\n",
    "# set the index back to the original index\n",
    "X_train_encoded.set_index(X_train_encoded_original_index, inplace=True)\n",
    "X_val_encoded.set_index(X_val_encoded_original_index, inplace=True)\n",
    "\n",
    "# apply encoding for Injury_Nature_Category to the test set\n",
    "X_test_encoded = target_encode_multiclass(X_train_encoded, X_test_encoded, y_train, 'Part_Body_Category', 'Claim Injury Type')[1]\n",
    "\n",
    "# set the index back to the original index\n",
    "X_test_encoded.set_index(X_test_encoded_original_index, inplace=True)"
   ]
  },
  {
   "cell_type": "markdown",
   "metadata": {},
   "source": [
    "### 5.3.5. Numerical Variables Decoding<a class=\"anchor\" id=\"numerical-encoding\"></a>\n",
    " [Back to ToC](#toc)<br> \n",
    "\n",
    " \n",
    "> * Decode numerical variables\n",
    "> * Add new fatures "
   ]
  },
  {
   "cell_type": "code",
   "execution_count": 131,
   "metadata": {},
   "outputs": [],
   "source": [
    "X_train_encoded.loc[:,'Days_between_Acc_Assembyl'] = days_between(X_train_encoded, 'Accident Date','Assembly Date')\n",
    "X_val_encoded.loc[:,'Days_between_Acc_Assembyl'] = days_between(X_val_encoded, 'Accident Date','Assembly Date')\n",
    "X_test_encoded.loc[:,'Days_between_Acc_Assembyl'] = days_between(X_test_encoded, 'Accident Date','Assembly Date')"
   ]
  },
  {
   "cell_type": "code",
   "execution_count": 132,
   "metadata": {},
   "outputs": [
    {
     "name": "stdout",
     "output_type": "stream",
     "text": [
      "                  Days_between_Acc_Assembyl\n",
      "Claim Identifier                           \n",
      "5506797                            2.817363\n",
      "5481216                            2.630697\n",
      "5520188                            1.830906\n",
      "5748412                            0.967678\n",
      "5653867                            1.338943\n"
     ]
    }
   ],
   "source": [
    "from scipy.stats import yeojohnson\n",
    "\n",
    "# Apply Yeo-Johnson transformation to the 'Days_between_Acc_Assembyl' column for each dataset\n",
    "X_train_encoded['Days_between_Acc_Assembyl'] = yeojohnson(X_train_encoded['Days_between_Acc_Assembyl'])[0]\n",
    "X_val_encoded['Days_between_Acc_Assembyl'] = yeojohnson(X_val_encoded['Days_between_Acc_Assembyl'])[0]\n",
    "X_test_encoded['Days_between_Acc_Assembyl'] = yeojohnson(X_test_encoded['Days_between_Acc_Assembyl'])[0]\n",
    "\n",
    "# Optional: Check the transformed data\n",
    "print(X_train_encoded[['Days_between_Acc_Assembyl']].head())\n"
   ]
  },
  {
   "cell_type": "code",
   "execution_count": 133,
   "metadata": {},
   "outputs": [],
   "source": [
    "# X_train_encoded['Log_Value'] = np.log1p(X_train_encoded['Days_between_Acc_Assembyl'])"
   ]
  },
  {
   "cell_type": "markdown",
   "metadata": {},
   "source": [
    "> More normalized with Yeo johnson than log."
   ]
  },
  {
   "cell_type": "code",
   "execution_count": 134,
   "metadata": {},
   "outputs": [],
   "source": [
    "from scipy.stats import yeojohnson\n",
    "\n",
    "# X_train_encoded['Yeo_Johnson'] = yeojohnson(X_train_encoded['Days_between_Acc_Assembyl'])[0]"
   ]
  },
  {
   "cell_type": "code",
   "execution_count": 135,
   "metadata": {},
   "outputs": [],
   "source": [
    "# plt.figure(figsize=(10, 6))\n",
    "# sns.histplot(X_train_encoded['Yeo_Johnson'], kde=True, bins=30, color='skyblue')\n",
    "# plt.title('Distribution of Days between')\n",
    "# plt.xlabel('Days between')\n",
    "# plt.ylabel('Frequency')\n",
    "# plt.grid(True)\n",
    "# plt.show()"
   ]
  },
  {
   "cell_type": "markdown",
   "metadata": {},
   "source": [
    "##### AWW"
   ]
  },
  {
   "cell_type": "code",
   "execution_count": 136,
   "metadata": {},
   "outputs": [],
   "source": [
    "X_train_encoded['Binary Average Weekly Wage'] = (X_train_encoded['Average Weekly Wage'] != 0).astype(int)\n",
    "X_val_encoded['Binary Average Weekly Wage'] = (X_val_encoded['Average Weekly Wage'] != 0).astype(int)\n",
    "X_test_encoded['Binary Average Weekly Wage'] = (X_test_encoded['Average Weekly Wage'] != 0).astype(int)\n"
   ]
  },
  {
   "cell_type": "code",
   "execution_count": 137,
   "metadata": {},
   "outputs": [],
   "source": [
    "X_train_encoded['Average Weekly Wage'] = np.log1p(X_train_encoded['Average Weekly Wage'])\n",
    "X_val_encoded['Average Weekly Wage'] = np.log1p(X_val_encoded['Average Weekly Wage'])\n",
    "X_test_encoded['Average Weekly Wage'] = np.log1p(X_test_encoded['Average Weekly Wage'])"
   ]
  },
  {
   "cell_type": "code",
   "execution_count": 138,
   "metadata": {},
   "outputs": [],
   "source": [
    "# plt.figure(figsize=(10, 6))\n",
    "# sns.histplot(X_train_encoded['log AWW'], kde=True, bins=30, color='skyblue')\n",
    "# plt.title('DYeo')\n",
    "# plt.xlabel('Days between')\n",
    "# plt.ylabel('Frequency')\n",
    "# plt.grid(True)\n",
    "# plt.show()"
   ]
  },
  {
   "cell_type": "markdown",
   "metadata": {},
   "source": [
    "### 5.4. Feature engineering <a class=\"anchor\" id=\"feature-engineering\"></a>\n",
    " [Back to ToC](#toc)<br> \n",
    "\n",
    "* here we create new features\n",
    "    * out of old ones\n",
    "    * through new data"
   ]
  },
  {
   "cell_type": "markdown",
   "metadata": {},
   "source": [
    "__Seasonality__\n",
    "* Months of the year or seasons"
   ]
  },
  {
   "cell_type": "markdown",
   "metadata": {},
   "source": [
    "__Weather__\n",
    "* adding the weather history"
   ]
  },
  {
   "cell_type": "markdown",
   "metadata": {},
   "source": [
    "__Additional events?__\n"
   ]
  },
  {
   "cell_type": "markdown",
   "metadata": {},
   "source": [
    "### 5.5. Dropping Columns & Exporting DataFrames<a class=\"anchor\" id=\"dropping-exporting\"></a>\n",
    " [Back to ToC](#toc)<br> \n",
    "\n"
   ]
  },
  {
   "cell_type": "markdown",
   "metadata": {},
   "source": [
    "> __drop columns that we have encoded__\n",
    "> * For now we will work with the following columns for our feature selection and modelling "
   ]
  },
  {
   "cell_type": "code",
   "execution_count": 139,
   "metadata": {},
   "outputs": [],
   "source": [
    "columns_to_keep = ['Age at Injury', 'Alternative Dispute Resolution','Attorney/Representative', 'Average Weekly Wage', 'Birth Year', 'C-2 Date', 'C-3 Date', 'COVID-19 Indicator', 'First Hearing Date', 'Gender', 'IME-4 Count', 'Number of Dependents', 'CarrierGroup_Self-insured Private Entity', 'CarrierGroup_Self-insured Public Entity', 'CarrierGroup_Special Funds', 'CarrierGroup_State Insurance Fund', 'Industry Code_encoded_5. PPD SCH LOSS','Industry Code_encoded_2. NON-COMP','Industry Code_encoded_3. MED ONLY', 'Industry Code_encoded_4. TEMPORARY','Industry Code_encoded_1. CANCELLED', 'Industry Code_encoded_8. DEATH', 'Industry Code_encoded_6. PPD NSL', 'Industry Code_encoded_7. PTD', 'Injury_Cause_Caught_In', 'Injury_Cause_Cut_Puncture_Scrape', 'Injury_Cause_Fall_Slip_or_Trip',\n",
    "'Injury_Cause_Miscellaneous_Causes', 'Injury_Cause_Motor_Vehicle','Injury_Cause_Strain_or_Injury',\n",
    " 'Injury_Cause_Striking_Against_or_Stepping_On', 'Injury_Cause_Struck_or_Injured_By', 'Injury_Cause_Unknown',\n",
    "       'Injury_Cause_Category_encoded_5. PPD SCH LOSS',\n",
    "       'Injury_Cause_Category_encoded_2. NON-COMP',\n",
    "       'Injury_Cause_Category_encoded_3. MED ONLY',\n",
    "       'Injury_Cause_Category_encoded_4. TEMPORARY',\n",
    "       'Injury_Cause_Category_encoded_1. CANCELLED',\n",
    "       'Injury_Cause_Category_encoded_8. DEATH',\n",
    "       'Injury_Cause_Category_encoded_6. PPD NSL',\n",
    "       'Injury_Cause_Category_encoded_7. PTD', \n",
    "       'Nature_Injury_Occupational', 'Nature_Injury_Specific',\n",
    "       'Nature_Injury_Unknown',\n",
    "       'Injury_Nature_Category_encoded_5. PPD SCH LOSS',\n",
    "       'Injury_Nature_Category_encoded_2. NON-COMP',\n",
    "       'Injury_Nature_Category_encoded_3. MED ONLY',\n",
    "       'Injury_Nature_Category_encoded_4. TEMPORARY',\n",
    "       'Injury_Nature_Category_encoded_1. CANCELLED',\n",
    "       'Injury_Nature_Category_encoded_8. DEATH',\n",
    "       'Injury_Nature_Category_encoded_6. PPD NSL',\n",
    "       'Injury_Nature_Category_encoded_7. PTD',\n",
    "       'Body_Part_Lower_Extremities', 'Body_Part_Multiple_Body Parts',\n",
    "       'Body_Part_Trunk', 'Body_Part_Unknown', 'Body_Part_Upper_Extremities',\n",
    "       'Part_Body_Category_encoded_5. PPD SCH LOSS',\n",
    "       'Part_Body_Category_encoded_2. NON-COMP',\n",
    "       'Part_Body_Category_encoded_3. MED ONLY',\n",
    "       'Part_Body_Category_encoded_4. TEMPORARY',\n",
    "       'Part_Body_Category_encoded_1. CANCELLED',\n",
    "       'Part_Body_Category_encoded_8. DEATH',\n",
    "       'Part_Body_Category_encoded_6. PPD NSL',\n",
    "       'Part_Body_Category_encoded_7. PTD', 'Days_between_Acc_Assembyl',\n",
    "       'Binary Average Weekly Wage'\n",
    "       ]"
   ]
  },
  {
   "cell_type": "code",
   "execution_count": 140,
   "metadata": {},
   "outputs": [
    {
     "name": "stdout",
     "output_type": "stream",
     "text": [
      "There are: 0 columns missing in the training set\n",
      "There are: 0 columns missing in the validation set\n",
      "There are: 0 columns missing in the test set\n"
     ]
    }
   ],
   "source": [
    "# check if all the columns are in each dataset \n",
    "no_missing_col_train = len((set(columns_to_keep) - set(X_train_encoded.columns)))\n",
    "no_missing_col_val = len(set(columns_to_keep) - set(X_val_encoded.columns))\n",
    "no_missing_col_test = len(set(columns_to_keep) - set(X_test_encoded.columns))\n",
    "# print for ever df the amount of missing columns in each dataset\n",
    "\n",
    "print(f'There are: {no_missing_col_train} columns missing in the training set')\n",
    "print(f'There are: {no_missing_col_val} columns missing in the validation set')\n",
    "print(f'There are: {no_missing_col_test} columns missing in the test set')"
   ]
  },
  {
   "cell_type": "markdown",
   "metadata": {},
   "source": [
    "> __Save to csv__"
   ]
  },
  {
   "cell_type": "code",
   "execution_count": 141,
   "metadata": {},
   "outputs": [],
   "source": [
    "# # Extract Assembly Year and Assembly Month\n",
    "# X_train_encoded['assembly_year'] = X_train_encoded['Assembly Date'].dt.year\n",
    "# X_train_encoded['assembly_month'] = X_train_encoded['Assembly Date'].dt.month\n",
    "# # Extract Accident Year and Accident Month\n",
    "# X_train_encoded['accident_year'] = X_train_encoded['Accident Date'].dt.year\n",
    "# X_train_encoded['accident_month'] = X_train_encoded['Accident Date'].dt.month\n"
   ]
  },
  {
   "cell_type": "code",
   "execution_count": 142,
   "metadata": {},
   "outputs": [],
   "source": [
    "# # Drop the original columns\n",
    "# X_train_encoded = X_train_encoded.drop(columns=['Accident Date', 'Assembly Date'])\n"
   ]
  },
  {
   "cell_type": "code",
   "execution_count": 143,
   "metadata": {},
   "outputs": [],
   "source": [
    "# X_to_sample = X_train_encoded[columns_to_keep].copy()"
   ]
  },
  {
   "cell_type": "code",
   "execution_count": 144,
   "metadata": {},
   "outputs": [],
   "source": [
    "# y_train.value_counts()\n"
   ]
  },
  {
   "cell_type": "code",
   "execution_count": 145,
   "metadata": {},
   "outputs": [],
   "source": [
    "# from imblearn.over_sampling import SMOTE\n",
    "# from imblearn.under_sampling import RandomUnderSampler\n",
    "\n",
    "\n",
    "# # Define target class sizes\n",
    "# undersample_strategy = {\n",
    "#     '2. NON-COMP': 100000,  # Undersample to 100k\n",
    "#     '4. TEMPORARY': 100000, # Undersample to 100k\n",
    "#     '3. MED ONLY': 47320,   # Keep as is\n",
    "#     '5. PPD SCH LOSS': 33119,\n",
    "#     '1. CANCELLED': 7551,\n",
    "#     '6. PPD NSL': 2918,\n",
    "#     '8. DEATH': 284,\n",
    "#     '7. PTD': 63\n",
    "# }\n",
    "\n",
    "# # Apply undersampling\n",
    "# undersampler = RandomUnderSampler(sampling_strategy=undersample_strategy, random_state=42)\n",
    "# X_resampled, y_resampled = undersampler.fit_resample(X_to_sample, y_train)\n",
    "\n",
    "# smote = SMOTE(sampling_strategy={\n",
    "#     '1. CANCELLED': 30_000,\n",
    "#     '6. PPD NSL': 10_000,\n",
    "#     '8. DEATH': 5_000,\n",
    "#     '7. PTD': 2_000\n",
    "# }, random_state=42)\n",
    "\n",
    "# X_final, y_final = smote.fit_resample(X_resampled, y_resampled)\n",
    "\n",
    "\n",
    "# # Check the new distribution\n",
    "# y_final.value_counts()"
   ]
  },
  {
   "cell_type": "code",
   "execution_count": 146,
   "metadata": {},
   "outputs": [],
   "source": [
    "# from imblearn.over_sampling import SMOTE\n",
    "# from imblearn.under_sampling import RandomUnderSampler\n",
    "\n",
    "# # Define undersampling strategy for majority classes\n",
    "# undersample_strategy = {\n",
    "#     '2. NON-COMP': 30000, \n",
    "#     '4. TEMPORARY': 30000, \n",
    "#     '3. MED ONLY': 30000, \n",
    "#     '5. PPD SCH LOSS': 30000,\n",
    "#     '1. CANCELLED': 7551,\n",
    "#     '6. PPD NSL': 2918,\n",
    "#     '8. DEATH': 284,\n",
    "#     '7. PTD': 63\n",
    "# }\n",
    "\n",
    "# # Define oversampling strategy for minority classes\n",
    "# smote = SMOTE(sampling_strategy={\n",
    "#     '1. CANCELLED': 30_000,\n",
    "#     '7. PTD': 30_000,  # Oversample to 30k\n",
    "#     '8. DEATH': 30_000,\n",
    "#     '6. PPD NSL': 30_000\n",
    "# }, random_state=42)\n",
    "\n",
    "# # Apply undersampling to majority classes\n",
    "# undersampler = RandomUnderSampler(sampling_strategy=undersample_strategy, random_state=42)\n",
    "# X_resampled, y_resampled = undersampler.fit_resample(X_to_sample, y_train)\n",
    "\n",
    "# # Apply SMOTE to oversample minority classes\n",
    "# X_final, y_final = smote.fit_resample(X_resampled, y_resampled)\n"
   ]
  },
  {
   "cell_type": "code",
   "execution_count": 147,
   "metadata": {},
   "outputs": [],
   "source": [
    "# y_final.value_counts()"
   ]
  },
  {
   "cell_type": "code",
   "execution_count": 148,
   "metadata": {},
   "outputs": [],
   "source": [
    "# X_train_encoded = X_final"
   ]
  },
  {
   "cell_type": "code",
   "execution_count": 149,
   "metadata": {},
   "outputs": [],
   "source": [
    "# y_train = y_final"
   ]
  },
  {
   "cell_type": "code",
   "execution_count": null,
   "metadata": {},
   "outputs": [],
   "source": [
    "X_train_encoded[columns_to_keep].to_csv('../project_data/X_train_encoded.csv')\n",
    "X_val_encoded[columns_to_keep].to_csv('../project_data/X_val_encoded.csv')\n",
    "X_test_encoded[columns_to_keep].to_csv('../project_data/X_test_encoded.csv')\n",
    "\n",
    "y_train.to_csv('../project_data/y_train.csv')\n",
    "y_val.to_csv('../project_data/y_val.csv')"
   ]
  }
 ],
 "metadata": {
  "kernelspec": {
   "display_name": "Python 3",
   "language": "python",
   "name": "python3"
  },
  "language_info": {
   "codemirror_mode": {
    "name": "ipython",
    "version": 3
   },
   "file_extension": ".py",
   "mimetype": "text/x-python",
   "name": "python",
   "nbconvert_exporter": "python",
   "pygments_lexer": "ipython3",
   "version": "3.12.2"
  }
 },
 "nbformat": 4,
 "nbformat_minor": 2
}

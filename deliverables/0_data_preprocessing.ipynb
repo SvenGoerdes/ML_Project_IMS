{
 "cells": [
  {
   "cell_type": "markdown",
   "metadata": {},
   "source": [
    "## 0. Imports and dataset"
   ]
  },
  {
   "cell_type": "code",
   "execution_count": 1,
   "metadata": {},
   "outputs": [],
   "source": [
    "import pandas as pd\n",
    "import numpy as np\n",
    "\n",
    "from category_encoders import TargetEncoder\n",
    "\n",
    "# visualization\n",
    "import matplotlib.pyplot as plt\n",
    "import seaborn as sns\n",
    "import missingno as msno # for missing values\n",
    "import sys\n",
    "sys.path.append('../helper_functions')\n",
    "\n",
    "# data partition\n",
    "from sklearn.model_selection import train_test_split\n",
    "\n",
    "# Import functions that are stored in the helper_functions directory. We do this to keep the notebook clean and easy to read\n",
    "from helper_functions import *\n",
    "\n",
    "from sklearn.pipeline import Pipeline\n",
    "\n",
    "# Import custom_transformer for Incoherences\n",
    "from incoherences_custom_transformers import (\n",
    "    IncoCarrierType, \n",
    "    IncoWCIOBodyCode, \n",
    "    IncoZeroAWW, \n",
    "    IncoZeroBirthYEAR, \n",
    "    IncoZeroAgeAtInjury, \n",
    "    IncoFilterAgeAtInjury, \n",
    "    IncoDependents, \n",
    "    IncoCorrectAge, \n",
    "    IncoSwapAccidentDate, \n",
    "    IncoCovidIndicator\n",
    ")"
   ]
  },
  {
   "cell_type": "code",
   "execution_count": 2,
   "metadata": {},
   "outputs": [
    {
     "data": {
      "text/html": [
       "<div>\n",
       "<style scoped>\n",
       "    .dataframe tbody tr th:only-of-type {\n",
       "        vertical-align: middle;\n",
       "    }\n",
       "\n",
       "    .dataframe tbody tr th {\n",
       "        vertical-align: top;\n",
       "    }\n",
       "\n",
       "    .dataframe thead th {\n",
       "        text-align: right;\n",
       "    }\n",
       "</style>\n",
       "<table border=\"1\" class=\"dataframe\">\n",
       "  <thead>\n",
       "    <tr style=\"text-align: right;\">\n",
       "      <th></th>\n",
       "      <th>Accident Date</th>\n",
       "      <th>Age at Injury</th>\n",
       "      <th>Alternative Dispute Resolution</th>\n",
       "      <th>Assembly Date</th>\n",
       "      <th>Attorney/Representative</th>\n",
       "      <th>Average Weekly Wage</th>\n",
       "      <th>Birth Year</th>\n",
       "      <th>C-2 Date</th>\n",
       "      <th>C-3 Date</th>\n",
       "      <th>Carrier Name</th>\n",
       "      <th>Carrier Type</th>\n",
       "      <th>Claim Identifier</th>\n",
       "      <th>Claim Injury Type</th>\n",
       "      <th>County of Injury</th>\n",
       "      <th>COVID-19 Indicator</th>\n",
       "      <th>District Name</th>\n",
       "      <th>First Hearing Date</th>\n",
       "      <th>Gender</th>\n",
       "      <th>IME-4 Count</th>\n",
       "      <th>Industry Code</th>\n",
       "      <th>Industry Code Description</th>\n",
       "      <th>Medical Fee Region</th>\n",
       "      <th>OIICS Nature of Injury Description</th>\n",
       "      <th>WCIO Cause of Injury Code</th>\n",
       "      <th>WCIO Cause of Injury Description</th>\n",
       "      <th>WCIO Nature of Injury Code</th>\n",
       "      <th>WCIO Nature of Injury Description</th>\n",
       "      <th>WCIO Part Of Body Code</th>\n",
       "      <th>WCIO Part Of Body Description</th>\n",
       "      <th>Zip Code</th>\n",
       "      <th>Agreement Reached</th>\n",
       "      <th>WCB Decision</th>\n",
       "      <th>Number of Dependents</th>\n",
       "    </tr>\n",
       "  </thead>\n",
       "  <tbody>\n",
       "    <tr>\n",
       "      <th>0</th>\n",
       "      <td>2019-12-30</td>\n",
       "      <td>31.0</td>\n",
       "      <td>N</td>\n",
       "      <td>2020-01-01</td>\n",
       "      <td>N</td>\n",
       "      <td>0.00</td>\n",
       "      <td>1988.0</td>\n",
       "      <td>2019-12-31</td>\n",
       "      <td>NaN</td>\n",
       "      <td>NEW HAMPSHIRE INSURANCE CO</td>\n",
       "      <td>1A. PRIVATE</td>\n",
       "      <td>5393875</td>\n",
       "      <td>2. NON-COMP</td>\n",
       "      <td>ST. LAWRENCE</td>\n",
       "      <td>N</td>\n",
       "      <td>SYRACUSE</td>\n",
       "      <td>NaN</td>\n",
       "      <td>M</td>\n",
       "      <td>NaN</td>\n",
       "      <td>44.0</td>\n",
       "      <td>RETAIL TRADE</td>\n",
       "      <td>I</td>\n",
       "      <td>NaN</td>\n",
       "      <td>27.0</td>\n",
       "      <td>FROM LIQUID OR GREASE SPILLS</td>\n",
       "      <td>10.0</td>\n",
       "      <td>CONTUSION</td>\n",
       "      <td>62.0</td>\n",
       "      <td>BUTTOCKS</td>\n",
       "      <td>13662</td>\n",
       "      <td>0.0</td>\n",
       "      <td>Not Work Related</td>\n",
       "      <td>1.0</td>\n",
       "    </tr>\n",
       "    <tr>\n",
       "      <th>1</th>\n",
       "      <td>2019-08-30</td>\n",
       "      <td>46.0</td>\n",
       "      <td>N</td>\n",
       "      <td>2020-01-01</td>\n",
       "      <td>Y</td>\n",
       "      <td>1745.93</td>\n",
       "      <td>1973.0</td>\n",
       "      <td>2020-01-01</td>\n",
       "      <td>2020-01-14</td>\n",
       "      <td>ZURICH AMERICAN INSURANCE CO</td>\n",
       "      <td>1A. PRIVATE</td>\n",
       "      <td>5393091</td>\n",
       "      <td>4. TEMPORARY</td>\n",
       "      <td>WYOMING</td>\n",
       "      <td>N</td>\n",
       "      <td>ROCHESTER</td>\n",
       "      <td>2020-02-21</td>\n",
       "      <td>F</td>\n",
       "      <td>4.0</td>\n",
       "      <td>23.0</td>\n",
       "      <td>CONSTRUCTION</td>\n",
       "      <td>I</td>\n",
       "      <td>NaN</td>\n",
       "      <td>97.0</td>\n",
       "      <td>REPETITIVE MOTION</td>\n",
       "      <td>49.0</td>\n",
       "      <td>SPRAIN OR TEAR</td>\n",
       "      <td>38.0</td>\n",
       "      <td>SHOULDER(S)</td>\n",
       "      <td>14569</td>\n",
       "      <td>1.0</td>\n",
       "      <td>Not Work Related</td>\n",
       "      <td>4.0</td>\n",
       "    </tr>\n",
       "    <tr>\n",
       "      <th>2</th>\n",
       "      <td>2019-12-06</td>\n",
       "      <td>40.0</td>\n",
       "      <td>N</td>\n",
       "      <td>2020-01-01</td>\n",
       "      <td>N</td>\n",
       "      <td>1434.80</td>\n",
       "      <td>1979.0</td>\n",
       "      <td>2020-01-01</td>\n",
       "      <td>NaN</td>\n",
       "      <td>INDEMNITY INSURANCE CO OF</td>\n",
       "      <td>1A. PRIVATE</td>\n",
       "      <td>5393889</td>\n",
       "      <td>4. TEMPORARY</td>\n",
       "      <td>ORANGE</td>\n",
       "      <td>N</td>\n",
       "      <td>ALBANY</td>\n",
       "      <td>NaN</td>\n",
       "      <td>M</td>\n",
       "      <td>NaN</td>\n",
       "      <td>56.0</td>\n",
       "      <td>ADMINISTRATIVE AND SUPPORT AND WASTE MANAGEMEN...</td>\n",
       "      <td>II</td>\n",
       "      <td>NaN</td>\n",
       "      <td>79.0</td>\n",
       "      <td>OBJECT BEING LIFTED OR HANDLED</td>\n",
       "      <td>7.0</td>\n",
       "      <td>CONCUSSION</td>\n",
       "      <td>10.0</td>\n",
       "      <td>MULTIPLE HEAD INJURY</td>\n",
       "      <td>12589</td>\n",
       "      <td>0.0</td>\n",
       "      <td>Not Work Related</td>\n",
       "      <td>6.0</td>\n",
       "    </tr>\n",
       "    <tr>\n",
       "      <th>3</th>\n",
       "      <td>NaN</td>\n",
       "      <td>NaN</td>\n",
       "      <td>NaN</td>\n",
       "      <td>2020-01-01</td>\n",
       "      <td>NaN</td>\n",
       "      <td>NaN</td>\n",
       "      <td>NaN</td>\n",
       "      <td>NaN</td>\n",
       "      <td>NaN</td>\n",
       "      <td>NaN</td>\n",
       "      <td>NaN</td>\n",
       "      <td>957648180</td>\n",
       "      <td>NaN</td>\n",
       "      <td>NaN</td>\n",
       "      <td>NaN</td>\n",
       "      <td>NaN</td>\n",
       "      <td>NaN</td>\n",
       "      <td>NaN</td>\n",
       "      <td>NaN</td>\n",
       "      <td>NaN</td>\n",
       "      <td>NaN</td>\n",
       "      <td>NaN</td>\n",
       "      <td>NaN</td>\n",
       "      <td>NaN</td>\n",
       "      <td>NaN</td>\n",
       "      <td>NaN</td>\n",
       "      <td>NaN</td>\n",
       "      <td>NaN</td>\n",
       "      <td>NaN</td>\n",
       "      <td>NaN</td>\n",
       "      <td>NaN</td>\n",
       "      <td>NaN</td>\n",
       "      <td>NaN</td>\n",
       "    </tr>\n",
       "    <tr>\n",
       "      <th>4</th>\n",
       "      <td>2019-12-30</td>\n",
       "      <td>61.0</td>\n",
       "      <td>N</td>\n",
       "      <td>2020-01-01</td>\n",
       "      <td>N</td>\n",
       "      <td>NaN</td>\n",
       "      <td>1958.0</td>\n",
       "      <td>2019-12-31</td>\n",
       "      <td>NaN</td>\n",
       "      <td>STATE INSURANCE FUND</td>\n",
       "      <td>2A. SIF</td>\n",
       "      <td>5393887</td>\n",
       "      <td>2. NON-COMP</td>\n",
       "      <td>DUTCHESS</td>\n",
       "      <td>N</td>\n",
       "      <td>ALBANY</td>\n",
       "      <td>NaN</td>\n",
       "      <td>M</td>\n",
       "      <td>NaN</td>\n",
       "      <td>62.0</td>\n",
       "      <td>HEALTH CARE AND SOCIAL ASSISTANCE</td>\n",
       "      <td>II</td>\n",
       "      <td>NaN</td>\n",
       "      <td>16.0</td>\n",
       "      <td>HAND TOOL, UTENSIL; NOT POWERED</td>\n",
       "      <td>43.0</td>\n",
       "      <td>PUNCTURE</td>\n",
       "      <td>36.0</td>\n",
       "      <td>FINGER(S)</td>\n",
       "      <td>12603</td>\n",
       "      <td>0.0</td>\n",
       "      <td>Not Work Related</td>\n",
       "      <td>1.0</td>\n",
       "    </tr>\n",
       "  </tbody>\n",
       "</table>\n",
       "</div>"
      ],
      "text/plain": [
       "  Accident Date  Age at Injury Alternative Dispute Resolution Assembly Date  \\\n",
       "0    2019-12-30           31.0                              N    2020-01-01   \n",
       "1    2019-08-30           46.0                              N    2020-01-01   \n",
       "2    2019-12-06           40.0                              N    2020-01-01   \n",
       "3           NaN            NaN                            NaN    2020-01-01   \n",
       "4    2019-12-30           61.0                              N    2020-01-01   \n",
       "\n",
       "  Attorney/Representative  Average Weekly Wage  Birth Year    C-2 Date  \\\n",
       "0                       N                 0.00      1988.0  2019-12-31   \n",
       "1                       Y              1745.93      1973.0  2020-01-01   \n",
       "2                       N              1434.80      1979.0  2020-01-01   \n",
       "3                     NaN                  NaN         NaN         NaN   \n",
       "4                       N                  NaN      1958.0  2019-12-31   \n",
       "\n",
       "     C-3 Date                  Carrier Name Carrier Type  Claim Identifier  \\\n",
       "0         NaN    NEW HAMPSHIRE INSURANCE CO  1A. PRIVATE           5393875   \n",
       "1  2020-01-14  ZURICH AMERICAN INSURANCE CO  1A. PRIVATE           5393091   \n",
       "2         NaN     INDEMNITY INSURANCE CO OF  1A. PRIVATE           5393889   \n",
       "3         NaN                           NaN          NaN         957648180   \n",
       "4         NaN          STATE INSURANCE FUND      2A. SIF           5393887   \n",
       "\n",
       "  Claim Injury Type County of Injury COVID-19 Indicator District Name  \\\n",
       "0       2. NON-COMP     ST. LAWRENCE                  N      SYRACUSE   \n",
       "1      4. TEMPORARY          WYOMING                  N     ROCHESTER   \n",
       "2      4. TEMPORARY           ORANGE                  N        ALBANY   \n",
       "3               NaN              NaN                NaN           NaN   \n",
       "4       2. NON-COMP         DUTCHESS                  N        ALBANY   \n",
       "\n",
       "  First Hearing Date Gender  IME-4 Count  Industry Code  \\\n",
       "0                NaN      M          NaN           44.0   \n",
       "1         2020-02-21      F          4.0           23.0   \n",
       "2                NaN      M          NaN           56.0   \n",
       "3                NaN    NaN          NaN            NaN   \n",
       "4                NaN      M          NaN           62.0   \n",
       "\n",
       "                           Industry Code Description Medical Fee Region  \\\n",
       "0                                       RETAIL TRADE                  I   \n",
       "1                                       CONSTRUCTION                  I   \n",
       "2  ADMINISTRATIVE AND SUPPORT AND WASTE MANAGEMEN...                 II   \n",
       "3                                                NaN                NaN   \n",
       "4                  HEALTH CARE AND SOCIAL ASSISTANCE                 II   \n",
       "\n",
       "   OIICS Nature of Injury Description  WCIO Cause of Injury Code  \\\n",
       "0                                 NaN                       27.0   \n",
       "1                                 NaN                       97.0   \n",
       "2                                 NaN                       79.0   \n",
       "3                                 NaN                        NaN   \n",
       "4                                 NaN                       16.0   \n",
       "\n",
       "  WCIO Cause of Injury Description  WCIO Nature of Injury Code  \\\n",
       "0     FROM LIQUID OR GREASE SPILLS                        10.0   \n",
       "1                REPETITIVE MOTION                        49.0   \n",
       "2   OBJECT BEING LIFTED OR HANDLED                         7.0   \n",
       "3                              NaN                         NaN   \n",
       "4  HAND TOOL, UTENSIL; NOT POWERED                        43.0   \n",
       "\n",
       "  WCIO Nature of Injury Description  WCIO Part Of Body Code  \\\n",
       "0                         CONTUSION                    62.0   \n",
       "1                    SPRAIN OR TEAR                    38.0   \n",
       "2                        CONCUSSION                    10.0   \n",
       "3                               NaN                     NaN   \n",
       "4                          PUNCTURE                    36.0   \n",
       "\n",
       "  WCIO Part Of Body Description Zip Code  Agreement Reached      WCB Decision  \\\n",
       "0                      BUTTOCKS    13662                0.0  Not Work Related   \n",
       "1                   SHOULDER(S)    14569                1.0  Not Work Related   \n",
       "2          MULTIPLE HEAD INJURY    12589                0.0  Not Work Related   \n",
       "3                           NaN      NaN                NaN               NaN   \n",
       "4                     FINGER(S)    12603                0.0  Not Work Related   \n",
       "\n",
       "   Number of Dependents  \n",
       "0                   1.0  \n",
       "1                   4.0  \n",
       "2                   6.0  \n",
       "3                   NaN  \n",
       "4                   1.0  "
      ]
     },
     "execution_count": 2,
     "metadata": {},
     "output_type": "execute_result"
    }
   ],
   "source": [
    "WCB_original = pd.read_csv('../project_data/train_data.csv', delimiter=',',dtype={'Zip Code': str})\n",
    "X_test = pd.read_csv('../project_data/test_data.csv', delimiter=',',dtype={'Zip Code': str})\n",
    "\n",
    "# show all columns\n",
    "pd.set_option('display.max_columns', None)\n",
    "\n",
    "WCB_original.head()"
   ]
  },
  {
   "cell_type": "markdown",
   "metadata": {},
   "source": [
    "## 1. Initial preprocessing"
   ]
  },
  {
   "cell_type": "markdown",
   "metadata": {},
   "source": [
    "\n",
    "> **1.** Made a copy from the original WCB </br>\n",
    "> **2.** Drop duplicated Claim Identifier from WCB, no duplicate in X_Test.</br>\n",
    "> **3.** Set Claim Identifier as Index.</br>\n",
    "> **4.** Drop all the rows that have null value in Claim Injury Type.</br>\n",
    "> **5.** Drop OIICS Nature of Injury Description from WCB and X_test.</br>\n",
    "> **6.** Convert WCB and X_test to datetime.</br>\n",
    "> **7.** Drop rows in WCB that have duplicates in all columns (<em> Do not remove from X_test</em>).</br>\n",
    "> **8.** Check for duplicates, excluding 1 column at a time.</br>\n",
    "> **9.** Drop WCB Decision as it only has unique value (<em>Doesn't exist in X_test</em>).</br>\n",
    "> **10.** Set unknown values to missing."
   ]
  },
  {
   "cell_type": "code",
   "execution_count": 3,
   "metadata": {},
   "outputs": [],
   "source": [
    "# (1) Creating WCB from the original --------------------------------------------\n",
    "WCB = WCB_original.copy()\n",
    "\n",
    "# (2) Drop duplicate of Claim Id -------------------------------------------------\n",
    "WCB = WCB[~WCB['Claim Identifier'].duplicated(keep=False)] #ALTERACAO: mais geral\n",
    "\n",
    "# (3) Set Claim Indentifier as Index --------------------------------------------\n",
    "WCB.set_index('Claim Identifier', inplace=True)\n",
    "X_test.set_index('Claim Identifier', inplace=True)\n",
    "\n",
    "# (4) Drop null values from Claim Injury Type -----------------------------------\n",
    "WCB = WCB.dropna(subset=['Claim Injury Type']) #this drops 19445 rows\n",
    "\n",
    "# (5) Drop column OIICS Nature of Injury Description ----------------------------\n",
    "WCB = WCB.drop(columns=['OIICS Nature of Injury Description'])\n",
    "X_test =  X_test.drop(columns=['OIICS Nature of Injury Description'])\n",
    "\n",
    "# (6) Convert to datetime -------------------------------------------------------\n",
    "date_columns = ['Accident Date', 'Assembly Date','C-2 Date', 'C-3 Date', 'First Hearing Date']\n",
    "# Convert columns to datetime\n",
    "for column in date_columns:\n",
    "    WCB[column] = pd.to_datetime(WCB[column], format='%Y-%m-%d', errors='coerce')\n",
    "    X_test[column] = pd.to_datetime(X_test[column], format='%Y-%m-%d', errors='coerce')\n",
    "\n",
    "# (7) Drop duplicate on all columns ----------------------------------------------\n",
    "WCB = WCB.drop_duplicates(keep='first')\n",
    "\n",
    "# (8) Iterate throguh columns, and look for duplicates, excluding 1 column at a time\n",
    "for col in WCB.columns:\n",
    "    # Define the subset of columns to check in this iteration (excluding 'col')\n",
    "    cols_to_check_now = [c for c in  WCB.columns if c != col]\n",
    "\n",
    "    # Identify duplicates based on these columns\n",
    "    duplicates = WCB[WCB.duplicated(subset=cols_to_check_now, keep=False)]\n",
    "\n",
    "    #Drop duplicates, keeping the first occurrence in each subset where one column can differ\n",
    "    WCB = WCB.drop_duplicates(subset=cols_to_check_now, keep='first')\n",
    "\n",
    "# (9) Drop WCB Decision as it only has 1 value\n",
    "WCB = WCB.drop(columns=['WCB Decision'])\n",
    "\n",
    "# (10) Setting unknown values to nan -------------------------------------------------\n",
    "unknown_values = {'Alternative Dispute Resolution': 'U',   'Carrier Type': 'UNKNOWN', 'County of Injury': 'UNKNOWN',\n",
    "    'Gender': 'U','Medical Fee Region': 'UK'}\n",
    "\n",
    "WCB.replace(unknown_values, np.nan, inplace=True)\n",
    "X_test.replace(unknown_values, np.nan, inplace=True) # ALTERACAO: adicionei "
   ]
  },
  {
   "cell_type": "code",
   "execution_count": 4,
   "metadata": {},
   "outputs": [],
   "source": [
    "wcb = WCB.copy()\n",
    "test =X_test.copy()"
   ]
  },
  {
   "cell_type": "markdown",
   "metadata": {},
   "source": [
    "## 2. Incoherences"
   ]
  },
  {
   "cell_type": "markdown",
   "metadata": {},
   "source": [
    "> **1.** For rows with Carrier Name 'SPECIAL FUNDS SEC 25-A', change Carrier Type to '5A. SPECIAL FUND - CONS. COMM. (SECT. 25-A)'.</br>\n",
    "> **2.** Change WCIO Part Of Body Code -9 to 90, and associate the description of code 90 to Multiple parts of body (WCB and X_test).</br>\n",
    "> **3.** Replace AWW==0 with NaN</br>\n",
    "> **4.** Replace Birth Year==0 with NaN</br>\n",
    "> **5.** Change the number of dependents of people with age under 16 to zero</br>\n",
    "> **6.** Age at injury zero to NaN, and drop rows under 14.</br>\n",
    "> **7.** Age at Injury -1 if is one year above than should be.</br>\n",
    "> **8.** Invalid entries are the ones where Accident date before Assembly date</br>\n",
    "> **9.** Turn Covid-19 indicator do 'N' if before 2020-03-01"
   ]
  },
  {
   "cell_type": "code",
   "execution_count": 5,
   "metadata": {},
   "outputs": [],
   "source": [
    "\n",
    "incoherences_pipeline = Pipeline([\n",
    "    ('update_carrier_type', IncoCarrierType()),\n",
    "    ('update_wcio_body_code', IncoWCIOBodyCode()),\n",
    "    # ('replace_aww_zero_nan', IncoZeroAWW()),\n",
    "    ('replace_birth_year_zero_nan', IncoZeroBirthYEAR()),\n",
    "    ('replace_age_zero_nan', IncoZeroAgeAtInjury()),\n",
    "    ('filter_age_14', IncoFilterAgeAtInjury()),\n",
    "    ('update_dependents', IncoDependents()),\n",
    "    ('compare_age_with_accident_and_birth', IncoCorrectAge()),\n",
    "    ('swap_accident_date', IncoSwapAccidentDate()), \n",
    "    ('update_covid_indicator', IncoCovidIndicator())\n",
    "])\n",
    "\n",
    "# Apply the pipeline to the training and test data\n",
    "WCB = incoherences_pipeline.fit_transform(WCB)\n",
    "X_test = incoherences_pipeline.transform(X_test)\n"
   ]
  },
  {
   "cell_type": "markdown",
   "metadata": {},
   "source": [
    "## 3. Missing values"
   ]
  },
  {
   "cell_type": "code",
   "execution_count": 6,
   "metadata": {},
   "outputs": [],
   "source": [
    "X = WCB.drop(columns=['Claim Injury Type'])\n",
    "y = WCB[['Claim Injury Type']]\n",
    "X_train, X_val, y_train, y_val = train_test_split(X, y,\n",
    "                                                 test_size = 0.3,\n",
    "                                                 shuffle = True,\n",
    "                                                 random_state = 0,\n",
    "                                                 stratify = y)"
   ]
  },
  {
   "cell_type": "code",
   "execution_count": 7,
   "metadata": {},
   "outputs": [
    {
     "name": "stdout",
     "output_type": "stream",
     "text": [
      "X_train:(401765, 29)\n",
      "X_val:(172185, 29)\n"
     ]
    }
   ],
   "source": [
    "print(f'X_train:{X_train.shape}')\n",
    "print(f'X_val:{X_val.shape}')"
   ]
  },
  {
   "cell_type": "code",
   "execution_count": 8,
   "metadata": {},
   "outputs": [
    {
     "data": {
      "text/html": [
       "<div>\n",
       "<style scoped>\n",
       "    .dataframe tbody tr th:only-of-type {\n",
       "        vertical-align: middle;\n",
       "    }\n",
       "\n",
       "    .dataframe tbody tr th {\n",
       "        vertical-align: top;\n",
       "    }\n",
       "\n",
       "    .dataframe thead th {\n",
       "        text-align: right;\n",
       "    }\n",
       "</style>\n",
       "<table border=\"1\" class=\"dataframe\">\n",
       "  <thead>\n",
       "    <tr style=\"text-align: right;\">\n",
       "      <th></th>\n",
       "      <th>Missing Count</th>\n",
       "      <th>Missing %</th>\n",
       "    </tr>\n",
       "  </thead>\n",
       "  <tbody>\n",
       "    <tr>\n",
       "      <th>IME-4 Count</th>\n",
       "      <td>308984</td>\n",
       "      <td>76.91</td>\n",
       "    </tr>\n",
       "    <tr>\n",
       "      <th>First Hearing Date</th>\n",
       "      <td>296421</td>\n",
       "      <td>73.78</td>\n",
       "    </tr>\n",
       "    <tr>\n",
       "      <th>C-3 Date</th>\n",
       "      <td>270686</td>\n",
       "      <td>67.37</td>\n",
       "    </tr>\n",
       "    <tr>\n",
       "      <th>Birth Year</th>\n",
       "      <td>37819</td>\n",
       "      <td>9.41</td>\n",
       "    </tr>\n",
       "    <tr>\n",
       "      <th>Medical Fee Region</th>\n",
       "      <td>23417</td>\n",
       "      <td>5.83</td>\n",
       "    </tr>\n",
       "    <tr>\n",
       "      <th>Average Weekly Wage</th>\n",
       "      <td>20058</td>\n",
       "      <td>4.99</td>\n",
       "    </tr>\n",
       "    <tr>\n",
       "      <th>Zip Code</th>\n",
       "      <td>19851</td>\n",
       "      <td>4.94</td>\n",
       "    </tr>\n",
       "    <tr>\n",
       "      <th>WCIO Part Of Body Code</th>\n",
       "      <td>11868</td>\n",
       "      <td>2.95</td>\n",
       "    </tr>\n",
       "    <tr>\n",
       "      <th>WCIO Part Of Body Description</th>\n",
       "      <td>11868</td>\n",
       "      <td>2.95</td>\n",
       "    </tr>\n",
       "    <tr>\n",
       "      <th>WCIO Nature of Injury Code</th>\n",
       "      <td>10903</td>\n",
       "      <td>2.71</td>\n",
       "    </tr>\n",
       "    <tr>\n",
       "      <th>WCIO Nature of Injury Description</th>\n",
       "      <td>10903</td>\n",
       "      <td>2.71</td>\n",
       "    </tr>\n",
       "    <tr>\n",
       "      <th>WCIO Cause of Injury Code</th>\n",
       "      <td>10894</td>\n",
       "      <td>2.71</td>\n",
       "    </tr>\n",
       "    <tr>\n",
       "      <th>WCIO Cause of Injury Description</th>\n",
       "      <td>10894</td>\n",
       "      <td>2.71</td>\n",
       "    </tr>\n",
       "    <tr>\n",
       "      <th>C-2 Date</th>\n",
       "      <td>10140</td>\n",
       "      <td>2.52</td>\n",
       "    </tr>\n",
       "    <tr>\n",
       "      <th>Industry Code</th>\n",
       "      <td>6944</td>\n",
       "      <td>1.73</td>\n",
       "    </tr>\n",
       "    <tr>\n",
       "      <th>Industry Code Description</th>\n",
       "      <td>6944</td>\n",
       "      <td>1.73</td>\n",
       "    </tr>\n",
       "    <tr>\n",
       "      <th>Age at Injury</th>\n",
       "      <td>3784</td>\n",
       "      <td>0.94</td>\n",
       "    </tr>\n",
       "    <tr>\n",
       "      <th>Gender</th>\n",
       "      <td>3299</td>\n",
       "      <td>0.82</td>\n",
       "    </tr>\n",
       "    <tr>\n",
       "      <th>Carrier Type</th>\n",
       "      <td>1239</td>\n",
       "      <td>0.31</td>\n",
       "    </tr>\n",
       "    <tr>\n",
       "      <th>County of Injury</th>\n",
       "      <td>810</td>\n",
       "      <td>0.20</td>\n",
       "    </tr>\n",
       "    <tr>\n",
       "      <th>Alternative Dispute Resolution</th>\n",
       "      <td>3</td>\n",
       "      <td>0.00</td>\n",
       "    </tr>\n",
       "  </tbody>\n",
       "</table>\n",
       "</div>"
      ],
      "text/plain": [
       "                                   Missing Count  Missing %\n",
       "IME-4 Count                               308984      76.91\n",
       "First Hearing Date                        296421      73.78\n",
       "C-3 Date                                  270686      67.37\n",
       "Birth Year                                 37819       9.41\n",
       "Medical Fee Region                         23417       5.83\n",
       "Average Weekly Wage                        20058       4.99\n",
       "Zip Code                                   19851       4.94\n",
       "WCIO Part Of Body Code                     11868       2.95\n",
       "WCIO Part Of Body Description              11868       2.95\n",
       "WCIO Nature of Injury Code                 10903       2.71\n",
       "WCIO Nature of Injury Description          10903       2.71\n",
       "WCIO Cause of Injury Code                  10894       2.71\n",
       "WCIO Cause of Injury Description           10894       2.71\n",
       "C-2 Date                                   10140       2.52\n",
       "Industry Code                               6944       1.73\n",
       "Industry Code Description                   6944       1.73\n",
       "Age at Injury                               3784       0.94\n",
       "Gender                                      3299       0.82\n",
       "Carrier Type                                1239       0.31\n",
       "County of Injury                             810       0.20\n",
       "Alternative Dispute Resolution                 3       0.00"
      ]
     },
     "execution_count": 8,
     "metadata": {},
     "output_type": "execute_result"
    }
   ],
   "source": [
    "missing_data(X_train)"
   ]
  },
  {
   "cell_type": "code",
   "execution_count": 9,
   "metadata": {},
   "outputs": [
    {
     "data": {
      "text/plain": [
       "<Axes: >"
      ]
     },
     "execution_count": 9,
     "metadata": {},
     "output_type": "execute_result"
    },
    {
     "data": {
      "image/png": "[encoded data removed]",
      "text/plain": [
       "<Figure size 2000x1200 with 2 Axes>"
      ]
     },
     "metadata": {},
     "output_type": "display_data"
    }
   ],
   "source": [
    "msno.heatmap(X_train)"
   ]
  },
  {
   "cell_type": "markdown",
   "metadata": {},
   "source": [
    "> **1.** IME-4 Count: fillna(0). </br>\n",
    "> **2.** Birth Year: a) Fill using Accident Date and Age at Injury, b) Calculate the median of Age At Injury in the places where these exists accident date to prevent negative ages, c) fill with median of birth year.</br>\n",
    "> **3.** Medical Fee Region: Proportionaly impute </br>\n",
    "> **4.** Zip Code: NaN fill with UNKNOWN </br>\n",
    "> **5.** Cases with all WCIO codes and descriptions missing: fill with code 100 and Unknown, considering it as being cases where the workers just didn't fill. </br>\n",
    "> **6.** "
   ]
  },
  {
   "cell_type": "markdown",
   "metadata": {},
   "source": [
    "### Pipeline for missing"
   ]
  },
  {
   "cell_type": "code",
   "execution_count": 10,
   "metadata": {},
   "outputs": [],
   "source": [
    "from sklearn.compose import ColumnTransformer\n",
    "from sklearn.impute import SimpleImputer\n",
    "from missing_values_transformers import (FillNaNValues,\n",
    "                                         ImputeBirthYearFromAccident, \n",
    "                                         ImputeBirthYearWithMedian, \n",
    "                                         ImputeProportionalTransformer,\n",
    "                                         FillMissingDescriptionsWithCode,\n",
    "                                         ImputeAccidentDate,\n",
    "                                         ImputeAgeAtInjury)\n",
    "\n",
    "\n",
    "\n",
    "\n",
    "# Create the pipeline with the preprocessor and custom transformers\n",
    "missing_pipeline = Pipeline([\n",
    "    ('fill_ime4', FillNaNValues(column='IME-4 Count', fill_value=0)),  # Custom transformer for 'IME-4 Count'\n",
    "    ('fill_zip_code', FillNaNValues(column='Zip Code', fill_value='UNKNOWN')),\n",
    "    ('impute_birth_year_from_accident', ImputeBirthYearFromAccident()),\n",
    "    ('impute_birth_year_with_median_age_and_birth', ImputeBirthYearWithMedian()),\n",
    "    ('impute_medical_fee_region', ImputeProportionalTransformer(column='Medical Fee Region')),\n",
    "    ('impute_industry_code', ImputeProportionalTransformer(column='Industry Code')),\n",
    "    ('fill_missing_descriptions', FillMissingDescriptionsWithCode(\n",
    "        code_column='Industry Code', description_column='Industry Code Description')),\n",
    "    ('impute_accident_date_with_assembly', ImputeAccidentDate()),\n",
    "    ('impute_age_at_injury',ImputeAgeAtInjury()),\n",
    "    ('impute_alternative_dispute_resolution', ImputeProportionalTransformer(column='Alternative Dispute Resolution'))\n",
    "])\n",
    "\n",
    "X_train = missing_pipeline.fit_transform(X_train)\n",
    "X_val = missing_pipeline.transform(X_val)\n",
    "X_test = missing_pipeline.transform(X_test)\n"
   ]
  },
  {
   "cell_type": "markdown",
   "metadata": {},
   "source": [
    "### Need to add to the pipeline"
   ]
  },
  {
   "cell_type": "code",
   "execution_count": 11,
   "metadata": {},
   "outputs": [],
   "source": [
    "default_value_code = 100\n",
    "default_value_desc = \"Unknown\"\n",
    "\n",
    "# Columns with codes and descriptions\n",
    "columns_code = ['WCIO Part Of Body Code', 'WCIO Cause of Injury Code', 'WCIO Nature of Injury Code']\n",
    "columns_desc = ['WCIO Part Of Body Description', 'WCIO Cause of Injury Description', 'WCIO Nature of Injury Description']\n",
    "\n",
    "# check if all these columns are NaN for X_train and X_val\n",
    "missing_condition_train = X_train[columns_code + columns_desc].isna().all(axis=1)\n",
    "missing_condition_val = X_val[columns_code + columns_desc].isna().all(axis=1)\n",
    "missing_condition_test = X_test[columns_code + columns_desc].isna().all(axis=1)\n",
    "\n",
    "# Apply default values to X_train and X_val where conditions are met\n",
    "for col in columns_code:\n",
    "    X_train.loc[missing_condition_train, col] = default_value_code\n",
    "    X_val.loc[missing_condition_val, col] = default_value_code\n",
    "    X_test.loc[missing_condition_test, col] = default_value_code\n",
    "\n",
    "for col in columns_desc:\n",
    "    X_train.loc[missing_condition_train, col] = default_value_desc\n",
    "    X_val.loc[missing_condition_val, col] = default_value_desc\n",
    "    X_test.loc[missing_condition_test, col] = default_value_desc\n",
    "\n"
   ]
  },
  {
   "cell_type": "code",
   "execution_count": 12,
   "metadata": {},
   "outputs": [],
   "source": [
    "# 1. WCIO PART OF BODY\n",
    "X_train = impute_with(X_train, 'WCIO Part Of Body Code', 'WCIO Cause of Injury Code', metric='mode')\n",
    "X_val = impute_with(X_val, 'WCIO Part Of Body Code', 'WCIO Cause of Injury Code',reference_df=X_train, metric='mode')\n",
    "X_test = impute_with(X_test, 'WCIO Part Of Body Code', 'WCIO Cause of Injury Code',reference_df=X_train, metric='mode')\n",
    "\n",
    "# DataFrame with unique WCIO Part Of Body Codes and their descriptions (without missing descriptions)\n",
    "body_code_description_train = X_train[['WCIO Part Of Body Code', 'WCIO Part Of Body Description']].drop_duplicates()\n",
    "body_code_description_train = body_code_description_train[body_code_description_train['WCIO Part Of Body Description'].notna()]\n",
    "\n",
    "# Dictionary to map WCIO Part Of Body Code to its description\n",
    "description_dict = dict(zip(body_code_description_train['WCIO Part Of Body Code'], body_code_description_train['WCIO Part Of Body Description']))\n",
    "\n",
    "# Fill missing descriptions in X_train, X_val, X_test using the mapping | This is redundant as we dropo the description column later\n",
    "X_train['WCIO Part Of Body Description'] = X_train['WCIO Part Of Body Description'].fillna(X_train['WCIO Part Of Body Code'].map(description_dict))\n",
    "X_val['WCIO Part Of Body Description'] = X_val['WCIO Part Of Body Description'].fillna(X_val['WCIO Part Of Body Code'].map(description_dict))\n",
    "X_test['WCIO Part Of Body Description'] = X_test['WCIO Part Of Body Description'].fillna(X_test['WCIO Part Of Body Code'].map(description_dict))\n"
   ]
  },
  {
   "cell_type": "code",
   "execution_count": 13,
   "metadata": {},
   "outputs": [
    {
     "data": {
      "text/plain": [
       "0"
      ]
     },
     "execution_count": 13,
     "metadata": {},
     "output_type": "execute_result"
    }
   ],
   "source": [
    "(X_train['WCIO Part Of Body Code']==-9).sum()"
   ]
  },
  {
   "cell_type": "code",
   "execution_count": 14,
   "metadata": {},
   "outputs": [],
   "source": [
    "# 2. WCIO NATURE OF INJURY\n",
    "X_train = impute_with(X_train, 'WCIO Nature of Injury Code', 'WCIO Part Of Body Code', metric='mode')\n",
    "X_val = impute_with(X_val, 'WCIO Nature of Injury Code', 'WCIO Part Of Body Code',reference_df=X_train, metric='mode')\n",
    "X_test = impute_with(X_test, 'WCIO Nature of Injury Code', 'WCIO Part Of Body Code',reference_df=X_train, metric='mode')\n",
    "\n",
    "# DataFrame with unique WCIO Nature of Injury Codes and their descriptions (in X_train and without missing descriptions)\n",
    "nature_code_description_train = X_train[['WCIO Nature of Injury Code', 'WCIO Nature of Injury Description']].drop_duplicates()\n",
    "nature_code_description_train = nature_code_description_train[nature_code_description_train['WCIO Nature of Injury Description'].notna()]\n",
    "\n",
    "# Dictionary to map WCIO Nature of Injury Code to its description\n",
    "description_dict = dict(zip(nature_code_description_train['WCIO Nature of Injury Code'], nature_code_description_train['WCIO Nature of Injury Description']))\n",
    "\n",
    "# Fill missing descriptions in the original DataFrame using the mapping | redundant as we drop the values later \n",
    "X_train['WCIO Nature of Injury Description'] = X_train['WCIO Nature of Injury Description'].fillna(X_train['WCIO Nature of Injury Code'].map(description_dict))\n",
    "X_val['WCIO Nature of Injury Description'] = X_val['WCIO Nature of Injury Description'].fillna(X_val['WCIO Nature of Injury Code'].map(description_dict))\n",
    "X_test['WCIO Nature of Injury Description'] = X_test['WCIO Nature of Injury Description'].fillna(X_test['WCIO Nature of Injury Code'].map(description_dict))\n"
   ]
  },
  {
   "cell_type": "code",
   "execution_count": 15,
   "metadata": {},
   "outputs": [],
   "source": [
    "# 3. WCIO CAUSE OF INJURY\n",
    "X_train = impute_with(X_train, 'WCIO Cause of Injury Code', 'WCIO Part Of Body Code', metric='mode')\n",
    "X_val = impute_with(X_val, 'WCIO Cause of Injury Code', 'WCIO Part Of Body Code',reference_df=X_train, metric='mode')\n",
    "X_test = impute_with(X_test, 'WCIO Cause of Injury Code', 'WCIO Part Of Body Code',reference_df=X_train, metric='mode')\n",
    "\n",
    "# DataFrame with unique WCIO Cause of Injury Codes and their descriptions (in X_train and without missing descriptions)\n",
    "cause_code_description_train = X_train[['WCIO Cause of Injury Code', 'WCIO Cause of Injury Description']].drop_duplicates()\n",
    "cause_code_description_train = cause_code_description_train[cause_code_description_train['WCIO Cause of Injury Description'].notna()]\n",
    "\n",
    "# Dictionary to map WCIO Cause of Injury Code to its description (based on X_train)\n",
    "description_dict_train = dict(zip(cause_code_description_train['WCIO Cause of Injury Code'], cause_code_description_train['WCIO Cause of Injury Description']))\n",
    "\n",
    "# Fill missing descriptions in X_train and X_val using the mapping\n",
    "X_train['WCIO Cause of Injury Description'] = X_train['WCIO Cause of Injury Description'].fillna(X_train['WCIO Cause of Injury Code'].map(description_dict_train))\n",
    "X_val['WCIO Cause of Injury Description'] = X_val['WCIO Cause of Injury Description'].fillna(X_val['WCIO Cause of Injury Code'].map(description_dict_train))\n",
    "X_test['WCIO Cause of Injury Description'] = X_test['WCIO Cause of Injury Description'].fillna(X_test['WCIO Cause of Injury Code'].map(description_dict_train))"
   ]
  },
  {
   "cell_type": "code",
   "execution_count": 16,
   "metadata": {},
   "outputs": [],
   "source": [
    "#4. GENDER\n",
    "# impute with mode based on the Industry Code\n",
    "X_train = impute_with(X_train, 'Gender', 'Industry Code', ['X'], metric = 'mode')\n",
    "\n",
    "# Use reference DataFrame X_train to impute missing values in X_val to avoid data leakage\n",
    "X_val = impute_with(X_val, 'Gender', 'Industry Code', ['X'], reference_df=X_train, metric = 'mode')\n",
    "\n",
    "# Use reference DataFrame X_train to impute missing values in X_test to avoid data leakage\n",
    "X_test = impute_with(X_test, 'Gender', 'Industry Code', ['U','X'], reference_df = X_train, metric = 'mode')"
   ]
  },
  {
   "cell_type": "code",
   "execution_count": 17,
   "metadata": {},
   "outputs": [],
   "source": [
    "#5. CARRIER TYPE\n",
    "X_train = impute_with(X_train, target_column='Carrier Type',group_column='Industry Code', metric='mode')\n",
    "X_val = impute_with(X_val, target_column='Carrier Type', group_column='Industry Code',reference_df=X_train, metric='mode')\n",
    "X_test = impute_with(X_test, target_column='Carrier Type', group_column='Industry Code',reference_df=X_train, metric='mode')"
   ]
  },
  {
   "cell_type": "code",
   "execution_count": 18,
   "metadata": {},
   "outputs": [],
   "source": [
    "# COUNTY OF INJURY\n",
    "X_train = impute_with(df=X_train, target_column='County of Injury', group_column='District Name', metric='mode')\n",
    "X_val= impute_with(df=X_val, target_column='County of Injury', group_column='District Name',reference_df=X_train, metric='mode')\n",
    "X_test= impute_with(df=X_test, target_column='County of Injury', group_column='District Name',reference_df=X_train, metric='mode')"
   ]
  },
  {
   "cell_type": "code",
   "execution_count": 19,
   "metadata": {},
   "outputs": [],
   "source": [
    "# impute for training dataset\n",
    "X_train['Average Weekly Wage'] = X_train.groupby('Industry Code', observed=False)['Average Weekly Wage'].transform(lambda x: x.fillna(x.mean()))\n",
    "# calculate mean for each industry code in training dataset\n",
    "industry_mean_train = X_train.groupby('Industry Code')['Average Weekly Wage'].mean()\n",
    "\n",
    "# impute for validation dataset\n",
    "X_val['Average Weekly Wage'] = X_val.groupby('Industry Code')['Average Weekly Wage'].transform(\n",
    "    lambda x: x.fillna(industry_mean_train.get(x.name, float('nan')))\n",
    ")\n",
    "\n",
    "# impute for test dataset\n",
    "X_test['Average Weekly Wage'] = X_test.groupby('Industry Code')['Average Weekly Wage'].transform(\n",
    "    lambda x: x.fillna(industry_mean_train.get(x.name, float('nan')))\n",
    ")"
   ]
  },
  {
   "cell_type": "code",
   "execution_count": 20,
   "metadata": {},
   "outputs": [
    {
     "data": {
      "text/html": [
       "<div>\n",
       "<style scoped>\n",
       "    .dataframe tbody tr th:only-of-type {\n",
       "        vertical-align: middle;\n",
       "    }\n",
       "\n",
       "    .dataframe tbody tr th {\n",
       "        vertical-align: top;\n",
       "    }\n",
       "\n",
       "    .dataframe thead th {\n",
       "        text-align: right;\n",
       "    }\n",
       "</style>\n",
       "<table border=\"1\" class=\"dataframe\">\n",
       "  <thead>\n",
       "    <tr style=\"text-align: right;\">\n",
       "      <th></th>\n",
       "      <th>Missing Count</th>\n",
       "      <th>Missing %</th>\n",
       "    </tr>\n",
       "  </thead>\n",
       "  <tbody>\n",
       "    <tr>\n",
       "      <th>First Hearing Date</th>\n",
       "      <td>296421</td>\n",
       "      <td>73.78</td>\n",
       "    </tr>\n",
       "    <tr>\n",
       "      <th>C-3 Date</th>\n",
       "      <td>270686</td>\n",
       "      <td>67.37</td>\n",
       "    </tr>\n",
       "    <tr>\n",
       "      <th>C-2 Date</th>\n",
       "      <td>10140</td>\n",
       "      <td>2.52</td>\n",
       "    </tr>\n",
       "  </tbody>\n",
       "</table>\n",
       "</div>"
      ],
      "text/plain": [
       "                    Missing Count  Missing %\n",
       "First Hearing Date         296421      73.78\n",
       "C-3 Date                   270686      67.37\n",
       "C-2 Date                    10140       2.52"
      ]
     },
     "execution_count": 20,
     "metadata": {},
     "output_type": "execute_result"
    }
   ],
   "source": [
    "missing_data(X_train)"
   ]
  },
  {
   "cell_type": "code",
   "execution_count": 21,
   "metadata": {},
   "outputs": [
    {
     "data": {
      "text/plain": [
       "count    4.017650e+05\n",
       "mean     4.823976e+02\n",
       "std      4.638968e+03\n",
       "min      0.000000e+00\n",
       "25%      0.000000e+00\n",
       "50%      0.000000e+00\n",
       "75%      8.141452e+02\n",
       "max      2.659398e+06\n",
       "Name: Average Weekly Wage, dtype: float64"
      ]
     },
     "execution_count": 21,
     "metadata": {},
     "output_type": "execute_result"
    }
   ],
   "source": [
    "X_train['Average Weekly Wage'].describe()"
   ]
  },
  {
   "cell_type": "markdown",
   "metadata": {},
   "source": [
    "## 4. Outliers"
   ]
  },
  {
   "cell_type": "code",
   "execution_count": 22,
   "metadata": {},
   "outputs": [],
   "source": [
    "# We decided to create a copy of X_train and X_val to avoid mistakes.\n",
    "X_train_copy = X_train.copy() \n",
    "X_val_copy = X_val.copy()\n",
    "X_test_outliers_removed = X_test.copy()"
   ]
  },
  {
   "cell_type": "markdown",
   "metadata": {},
   "source": [
    "### Date outliers"
   ]
  },
  {
   "cell_type": "markdown",
   "metadata": {},
   "source": [
    "> Simply cut out ones that are too old."
   ]
  },
  {
   "cell_type": "code",
   "execution_count": 23,
   "metadata": {},
   "outputs": [],
   "source": [
    "dates=['Accident Date','Assembly Date','C-2 Date','C-3 Date','First Hearing Date']\n",
    "for date in dates:\n",
    "  X_train_copy = X_train_copy[X_train_copy[date].ge('2018-01-01') | X_train_copy[date].isna()]\n",
    "  X_val_copy = X_val_copy[X_val_copy[date].ge('2018-01-01') | X_val_copy[date].isna()]\n",
    "  X_test_outliers_removed = X_test_outliers_removed[X_test_outliers_removed[date].ge('2018-01-01') | X_test_outliers_removed[date].isna()]"
   ]
  },
  {
   "cell_type": "code",
   "execution_count": 24,
   "metadata": {},
   "outputs": [
    {
     "name": "stdout",
     "output_type": "stream",
     "text": [
      "Lower bound: -0.6250000000000002\n",
      "Upper bound: 383.0\n"
     ]
    }
   ],
   "source": [
    "# Creating a column in X_train_copy and X_val_copy that calculates the days between Accident Date and Assembly Date\n",
    "X_train_copy.loc[:, 'days_between_accident_assembly'] = days_between(X_train_copy, 'Accident Date', 'Assembly Date')\n",
    "X_val_copy.loc[:, 'days_between_accident_assembly'] = days_between(X_val_copy, 'Accident Date', 'Assembly Date')\n",
    "X_train_copy['log_days_between_accident_assembly'] = np.log1p(X_train_copy['days_between_accident_assembly'])\n",
    "lower, upper, X_train_copy = log_remove_outliers_iqr(X_train_copy,'log_days_between_accident_assembly',2)\n",
    "# Applying the same upper bound to X_val_copy\n",
    "initial_count = X_val_copy.shape[0]\n",
    "\n",
    "X_val_copy = X_val_copy[X_val_copy['days_between_accident_assembly']<upper]\n"
   ]
  },
  {
   "cell_type": "code",
   "execution_count": 25,
   "metadata": {},
   "outputs": [
    {
     "data": {
      "image/png": "[encoded data removed]",
      "text/plain": [
       "<Figure size 1000x600 with 1 Axes>"
      ]
     },
     "metadata": {},
     "output_type": "display_data"
    }
   ],
   "source": [
    "plt.figure(figsize=(10, 6))\n",
    "sns.histplot(X_train_copy['days_between_accident_assembly'], kde=True, bins=30, color='skyblue')\n",
    "plt.title('Distribution of Days between')\n",
    "plt.xlabel('Days between')\n",
    "plt.ylabel('Frequency')\n",
    "plt.grid(True)\n",
    "plt.show()"
   ]
  },
  {
   "cell_type": "code",
   "execution_count": 26,
   "metadata": {},
   "outputs": [],
   "source": [
    "# Dropping the columns created\n",
    "X_train_copy = X_train_copy.drop('days_between_accident_assembly', axis=1)\n",
    "X_train_copy = X_train_copy.drop('log_days_between_accident_assembly', axis=1)\n",
    "X_val_copy = X_val_copy.drop('days_between_accident_assembly', axis=1)"
   ]
  },
  {
   "cell_type": "markdown",
   "metadata": {},
   "source": [
    "> Note: wasn't applied to X_test_remove_outliers"
   ]
  },
  {
   "cell_type": "markdown",
   "metadata": {},
   "source": [
    "### Numerical outliers"
   ]
  },
  {
   "cell_type": "code",
   "execution_count": 27,
   "metadata": {},
   "outputs": [],
   "source": [
    "numerical_cols = ['Age at Injury','Average Weekly Wage','Birth Year','IME-4 Count','Number of Dependents']"
   ]
  },
  {
   "cell_type": "code",
   "execution_count": 28,
   "metadata": {},
   "outputs": [],
   "source": [
    "# sns.set_theme()\n",
    "\n",
    "# # Create a figure with a larger size\n",
    "# plt.figure(figsize=(12, 8))\n",
    "\n",
    "# # Iterate through each numerical column and create boxplot and histogram\n",
    "# for i, col in enumerate(numerical_cols, 1):\n",
    "#     plt.subplot(len(numerical_cols), 2, 2*i-1)  # Boxplot (odd-indexed subplot)\n",
    "#     sns.boxplot(x=X_train_copy[col], color='#69b9ff')\n",
    "#     plt.title(f'{col} Boxplot')\n",
    "#     plt.xlabel(col)\n",
    "#     plt.ylabel('Value')\n",
    "    \n",
    "#     plt.subplot(len(numerical_cols), 2, 2*i)  # Histogram (even-indexed subplot)\n",
    "#     sns.histplot(X_train_copy[col], kde=True, color='#69b9ff')  # Adding KDE for smooth curve\n",
    "#     plt.title(f'{col} Histogram')\n",
    "#     plt.xlabel(col)\n",
    "#     plt.ylabel('Frequency')\n",
    "\n",
    "# # Adjust the layout to avoid overlapping labels\n",
    "# plt.tight_layout()\n",
    "\n",
    "# # Show the plots\n",
    "# plt.show()\n"
   ]
  },
  {
   "cell_type": "markdown",
   "metadata": {},
   "source": [
    "#### Age at Injury"
   ]
  },
  {
   "cell_type": "code",
   "execution_count": 29,
   "metadata": {},
   "outputs": [
    {
     "name": "stdout",
     "output_type": "stream",
     "text": [
      "Lower bound: -3.5\n",
      "Upper bound: 88.5\n"
     ]
    }
   ],
   "source": [
    "lower, upper, X_train_copy = remove_outliers_iqr(X_train_copy,'Age at Injury')\n",
    "X_val_copy = X_val_copy[X_val_copy['Age at Injury']<upper]\n",
    "X_test_outliers_removed = X_test_outliers_removed[X_test_outliers_removed['Age at Injury']<upper]"
   ]
  },
  {
   "cell_type": "code",
   "execution_count": 30,
   "metadata": {},
   "outputs": [
    {
     "data": {
      "image/png": "[encoded data removed]",
      "text/plain": [
       "<Figure size 1000x600 with 1 Axes>"
      ]
     },
     "metadata": {},
     "output_type": "display_data"
    }
   ],
   "source": [
    "plt.figure(figsize=(10, 6))\n",
    "sns.histplot(X_train_copy['Age at Injury'], kde=True, bins=30, color='skyblue')\n",
    "plt.title('Distribution of Age at Injury')\n",
    "plt.xlabel('Age at Injury')\n",
    "plt.ylabel('Frequency')\n",
    "plt.grid(True)\n",
    "plt.show()"
   ]
  },
  {
   "cell_type": "markdown",
   "metadata": {},
   "source": [
    "#### Birth Year"
   ]
  },
  {
   "cell_type": "code",
   "execution_count": 31,
   "metadata": {},
   "outputs": [
    {
     "name": "stdout",
     "output_type": "stream",
     "text": [
      "Lower Bound: 1936.8962455485698\n",
      "Upper Bound: 2019.1564220771097\n"
     ]
    }
   ],
   "source": [
    "mean = X_train_copy['Birth Year'].mean()\n",
    "std_dev = X_train_copy['Birth Year'].std()\n",
    "\n",
    "# Z-score threshold (commonly set to 3 or 2 for outlier detection)\n",
    "z_threshold = 3\n",
    "\n",
    "# Calculate upper and lower bounds using Z-scores\n",
    "lower_bound_z = mean - z_threshold * std_dev\n",
    "upper_bound_z = mean + z_threshold * std_dev\n",
    "\n",
    "print(f\"Lower Bound: {lower_bound_z}\")\n",
    "print(f\"Upper Bound: {upper_bound_z}\")"
   ]
  },
  {
   "cell_type": "code",
   "execution_count": 32,
   "metadata": {},
   "outputs": [],
   "source": [
    "X_train_copy = X_train_copy[(X_train_copy['Birth Year'] >= lower_bound_z) & \n",
    "                            (X_train_copy['Birth Year'] <= upper_bound_z)]\n",
    "X_val_copy = X_val_copy[(X_val_copy['Birth Year'] >= lower_bound_z) & \n",
    "                            (X_val_copy['Birth Year'] <= upper_bound_z)]\n",
    "X_test_outliers_removed = X_test_outliers_removed[(X_test_outliers_removed['Birth Year'] >= lower_bound_z) & \n",
    "                            (X_test_outliers_removed['Birth Year'] <= upper_bound_z)]"
   ]
  },
  {
   "cell_type": "code",
   "execution_count": 33,
   "metadata": {},
   "outputs": [
    {
     "data": {
      "image/png": "[encoded data removed]",
      "text/plain": [
       "<Figure size 1000x600 with 1 Axes>"
      ]
     },
     "metadata": {},
     "output_type": "display_data"
    }
   ],
   "source": [
    "plt.figure(figsize=(10, 6))\n",
    "sns.histplot(X_train_copy['Birth Year'], kde=True, bins=30, color='skyblue')\n",
    "plt.title('Distribution of Birth Year')\n",
    "plt.xlabel('Birth Year')\n",
    "plt.ylabel('Frequency')\n",
    "plt.grid(True)\n",
    "plt.show()"
   ]
  },
  {
   "cell_type": "markdown",
   "metadata": {},
   "source": [
    "#### IME-4 Count"
   ]
  },
  {
   "cell_type": "code",
   "execution_count": 34,
   "metadata": {},
   "outputs": [],
   "source": [
    "percentile_9999 = X_train_copy['IME-4 Count'].quantile(0.9999)\n",
    "X_train_copy = X_train_copy[(X_train_copy['IME-4 Count'] < percentile_9999)]\n",
    "X_val_copy = X_val_copy[(X_val_copy['IME-4 Count'] < percentile_9999)]\n",
    "X_test_outliers_removed = X_test_outliers_removed[(X_test_outliers_removed['IME-4 Count'] < percentile_9999)]"
   ]
  },
  {
   "cell_type": "code",
   "execution_count": 35,
   "metadata": {},
   "outputs": [
    {
     "data": {
      "image/png": "[encoded data removed]",
      "text/plain": [
       "<Figure size 1000x600 with 1 Axes>"
      ]
     },
     "metadata": {},
     "output_type": "display_data"
    }
   ],
   "source": [
    "plt.figure(figsize=(10, 6))\n",
    "sns.histplot(X_train_copy['IME-4 Count'], kde=True, bins=30, color='skyblue')\n",
    "plt.title('Distribution of IME-4 Count')\n",
    "plt.xlabel('IME-4 Count')\n",
    "plt.ylabel('Frequency')\n",
    "plt.grid(True)\n",
    "plt.show()"
   ]
  },
  {
   "cell_type": "markdown",
   "metadata": {},
   "source": [
    "#### Average Weekly Wage"
   ]
  },
  {
   "cell_type": "markdown",
   "metadata": {},
   "source": [
    "> Percentile 0.9999"
   ]
  },
  {
   "cell_type": "code",
   "execution_count": 36,
   "metadata": {},
   "outputs": [
    {
     "data": {
      "text/plain": [
       "8690.263024999722"
      ]
     },
     "execution_count": 36,
     "metadata": {},
     "output_type": "execute_result"
    }
   ],
   "source": [
    "percentile_9999 = X_train_copy['Average Weekly Wage'].quantile(0.9999)\n",
    "percentile_9999"
   ]
  },
  {
   "cell_type": "code",
   "execution_count": 37,
   "metadata": {},
   "outputs": [],
   "source": [
    "X_train_copy = X_train_copy[(X_train_copy['Average Weekly Wage'] < percentile_9999)]\n",
    "X_val_copy = X_val_copy[(X_val_copy['Average Weekly Wage'] < percentile_9999)]\n",
    "X_test_outliers_removed = X_test_outliers_removed[(X_test_outliers_removed['Average Weekly Wage'] < percentile_9999)]\n"
   ]
  },
  {
   "cell_type": "markdown",
   "metadata": {},
   "source": [
    "> IQR"
   ]
  },
  {
   "cell_type": "code",
   "execution_count": 38,
   "metadata": {},
   "outputs": [
    {
     "name": "stdout",
     "output_type": "stream",
     "text": [
      "Lower Bound (IQR) for actual values: 152.50988449066523\n",
      "Upper Bound (IQR) for actual values: 5874.995145152037\n"
     ]
    }
   ],
   "source": [
    "filtered_aww = X_train_copy[X_train_copy['Average Weekly Wage'] != 0].copy()\n",
    "filtered_aww['log_avg_weekly_wage'] = np.log1p(filtered_aww['Average Weekly Wage'])\n",
    "Q1_log = filtered_aww['log_avg_weekly_wage'].quantile(0.25)  # 25th percentile\n",
    "Q3_log = filtered_aww['log_avg_weekly_wage'].quantile(0.75)  # 75th percentile\n",
    "IQR_log = Q3_log - Q1_log  # Interquartile Range\n",
    "\n",
    "# Calculate the IQR bounds (lower and upper) for the log-transformed data\n",
    "lower_bound_log_iqr = Q1_log - 1.5 * IQR_log\n",
    "upper_bound_log_iqr = Q3_log + 1.5 * IQR_log\n",
    "lower_bound_actual = np.expm1(lower_bound_log_iqr)\n",
    "upper_bound_actual = np.expm1(upper_bound_log_iqr)\n",
    "\n",
    "print(f\"Lower Bound (IQR) for actual values: {lower_bound_actual}\")\n",
    "print(f\"Upper Bound (IQR) for actual values: {upper_bound_actual}\")"
   ]
  },
  {
   "cell_type": "code",
   "execution_count": 39,
   "metadata": {},
   "outputs": [],
   "source": [
    "# Apply the filtering to X_train_copy (already done in previous code)\n",
    "X_train_copy = X_train_copy.loc[~((X_train_copy['Average Weekly Wage'] != 0) &\n",
    "                                  (X_train_copy['Average Weekly Wage'] < lower_bound_actual))]\n",
    "\n",
    "X_train_copy = X_train_copy.loc[~((X_train_copy['Average Weekly Wage'] != 0) &\n",
    "                                  (X_train_copy['Average Weekly Wage'] > upper_bound_actual))]\n",
    "\n",
    "# Apply the same filtering to X_val\n",
    "X_val_copy = X_val_copy.loc[~((X_val_copy['Average Weekly Wage'] != 0) &\n",
    "                                  (X_val['Average Weekly Wage'] < lower_bound_actual))]\n",
    "\n",
    "X_val_copy = X_val_copy.loc[~((X_val_copy['Average Weekly Wage'] != 0) &\n",
    "                                  (X_val_copy['Average Weekly Wage'] > upper_bound_actual))]\n",
    "\n",
    "# Apply the same filtering to X_test\n",
    "X_test_outliers_removed = X_test_outliers_removed.loc[~((X_test_outliers_removed['Average Weekly Wage'] != 0) &\n",
    "                                  (X_test_outliers_removed['Average Weekly Wage'] < lower_bound_actual))]\n",
    "\n",
    "X_test_outliers_removed = X_test_outliers_removed.loc[~((X_test_outliers_removed['Average Weekly Wage'] != 0) &\n",
    "                                  (X_test_outliers_removed['Average Weekly Wage'] > upper_bound_actual))]\n"
   ]
  },
  {
   "cell_type": "markdown",
   "metadata": {},
   "source": [
    "> Keeping the zeros as zeros"
   ]
  },
  {
   "cell_type": "code",
   "execution_count": 40,
   "metadata": {},
   "outputs": [
    {
     "data": {
      "image/png": "[encoded data removed]",
      "text/plain": [
       "<Figure size 800x500 with 1 Axes>"
      ]
     },
     "metadata": {},
     "output_type": "display_data"
    },
    {
     "name": "stdout",
     "output_type": "stream",
     "text": [
      "Proportion of Zero Average Weekly Wage: 0.58\n",
      "Proportion of Non-Zero Average Weekly Wage: 0.42\n"
     ]
    }
   ],
   "source": [
    "import matplotlib.pyplot as plt\n",
    "\n",
    "# Calculate the number of zero and non-zero values\n",
    "zero_count = (X_train_copy['Average Weekly Wage'] == 0).sum()\n",
    "non_zero_count = (X_train_copy['Average Weekly Wage'] != 0).sum()\n",
    "\n",
    "# Calculate the total number of values\n",
    "total_count = len(X_train_copy)\n",
    "\n",
    "# Calculate proportions\n",
    "zero_proportion = zero_count / total_count\n",
    "non_zero_proportion = non_zero_count / total_count\n",
    "\n",
    "# Plotting the proportions\n",
    "plt.figure(figsize=(8, 5))\n",
    "plt.bar(['Zero Average Weekly Wage', 'Non-Zero Average Weekly Wage'], \n",
    "        [zero_proportion, non_zero_proportion], \n",
    "        color=['red', 'blue'], alpha=0.7)\n",
    "\n",
    "# Adding titles and labels\n",
    "plt.title('Proportion of Zero vs Non-Zero Average Weekly Wage', fontsize=14)\n",
    "plt.ylabel('Proportion', fontsize=12)\n",
    "\n",
    "# Show the plot\n",
    "plt.show()\n",
    "\n",
    "# Optionally, print the proportions\n",
    "print(f\"Proportion of Zero Average Weekly Wage: {zero_proportion:.2f}\")\n",
    "print(f\"Proportion of Non-Zero Average Weekly Wage: {non_zero_proportion:.2f}\")\n"
   ]
  },
  {
   "cell_type": "code",
   "execution_count": 41,
   "metadata": {},
   "outputs": [],
   "source": [
    "X_train = X_train_copy.copy()\n",
    "X_val = X_val_copy.copy()\n",
    "\n",
    "# after we have cleaned the data we need to exclude the index out of the y_train and y_val \n",
    "y_train = y_train.loc[X_train.index]\n",
    "y_val = y_val.loc[X_val.index]"
   ]
  },
  {
   "cell_type": "markdown",
   "metadata": {},
   "source": [
    "### 5.3. Dealing with Categorical Variables<a class=\"anchor\" id=\"categorical-variables\"></a>\n",
    "[Back to ToC](#toc)<br> \n",
    ">\n",
    ">- Identify categorical features in the dataset.\n",
    ">- Discuss encoding techniques (one-hot encoding, label encoding, etc.).\n",
    ">- Apply the chosen encoding method to transform categorical variables.\n",
    "\n",
    "> It is important to highlight that the __location-related variables__ (County of Injury, District Name, Medical Fee Region, Zip Code) __will not be considered in this model for the first submission__, as we want to avoid redlining/discrimination in our model. A similiar argument can be used for gender."
   ]
  },
  {
   "cell_type": "markdown",
   "metadata": {},
   "source": [
    "> **Binary Variables:**\n",
    "> - Alternative Dispute Resolution\n",
    "> - COVID-19 Indicator\n",
    "> - Attorney/Representative\n",
    "> - Gender\n",
    "> - C-2 Date           | their missing values will be encoded as 0:  10210 rows are missing\n",
    "> - C-3 Date           | their missing values will be encoded as 0: 270526 rows are missing\n",
    "> - First Hearing Date | their missing values will be encoded as 0: 296236 rows are missing\n",
    "> \n",
    "> **Low Cardinality (less than 10 unique values):**\n",
    "> - Carrier Type (lets handle this feature with Carrier Name) --> Drop carrier name. This should not be relevant\n",
    "> \n",
    "> **Multiple values more than 10:**\n",
    "> - Industry code\n",
    "> - WCIO Cause of Inj Code\n",
    "> - WCIO Nature of Inj Code\n",
    "> - WCIO Part of Body Code"
   ]
  },
  {
   "cell_type": "code",
   "execution_count": 42,
   "metadata": {},
   "outputs": [],
   "source": [
    "# create some copies of the train dataframes\n",
    "X_train_encoded = X_train.copy()\n",
    "X_val_encoded = X_val.copy()\n",
    "X_test_encoded = X_test.copy()\n",
    "\n",
    "\n",
    "\n",
    "X_train_encoded_original_index = X_train.index\n",
    "X_val_encoded_original_index = X_val.index\n",
    "X_test_encoded_original_index = X_test.index"
   ]
  },
  {
   "cell_type": "markdown",
   "metadata": {},
   "source": [
    "#### 5.3.1. Encoding Binary variables<a class=\"anchor\" id=\"binary-variables\"></a>\n",
    " [Back to ToC](#toc)<br> \n",
    "\n"
   ]
  },
  {
   "cell_type": "code",
   "execution_count": 43,
   "metadata": {},
   "outputs": [
    {
     "name": "stdout",
     "output_type": "stream",
     "text": [
      "Unique values for Alternative Dispute Resolution:\n",
      "Alternative Dispute Resolution\n",
      "N    390012\n",
      "Y      1761\n",
      "Name: count, dtype: int64 \n",
      "\n",
      "Unique values for COVID-19 Indicator:\n",
      "COVID-19 Indicator\n",
      "N    373102\n",
      "Y     18671\n",
      "Name: count, dtype: int64 \n",
      "\n",
      "Unique values for Attorney/Representative:\n",
      "Attorney/Representative\n",
      "N    268966\n",
      "Y    122807\n",
      "Name: count, dtype: int64 \n",
      "\n",
      "Unique values for Gender:\n",
      "Gender\n",
      "M    229951\n",
      "F    161822\n",
      "Name: count, dtype: int64 \n",
      "\n"
     ]
    }
   ],
   "source": [
    "# show the unique values for binary columns and how often the appear\n",
    "\n",
    "cat_variables_binary = ['Alternative Dispute Resolution', 'COVID-19 Indicator', 'Attorney/Representative', 'Gender']\n",
    "\n",
    "for value in cat_variables_binary:\n",
    "    print(f'Unique values for {value}:')\n",
    "    print(X_train_encoded[value].value_counts(dropna= False), '\\n')"
   ]
  },
  {
   "cell_type": "code",
   "execution_count": 44,
   "metadata": {},
   "outputs": [
    {
     "name": "stdout",
     "output_type": "stream",
     "text": [
      "Column 'C-2 Date':\n",
      "  NA values: 8920\n",
      "  Non-NA values: 382853\n",
      "\n",
      "Column 'C-3 Date':\n",
      "  NA values: 264028\n",
      "  Non-NA values: 127745\n",
      "\n",
      "Column 'First Hearing Date':\n",
      "  NA values: 289106\n",
      "  Non-NA values: 102667\n",
      "\n"
     ]
    }
   ],
   "source": [
    "# print how many na and non na values are in the following columns C-2 Date, C-3 Date, First Hearing Date\n",
    "date_binary = ['C-2 Date', 'C-3 Date', 'First Hearing Date']\n",
    "for col in date_binary:\n",
    "    na_count = X_train_encoded[col].isna().sum()\n",
    "    non_na_count = X_train_encoded[col].notna().sum()\n",
    "    print(f\"Column '{col}':\")\n",
    "    print(f\"  NA values: {na_count}\")\n",
    "    print(f\"  Non-NA values: {non_na_count}\\n\")\n",
    "\n",
    "\n",
    "# encode the variables and put 1 for non na and 0 for na for the training set\n",
    "X_train_encoded['C-2 Date'] = X_train_encoded['C-2 Date'].notna().astype(int)\n",
    "X_train_encoded['C-3 Date'] = X_train_encoded['C-3 Date'].notna().astype(int)\n",
    "X_train_encoded['First Hearing Date'] = X_train_encoded['First Hearing Date'].notna().astype(int)\n",
    "\n",
    "# encode the variables and put 1 for non na and 0 for na for the validation set\n",
    "X_val_encoded['C-2 Date'] = X_val_encoded['C-2 Date'].notna().astype(int)\n",
    "X_val_encoded['C-3 Date'] = X_val_encoded['C-3 Date'].notna().astype(int)\n",
    "X_val_encoded['First Hearing Date'] = X_val_encoded['First Hearing Date'].notna().astype(int)\n",
    "\n",
    "# encode the variables and put 1 for non na and 0 for na for the validation set\n",
    "X_test_encoded['C-2 Date'] = X_test_encoded['C-2 Date'].notna().astype(int)\n",
    "X_test_encoded['C-3 Date'] = X_test_encoded['C-3 Date'].notna().astype(int)\n",
    "X_test_encoded['First Hearing Date'] = X_test_encoded['First Hearing Date'].notna().astype(int)"
   ]
  },
  {
   "cell_type": "code",
   "execution_count": 45,
   "metadata": {},
   "outputs": [],
   "source": [
    "# Define the binary variables and mapping\n",
    "binary_vars = ['Alternative Dispute Resolution', 'Attorney/Representative', 'COVID-19 Indicator']\n",
    "binary_mapping = {'Y': 1, 'N': 0}\n",
    "\n",
    "# Apply mapping to binary variables\n",
    "\n",
    "for var in binary_vars:\n",
    "    X_train_encoded[var] = X_train_encoded[var].map(binary_mapping)\n",
    "\n",
    "# Apply for validation set\n",
    "for var in binary_vars:\n",
    "    X_val_encoded[var] = X_val_encoded[var].map(binary_mapping)\n",
    "\n",
    "# Apply for validation set\n",
    "for var in binary_vars:\n",
    "    X_test_encoded[var] = X_test_encoded[var].map(binary_mapping)\n",
    "\n",
    "# convert all columns into int values\n",
    "# X_train_encoded[binary_vars] = X_train_encoded[binary_vars].astype(int)\n",
    "\n",
    "# Gender to binary mapping\n",
    "gender_mapping = {'M': 1, 'F': 0}\n",
    "X_train_encoded['Gender'] = X_train_encoded['Gender'].map(gender_mapping)\n",
    "X_val_encoded['Gender'] = X_val_encoded['Gender'].map(gender_mapping)\n",
    "X_test_encoded['Gender'] = X_test_encoded['Gender'].map(gender_mapping )"
   ]
  },
  {
   "cell_type": "code",
   "execution_count": 46,
   "metadata": {},
   "outputs": [
    {
     "data": {
      "text/html": [
       "<div>\n",
       "<style scoped>\n",
       "    .dataframe tbody tr th:only-of-type {\n",
       "        vertical-align: middle;\n",
       "    }\n",
       "\n",
       "    .dataframe tbody tr th {\n",
       "        vertical-align: top;\n",
       "    }\n",
       "\n",
       "    .dataframe thead th {\n",
       "        text-align: right;\n",
       "    }\n",
       "</style>\n",
       "<table border=\"1\" class=\"dataframe\">\n",
       "  <thead>\n",
       "    <tr style=\"text-align: right;\">\n",
       "      <th></th>\n",
       "      <th>Alternative Dispute Resolution</th>\n",
       "      <th>Attorney/Representative</th>\n",
       "      <th>COVID-19 Indicator</th>\n",
       "    </tr>\n",
       "    <tr>\n",
       "      <th>Claim Identifier</th>\n",
       "      <th></th>\n",
       "      <th></th>\n",
       "      <th></th>\n",
       "    </tr>\n",
       "  </thead>\n",
       "  <tbody>\n",
       "    <tr>\n",
       "      <th>6165911</th>\n",
       "      <td>0</td>\n",
       "      <td>0</td>\n",
       "      <td>0</td>\n",
       "    </tr>\n",
       "    <tr>\n",
       "      <th>6166141</th>\n",
       "      <td>0</td>\n",
       "      <td>0</td>\n",
       "      <td>0</td>\n",
       "    </tr>\n",
       "    <tr>\n",
       "      <th>6165907</th>\n",
       "      <td>0</td>\n",
       "      <td>0</td>\n",
       "      <td>0</td>\n",
       "    </tr>\n",
       "    <tr>\n",
       "      <th>6166047</th>\n",
       "      <td>0</td>\n",
       "      <td>0</td>\n",
       "      <td>0</td>\n",
       "    </tr>\n",
       "    <tr>\n",
       "      <th>6166102</th>\n",
       "      <td>0</td>\n",
       "      <td>0</td>\n",
       "      <td>0</td>\n",
       "    </tr>\n",
       "  </tbody>\n",
       "</table>\n",
       "</div>"
      ],
      "text/plain": [
       "                  Alternative Dispute Resolution  Attorney/Representative  \\\n",
       "Claim Identifier                                                            \n",
       "6165911                                        0                        0   \n",
       "6166141                                        0                        0   \n",
       "6165907                                        0                        0   \n",
       "6166047                                        0                        0   \n",
       "6166102                                        0                        0   \n",
       "\n",
       "                  COVID-19 Indicator  \n",
       "Claim Identifier                      \n",
       "6165911                            0  \n",
       "6166141                            0  \n",
       "6165907                            0  \n",
       "6166047                            0  \n",
       "6166102                            0  "
      ]
     },
     "execution_count": 46,
     "metadata": {},
     "output_type": "execute_result"
    }
   ],
   "source": [
    "X_test_encoded[binary_vars].isna().sum()\n",
    "X_test_encoded[binary_vars].head()"
   ]
  },
  {
   "cell_type": "markdown",
   "metadata": {},
   "source": [
    "#### 5.3.2. Carrier Type Encoding<a class=\"anchor\" id=\"carrier-type\"></a>\n",
    " [Back to ToC](#toc)<br> \n",
    "> * We currently have several variable names for the carrier type\n",
    "> * We want to encode the carrier type into catgeories of similiar carriers."
   ]
  },
  {
   "cell_type": "code",
   "execution_count": 47,
   "metadata": {},
   "outputs": [
    {
     "data": {
      "text/plain": [
       "Carrier Type\n",
       "1A. PRIVATE                                   195082\n",
       "3A. SELF PUBLIC                                83764\n",
       "2A. SIF                                        76291\n",
       "4A. SELF PRIVATE                               35976\n",
       "5D. SPECIAL FUND - UNKNOWN                       657\n",
       "5C. SPECIAL FUND - POI CARRIER WCB MENANDS         3\n",
       "Name: count, dtype: int64"
      ]
     },
     "execution_count": 47,
     "metadata": {},
     "output_type": "execute_result"
    }
   ],
   "source": [
    "X_train_encoded['Carrier Type'].value_counts()"
   ]
  },
  {
   "cell_type": "markdown",
   "metadata": {},
   "source": [
    "> * Group Carrier Type into smaller buckets\n",
    "> * Create dummy variables for every group. Drop the first column to avoid multicolinarity"
   ]
  },
  {
   "cell_type": "code",
   "execution_count": 48,
   "metadata": {},
   "outputs": [],
   "source": [
    "# Define the mapping\n",
    "carrier_type_mapping = {\n",
    "    '1A. PRIVATE': 'Private Insurance Carrier',\n",
    "    '2A. SIF': 'State Insurance Fund',\n",
    "    '3A. SELF PUBLIC': 'Self-insured Public Entity',\n",
    "    '4A. SELF PRIVATE': 'Self-insured Private Entity',\n",
    "    '5A. SPECIAL FUND - CONS. COMM. (SECT. 25-A)': 'Special Funds',\n",
    "    '5C. SPECIAL FUND - POI CARRIER WCB MENANDS': 'Special Funds',\n",
    "    '5D. SPECIAL FUND - UNKNOWN': 'Special Funds',\n",
    "    'UNKNOWN': 'Unknown'\n",
    "}\n",
    "\n",
    "# apply for training set\n",
    "    # Step 2: Apply the mapping to create 'Carrier Group'\n",
    "if 'Carrier Type' in X_train.columns:\n",
    "\n",
    "    X_train_encoded['Carrier Group'] = X_train_encoded['Carrier Type'].map(carrier_type_mapping)\n",
    "    X_train_encoded['Carrier Group'] =X_train_encoded['Carrier Group'].fillna('Other')\n",
    "\n",
    "\n",
    "    # Step 3: Encode 'Carrier Group' using One-Hot Encoding\n",
    "X_train_encoded =   pd.concat([X_train_encoded, pd.get_dummies(X_train_encoded['Carrier Group'],\n",
    "                        columns=['Carrier Group'],\n",
    "                        prefix='CarrierGroup',\n",
    "                        dtype=int,\n",
    "                        drop_first=True)], # Drop the first column to avoid multicollinearity\n",
    "                        axis=1\n",
    "                    )\n",
    "\n",
    "\n",
    "# apply for valdiation set\n",
    "    # Step 4: Apply the mapping to create 'Carrier Group' for x_val_encoded\n",
    "if 'Carrier Type' in X_val.columns:\n",
    "\n",
    "    X_val_encoded['Carrier Group'] = X_val_encoded['Carrier Type'].map(carrier_type_mapping)\n",
    "    X_val_encoded['Carrier Group'] =X_val_encoded['Carrier Group'].fillna('Other')\n",
    "\n",
    "\n",
    "    # Step 5: Encode 'Carrier Group' using One-Hot Encoding for X_val_encoded\n",
    "X_val_encoded = pd.concat([X_val_encoded, pd.get_dummies(X_val_encoded['Carrier Group'],\n",
    "                        columns=['Carrier Group'],\n",
    "                        prefix='CarrierGroup',\n",
    "                        dtype=int,\n",
    "                        drop_first=True)], # Drop the first column to avoid multicollinearity\n",
    "                        axis=1\n",
    "                )\n",
    "\n",
    "# apply for test set\n",
    "# Step 4: Apply the mapping to create 'Carrier Group' for x_test_encoded\n",
    "if 'Carrier Type' in X_test.columns:\n",
    "\n",
    "    X_test_encoded['Carrier Group'] = X_test_encoded['Carrier Type'].map(carrier_type_mapping)\n",
    "    X_test_encoded['Carrier Group'] = X_test_encoded['Carrier Group'].fillna('Other')\n",
    "\n",
    "\n",
    "    # Step 5: Encode 'Carrier Group' using One-Hot Encoding for X_test_encoded\n",
    "X_test_encoded = pd.concat([X_test_encoded, pd.get_dummies(X_test_encoded['Carrier Group'],\n",
    "                        columns=['Carrier Group'],\n",
    "                        prefix='CarrierGroup',\n",
    "                        dtype=int,\n",
    "                        drop_first=True)], # Drop the first column to avoid multicollinearity\n",
    "                        axis=1\n",
    "                )"
   ]
  },
  {
   "cell_type": "markdown",
   "metadata": {},
   "source": [
    "#### 5.3.3. Industry Code<a class=\"anchor\" id=\"industry-code\"></a>\n",
    "[Back to ToC](#toc)<br> \n",
    "\n",
    "\n",
    "* We currently have several variable names for the carrier type\n",
    "* We want to encode the carrier type into catgeories of similiar carriers.\n",
    "* Check values which are rare in the dataframe"
   ]
  },
  {
   "cell_type": "code",
   "execution_count": 49,
   "metadata": {},
   "outputs": [],
   "source": [
    "# apply the target encoding to the industry code column | target encoding is defined in the helper functions    \n",
    "X_train_encoded, X_val_encoded = target_encode_multiclass(X_train_encoded, X_val_encoded,  y_train, 'Industry Code', 'Claim Injury Type')\n",
    "\n",
    "# set the index back to the original index\n",
    "X_train_encoded.set_index(X_train_encoded_original_index, inplace=True)\n",
    "X_val_encoded.set_index(X_val_encoded_original_index, inplace=True)\n",
    "\n",
    "# apply to  test set / This is not working yet because we probably need to clean the test set first\n",
    "X_test_encoded = target_encode_multiclass(X_train_encoded, X_test_encoded,  y_train, 'Industry Code', 'Claim Injury Type')[1]\n",
    "# set index back to the original index\n",
    "X_test_encoded.set_index(X_test_encoded_original_index, inplace=True)"
   ]
  },
  {
   "cell_type": "code",
   "execution_count": 50,
   "metadata": {},
   "outputs": [
    {
     "data": {
      "text/plain": [
       "(391773, 391773)"
      ]
     },
     "execution_count": 50,
     "metadata": {},
     "output_type": "execute_result"
    }
   ],
   "source": [
    "X_train_encoded[['Industry Code']].shape[0], y_train[['Claim Injury Type']].shape[0]"
   ]
  },
  {
   "cell_type": "markdown",
   "metadata": {},
   "source": [
    "#### 5.3.4. WCIO Codes encoding<a class=\"anchor\" id=\"WCIO_Codes_Encoding\"></a>\n",
    " [Back to ToC](#toc)<br> \n",
    "\n",
    "\n",
    "\n",
    "\n",
    "> * In the WCIO Codes encoding section we define dictionaries that map specific WCIO Codes values to broader, generalized injury categories. \n",
    "> * This mapping is applied to columns in the training, validation, and test datasets\n",
    "> * This is used to decode the injury/cause/part into more genral buckets which we can use for dummies and TargetEncoding and for an increase in interpretability\n",
    "> * This approach might be adjusted later on\n",
    "> * We use the following table for our encoding [Decoding WCIO Codes References](https://www.guarantysupport.com/wp-content/uploads/2024/02/WCIO-Legacy.pdf)"
   ]
  },
  {
   "cell_type": "markdown",
   "metadata": {},
   "source": [
    "##### __WCIO Cause of Injury Code__"
   ]
  },
  {
   "cell_type": "code",
   "execution_count": 51,
   "metadata": {},
   "outputs": [
    {
     "data": {
      "text/plain": [
       "array([ 83.,  60.,  19.,  87.,  74.,  99., 100.,  57.,  33.,  10.,  31.,\n",
       "        29.,  56.,  79.,  81.,  68.,  84.,  77.,  17.,  55.,  16.,  13.,\n",
       "        27.,  53.,  52.,  18.,  25.,  15.,  26.,  12.,  82.,  30.,  75.,\n",
       "        45.,  46.,  97.,  90.,   1.,  32.,  50.,  80.,  76.,  66.,  98.,\n",
       "         5.,  89.,   2.,  41.,   3.,  59.,  54.,  85.,  65.,  70.,  69.,\n",
       "        58.,  28.,   6.,   9.,  88.,   4.,  93.,  78.,  67.,  94.,  20.,\n",
       "        96.,  91.,  95.,  61.,  11.,  48.,   7.,  86.,  40.,  14.,   8.,\n",
       "        47.])"
      ]
     },
     "execution_count": 51,
     "metadata": {},
     "output_type": "execute_result"
    }
   ],
   "source": [
    "X_train_encoded['WCIO Cause of Injury Code'].unique()"
   ]
  },
  {
   "cell_type": "code",
   "execution_count": 52,
   "metadata": {},
   "outputs": [
    {
     "data": {
      "text/html": [
       "<div>\n",
       "<style scoped>\n",
       "    .dataframe tbody tr th:only-of-type {\n",
       "        vertical-align: middle;\n",
       "    }\n",
       "\n",
       "    .dataframe tbody tr th {\n",
       "        vertical-align: top;\n",
       "    }\n",
       "\n",
       "    .dataframe thead th {\n",
       "        text-align: right;\n",
       "    }\n",
       "</style>\n",
       "<table border=\"1\" class=\"dataframe\">\n",
       "  <thead>\n",
       "    <tr style=\"text-align: right;\">\n",
       "      <th>WCIO Cause of Injury Code</th>\n",
       "      <th>56.0</th>\n",
       "      <th>74.0</th>\n",
       "      <th>60.0</th>\n",
       "      <th>31.0</th>\n",
       "      <th>29.0</th>\n",
       "      <th>57.0</th>\n",
       "      <th>83.0</th>\n",
       "      <th>99.0</th>\n",
       "      <th>75.0</th>\n",
       "      <th>45.0</th>\n",
       "      <th>19.0</th>\n",
       "      <th>81.0</th>\n",
       "      <th>100.0</th>\n",
       "      <th>79.0</th>\n",
       "      <th>32.0</th>\n",
       "      <th>25.0</th>\n",
       "      <th>53.0</th>\n",
       "      <th>33.0</th>\n",
       "      <th>97.0</th>\n",
       "      <th>68.0</th>\n",
       "      <th>27.0</th>\n",
       "      <th>17.0</th>\n",
       "      <th>16.0</th>\n",
       "      <th>89.0</th>\n",
       "      <th>55.0</th>\n",
       "      <th>12.0</th>\n",
       "      <th>13.0</th>\n",
       "      <th>85.0</th>\n",
       "      <th>26.0</th>\n",
       "      <th>87.0</th>\n",
       "      <th>50.0</th>\n",
       "      <th>90.0</th>\n",
       "      <th>30.0</th>\n",
       "      <th>58.0</th>\n",
       "      <th>98.0</th>\n",
       "      <th>70.0</th>\n",
       "      <th>10.0</th>\n",
       "      <th>77.0</th>\n",
       "      <th>18.0</th>\n",
       "      <th>80.0</th>\n",
       "      <th>76.0</th>\n",
       "      <th>82.0</th>\n",
       "      <th>2.0</th>\n",
       "      <th>59.0</th>\n",
       "      <th>66.0</th>\n",
       "      <th>9.0</th>\n",
       "      <th>15.0</th>\n",
       "      <th>5.0</th>\n",
       "      <th>28.0</th>\n",
       "      <th>1.0</th>\n",
       "      <th>46.0</th>\n",
       "      <th>54.0</th>\n",
       "      <th>78.0</th>\n",
       "      <th>69.0</th>\n",
       "      <th>52.0</th>\n",
       "      <th>6.0</th>\n",
       "      <th>84.0</th>\n",
       "      <th>94.0</th>\n",
       "      <th>48.0</th>\n",
       "      <th>20.0</th>\n",
       "      <th>65.0</th>\n",
       "      <th>3.0</th>\n",
       "      <th>4.0</th>\n",
       "      <th>88.0</th>\n",
       "      <th>61.0</th>\n",
       "      <th>41.0</th>\n",
       "      <th>95.0</th>\n",
       "      <th>11.0</th>\n",
       "      <th>86.0</th>\n",
       "      <th>93.0</th>\n",
       "      <th>67.0</th>\n",
       "      <th>7.0</th>\n",
       "      <th>96.0</th>\n",
       "      <th>14.0</th>\n",
       "      <th>91.0</th>\n",
       "      <th>40.0</th>\n",
       "      <th>8.0</th>\n",
       "      <th>47.0</th>\n",
       "    </tr>\n",
       "  </thead>\n",
       "  <tbody>\n",
       "    <tr>\n",
       "      <th>count</th>\n",
       "      <td>32031</td>\n",
       "      <td>25688</td>\n",
       "      <td>22685</td>\n",
       "      <td>22039</td>\n",
       "      <td>20169</td>\n",
       "      <td>18241</td>\n",
       "      <td>17032</td>\n",
       "      <td>15021</td>\n",
       "      <td>12486</td>\n",
       "      <td>11711</td>\n",
       "      <td>10132</td>\n",
       "      <td>10016</td>\n",
       "      <td>8993</td>\n",
       "      <td>8579</td>\n",
       "      <td>8338</td>\n",
       "      <td>8152</td>\n",
       "      <td>8129</td>\n",
       "      <td>7942</td>\n",
       "      <td>7764</td>\n",
       "      <td>7395</td>\n",
       "      <td>7024</td>\n",
       "      <td>6957</td>\n",
       "      <td>6862</td>\n",
       "      <td>5486</td>\n",
       "      <td>5219</td>\n",
       "      <td>5214</td>\n",
       "      <td>5001</td>\n",
       "      <td>4440</td>\n",
       "      <td>4417</td>\n",
       "      <td>3450</td>\n",
       "      <td>3429</td>\n",
       "      <td>3199</td>\n",
       "      <td>3168</td>\n",
       "      <td>3084</td>\n",
       "      <td>2824</td>\n",
       "      <td>2751</td>\n",
       "      <td>2701</td>\n",
       "      <td>2556</td>\n",
       "      <td>2257</td>\n",
       "      <td>2223</td>\n",
       "      <td>2214</td>\n",
       "      <td>2146</td>\n",
       "      <td>2046</td>\n",
       "      <td>1979</td>\n",
       "      <td>1904</td>\n",
       "      <td>1657</td>\n",
       "      <td>1642</td>\n",
       "      <td>1401</td>\n",
       "      <td>1276</td>\n",
       "      <td>1251</td>\n",
       "      <td>1000</td>\n",
       "      <td>964</td>\n",
       "      <td>899</td>\n",
       "      <td>786</td>\n",
       "      <td>780</td>\n",
       "      <td>615</td>\n",
       "      <td>483</td>\n",
       "      <td>464</td>\n",
       "      <td>439</td>\n",
       "      <td>410</td>\n",
       "      <td>371</td>\n",
       "      <td>327</td>\n",
       "      <td>320</td>\n",
       "      <td>304</td>\n",
       "      <td>264</td>\n",
       "      <td>194</td>\n",
       "      <td>187</td>\n",
       "      <td>137</td>\n",
       "      <td>103</td>\n",
       "      <td>94</td>\n",
       "      <td>82</td>\n",
       "      <td>51</td>\n",
       "      <td>40</td>\n",
       "      <td>38</td>\n",
       "      <td>32</td>\n",
       "      <td>30</td>\n",
       "      <td>29</td>\n",
       "      <td>9</td>\n",
       "    </tr>\n",
       "  </tbody>\n",
       "</table>\n",
       "</div>"
      ],
      "text/plain": [
       "WCIO Cause of Injury Code  56.0   74.0   60.0   31.0   29.0   57.0   83.0   \\\n",
       "count                      32031  25688  22685  22039  20169  18241  17032   \n",
       "\n",
       "WCIO Cause of Injury Code  99.0   75.0   45.0   19.0   81.0   100.0  79.0   \\\n",
       "count                      15021  12486  11711  10132  10016   8993   8579   \n",
       "\n",
       "WCIO Cause of Injury Code  32.0   25.0   53.0   33.0   97.0   68.0   27.0   \\\n",
       "count                       8338   8152   8129   7942   7764   7395   7024   \n",
       "\n",
       "WCIO Cause of Injury Code  17.0   16.0   89.0   55.0   12.0   13.0   85.0   \\\n",
       "count                       6957   6862   5486   5219   5214   5001   4440   \n",
       "\n",
       "WCIO Cause of Injury Code  26.0   87.0   50.0   90.0   30.0   58.0   98.0   \\\n",
       "count                       4417   3450   3429   3199   3168   3084   2824   \n",
       "\n",
       "WCIO Cause of Injury Code  70.0   10.0   77.0   18.0   80.0   76.0   82.0   \\\n",
       "count                       2751   2701   2556   2257   2223   2214   2146   \n",
       "\n",
       "WCIO Cause of Injury Code  2.0    59.0   66.0   9.0    15.0   5.0    28.0   \\\n",
       "count                       2046   1979   1904   1657   1642   1401   1276   \n",
       "\n",
       "WCIO Cause of Injury Code  1.0    46.0   54.0   78.0   69.0   52.0   6.0    \\\n",
       "count                       1251   1000    964    899    786    780    615   \n",
       "\n",
       "WCIO Cause of Injury Code  84.0   94.0   48.0   20.0   65.0   3.0    4.0    \\\n",
       "count                        483    464    439    410    371    327    320   \n",
       "\n",
       "WCIO Cause of Injury Code  88.0   61.0   41.0   95.0   11.0   86.0   93.0   \\\n",
       "count                        304    264    194    187    137    103     94   \n",
       "\n",
       "WCIO Cause of Injury Code  67.0   7.0    96.0   14.0   91.0   40.0   8.0    \\\n",
       "count                         82     51     40     38     32     30     29   \n",
       "\n",
       "WCIO Cause of Injury Code  47.0   \n",
       "count                          9  "
      ]
     },
     "execution_count": 52,
     "metadata": {},
     "output_type": "execute_result"
    }
   ],
   "source": [
    "pd.DataFrame(X_train_encoded['WCIO Cause of Injury Code'].value_counts()).T"
   ]
  },
  {
   "cell_type": "code",
   "execution_count": 53,
   "metadata": {},
   "outputs": [],
   "source": [
    "# transform the column into int from float for training set\n",
    "X_train_encoded['WCIO Cause of Injury Code'] = X_train_encoded['WCIO Cause of Injury Code'].astype(int)\n",
    "\n",
    "# transform the column into int from float for validation set\n",
    "X_val_encoded['WCIO Cause of Injury Code'] = X_val_encoded['WCIO Cause of Injury Code'].astype(int)\n",
    "\n",
    "# transform the column into int from float for test set\n",
    "X_test_encoded['WCIO Cause of Injury Code'] = X_test_encoded['WCIO Cause of Injury Code'].astype(int)"
   ]
  },
  {
   "cell_type": "code",
   "execution_count": 54,
   "metadata": {},
   "outputs": [
    {
     "data": {
      "text/html": [
       "<div>\n",
       "<style scoped>\n",
       "    .dataframe tbody tr th:only-of-type {\n",
       "        vertical-align: middle;\n",
       "    }\n",
       "\n",
       "    .dataframe tbody tr th {\n",
       "        vertical-align: top;\n",
       "    }\n",
       "\n",
       "    .dataframe thead th {\n",
       "        text-align: right;\n",
       "    }\n",
       "</style>\n",
       "<table border=\"1\" class=\"dataframe\">\n",
       "  <thead>\n",
       "    <tr style=\"text-align: right;\">\n",
       "      <th>WCIO Cause of Injury Code</th>\n",
       "      <th>1</th>\n",
       "      <th>2</th>\n",
       "      <th>3</th>\n",
       "      <th>4</th>\n",
       "      <th>5</th>\n",
       "      <th>6</th>\n",
       "      <th>7</th>\n",
       "      <th>8</th>\n",
       "      <th>9</th>\n",
       "      <th>10</th>\n",
       "      <th>11</th>\n",
       "      <th>12</th>\n",
       "      <th>13</th>\n",
       "      <th>14</th>\n",
       "      <th>15</th>\n",
       "      <th>16</th>\n",
       "      <th>17</th>\n",
       "      <th>18</th>\n",
       "      <th>19</th>\n",
       "      <th>20</th>\n",
       "      <th>25</th>\n",
       "      <th>26</th>\n",
       "      <th>27</th>\n",
       "      <th>28</th>\n",
       "      <th>29</th>\n",
       "      <th>30</th>\n",
       "      <th>31</th>\n",
       "      <th>32</th>\n",
       "      <th>33</th>\n",
       "      <th>40</th>\n",
       "      <th>41</th>\n",
       "      <th>45</th>\n",
       "      <th>46</th>\n",
       "      <th>47</th>\n",
       "      <th>48</th>\n",
       "      <th>50</th>\n",
       "      <th>52</th>\n",
       "      <th>53</th>\n",
       "      <th>54</th>\n",
       "      <th>55</th>\n",
       "      <th>56</th>\n",
       "      <th>57</th>\n",
       "      <th>58</th>\n",
       "      <th>59</th>\n",
       "      <th>60</th>\n",
       "      <th>61</th>\n",
       "      <th>65</th>\n",
       "      <th>66</th>\n",
       "      <th>67</th>\n",
       "      <th>68</th>\n",
       "      <th>69</th>\n",
       "      <th>70</th>\n",
       "      <th>74</th>\n",
       "      <th>75</th>\n",
       "      <th>76</th>\n",
       "      <th>77</th>\n",
       "      <th>78</th>\n",
       "      <th>79</th>\n",
       "      <th>80</th>\n",
       "      <th>81</th>\n",
       "      <th>82</th>\n",
       "      <th>83</th>\n",
       "      <th>84</th>\n",
       "      <th>85</th>\n",
       "      <th>86</th>\n",
       "      <th>87</th>\n",
       "      <th>88</th>\n",
       "      <th>89</th>\n",
       "      <th>90</th>\n",
       "      <th>91</th>\n",
       "      <th>93</th>\n",
       "      <th>94</th>\n",
       "      <th>95</th>\n",
       "      <th>96</th>\n",
       "      <th>97</th>\n",
       "      <th>98</th>\n",
       "      <th>99</th>\n",
       "      <th>100</th>\n",
       "    </tr>\n",
       "  </thead>\n",
       "  <tbody>\n",
       "    <tr>\n",
       "      <th>proportion</th>\n",
       "      <td>0.003193</td>\n",
       "      <td>0.005222</td>\n",
       "      <td>0.000835</td>\n",
       "      <td>0.000817</td>\n",
       "      <td>0.003576</td>\n",
       "      <td>0.00157</td>\n",
       "      <td>0.00013</td>\n",
       "      <td>0.000074</td>\n",
       "      <td>0.004229</td>\n",
       "      <td>0.006894</td>\n",
       "      <td>0.00035</td>\n",
       "      <td>0.013309</td>\n",
       "      <td>0.012765</td>\n",
       "      <td>0.000097</td>\n",
       "      <td>0.004191</td>\n",
       "      <td>0.017515</td>\n",
       "      <td>0.017758</td>\n",
       "      <td>0.005761</td>\n",
       "      <td>0.025862</td>\n",
       "      <td>0.001047</td>\n",
       "      <td>0.020808</td>\n",
       "      <td>0.011274</td>\n",
       "      <td>0.017929</td>\n",
       "      <td>0.003257</td>\n",
       "      <td>0.051481</td>\n",
       "      <td>0.008086</td>\n",
       "      <td>0.056255</td>\n",
       "      <td>0.021283</td>\n",
       "      <td>0.020272</td>\n",
       "      <td>0.000077</td>\n",
       "      <td>0.000495</td>\n",
       "      <td>0.029892</td>\n",
       "      <td>0.002552</td>\n",
       "      <td>0.000023</td>\n",
       "      <td>0.001121</td>\n",
       "      <td>0.008753</td>\n",
       "      <td>0.001991</td>\n",
       "      <td>0.020749</td>\n",
       "      <td>0.002461</td>\n",
       "      <td>0.013321</td>\n",
       "      <td>0.081759</td>\n",
       "      <td>0.04656</td>\n",
       "      <td>0.007872</td>\n",
       "      <td>0.005051</td>\n",
       "      <td>0.057903</td>\n",
       "      <td>0.000674</td>\n",
       "      <td>0.000947</td>\n",
       "      <td>0.00486</td>\n",
       "      <td>0.000209</td>\n",
       "      <td>0.018876</td>\n",
       "      <td>0.002006</td>\n",
       "      <td>0.007022</td>\n",
       "      <td>0.065569</td>\n",
       "      <td>0.03187</td>\n",
       "      <td>0.005651</td>\n",
       "      <td>0.006524</td>\n",
       "      <td>0.002295</td>\n",
       "      <td>0.021898</td>\n",
       "      <td>0.005674</td>\n",
       "      <td>0.025566</td>\n",
       "      <td>0.005478</td>\n",
       "      <td>0.043474</td>\n",
       "      <td>0.001233</td>\n",
       "      <td>0.011333</td>\n",
       "      <td>0.000263</td>\n",
       "      <td>0.008806</td>\n",
       "      <td>0.000776</td>\n",
       "      <td>0.014003</td>\n",
       "      <td>0.008165</td>\n",
       "      <td>0.000082</td>\n",
       "      <td>0.00024</td>\n",
       "      <td>0.001184</td>\n",
       "      <td>0.000477</td>\n",
       "      <td>0.000102</td>\n",
       "      <td>0.019818</td>\n",
       "      <td>0.007208</td>\n",
       "      <td>0.038341</td>\n",
       "      <td>0.022955</td>\n",
       "    </tr>\n",
       "  </tbody>\n",
       "</table>\n",
       "</div>"
      ],
      "text/plain": [
       "WCIO Cause of Injury Code       1         2         3         4         5    \\\n",
       "proportion                 0.003193  0.005222  0.000835  0.000817  0.003576   \n",
       "\n",
       "WCIO Cause of Injury Code      6        7         8         9         10   \\\n",
       "proportion                 0.00157  0.00013  0.000074  0.004229  0.006894   \n",
       "\n",
       "WCIO Cause of Injury Code      11        12        13        14        15   \\\n",
       "proportion                 0.00035  0.013309  0.012765  0.000097  0.004191   \n",
       "\n",
       "WCIO Cause of Injury Code       16        17        18        19        20   \\\n",
       "proportion                 0.017515  0.017758  0.005761  0.025862  0.001047   \n",
       "\n",
       "WCIO Cause of Injury Code       25        26        27        28        29   \\\n",
       "proportion                 0.020808  0.011274  0.017929  0.003257  0.051481   \n",
       "\n",
       "WCIO Cause of Injury Code       30        31        32        33        40   \\\n",
       "proportion                 0.008086  0.056255  0.021283  0.020272  0.000077   \n",
       "\n",
       "WCIO Cause of Injury Code       41        45        46        47        48   \\\n",
       "proportion                 0.000495  0.029892  0.002552  0.000023  0.001121   \n",
       "\n",
       "WCIO Cause of Injury Code       50        52        53        54        55   \\\n",
       "proportion                 0.008753  0.001991  0.020749  0.002461  0.013321   \n",
       "\n",
       "WCIO Cause of Injury Code       56       57        58        59        60   \\\n",
       "proportion                 0.081759  0.04656  0.007872  0.005051  0.057903   \n",
       "\n",
       "WCIO Cause of Injury Code       61        65       66        67        68   \\\n",
       "proportion                 0.000674  0.000947  0.00486  0.000209  0.018876   \n",
       "\n",
       "WCIO Cause of Injury Code       69        70        74       75        76   \\\n",
       "proportion                 0.002006  0.007022  0.065569  0.03187  0.005651   \n",
       "\n",
       "WCIO Cause of Injury Code       77        78        79        80        81   \\\n",
       "proportion                 0.006524  0.002295  0.021898  0.005674  0.025566   \n",
       "\n",
       "WCIO Cause of Injury Code       82        83        84        85        86   \\\n",
       "proportion                 0.005478  0.043474  0.001233  0.011333  0.000263   \n",
       "\n",
       "WCIO Cause of Injury Code       87        88        89        90        91   \\\n",
       "proportion                 0.008806  0.000776  0.014003  0.008165  0.000082   \n",
       "\n",
       "WCIO Cause of Injury Code      93        94        95        96        97   \\\n",
       "proportion                 0.00024  0.001184  0.000477  0.000102  0.019818   \n",
       "\n",
       "WCIO Cause of Injury Code       98        99        100  \n",
       "proportion                 0.007208  0.038341  0.022955  "
      ]
     },
     "execution_count": 54,
     "metadata": {},
     "output_type": "execute_result"
    }
   ],
   "source": [
    "pd.DataFrame(X_train_encoded['WCIO Cause of Injury Code'].value_counts(normalize = True).sort_index()).T"
   ]
  },
  {
   "cell_type": "markdown",
   "metadata": {},
   "source": [
    "> Create a __dictionary__ based on the table from the WCIO references"
   ]
  },
  {
   "cell_type": "code",
   "execution_count": 55,
   "metadata": {},
   "outputs": [],
   "source": [
    "# Mapping WCIO Cause of Injury codes to more general categories for modeling\n",
    "\n",
    "# Define the mapping dictionary\n",
    "wcio_cause_of_injury_map = {\n",
    "\n",
    "    # Category: Burn or Scald\n",
    "    # Injury types related to exposure to heat, cold, chemicals, or radiation\n",
    "    1: \"Burn_or_Scald\", 2: \"Burn_or_Scald\", 3: \"Burn_or_Scald\",\n",
    "    4: \"Burn_or_Scald\", 5: \"Burn_or_Scald\", 6: \"Burn_or_Scald\",\n",
    "    7: \"Burn_or_Scald\", 8: \"Burn_or_Scald\", 9: \"Burn_or_Scald\",\n",
    "    11: \"Burn_or_Scald\", 14: \"Burn_or_Scald\", 84: \"Burn_or_Scald\",\n",
    "\n",
    "    # Category: Caught In\n",
    "    # Injuries caused by being caught in or under machinery or objects\n",
    "    10: \"Caught_In\", 12: \"Caught_In\", 13: \"Caught_In\",\n",
    "    20: \"Caught_In\",\n",
    "\n",
    "    # Category: Cut, Puncture, Scrape\n",
    "    # Injuries involving cuts, punctures, and abrasions\n",
    "    15: \"Cut_Puncture_Scrape\", 16: \"Cut_Puncture_Scrape\", 17: \"Cut_Puncture_Scrape\",\n",
    "    18: \"Cut_Puncture_Scrape\", 19: \"Cut_Puncture_Scrape\",\n",
    "\n",
    "    # Category: Fall, Slip or Trip\n",
    "    # Injuries due to falls, slips, or trips at various levels\n",
    "    25: \"Fall_Slip_or_Trip\", 26: \"Fall_Slip_or_Trip\", 27: \"Fall_Slip_or_Trip\",\n",
    "    28: \"Fall_Slip_or_Trip\", 29: \"Fall_Slip_or_Trip\", 30: \"Fall_Slip_or_Trip\",\n",
    "    31: \"Fall_Slip_or_Trip\", 32: \"Fall_Slip_or_Trip\", 33: \"Fall_Slip_or_Trip\",\n",
    "\n",
    "    # Category: Motor Vehicle\n",
    "    # Injuries related to motor vehicle incidents\n",
    "    40: \"Motor_Vehicle\", 41: \"Motor_Vehicle\", 45: \"Motor_Vehicle\",\n",
    "    46: \"Motor_Vehicle\", 47: \"Motor_Vehicle\", 48: \"Motor_Vehicle\",\n",
    "    50: \"Motor_Vehicle\",\n",
    "\n",
    "    # Category: Strain or Injury\n",
    "    # Injuries resulting from physical strain, overuse, or repetitive motions\n",
    "    52: \"Strain_or_Injury\", 53: \"Strain_or_Injury\", 54: \"Strain_or_Injury\",\n",
    "    55: \"Strain_or_Injury\", 56: \"Strain_or_Injury\", 57: \"Strain_or_Injury\",\n",
    "    58: \"Strain_or_Injury\", 59: \"Strain_or_Injury\", 60: \"Strain_or_Injury\",\n",
    "    61: \"Strain_or_Injury\", 97: \"Strain_or_Injury\",\n",
    "\n",
    "    # Category: Striking Against or Stepping On\n",
    "    # Injuries from striking against or stepping on objects\n",
    "    65: \"Striking_Against_or_Stepping_On\", 66: \"Striking_Against_or_Stepping_On\", 67: \"Striking_Against_or_Stepping_On\",\n",
    "    68: \"Striking_Against_or_Stepping_On\", 69: \"Striking_Against_or_Stepping_On\", 70: \"Striking_Against_or_Stepping_On\",\n",
    "\n",
    "    # Category: Struck or Injured By\n",
    "    # Injuries caused by being struck by objects or individuals\n",
    "    74: \"Struck_or_Injured_By\", 75: \"Struck_or_Injured_By\", 76: \"Struck_or_Injured_By\",\n",
    "    77: \"Struck_or_Injured_By\", 78: \"Struck_or_Injured_By\", 79: \"Struck_or_Injured_By\",\n",
    "    80: \"Struck_or_Injured_By\", 81: \"Struck_or_Injured_By\", 85: \"Struck_or_Injured_By\",\n",
    "    86: \"Struck_or_Injured_By\",\n",
    "\n",
    "    # Category: Rubbed or Abraded By\n",
    "    # Injuries caused by rubbing or abrasion, such as callouses or blisters\n",
    "    94: \"Rubbed_or_Abraded_By\", 95: \"Rubbed_or_Abraded_By\",\n",
    "\n",
    "    # Category: Miscellaneous Causes\n",
    "    # Other injury causes not otherwise classified\n",
    "    82: \"Miscellaneous_Causes\", 83: \"Miscellaneous_Causes\",  87: \"Miscellaneous_Causes\", 88: \"Miscellaneous_Causes\",\n",
    "    89: \"Miscellaneous_Causes\", 90: \"Miscellaneous_Causes\", 91: \"Miscellaneous_Causes\", 93: \"Miscellaneous_Causes\",\n",
    "    94: \"Miscellaneous_Causes\", 95: \"Miscellaneous_Causes\", 96: \"Miscellaneous_Causes\", 98: \"Miscellaneous_Causes\",\n",
    "    99: \"Miscellaneous_Causes\",\n",
    "\n",
    "    # Category: Unknown\n",
    "    100: \"Unknown\"\n",
    "    \n",
    "}"
   ]
  },
  {
   "cell_type": "markdown",
   "metadata": {},
   "source": [
    "> Map <code>Injury_cause_Category</code> based on the dictionary"
   ]
  },
  {
   "cell_type": "code",
   "execution_count": 56,
   "metadata": {},
   "outputs": [],
   "source": [
    "# create mapping\n",
    "X_train_encoded['Injury_Cause_Category'] = X_train_encoded['WCIO Cause of Injury Code'].map(wcio_cause_of_injury_map)\n",
    "X_val_encoded['Injury_Cause_Category'] = X_val_encoded['WCIO Cause of Injury Code'].map(wcio_cause_of_injury_map)\n",
    "X_test_encoded['Injury_Cause_Category'] = X_test_encoded['WCIO Cause of Injury Code'].map(wcio_cause_of_injury_map)"
   ]
  },
  {
   "cell_type": "markdown",
   "metadata": {},
   "source": [
    "> Create __dummy variables__ based on the  <code>Injury_cause_Category</code>"
   ]
  },
  {
   "cell_type": "code",
   "execution_count": 57,
   "metadata": {},
   "outputs": [],
   "source": [
    "# create dummy variables based on the Injury_cause_Category\n",
    "X_train_encoded = pd.concat([X_train_encoded, pd.get_dummies(X_train_encoded['Injury_Cause_Category'],\n",
    "                        columns=['Injury_Cause_Category'],\n",
    "                        prefix='Injury_Cause',\n",
    "                        dtype=int,\n",
    "                        drop_first=True)], # Drop the first column to avoid multicollinearity\n",
    "    axis=1)\n",
    "\n",
    "X_train_encoded.head().T\n",
    "\n",
    "X_val_encoded = pd.concat([X_val_encoded, pd.get_dummies(X_val_encoded['Injury_Cause_Category'],\n",
    "                        columns=['Injury_Cause_Category'],\n",
    "                        prefix='Injury_Cause',\n",
    "                        dtype=int,\n",
    "                        drop_first=True)], # Drop the first column to avoid multicollinearity\n",
    "    axis=1)\n",
    "\n",
    "X_test_encoded = pd.concat([X_test_encoded, pd.get_dummies(X_test_encoded['Injury_Cause_Category'],\n",
    "                        columns=['Injury_Cause_Category'],\n",
    "                        prefix='Injury_Cause',\n",
    "                        dtype=int,\n",
    "                        drop_first=True)], # Drop the first column to avoid multicollinearity\n",
    "    axis=1)"
   ]
  },
  {
   "cell_type": "markdown",
   "metadata": {},
   "source": [
    "> Create __target encoding variables__ based on the  <code>Injury_cause_Category</code>"
   ]
  },
  {
   "cell_type": "code",
   "execution_count": 58,
   "metadata": {},
   "outputs": [],
   "source": [
    "X_train_encoded, X_val_encoded = target_encode_multiclass(X_train_encoded, X_val_encoded, y_train, 'Injury_Cause_Category', 'Claim Injury Type')\n",
    "\n",
    "\n",
    "# set the index back to the original index\n",
    "X_train_encoded.set_index(X_train_encoded_original_index, inplace=True)\n",
    "X_val_encoded.set_index(X_val_encoded_original_index, inplace=True)\n",
    "\n",
    "\n",
    "X_test_encoded = target_encode_multiclass(X_train_encoded, X_test_encoded, y_train, 'Injury_Cause_Category', 'Claim Injury Type')[1]\n",
    "# set the index back to the original index\n",
    "X_test_encoded.set_index(X_test_encoded_original_index, inplace=True)"
   ]
  },
  {
   "cell_type": "markdown",
   "metadata": {},
   "source": [
    "##### __WCIO Nature of Injury Code__"
   ]
  },
  {
   "cell_type": "code",
   "execution_count": 59,
   "metadata": {},
   "outputs": [
    {
     "data": {
      "text/plain": [
       "array([ 83.,  90.,  40.,  25.,  10.,  59., 100.,  49.,  43.,  28.,  52.,\n",
       "        16.,  19.,  31.,  34.,  78.,   4.,  13.,  73.,  65.,  69.,  37.,\n",
       "         1.,  46.,   2.,  38.,  80.,  71.,   7.,  47.,  66.,  36.,  53.,\n",
       "        58.,  32.,  77.,  68.,  72.,  91.,  42.,  30.,  41.,  54.,   3.,\n",
       "        55.,  60.,  74.,  75.,  61.,  70.,  67.,  22.,  76.,  64.,  62.,\n",
       "        63.,  79.])"
      ]
     },
     "execution_count": 59,
     "metadata": {},
     "output_type": "execute_result"
    }
   ],
   "source": [
    "X_train_encoded['WCIO Nature of Injury Code'].unique()"
   ]
  },
  {
   "cell_type": "code",
   "execution_count": 60,
   "metadata": {},
   "outputs": [
    {
     "data": {
      "text/html": [
       "<div>\n",
       "<style scoped>\n",
       "    .dataframe tbody tr th:only-of-type {\n",
       "        vertical-align: middle;\n",
       "    }\n",
       "\n",
       "    .dataframe tbody tr th {\n",
       "        vertical-align: top;\n",
       "    }\n",
       "\n",
       "    .dataframe thead th {\n",
       "        text-align: right;\n",
       "    }\n",
       "</style>\n",
       "<table border=\"1\" class=\"dataframe\">\n",
       "  <thead>\n",
       "    <tr style=\"text-align: right;\">\n",
       "      <th>WCIO Nature of Injury Code</th>\n",
       "      <th>52.0</th>\n",
       "      <th>10.0</th>\n",
       "      <th>49.0</th>\n",
       "      <th>40.0</th>\n",
       "      <th>59.0</th>\n",
       "      <th>83.0</th>\n",
       "      <th>28.0</th>\n",
       "      <th>43.0</th>\n",
       "      <th>100.0</th>\n",
       "      <th>90.0</th>\n",
       "      <th>37.0</th>\n",
       "      <th>4.0</th>\n",
       "      <th>25.0</th>\n",
       "      <th>1.0</th>\n",
       "      <th>16.0</th>\n",
       "      <th>7.0</th>\n",
       "      <th>13.0</th>\n",
       "      <th>80.0</th>\n",
       "      <th>34.0</th>\n",
       "      <th>78.0</th>\n",
       "      <th>71.0</th>\n",
       "      <th>31.0</th>\n",
       "      <th>77.0</th>\n",
       "      <th>53.0</th>\n",
       "      <th>65.0</th>\n",
       "      <th>46.0</th>\n",
       "      <th>68.0</th>\n",
       "      <th>36.0</th>\n",
       "      <th>73.0</th>\n",
       "      <th>72.0</th>\n",
       "      <th>2.0</th>\n",
       "      <th>19.0</th>\n",
       "      <th>69.0</th>\n",
       "      <th>41.0</th>\n",
       "      <th>32.0</th>\n",
       "      <th>42.0</th>\n",
       "      <th>47.0</th>\n",
       "      <th>91.0</th>\n",
       "      <th>66.0</th>\n",
       "      <th>58.0</th>\n",
       "      <th>38.0</th>\n",
       "      <th>3.0</th>\n",
       "      <th>55.0</th>\n",
       "      <th>74.0</th>\n",
       "      <th>54.0</th>\n",
       "      <th>60.0</th>\n",
       "      <th>30.0</th>\n",
       "      <th>61.0</th>\n",
       "      <th>75.0</th>\n",
       "      <th>67.0</th>\n",
       "      <th>70.0</th>\n",
       "      <th>64.0</th>\n",
       "      <th>22.0</th>\n",
       "      <th>76.0</th>\n",
       "      <th>62.0</th>\n",
       "      <th>79.0</th>\n",
       "      <th>63.0</th>\n",
       "    </tr>\n",
       "  </thead>\n",
       "  <tbody>\n",
       "    <tr>\n",
       "      <th>count</th>\n",
       "      <td>105041</td>\n",
       "      <td>76454</td>\n",
       "      <td>38218</td>\n",
       "      <td>32497</td>\n",
       "      <td>24554</td>\n",
       "      <td>17536</td>\n",
       "      <td>15743</td>\n",
       "      <td>11942</td>\n",
       "      <td>8993</td>\n",
       "      <td>8677</td>\n",
       "      <td>8591</td>\n",
       "      <td>5211</td>\n",
       "      <td>5144</td>\n",
       "      <td>4115</td>\n",
       "      <td>4028</td>\n",
       "      <td>3792</td>\n",
       "      <td>3572</td>\n",
       "      <td>1845</td>\n",
       "      <td>1822</td>\n",
       "      <td>1788</td>\n",
       "      <td>1271</td>\n",
       "      <td>1164</td>\n",
       "      <td>1092</td>\n",
       "      <td>974</td>\n",
       "      <td>844</td>\n",
       "      <td>833</td>\n",
       "      <td>717</td>\n",
       "      <td>636</td>\n",
       "      <td>502</td>\n",
       "      <td>498</td>\n",
       "      <td>488</td>\n",
       "      <td>443</td>\n",
       "      <td>314</td>\n",
       "      <td>311</td>\n",
       "      <td>285</td>\n",
       "      <td>283</td>\n",
       "      <td>243</td>\n",
       "      <td>240</td>\n",
       "      <td>191</td>\n",
       "      <td>183</td>\n",
       "      <td>131</td>\n",
       "      <td>129</td>\n",
       "      <td>109</td>\n",
       "      <td>69</td>\n",
       "      <td>56</td>\n",
       "      <td>50</td>\n",
       "      <td>44</td>\n",
       "      <td>39</td>\n",
       "      <td>23</td>\n",
       "      <td>19</td>\n",
       "      <td>8</td>\n",
       "      <td>7</td>\n",
       "      <td>4</td>\n",
       "      <td>3</td>\n",
       "      <td>3</td>\n",
       "      <td>3</td>\n",
       "      <td>1</td>\n",
       "    </tr>\n",
       "  </tbody>\n",
       "</table>\n",
       "</div>"
      ],
      "text/plain": [
       "WCIO Nature of Injury Code   52.0   10.0   49.0   40.0   59.0   83.0   28.0   \\\n",
       "count                       105041  76454  38218  32497  24554  17536  15743   \n",
       "\n",
       "WCIO Nature of Injury Code  43.0   100.0  90.0   37.0   4.0    25.0   1.0    \\\n",
       "count                       11942   8993   8677   8591   5211   5144   4115   \n",
       "\n",
       "WCIO Nature of Injury Code  16.0   7.0    13.0   80.0   34.0   78.0   71.0   \\\n",
       "count                        4028   3792   3572   1845   1822   1788   1271   \n",
       "\n",
       "WCIO Nature of Injury Code  31.0   77.0   53.0   65.0   46.0   68.0   36.0   \\\n",
       "count                        1164   1092    974    844    833    717    636   \n",
       "\n",
       "WCIO Nature of Injury Code  73.0   72.0   2.0    19.0   69.0   41.0   32.0   \\\n",
       "count                         502    498    488    443    314    311    285   \n",
       "\n",
       "WCIO Nature of Injury Code  42.0   47.0   91.0   66.0   58.0   38.0   3.0    \\\n",
       "count                         283    243    240    191    183    131    129   \n",
       "\n",
       "WCIO Nature of Injury Code  55.0   74.0   54.0   60.0   30.0   61.0   75.0   \\\n",
       "count                         109     69     56     50     44     39     23   \n",
       "\n",
       "WCIO Nature of Injury Code  67.0   70.0   64.0   22.0   76.0   62.0   79.0   \\\n",
       "count                          19      8      7      4      3      3      3   \n",
       "\n",
       "WCIO Nature of Injury Code  63.0   \n",
       "count                           1  "
      ]
     },
     "execution_count": 60,
     "metadata": {},
     "output_type": "execute_result"
    }
   ],
   "source": [
    "pd.DataFrame(X_train_encoded['WCIO Nature of Injury Code'].value_counts()).T"
   ]
  },
  {
   "cell_type": "code",
   "execution_count": 61,
   "metadata": {},
   "outputs": [],
   "source": [
    "# transform the column into int from float for training set\n",
    "X_train_encoded['WCIO Nature of Injury Code'] = X_train_encoded['WCIO Nature of Injury Code'].astype(int)\n",
    "\n",
    "# transform the column into int from float for validation set\n",
    "X_val_encoded['WCIO Nature of Injury Code'] = X_val_encoded['WCIO Nature of Injury Code'].astype(int)\n",
    "\n",
    "# transform the column into int from float for test set\n",
    "X_test_encoded['WCIO Nature of Injury Code'] = X_test_encoded['WCIO Nature of Injury Code'].astype(int)"
   ]
  },
  {
   "cell_type": "markdown",
   "metadata": {},
   "source": [
    "> Create a __dictionary__ based on the table from the WCIO references"
   ]
  },
  {
   "cell_type": "code",
   "execution_count": 62,
   "metadata": {},
   "outputs": [],
   "source": [
    "# Mapping WCIO Nature of Injury codes to general categories\n",
    "wcionature_of_injury_mapping = {\n",
    "\n",
    "    # Category: Specific\n",
    "    # Injuries categorized as specific, meaning they are distinct and isolated injuries\n",
    "    1: \"Specific\", 2: \"Specific\", 3: \"Specific\",\n",
    "    4: \"Specific\", 7: \"Specific\", 10: \"Specific\",\n",
    "    13: \"Specific\", 16: \"Specific\", 19: \"Specific\",\n",
    "    22: \"Specific\", 25: \"Specific\", 28: \"Specific\",\n",
    "    30: \"Specific\", 31: \"Specific\", 32: \"Specific\",\n",
    "    34: \"Specific\", 36: \"Specific\", 37: \"Specific\",\n",
    "    38: \"Specific\", # 38 refers to ADVERSE REACTION TO A VACCINATION OR INOCULATION classify as Specific\n",
    "    40: \"Specific\", 41: \"Specific\", 42: \"Specific\",\n",
    "    43: \"Specific\", 46: \"Specific\", 47: \"Specific\",\n",
    "    49: \"Specific\", 52: \"Specific\", 53: \"Specific\",\n",
    "    54: \"Specific\", 55: \"Specific\", 58: \"Specific\",\n",
    "    59: \"Specific\",\n",
    "\n",
    "    # Category: Occupational\n",
    "    # Injuries related to occupational disease or cumulative trauma\n",
    "    60: \"Occupational\", 61: \"Occupational\", 62: \"Occupational\",\n",
    "    63: \"Occupational\", 64: \"Occupational\", 65: \"Occupational\",\n",
    "    66: \"Occupational\", 67: \"Occupational\", 68: \"Occupational\",\n",
    "    69: \"Occupational\", 70: \"Occupational\", 71: \"Occupational\",\n",
    "    72: \"Occupational\", 73: \"Occupational\", 74: \"Occupational\",\n",
    "    75: \"Occupational\", 76: \"Occupational\", 77: \"Occupational\",\n",
    "    78: \"Occupational\", 79: \"Occupational\", 80: \"Occupational\",\n",
    "    83: \"Occupational\", # 83 refers to covid. I classified it as occupational\n",
    "\n",
    "    # Category: Multiple\n",
    "    # Injuries that involve multiple types, either physical or both physical and psychological\n",
    "    90: \"Multiple\", 91: \"Multiple\",\n",
    "\n",
    "    # Category: Unknown\n",
    "    100: \"Unknown\"\n",
    "}"
   ]
  },
  {
   "cell_type": "markdown",
   "metadata": {},
   "source": [
    "> Map <code>WCIO Nature of Injury Code</code> based on the dictionary"
   ]
  },
  {
   "cell_type": "code",
   "execution_count": 63,
   "metadata": {},
   "outputs": [],
   "source": [
    "# map for validation set\n",
    "X_train_encoded['Injury_Nature_Category'] = X_train_encoded['WCIO Nature of Injury Code'].map(wcionature_of_injury_mapping)\n",
    "\n",
    "# map for validation set\n",
    "X_val_encoded['Injury_Nature_Category'] = X_val_encoded['WCIO Nature of Injury Code'].map(wcionature_of_injury_mapping)\n",
    "\n",
    "# map for test set\n",
    "X_test_encoded['Injury_Nature_Category'] = X_test_encoded['WCIO Nature of Injury Code'].map(wcionature_of_injury_mapping)"
   ]
  },
  {
   "cell_type": "code",
   "execution_count": 64,
   "metadata": {},
   "outputs": [
    {
     "data": {
      "text/plain": [
       "array([], dtype=int32)"
      ]
     },
     "metadata": {},
     "output_type": "display_data"
    },
    {
     "data": {
      "text/plain": [
       "array([], dtype=object)"
      ]
     },
     "metadata": {},
     "output_type": "display_data"
    }
   ],
   "source": [
    "display(X_test_encoded[X_test_encoded['Injury_Nature_Category'].isna()]['WCIO Nature of Injury Code'].unique())\n",
    "display(X_train_encoded[X_train_encoded['Injury_Nature_Category'].isna()]['WCIO Nature of Injury Description'].unique())"
   ]
  },
  {
   "cell_type": "markdown",
   "metadata": {},
   "source": [
    "> Create __dummy variables__ based on the  <code>Injury_Nature_Category</code>"
   ]
  },
  {
   "cell_type": "code",
   "execution_count": 65,
   "metadata": {},
   "outputs": [],
   "source": [
    "# create dummy variables out of Injury_Nature_Category column\n",
    "\n",
    "\n",
    "# create a dummy varialbes for the Injury Category for training set\n",
    "X_train_encoded = pd.concat([X_train_encoded, pd.get_dummies(X_train_encoded['Injury_Nature_Category'],\n",
    "                        columns=['Nature_Injury'],\n",
    "                        prefix='Nature_Injury',\n",
    "                        dtype=int,\n",
    "                        drop_first=True)], # Drop the first column to avoid multicollinearity\n",
    "    axis=1)\n",
    "\n",
    "\n",
    "\n",
    "# create a dummy varialbes for the Injury Category for validation set\n",
    "X_val_encoded = pd.concat([X_val_encoded, pd.get_dummies(X_val_encoded['Injury_Nature_Category'],\n",
    "                        columns=['Nature_Injury'],\n",
    "                        prefix='Nature_Injury',\n",
    "                        dtype=int,\n",
    "                        drop_first=True)], # Drop the first column to avoid multicollinearity\n",
    "    axis=1)\n",
    "\n",
    "\n",
    "# create a dummy varialbes for the Injury Category for validation set\n",
    "X_test_encoded = pd.concat([X_test_encoded, pd.get_dummies(X_test_encoded['Injury_Nature_Category'],\n",
    "                        columns=['Nature_Injury'],\n",
    "                        prefix='Nature_Injury',\n",
    "                        dtype=int,\n",
    "                        drop_first=True)], # Drop the first column to avoid multicollinearity\n",
    "                        axis=1)"
   ]
  },
  {
   "cell_type": "markdown",
   "metadata": {},
   "source": [
    "> Create __target encoding variables__ based on the  <code>Injury_Nature_Category</code>"
   ]
  },
  {
   "cell_type": "code",
   "execution_count": 66,
   "metadata": {},
   "outputs": [],
   "source": [
    "# apply encoding for Injury_Nature_Category\n",
    "X_train_encoded, X_val_encoded = target_encode_multiclass(X_train_encoded, X_val_encoded, y_train, 'Injury_Nature_Category', 'Claim Injury Type')\n",
    "\n",
    "# set the index back to the original index\n",
    "X_train_encoded.set_index(X_train_encoded_original_index, inplace=True)\n",
    "X_val_encoded.set_index(X_val_encoded_original_index, inplace=True)\n",
    "\n",
    "\n",
    "# apply encoding for Injury_Nature_Category to the test set\n",
    "X_test_encoded = target_encode_multiclass(X_train_encoded, X_test_encoded, y_train, 'Injury_Nature_Category', 'Claim Injury Type')[1]\n",
    "# set the index back to the original index\n",
    "X_test_encoded.set_index(X_test_encoded_original_index, inplace=True)\n"
   ]
  },
  {
   "cell_type": "markdown",
   "metadata": {},
   "source": [
    "##### __WCIO Part of Body Code__"
   ]
  },
  {
   "cell_type": "code",
   "execution_count": 67,
   "metadata": {},
   "outputs": [],
   "source": [
    "# transform the column into int from float for training set\n",
    "X_train_encoded['WCIO Part Of Body Code'] = X_train_encoded['WCIO Part Of Body Code'].astype(int)\n",
    "\n",
    "# transform the column into int from float for validation set\n",
    "X_val_encoded['WCIO Part Of Body Code'] = X_val_encoded['WCIO Part Of Body Code'].astype(int)\n",
    "\n",
    "# transform the column into int from float for validation set\n",
    "X_test_encoded['WCIO Part Of Body Code'] = X_test_encoded['WCIO Part Of Body Code'].astype(int)"
   ]
  },
  {
   "cell_type": "markdown",
   "metadata": {},
   "source": [
    "> Create a __dictionary__ based on the table from the WCIO references"
   ]
  },
  {
   "cell_type": "code",
   "execution_count": 68,
   "metadata": {},
   "outputs": [],
   "source": [
    "part_of_body_map = {\n",
    "    # Head and Neck\n",
    "    10: 'Head_and_Neck', 14: 'Head_and_Neck', 17: 'Head_and_Neck',\n",
    "    18: 'Head_and_Neck', 15: 'Head_and_Neck', 13: 'Head_and_Neck',\n",
    "    12: 'Head_and_Neck', 16: 'Head_and_Neck', 20: 'Head_and_Neck',\n",
    "    25: 'Head_and_Neck', 24: 'Head_and_Neck', 26: 'Head_and_Neck',\n",
    "    11: 'Head_and_Neck', 19: 'Head_and_Neck', 21:'Head_and_Neck',\n",
    "    22:'Head_and_Neck',23:'Head_and_Neck',\n",
    "\n",
    "    # Upper Extremities\n",
    "    30: 'Upper_Extremities', 31: 'Upper_Extremities', 32: 'Upper_Extremities',\n",
    "    33: 'Upper_Extremities', 34: 'Upper_Extremities', 35: 'Upper_Extremities',\n",
    "    36: 'Upper_Extremities', 37: 'Upper_Extremities', 38: 'Upper_Extremities',\n",
    "    39: 'Upper_Extremities',\n",
    "\n",
    "    # Trunk\n",
    "    40: 'Trunk', 41: 'Trunk', 42: 'Trunk', 43: 'Trunk', 44: 'Trunk',\n",
    "    45: 'Trunk', 46: 'Trunk', 47: 'Trunk', 48: 'Trunk', 49: 'Trunk',\n",
    "    60: 'Trunk', 61: 'Trunk', 62: 'Trunk', 63: 'Trunk',\n",
    "\n",
    "    # Lower Extremities\n",
    "    50: 'Lower_Extremities', 51: 'Lower_Extremities', 52: 'Lower_Extremities',\n",
    "    53: 'Lower_Extremities', 54: 'Lower_Extremities', 55: 'Lower_Extremities',\n",
    "    56: 'Lower_Extremities', 57: 'Lower_Extremities', 58: 'Lower_Extremities',\n",
    "\n",
    "    # Multiple Body Parts\n",
    "    64: 'Multiple_Body Parts', 65: 'Multiple_Body Parts', 66: 'Multiple_Body Parts',\n",
    "    90: 'Multiple_Body Parts', 91: 'Multiple_Body Parts', 99: 'Multiple_Body Parts',\n",
    "\n",
    "    # Unknown\n",
    "    100: 'Unknown'\n",
    "}"
   ]
  },
  {
   "cell_type": "code",
   "execution_count": 69,
   "metadata": {},
   "outputs": [],
   "source": [
    "# map for training set\n",
    "X_train_encoded['Part_Body_Category'] = X_train_encoded['WCIO Part Of Body Code'].map(part_of_body_map)\n",
    "\n",
    "# map for training set\n",
    "X_val_encoded['Part_Body_Category'] = X_val_encoded['WCIO Part Of Body Code'].map(part_of_body_map)\n",
    "\n",
    "# map for training set\n",
    "X_test_encoded['Part_Body_Category'] = X_test_encoded['WCIO Part Of Body Code'].map(part_of_body_map)"
   ]
  },
  {
   "cell_type": "markdown",
   "metadata": {},
   "source": [
    "> Create __dummy variables__ based on the  <code>Part_Body_Category</code>"
   ]
  },
  {
   "cell_type": "code",
   "execution_count": 70,
   "metadata": {},
   "outputs": [],
   "source": [
    "# create a dummy varialbes for the Part of Body Category for training set\n",
    "X_train_encoded = pd.concat([X_train_encoded, pd.get_dummies(X_train_encoded['Part_Body_Category'],\n",
    "                        columns=['Part_Body_Category'],\n",
    "                        prefix='Body_Part',\n",
    "                        dtype=int,\n",
    "                        drop_first=True)], # Drop the first column to avoid multicollinearity\n",
    "    axis=1)\n",
    "\n",
    "\n",
    "# create a dummy variable for the Part of Body Category for val set\n",
    "X_val_encoded = pd.concat([X_val_encoded, pd.get_dummies(X_val_encoded['Part_Body_Category'],\n",
    "                        columns=['Part_Body_Category'],\n",
    "                        prefix='Body_Part',\n",
    "                        dtype=int,\n",
    "                        drop_first=True)], # Drop the first column to avoid multicollinearity\n",
    "    axis=1)\n",
    "\n",
    "# create a dummy varialbes for the Part of Body Category for training set\n",
    "X_test_encoded = pd.concat([X_test_encoded, pd.get_dummies(X_test_encoded['Part_Body_Category'],\n",
    "                        columns=['Part_Body_Category'],\n",
    "                        prefix='Body_Part',\n",
    "                        dtype=int,\n",
    "                        drop_first=True)], # Drop the first column to avoid multicollinearity\n",
    "    axis=1)\n"
   ]
  },
  {
   "cell_type": "markdown",
   "metadata": {},
   "source": [
    "> Create __target encoding variables__ based on the  <code>Part_Body_Category</code>"
   ]
  },
  {
   "cell_type": "code",
   "execution_count": 71,
   "metadata": {},
   "outputs": [],
   "source": [
    "# apply encoding for Injury_Nature_Category\n",
    "X_train_encoded, X_val_encoded = target_encode_multiclass(X_train_encoded, X_val_encoded, y_train, 'Part_Body_Category', 'Claim Injury Type')\n",
    "\n",
    "# set the index back to the original index\n",
    "X_train_encoded.set_index(X_train_encoded_original_index, inplace=True)\n",
    "X_val_encoded.set_index(X_val_encoded_original_index, inplace=True)\n",
    "\n",
    "# apply encoding for Injury_Nature_Category to the test set\n",
    "X_test_encoded = target_encode_multiclass(X_train_encoded, X_test_encoded, y_train, 'Part_Body_Category', 'Claim Injury Type')[1]\n",
    "\n",
    "# set the index back to the original index\n",
    "X_test_encoded.set_index(X_test_encoded_original_index, inplace=True)"
   ]
  },
  {
   "cell_type": "markdown",
   "metadata": {},
   "source": [
    "### 5.3.5. Numerical Variables Decoding<a class=\"anchor\" id=\"numerical-encoding\"></a>\n",
    " [Back to ToC](#toc)<br> \n",
    "\n",
    " \n",
    "> * Decode numerical variables\n",
    "> * Add new fatures "
   ]
  },
  {
   "cell_type": "code",
   "execution_count": 72,
   "metadata": {},
   "outputs": [],
   "source": [
    "X_train_encoded.loc[:,'Days_between_Acc_Assembyl'] = days_between(X_train_encoded, 'Accident Date','Assembly Date')\n",
    "X_val_encoded.loc[:,'Days_between_Acc_Assembyl'] = days_between(X_val_encoded, 'Accident Date','Assembly Date')\n",
    "X_test_encoded.loc[:,'Days_between_Acc_Assembyl'] = days_between(X_test_encoded, 'Accident Date','Assembly Date')"
   ]
  },
  {
   "cell_type": "code",
   "execution_count": 73,
   "metadata": {},
   "outputs": [
    {
     "name": "stdout",
     "output_type": "stream",
     "text": [
      "                  Days_between_Acc_Assembyl\n",
      "Claim Identifier                           \n",
      "6114887                            3.183938\n",
      "5529143                            2.374665\n",
      "5735101                            1.206247\n",
      "5854379                            1.834297\n",
      "5973709                            1.893087\n"
     ]
    }
   ],
   "source": [
    "from scipy.stats import yeojohnson\n",
    "\n",
    "# Apply Yeo-Johnson transformation to the 'Days_between_Acc_Assembyl' column for each dataset\n",
    "X_train_encoded['Days_between_Acc_Assembyl'] = yeojohnson(X_train_encoded['Days_between_Acc_Assembyl'])[0]\n",
    "X_val_encoded['Days_between_Acc_Assembyl'] = yeojohnson(X_val_encoded['Days_between_Acc_Assembyl'])[0]\n",
    "X_test_encoded['Days_between_Acc_Assembyl'] = yeojohnson(X_test_encoded['Days_between_Acc_Assembyl'])[0]\n",
    "\n",
    "# Optional: Check the transformed data\n",
    "print(X_train_encoded[['Days_between_Acc_Assembyl']].head())\n"
   ]
  },
  {
   "cell_type": "code",
   "execution_count": 74,
   "metadata": {},
   "outputs": [],
   "source": [
    "# X_train_encoded['Log_Value'] = np.log1p(X_train_encoded['Days_between_Acc_Assembyl'])"
   ]
  },
  {
   "cell_type": "markdown",
   "metadata": {},
   "source": [
    "> More normalized with Yeo johnson than log."
   ]
  },
  {
   "cell_type": "code",
   "execution_count": 75,
   "metadata": {},
   "outputs": [],
   "source": [
    "from scipy.stats import yeojohnson\n",
    "\n",
    "# X_train_encoded['Yeo_Johnson'] = yeojohnson(X_train_encoded['Days_between_Acc_Assembyl'])[0]"
   ]
  },
  {
   "cell_type": "code",
   "execution_count": 76,
   "metadata": {},
   "outputs": [],
   "source": [
    "# plt.figure(figsize=(10, 6))\n",
    "# sns.histplot(X_train_encoded['Yeo_Johnson'], kde=True, bins=30, color='skyblue')\n",
    "# plt.title('Distribution of Days between')\n",
    "# plt.xlabel('Days between')\n",
    "# plt.ylabel('Frequency')\n",
    "# plt.grid(True)\n",
    "# plt.show()"
   ]
  },
  {
   "cell_type": "markdown",
   "metadata": {},
   "source": [
    "##### AWW"
   ]
  },
  {
   "cell_type": "code",
   "execution_count": 77,
   "metadata": {},
   "outputs": [],
   "source": [
    "X_train_encoded['Binary Average Weekly Wage'] = (X_train_encoded['Average Weekly Wage'] != 0).astype(int)\n",
    "X_val_encoded['Binary Average Weekly Wage'] = (X_val_encoded['Average Weekly Wage'] != 0).astype(int)\n",
    "X_test_encoded['Binary Average Weekly Wage'] = (X_test_encoded['Average Weekly Wage'] != 0).astype(int)\n"
   ]
  },
  {
   "cell_type": "code",
   "execution_count": 78,
   "metadata": {},
   "outputs": [],
   "source": [
    "X_train_encoded['Average Weekly Wage'] = np.log1p(X_train_encoded['Average Weekly Wage'])\n",
    "X_val_encoded['Average Weekly Wage'] = np.log1p(X_val_encoded['Average Weekly Wage'])\n",
    "X_test_encoded['Average Weekly Wage'] = np.log1p(X_test_encoded['Average Weekly Wage'])"
   ]
  },
  {
   "cell_type": "code",
   "execution_count": 79,
   "metadata": {},
   "outputs": [],
   "source": [
    "# plt.figure(figsize=(10, 6))\n",
    "# sns.histplot(X_train_encoded['log AWW'], kde=True, bins=30, color='skyblue')\n",
    "# plt.title('DYeo')\n",
    "# plt.xlabel('Days between')\n",
    "# plt.ylabel('Frequency')\n",
    "# plt.grid(True)\n",
    "# plt.show()"
   ]
  },
  {
   "cell_type": "markdown",
   "metadata": {},
   "source": [
    "### 5.4. Feature engineering <a class=\"anchor\" id=\"feature-engineering\"></a>\n",
    " [Back to ToC](#toc)<br> \n",
    "\n",
    "* here we create new features\n",
    "    * out of old ones\n",
    "    * through new data"
   ]
  },
  {
   "cell_type": "markdown",
   "metadata": {},
   "source": [
    "__Seasonality__\n",
    "* Months of the year or seasons"
   ]
  },
  {
   "cell_type": "markdown",
   "metadata": {},
   "source": [
    "__Weather__\n",
    "* adding the weather history"
   ]
  },
  {
   "cell_type": "markdown",
   "metadata": {},
   "source": [
    "__Additional events?__\n"
   ]
  },
  {
   "cell_type": "markdown",
   "metadata": {},
   "source": [
    "### 5.5. Dropping Columns & Exporting DataFrames<a class=\"anchor\" id=\"dropping-exporting\"></a>\n",
    " [Back to ToC](#toc)<br> \n",
    "\n"
   ]
  },
  {
   "cell_type": "markdown",
   "metadata": {},
   "source": [
    "> __drop columns that we have encoded__\n",
    "> * For now we will work with the following columns for our feature selection and modelling "
   ]
  },
  {
   "cell_type": "code",
   "execution_count": 80,
   "metadata": {},
   "outputs": [],
   "source": [
    "columns_to_keep = ['Age at Injury', 'Alternative Dispute Resolution','Attorney/Representative', 'Average Weekly Wage', 'Birth Year', 'C-2 Date', 'C-3 Date', 'COVID-19 Indicator', 'First Hearing Date', 'Gender', 'IME-4 Count', 'Number of Dependents', 'CarrierGroup_Self-insured Private Entity', 'CarrierGroup_Self-insured Public Entity', 'CarrierGroup_Special Funds', 'CarrierGroup_State Insurance Fund', 'Industry Code_encoded_5. PPD SCH LOSS','Industry Code_encoded_2. NON-COMP','Industry Code_encoded_3. MED ONLY', 'Industry Code_encoded_4. TEMPORARY','Industry Code_encoded_1. CANCELLED', 'Industry Code_encoded_8. DEATH', 'Industry Code_encoded_6. PPD NSL', 'Industry Code_encoded_7. PTD', 'Injury_Cause_Caught_In', 'Injury_Cause_Cut_Puncture_Scrape', 'Injury_Cause_Fall_Slip_or_Trip',\n",
    "'Injury_Cause_Miscellaneous_Causes', 'Injury_Cause_Motor_Vehicle','Injury_Cause_Strain_or_Injury',\n",
    " 'Injury_Cause_Striking_Against_or_Stepping_On', 'Injury_Cause_Struck_or_Injured_By', 'Injury_Cause_Unknown',\n",
    "       'Injury_Cause_Category_encoded_5. PPD SCH LOSS',\n",
    "       'Injury_Cause_Category_encoded_2. NON-COMP',\n",
    "       'Injury_Cause_Category_encoded_3. MED ONLY',\n",
    "       'Injury_Cause_Category_encoded_4. TEMPORARY',\n",
    "       'Injury_Cause_Category_encoded_1. CANCELLED',\n",
    "       'Injury_Cause_Category_encoded_8. DEATH',\n",
    "       'Injury_Cause_Category_encoded_6. PPD NSL',\n",
    "       'Injury_Cause_Category_encoded_7. PTD', \n",
    "       'Nature_Injury_Occupational', 'Nature_Injury_Specific',\n",
    "       'Nature_Injury_Unknown',\n",
    "       'Injury_Nature_Category_encoded_5. PPD SCH LOSS',\n",
    "       'Injury_Nature_Category_encoded_2. NON-COMP',\n",
    "       'Injury_Nature_Category_encoded_3. MED ONLY',\n",
    "       'Injury_Nature_Category_encoded_4. TEMPORARY',\n",
    "       'Injury_Nature_Category_encoded_1. CANCELLED',\n",
    "       'Injury_Nature_Category_encoded_8. DEATH',\n",
    "       'Injury_Nature_Category_encoded_6. PPD NSL',\n",
    "       'Injury_Nature_Category_encoded_7. PTD',\n",
    "       'Body_Part_Lower_Extremities', 'Body_Part_Multiple_Body Parts',\n",
    "       'Body_Part_Trunk', 'Body_Part_Unknown', 'Body_Part_Upper_Extremities',\n",
    "       'Part_Body_Category_encoded_5. PPD SCH LOSS',\n",
    "       'Part_Body_Category_encoded_2. NON-COMP',\n",
    "       'Part_Body_Category_encoded_3. MED ONLY',\n",
    "       'Part_Body_Category_encoded_4. TEMPORARY',\n",
    "       'Part_Body_Category_encoded_1. CANCELLED',\n",
    "       'Part_Body_Category_encoded_8. DEATH',\n",
    "       'Part_Body_Category_encoded_6. PPD NSL',\n",
    "       'Part_Body_Category_encoded_7. PTD', 'Days_between_Acc_Assembyl',\n",
    "       'Binary Average Weekly Wage'\n",
    "       ]"
   ]
  },
  {
   "cell_type": "code",
   "execution_count": 81,
   "metadata": {},
   "outputs": [
    {
     "name": "stdout",
     "output_type": "stream",
     "text": [
      "There are: 0 columns missing in the training set\n",
      "There are: 0 columns missing in the validation set\n",
      "There are: 0 columns missing in the test set\n"
     ]
    }
   ],
   "source": [
    "# check if all the columns are in each dataset \n",
    "no_missing_col_train = len((set(columns_to_keep) - set(X_train_encoded.columns)))\n",
    "no_missing_col_val = len(set(columns_to_keep) - set(X_val_encoded.columns))\n",
    "no_missing_col_test = len(set(columns_to_keep) - set(X_test_encoded.columns))\n",
    "# print for ever df the amount of missing columns in each dataset\n",
    "\n",
    "print(f'There are: {no_missing_col_train} columns missing in the training set')\n",
    "print(f'There are: {no_missing_col_val} columns missing in the validation set')\n",
    "print(f'There are: {no_missing_col_test} columns missing in the test set')"
   ]
  },
  {
   "cell_type": "markdown",
   "metadata": {},
   "source": [
    "> __Save to csv__"
   ]
  },
  {
   "cell_type": "code",
   "execution_count": 82,
   "metadata": {},
   "outputs": [],
   "source": [
    "X_train_encoded[columns_to_keep].to_csv('../project_data/X_train_encoded.csv')\n",
    "X_val_encoded[columns_to_keep].to_csv('../project_data/X_val_encoded.csv')\n",
    "X_test_encoded[columns_to_keep].to_csv('../project_data/X_test_encoded.csv')\n",
    "\n",
    "y_train.to_csv('../project_data/y_train.csv')\n",
    "y_val.to_csv('../project_data/y_val.csv')"
   ]
  }
 ],
 "metadata": {
  "kernelspec": {
   "display_name": "Python 3",
   "language": "python",
   "name": "python3"
  },
  "language_info": {
   "codemirror_mode": {
    "name": "ipython",
    "version": 3
   },
   "file_extension": ".py",
   "mimetype": "text/x-python",
   "name": "python",
   "nbconvert_exporter": "python",
   "pygments_lexer": "ipython3",
   "version": "3.12.2"
  }
 },
 "nbformat": 4,
 "nbformat_minor": 2
}

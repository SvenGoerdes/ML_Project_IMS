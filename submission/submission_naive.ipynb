{
 "cells": [
  {
   "cell_type": "markdown",
   "metadata": {},
   "source": [
    "## Submission Notebook"
   ]
  },
  {
   "cell_type": "code",
   "execution_count": null,
   "metadata": {},
   "outputs": [],
   "source": [
    "import pandas as pd\n",
    "import numpy as np\n",
    "import sklearn as sk"
   ]
  },
  {
   "cell_type": "code",
   "execution_count": 2,
   "metadata": {},
   "outputs": [],
   "source": [
    "sample_sub = pd.read_csv('../project_data/sample_submission.csv')\n",
    "test_df = pd.read_csv('../project_data/test_data.csv')"
   ]
  },
  {
   "cell_type": "code",
   "execution_count": 15,
   "metadata": {},
   "outputs": [
    {
     "data": {
      "text/plain": [
       "Claim Injury Type\n",
       "2. NON-COMP        335757\n",
       "4. TEMPORARY        44448\n",
       "5. PPD SCH LOSS      7770\n",
       "Name: count, dtype: int64"
      ]
     },
     "execution_count": 15,
     "metadata": {},
     "output_type": "execute_result"
    }
   ],
   "source": [
    "sample_sub['Claim Injury Type'].value_counts()"
   ]
  },
  {
   "cell_type": "code",
   "execution_count": 5,
   "metadata": {},
   "outputs": [
    {
     "data": {
      "text/plain": [
       "Index(['Accident Date', 'Age at Injury', 'Alternative Dispute Resolution',\n",
       "       'Assembly Date', 'Attorney/Representative', 'Average Weekly Wage',\n",
       "       'Birth Year', 'C-2 Date', 'C-3 Date', 'Carrier Name', 'Carrier Type',\n",
       "       'Claim Identifier', 'County of Injury', 'COVID-19 Indicator',\n",
       "       'District Name', 'First Hearing Date', 'Gender', 'IME-4 Count',\n",
       "       'Industry Code', 'Industry Code Description', 'Medical Fee Region',\n",
       "       'OIICS Nature of Injury Description', 'WCIO Cause of Injury Code',\n",
       "       'WCIO Cause of Injury Description', 'WCIO Nature of Injury Code',\n",
       "       'WCIO Nature of Injury Description', 'WCIO Part Of Body Code',\n",
       "       'WCIO Part Of Body Description', 'Zip Code', 'Number of Dependents'],\n",
       "      dtype='object')"
      ]
     },
     "execution_count": 5,
     "metadata": {},
     "output_type": "execute_result"
    }
   ],
   "source": [
    "test_df.columns"
   ]
  },
  {
   "cell_type": "code",
   "execution_count": 6,
   "metadata": {},
   "outputs": [
    {
     "data": {
      "text/plain": [
       "0         6165911\n",
       "1         6166141\n",
       "2         6165907\n",
       "3         6166047\n",
       "4         6166102\n",
       "           ...   \n",
       "387970    6553137\n",
       "387971    6553119\n",
       "387972    6553542\n",
       "387973    6553455\n",
       "387974    6553594\n",
       "Name: Claim Identifier, Length: 387975, dtype: int64"
      ]
     },
     "execution_count": 6,
     "metadata": {},
     "output_type": "execute_result"
    }
   ],
   "source": [
    "test_df['Claim Identifier']"
   ]
  },
  {
   "cell_type": "code",
   "execution_count": 7,
   "metadata": {},
   "outputs": [],
   "source": [
    "submission = test_df[['Claim Identifier']].copy()\n",
    "submission['Claim Injury Type'] = '2. NON-COMP'"
   ]
  },
  {
   "cell_type": "code",
   "execution_count": 9,
   "metadata": {},
   "outputs": [
    {
     "data": {
      "text/html": [
       "<div>\n",
       "<style scoped>\n",
       "    .dataframe tbody tr th:only-of-type {\n",
       "        vertical-align: middle;\n",
       "    }\n",
       "\n",
       "    .dataframe tbody tr th {\n",
       "        vertical-align: top;\n",
       "    }\n",
       "\n",
       "    .dataframe thead th {\n",
       "        text-align: right;\n",
       "    }\n",
       "</style>\n",
       "<table border=\"1\" class=\"dataframe\">\n",
       "  <thead>\n",
       "    <tr style=\"text-align: right;\">\n",
       "      <th></th>\n",
       "      <th>Claim Identifier</th>\n",
       "      <th>Claim Injury Type</th>\n",
       "    </tr>\n",
       "  </thead>\n",
       "  <tbody>\n",
       "    <tr>\n",
       "      <th>0</th>\n",
       "      <td>6165911</td>\n",
       "      <td>2. NON-COMP</td>\n",
       "    </tr>\n",
       "    <tr>\n",
       "      <th>1</th>\n",
       "      <td>6166141</td>\n",
       "      <td>2. NON-COMP</td>\n",
       "    </tr>\n",
       "    <tr>\n",
       "      <th>2</th>\n",
       "      <td>6165907</td>\n",
       "      <td>2. NON-COMP</td>\n",
       "    </tr>\n",
       "    <tr>\n",
       "      <th>3</th>\n",
       "      <td>6166047</td>\n",
       "      <td>2. NON-COMP</td>\n",
       "    </tr>\n",
       "    <tr>\n",
       "      <th>4</th>\n",
       "      <td>6166102</td>\n",
       "      <td>2. NON-COMP</td>\n",
       "    </tr>\n",
       "  </tbody>\n",
       "</table>\n",
       "</div>"
      ],
      "text/plain": [
       "   Claim Identifier Claim Injury Type\n",
       "0           6165911       2. NON-COMP\n",
       "1           6166141       2. NON-COMP\n",
       "2           6165907       2. NON-COMP\n",
       "3           6166047       2. NON-COMP\n",
       "4           6166102       2. NON-COMP"
      ]
     },
     "execution_count": 9,
     "metadata": {},
     "output_type": "execute_result"
    }
   ],
   "source": [
    "submission.to_csv('submission_data/submission_naive.csv', index=False)\n",
    "submission.head()"
   ]
  },
  {
   "cell_type": "code",
   "execution_count": null,
   "metadata": {},
   "outputs": [],
   "source": []
  }
 ],
 "metadata": {
  "kernelspec": {
   "display_name": "ml-project-7bptfTa5-py3.12",
   "language": "python",
   "name": "python3"
  },
  "language_info": {
   "codemirror_mode": {
    "name": "ipython",
    "version": 3
   },
   "file_extension": ".py",
   "mimetype": "text/x-python",
   "name": "python",
   "nbconvert_exporter": "python",
   "pygments_lexer": "ipython3",
   "version": "3.12.7"
  }
 },
 "nbformat": 4,
 "nbformat_minor": 2
}
